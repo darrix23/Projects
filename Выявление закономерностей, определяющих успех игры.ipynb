{
 "cells": [
  {
   "cell_type": "markdown",
   "metadata": {},
   "source": [
    "Передо мной стоит задача определить потенциально популярные платформы для видеоигр в 2017, располагая историческими данными о продажах видеоигр, а также оценки игр, их жанр и принадлежность к платформе по годам. Потенциально популярные платформы я буду определять на основе выявленных закономерностей между характеристиками игр и историческими продажами за актуальный период.\n",
    "\n",
    "Я предобработаю входные данные: заполню пропуски, избавлюсь от дубликатов, настрою типизацию столбцов.\n",
    "Затем исследую данные: найду актуальный период, посмотрю влияние оценок пользователей и критиков, а так же жанра на продажи. Посмотрю на динамику количества игр, выпускаемых на каждой платформе и в итоге определю, у каких платформ на 2017 год намечается рост числа выпущенных игр."
   ]
  },
  {
   "cell_type": "markdown",
   "metadata": {
    "toc": true
   },
   "source": [
    "<h1>Содержание<span class=\"tocSkip\"></span></h1>\n",
    "<div class=\"toc\"><ul class=\"toc-item\"><li><span><a href=\"#Выгрузка-и-знакомство-с-данными\" data-toc-modified-id=\"Выгрузка-и-знакомство-с-данными-1\"><span class=\"toc-item-num\">1&nbsp;&nbsp;</span>Выгрузка и знакомство с данными</a></span><ul class=\"toc-item\"><li><span><a href=\"#Поиск-явных-дубликатов\" data-toc-modified-id=\"Поиск-явных-дубликатов-1.1\"><span class=\"toc-item-num\">1.1&nbsp;&nbsp;</span>Поиск явных дубликатов</a></span></li></ul></li><li><span><a href=\"#Предобработка-данных\" data-toc-modified-id=\"Предобработка-данных-2\"><span class=\"toc-item-num\">2&nbsp;&nbsp;</span>Предобработка данных</a></span><ul class=\"toc-item\"><li><span><a href=\"#Приведение-названий-к-нижнему-регистру\" data-toc-modified-id=\"Приведение-названий-к-нижнему-регистру-2.1\"><span class=\"toc-item-num\">2.1&nbsp;&nbsp;</span>Приведение названий к нижнему регистру</a></span></li><li><span><a href=\"#Настройка-типизации\" data-toc-modified-id=\"Настройка-типизации-2.2\"><span class=\"toc-item-num\">2.2&nbsp;&nbsp;</span>Настройка типизации</a></span></li><li><span><a href=\"#Ликвидация-пропусков\" data-toc-modified-id=\"Ликвидация-пропусков-2.3\"><span class=\"toc-item-num\">2.3&nbsp;&nbsp;</span>Ликвидация пропусков</a></span></li><li><span><a href=\"#Добавление-столбца-с-суммарными-продажами\" data-toc-modified-id=\"Добавление-столбца-с-суммарными-продажами-2.4\"><span class=\"toc-item-num\">2.4&nbsp;&nbsp;</span>Добавление столбца с суммарными продажами</a></span></li></ul></li><li><span><a href=\"#Исследовательский-анализ-данных\" data-toc-modified-id=\"Исследовательский-анализ-данных-3\"><span class=\"toc-item-num\">3&nbsp;&nbsp;</span>Исследовательский анализ данных</a></span><ul class=\"toc-item\"><li><span><a href=\"#Определяем-актуальный-период-на-основе-продолжительности-&quot;жизни&quot;-платформ\" data-toc-modified-id=\"Определяем-актуальный-период-на-основе-продолжительности-&quot;жизни&quot;-платформ-3.1\"><span class=\"toc-item-num\">3.1&nbsp;&nbsp;</span>Определяем актуальный период на основе продолжительности \"жизни\" платформ</a></span></li><li><span><a href=\"#Определяем,-кто-вообще-сейчас-есть-на-рынке-и-куда-движется\" data-toc-modified-id=\"Определяем,-кто-вообще-сейчас-есть-на-рынке-и-куда-движется-3.2\"><span class=\"toc-item-num\">3.2&nbsp;&nbsp;</span>Определяем, кто вообще сейчас есть на рынке и куда движется</a></span></li><li><span><a href=\"#Посмотрим-на-ящики-с-усами-распределения-глобальных-продаж-в-разбивке-по-платформам\" data-toc-modified-id=\"Посмотрим-на-ящики-с-усами-распределения-глобальных-продаж-в-разбивке-по-платформам-3.3\"><span class=\"toc-item-num\">3.3&nbsp;&nbsp;</span>Посмотрим на ящики с усами распределения глобальных продаж в разбивке по платформам</a></span></li><li><span><a href=\"#Смотрим-влияние-оценок-игр-на-их-выпуск\" data-toc-modified-id=\"Смотрим-влияние-оценок-игр-на-их-выпуск-3.4\"><span class=\"toc-item-num\">3.4&nbsp;&nbsp;</span>Смотрим влияние оценок игр на их выпуск</a></span></li><li><span><a href=\"#Определяем-самые-прибыльные-жанры\" data-toc-modified-id=\"Определяем-самые-прибыльные-жанры-3.5\"><span class=\"toc-item-num\">3.5&nbsp;&nbsp;</span>Определяем самые прибыльные жанры</a></span></li></ul></li><li><span><a href=\"#Составление-портретов-пользователей-регионов\" data-toc-modified-id=\"Составление-портретов-пользователей-регионов-4\"><span class=\"toc-item-num\">4&nbsp;&nbsp;</span>Составление портретов пользователей регионов</a></span><ul class=\"toc-item\"><li><span><a href=\"#Топ-5-популярных-платформ-по-регионам\" data-toc-modified-id=\"Топ-5-популярных-платформ-по-регионам-4.1\"><span class=\"toc-item-num\">4.1&nbsp;&nbsp;</span>Топ-5 популярных платформ по регионам</a></span></li><li><span><a href=\"#Cамые-популярные-жанры-в-разных-регионах\" data-toc-modified-id=\"Cамые-популярные-жанры-в-разных-регионах-4.2\"><span class=\"toc-item-num\">4.2&nbsp;&nbsp;</span>Cамые популярные жанры в разных регионах</a></span></li><li><span><a href=\"#Влияет-ли-рейтинг-ERSB-на-продажи-в-отдельном-регионе?\" data-toc-modified-id=\"Влияет-ли-рейтинг-ERSB-на-продажи-в-отдельном-регионе?-4.3\"><span class=\"toc-item-num\">4.3&nbsp;&nbsp;</span>Влияет ли рейтинг ERSB на продажи в отдельном регионе?</a></span></li></ul></li><li><span><a href=\"#Проверка-гипотез\" data-toc-modified-id=\"Проверка-гипотез-5\"><span class=\"toc-item-num\">5&nbsp;&nbsp;</span>Проверка гипотез</a></span><ul class=\"toc-item\"><li><span><a href=\"#Средние-пользовательские-рейтинги-платформ-Xbox-One-и-PC-одинаковые\" data-toc-modified-id=\"Средние-пользовательские-рейтинги-платформ-Xbox-One-и-PC-одинаковые-5.1\"><span class=\"toc-item-num\">5.1&nbsp;&nbsp;</span>Средние пользовательские рейтинги платформ Xbox One и PC одинаковые</a></span></li><li><span><a href=\"#Средние-пользовательские-рейтинги-жанров-Action-и-Sports-разные.\" data-toc-modified-id=\"Средние-пользовательские-рейтинги-жанров-Action-и-Sports-разные.-5.2\"><span class=\"toc-item-num\">5.2&nbsp;&nbsp;</span>Средние пользовательские рейтинги жанров Action и Sports разные.</a></span></li></ul></li><li><span><a href=\"#Общий-вывод\" data-toc-modified-id=\"Общий-вывод-6\"><span class=\"toc-item-num\">6&nbsp;&nbsp;</span>Общий вывод</a></span></li></ul></div>"
   ]
  },
  {
   "cell_type": "code",
   "execution_count": 1,
   "metadata": {},
   "outputs": [],
   "source": [
    "import pandas as pd\n",
    "import numpy as np\n",
    "import matplotlib as plt\n",
    "import seaborn as sns\n",
    "pd.options.display.max_rows=100\n",
    "pd.options.display.max_columns=100"
   ]
  },
  {
   "cell_type": "markdown",
   "metadata": {},
   "source": [
    "## Выгрузка и знакомство с данными"
   ]
  },
  {
   "cell_type": "code",
   "execution_count": 2,
   "metadata": {},
   "outputs": [],
   "source": [
    "table=pd.read_csv('/datasets/games.csv')"
   ]
  },
  {
   "cell_type": "code",
   "execution_count": 3,
   "metadata": {},
   "outputs": [
    {
     "data": {
      "text/html": [
       "<div>\n",
       "<style scoped>\n",
       "    .dataframe tbody tr th:only-of-type {\n",
       "        vertical-align: middle;\n",
       "    }\n",
       "\n",
       "    .dataframe tbody tr th {\n",
       "        vertical-align: top;\n",
       "    }\n",
       "\n",
       "    .dataframe thead th {\n",
       "        text-align: right;\n",
       "    }\n",
       "</style>\n",
       "<table border=\"1\" class=\"dataframe\">\n",
       "  <thead>\n",
       "    <tr style=\"text-align: right;\">\n",
       "      <th></th>\n",
       "      <th>Name</th>\n",
       "      <th>Platform</th>\n",
       "      <th>Year_of_Release</th>\n",
       "      <th>Genre</th>\n",
       "      <th>NA_sales</th>\n",
       "      <th>EU_sales</th>\n",
       "      <th>JP_sales</th>\n",
       "      <th>Other_sales</th>\n",
       "      <th>Critic_Score</th>\n",
       "      <th>User_Score</th>\n",
       "      <th>Rating</th>\n",
       "    </tr>\n",
       "  </thead>\n",
       "  <tbody>\n",
       "    <tr>\n",
       "      <th>0</th>\n",
       "      <td>Wii Sports</td>\n",
       "      <td>Wii</td>\n",
       "      <td>2006.0</td>\n",
       "      <td>Sports</td>\n",
       "      <td>41.36</td>\n",
       "      <td>28.96</td>\n",
       "      <td>3.77</td>\n",
       "      <td>8.45</td>\n",
       "      <td>76.0</td>\n",
       "      <td>8</td>\n",
       "      <td>E</td>\n",
       "    </tr>\n",
       "    <tr>\n",
       "      <th>1</th>\n",
       "      <td>Super Mario Bros.</td>\n",
       "      <td>NES</td>\n",
       "      <td>1985.0</td>\n",
       "      <td>Platform</td>\n",
       "      <td>29.08</td>\n",
       "      <td>3.58</td>\n",
       "      <td>6.81</td>\n",
       "      <td>0.77</td>\n",
       "      <td>NaN</td>\n",
       "      <td>NaN</td>\n",
       "      <td>NaN</td>\n",
       "    </tr>\n",
       "    <tr>\n",
       "      <th>2</th>\n",
       "      <td>Mario Kart Wii</td>\n",
       "      <td>Wii</td>\n",
       "      <td>2008.0</td>\n",
       "      <td>Racing</td>\n",
       "      <td>15.68</td>\n",
       "      <td>12.76</td>\n",
       "      <td>3.79</td>\n",
       "      <td>3.29</td>\n",
       "      <td>82.0</td>\n",
       "      <td>8.3</td>\n",
       "      <td>E</td>\n",
       "    </tr>\n",
       "    <tr>\n",
       "      <th>3</th>\n",
       "      <td>Wii Sports Resort</td>\n",
       "      <td>Wii</td>\n",
       "      <td>2009.0</td>\n",
       "      <td>Sports</td>\n",
       "      <td>15.61</td>\n",
       "      <td>10.93</td>\n",
       "      <td>3.28</td>\n",
       "      <td>2.95</td>\n",
       "      <td>80.0</td>\n",
       "      <td>8</td>\n",
       "      <td>E</td>\n",
       "    </tr>\n",
       "    <tr>\n",
       "      <th>4</th>\n",
       "      <td>Pokemon Red/Pokemon Blue</td>\n",
       "      <td>GB</td>\n",
       "      <td>1996.0</td>\n",
       "      <td>Role-Playing</td>\n",
       "      <td>11.27</td>\n",
       "      <td>8.89</td>\n",
       "      <td>10.22</td>\n",
       "      <td>1.00</td>\n",
       "      <td>NaN</td>\n",
       "      <td>NaN</td>\n",
       "      <td>NaN</td>\n",
       "    </tr>\n",
       "    <tr>\n",
       "      <th>5</th>\n",
       "      <td>Tetris</td>\n",
       "      <td>GB</td>\n",
       "      <td>1989.0</td>\n",
       "      <td>Puzzle</td>\n",
       "      <td>23.20</td>\n",
       "      <td>2.26</td>\n",
       "      <td>4.22</td>\n",
       "      <td>0.58</td>\n",
       "      <td>NaN</td>\n",
       "      <td>NaN</td>\n",
       "      <td>NaN</td>\n",
       "    </tr>\n",
       "    <tr>\n",
       "      <th>6</th>\n",
       "      <td>New Super Mario Bros.</td>\n",
       "      <td>DS</td>\n",
       "      <td>2006.0</td>\n",
       "      <td>Platform</td>\n",
       "      <td>11.28</td>\n",
       "      <td>9.14</td>\n",
       "      <td>6.50</td>\n",
       "      <td>2.88</td>\n",
       "      <td>89.0</td>\n",
       "      <td>8.5</td>\n",
       "      <td>E</td>\n",
       "    </tr>\n",
       "    <tr>\n",
       "      <th>7</th>\n",
       "      <td>Wii Play</td>\n",
       "      <td>Wii</td>\n",
       "      <td>2006.0</td>\n",
       "      <td>Misc</td>\n",
       "      <td>13.96</td>\n",
       "      <td>9.18</td>\n",
       "      <td>2.93</td>\n",
       "      <td>2.84</td>\n",
       "      <td>58.0</td>\n",
       "      <td>6.6</td>\n",
       "      <td>E</td>\n",
       "    </tr>\n",
       "    <tr>\n",
       "      <th>8</th>\n",
       "      <td>New Super Mario Bros. Wii</td>\n",
       "      <td>Wii</td>\n",
       "      <td>2009.0</td>\n",
       "      <td>Platform</td>\n",
       "      <td>14.44</td>\n",
       "      <td>6.94</td>\n",
       "      <td>4.70</td>\n",
       "      <td>2.24</td>\n",
       "      <td>87.0</td>\n",
       "      <td>8.4</td>\n",
       "      <td>E</td>\n",
       "    </tr>\n",
       "    <tr>\n",
       "      <th>9</th>\n",
       "      <td>Duck Hunt</td>\n",
       "      <td>NES</td>\n",
       "      <td>1984.0</td>\n",
       "      <td>Shooter</td>\n",
       "      <td>26.93</td>\n",
       "      <td>0.63</td>\n",
       "      <td>0.28</td>\n",
       "      <td>0.47</td>\n",
       "      <td>NaN</td>\n",
       "      <td>NaN</td>\n",
       "      <td>NaN</td>\n",
       "    </tr>\n",
       "    <tr>\n",
       "      <th>10</th>\n",
       "      <td>Nintendogs</td>\n",
       "      <td>DS</td>\n",
       "      <td>2005.0</td>\n",
       "      <td>Simulation</td>\n",
       "      <td>9.05</td>\n",
       "      <td>10.95</td>\n",
       "      <td>1.93</td>\n",
       "      <td>2.74</td>\n",
       "      <td>NaN</td>\n",
       "      <td>NaN</td>\n",
       "      <td>NaN</td>\n",
       "    </tr>\n",
       "    <tr>\n",
       "      <th>11</th>\n",
       "      <td>Mario Kart DS</td>\n",
       "      <td>DS</td>\n",
       "      <td>2005.0</td>\n",
       "      <td>Racing</td>\n",
       "      <td>9.71</td>\n",
       "      <td>7.47</td>\n",
       "      <td>4.13</td>\n",
       "      <td>1.90</td>\n",
       "      <td>91.0</td>\n",
       "      <td>8.6</td>\n",
       "      <td>E</td>\n",
       "    </tr>\n",
       "  </tbody>\n",
       "</table>\n",
       "</div>"
      ],
      "text/plain": [
       "                         Name Platform  Year_of_Release         Genre  \\\n",
       "0                  Wii Sports      Wii           2006.0        Sports   \n",
       "1           Super Mario Bros.      NES           1985.0      Platform   \n",
       "2              Mario Kart Wii      Wii           2008.0        Racing   \n",
       "3           Wii Sports Resort      Wii           2009.0        Sports   \n",
       "4    Pokemon Red/Pokemon Blue       GB           1996.0  Role-Playing   \n",
       "5                      Tetris       GB           1989.0        Puzzle   \n",
       "6       New Super Mario Bros.       DS           2006.0      Platform   \n",
       "7                    Wii Play      Wii           2006.0          Misc   \n",
       "8   New Super Mario Bros. Wii      Wii           2009.0      Platform   \n",
       "9                   Duck Hunt      NES           1984.0       Shooter   \n",
       "10                 Nintendogs       DS           2005.0    Simulation   \n",
       "11              Mario Kart DS       DS           2005.0        Racing   \n",
       "\n",
       "    NA_sales  EU_sales  JP_sales  Other_sales  Critic_Score User_Score Rating  \n",
       "0      41.36     28.96      3.77         8.45          76.0          8      E  \n",
       "1      29.08      3.58      6.81         0.77           NaN        NaN    NaN  \n",
       "2      15.68     12.76      3.79         3.29          82.0        8.3      E  \n",
       "3      15.61     10.93      3.28         2.95          80.0          8      E  \n",
       "4      11.27      8.89     10.22         1.00           NaN        NaN    NaN  \n",
       "5      23.20      2.26      4.22         0.58           NaN        NaN    NaN  \n",
       "6      11.28      9.14      6.50         2.88          89.0        8.5      E  \n",
       "7      13.96      9.18      2.93         2.84          58.0        6.6      E  \n",
       "8      14.44      6.94      4.70         2.24          87.0        8.4      E  \n",
       "9      26.93      0.63      0.28         0.47           NaN        NaN    NaN  \n",
       "10      9.05     10.95      1.93         2.74           NaN        NaN    NaN  \n",
       "11      9.71      7.47      4.13         1.90          91.0        8.6      E  "
      ]
     },
     "execution_count": 3,
     "metadata": {},
     "output_type": "execute_result"
    }
   ],
   "source": [
    "table.head(12)"
   ]
  },
  {
   "cell_type": "code",
   "execution_count": 4,
   "metadata": {},
   "outputs": [
    {
     "data": {
      "image/png": "[encoded data removed]",
      "text/plain": [
       "<Figure size 576x360 with 1 Axes>"
      ]
     },
     "metadata": {
      "needs_background": "light"
     },
     "output_type": "display_data"
    }
   ],
   "source": [
    "table['Year_of_Release'].hist(figsize=(8,5),bins=36);"
   ]
  },
  {
   "cell_type": "code",
   "execution_count": 5,
   "metadata": {
    "scrolled": true
   },
   "outputs": [
    {
     "data": {
      "image/png": "[encoded data removed]",
      "text/plain": [
       "<Figure size 1080x648 with 4 Axes>"
      ]
     },
     "metadata": {
      "needs_background": "light"
     },
     "output_type": "display_data"
    }
   ],
   "source": [
    "table[['NA_sales','EU_sales','Other_sales','JP_sales']].hist(bins=10,range=(0,2),figsize=(15,9));"
   ]
  },
  {
   "cell_type": "code",
   "execution_count": 6,
   "metadata": {},
   "outputs": [
    {
     "data": {
      "image/png": "[encoded data removed]",
      "text/plain": [
       "<Figure size 648x360 with 1 Axes>"
      ]
     },
     "metadata": {
      "needs_background": "light"
     },
     "output_type": "display_data"
    },
    {
     "data": {
      "image/png": "[encoded data removed]",
      "text/plain": [
       "<Figure size 648x360 with 1 Axes>"
      ]
     },
     "metadata": {
      "needs_background": "light"
     },
     "output_type": "display_data"
    }
   ],
   "source": [
    "table['Critic_Score'].hist(figsize=(9,5),bins=100,range=(0,100));\n",
    "\n",
    "# Далее я вынужден преждевременно предобработать данные, чтобы построить распределение\n",
    "table['User_Score']=table['User_Score'].replace({'tbd':None}) \n",
    "# замена tbd на пропуски, чтобы привести тип столбца к float и суметь построить график\n",
    "table['User_Score']=table['User_Score'].astype('float')\n",
    "table[['User_Score']].hist(figsize=(9,5),bins=20,range=(0,10));"
   ]
  },
  {
   "cell_type": "code",
   "execution_count": 7,
   "metadata": {},
   "outputs": [
    {
     "data": {
      "text/plain": [
       "Name                  2\n",
       "Platform              0\n",
       "Year_of_Release     269\n",
       "Genre                 2\n",
       "NA_sales              0\n",
       "EU_sales              0\n",
       "JP_sales              0\n",
       "Other_sales           0\n",
       "Critic_Score       8578\n",
       "User_Score         9125\n",
       "Rating             6766\n",
       "dtype: int64"
      ]
     },
     "metadata": {},
     "output_type": "display_data"
    },
    {
     "data": {
      "text/plain": [
       "16715"
      ]
     },
     "execution_count": 7,
     "metadata": {},
     "output_type": "execute_result"
    }
   ],
   "source": [
    "display(table.isna().sum())\n",
    "len(table)"
   ]
  },
  {
   "cell_type": "markdown",
   "metadata": {},
   "source": [
    "### Поиск явных дубликатов"
   ]
  },
  {
   "cell_type": "code",
   "execution_count": 8,
   "metadata": {
    "scrolled": true
   },
   "outputs": [
    {
     "data": {
      "text/plain": [
       "0"
      ]
     },
     "execution_count": 8,
     "metadata": {},
     "output_type": "execute_result"
    }
   ],
   "source": [
    "table.duplicated().sum()"
   ]
  },
  {
   "cell_type": "markdown",
   "metadata": {},
   "source": [
    "Распределения ничем не удивили, аномальных значений не замечено. Характеры всех распределений соответствуют ожиданиям.\n",
    "\n",
    "Пропуски массово встречаются в оценках и рейтингах.  Явных бубликатов в представленных данных замечено не было."
   ]
  },
  {
   "cell_type": "markdown",
   "metadata": {},
   "source": [
    "## Предобработка данных"
   ]
  },
  {
   "cell_type": "markdown",
   "metadata": {},
   "source": [
    "### Приведение названий к нижнему регистру"
   ]
  },
  {
   "cell_type": "code",
   "execution_count": 9,
   "metadata": {},
   "outputs": [],
   "source": [
    "table.columns=table.columns.str.lower() # Приведение названий столбцов к нижнему регистру"
   ]
  },
  {
   "cell_type": "markdown",
   "metadata": {},
   "source": [
    "### Настройка типизации"
   ]
  },
  {
   "cell_type": "code",
   "execution_count": 10,
   "metadata": {
    "scrolled": true
   },
   "outputs": [
    {
     "data": {
      "text/plain": [
       "name                object\n",
       "platform            object\n",
       "year_of_release    float64\n",
       "genre               object\n",
       "na_sales           float64\n",
       "eu_sales           float64\n",
       "jp_sales           float64\n",
       "other_sales        float64\n",
       "critic_score       float64\n",
       "user_score         float64\n",
       "rating              object\n",
       "dtype: object"
      ]
     },
     "metadata": {},
     "output_type": "display_data"
    }
   ],
   "source": [
    "display(table.dtypes)"
   ]
  },
  {
   "cell_type": "markdown",
   "metadata": {},
   "source": [
    "Менять тип данных в столбце с годами на int я не стал, т.к. чтобы его поменять, нужно избавиться от 269 строк с пропусками, а это я делать не буду, т.к. сохранить эти данные важнее, чем навести красоту, поменяв float на int \n",
    "\n",
    "Итого: типизация правильная"
   ]
  },
  {
   "cell_type": "markdown",
   "metadata": {},
   "source": [
    "### Ликвидация пропусков"
   ]
  },
  {
   "cell_type": "markdown",
   "metadata": {},
   "source": [
    "* 1) Игры без названия можно оставить, т.к. это справочная информация и из-за её отсутствия никому плохо не будет. Нам не так интересны названия игры, мы ищем закономерности по другим показателям. \n",
    "* 2) Игры без года релиза можно удалить. Их не так много, всего 1.6%\n",
    "* 3) Игры без жанра можно не удалять: от их удаления лучше не станет, только данные с 2 строк потеряем. Заполнять агрегирующими значениями не выйдет, т.к. переменная категориальная.\n",
    "* 4) Отсутствие рейтинга = заполним заглушкой: 0. Тогда при дальнейшем анализе сможем видеть группу игр без рейтинга, 0 будет их выделять.\n",
    "* 5) Замена пропусков в пользовательских оценках и оценках критиков. Я не буду их заменять, т.к. они нужны будут только единожды в 3 пункте работы и дважды в гипотезах. Но гипотезы на то и гипотезы, чтобы проверять их по выборкам. А выборка в 50% от ген.совокупности - вполне нормальная. Ну а удалять половину датасета из-за пропусков в этих столбцах ради одного пункта в 3 части проекта - бессмысленно. "
   ]
  },
  {
   "cell_type": "markdown",
   "metadata": {},
   "source": [
    "Откуда пропуски?\n",
    "* 1) Названия и годы кроме случайной ошибки нет вариантов почему пропали. Всяко все названия с японского смогли перевести. Может быть годы пропали у давно созданных и забытых игр в какой-нибудь Японии. Тогда может даты выпуска никуда не складировали у всех игр подряд.   \n",
    "* 2) Жанр не смогли определить \n",
    "* 3) Рейтинг существует для США и Канада, поэтому игры в других регионах могли закономерно не получить никакого рейтинга\n",
    "* 4) Оценок пользователей и критиков может не быть, т.к. игра только вышла или очень непопулярна: в таком случае возможно не было преодолено пороговое число отзывов для выставления хоть какого-то рейтинга."
   ]
  },
  {
   "cell_type": "code",
   "execution_count": 11,
   "metadata": {},
   "outputs": [],
   "source": [
    "table['rating']=table['rating'].replace({None:'-'})\n",
    "# замена пропусков в рейтинге заглушкой. В дальнейшем игры с рейтингом - будем воспринимать как с неизвестным рейтингом.\n",
    "\n",
    "table=table.dropna(axis=0,subset=['year_of_release'])\n",
    "# удаление строк с пропусками в годах"
   ]
  },
  {
   "cell_type": "markdown",
   "metadata": {},
   "source": [
    "### Добавление столбца с суммарными продажами"
   ]
  },
  {
   "cell_type": "code",
   "execution_count": 12,
   "metadata": {},
   "outputs": [],
   "source": [
    "def summa(a):\n",
    "    return a['na_sales']+a['eu_sales']+a['jp_sales']+a['other_sales']\n",
    "table['sum_sales']=table.apply(summa,axis=1)"
   ]
  },
  {
   "cell_type": "code",
   "execution_count": 13,
   "metadata": {
    "scrolled": true
   },
   "outputs": [
    {
     "data": {
      "text/plain": [
       "Index(['name', 'platform', 'year_of_release', 'genre', 'na_sales', 'eu_sales',\n",
       "       'jp_sales', 'other_sales', 'critic_score', 'user_score', 'rating',\n",
       "       'sum_sales'],\n",
       "      dtype='object')"
      ]
     },
     "execution_count": 13,
     "metadata": {},
     "output_type": "execute_result"
    }
   ],
   "source": [
    "table.columns"
   ]
  },
  {
   "cell_type": "markdown",
   "metadata": {},
   "source": [
    "Вывод по 2 пункту. Я предобработал данные: изменил названия столбцов, добавил новый, изменил типы данных в столбцах и ликвидировал пропуски."
   ]
  },
  {
   "cell_type": "code",
   "execution_count": 14,
   "metadata": {},
   "outputs": [
    {
     "name": "stdout",
     "output_type": "stream",
     "text": [
      "<class 'pandas.core.frame.DataFrame'>\n",
      "Int64Index: 16446 entries, 0 to 16714\n",
      "Data columns (total 12 columns):\n",
      " #   Column           Non-Null Count  Dtype  \n",
      "---  ------           --------------  -----  \n",
      " 0   name             16444 non-null  object \n",
      " 1   platform         16446 non-null  object \n",
      " 2   year_of_release  16446 non-null  float64\n",
      " 3   genre            16444 non-null  object \n",
      " 4   na_sales         16446 non-null  float64\n",
      " 5   eu_sales         16446 non-null  float64\n",
      " 6   jp_sales         16446 non-null  float64\n",
      " 7   other_sales      16446 non-null  float64\n",
      " 8   critic_score     7983 non-null   float64\n",
      " 9   user_score       7463 non-null   float64\n",
      " 10  rating           16446 non-null  object \n",
      " 11  sum_sales        16446 non-null  float64\n",
      "dtypes: float64(8), object(4)\n",
      "memory usage: 1.6+ MB\n",
      "None\n",
      "-------------------------\n",
      "name [' Beyblade Burst' ' Fire Emblem Fates' \" Frozen: Olaf's Quest\" ...\n",
      " 'uDraw Studio: Instant Artist' '¡Shin Chan Flipa en colores!' nan]\n",
      "name : кол-во NaN 2 , процент NaN 0.01 %\n",
      "-------------------------\n",
      "platform ['2600' '3DO' '3DS' 'DC' 'DS' 'GB' 'GBA' 'GC' 'GEN' 'GG' 'N64' 'NES' 'NG'\n",
      " 'PC' 'PCFX' 'PS' 'PS2' 'PS3' 'PS4' 'PSP' 'PSV' 'SAT' 'SCD' 'SNES' 'TG16'\n",
      " 'WS' 'Wii' 'WiiU' 'X360' 'XB' 'XOne']\n",
      "platform : кол-во NaN 0 , процент NaN 0.0 %\n",
      "-------------------------\n",
      "year_of_release [1980. 1981. 1982. 1983. 1984. 1985. 1986. 1987. 1988. 1989. 1990. 1991.\n",
      " 1992. 1993. 1994. 1995. 1996. 1997. 1998. 1999. 2000. 2001. 2002. 2003.\n",
      " 2004. 2005. 2006. 2007. 2008. 2009. 2010. 2011. 2012. 2013. 2014. 2015.\n",
      " 2016.]\n",
      "year_of_release : кол-во NaN 0 , процент NaN 0.0 %\n",
      "-------------------------\n",
      "genre ['Action' 'Adventure' 'Fighting' 'Misc' 'Platform' 'Puzzle' 'Racing'\n",
      " 'Role-Playing' 'Shooter' 'Simulation' 'Sports' 'Strategy' nan]\n",
      "genre : кол-во NaN 2 , процент NaN 0.01 %\n",
      "-------------------------\n",
      "critic_score [13. 17. 19. 20. 21. 23. 24. 25. 26. 27. 28. 29. 30. 31. 32. 33. 34. 35.\n",
      " 36. 37. 38. 39. 40. 41. 42. 43. 44. 45. 46. 47. 48. 49. 50. 51. 52. 53.\n",
      " 54. 55. 56. 57. 58. 59. 60. 61. 62. 63. 64. 65. 66. 67. 68. 69. 70. 71.\n",
      " 72. 73. 74. 75. 76. 77. 78. 79. 80. 81. 82. 83. 84. 85. 86. 87. 88. 89.\n",
      " 90. 91. 92. 93. 94. 95. 96. 97. 98. nan]\n",
      "critic_score : кол-во NaN 8463 , процент NaN 51.46 %\n",
      "-------------------------\n",
      "user_score [0.  0.2 0.3 0.5 0.6 0.7 0.9 1.  1.1 1.2 1.3 1.4 1.5 1.6 1.7 1.8 1.9 2.\n",
      " 2.1 2.2 2.3 2.4 2.5 2.6 2.7 2.8 2.9 3.  3.1 3.2 3.3 3.4 3.5 3.6 3.7 3.8\n",
      " 3.9 4.  4.1 4.2 4.3 4.4 4.5 4.6 4.7 4.8 4.9 5.  5.1 5.2 5.3 5.4 5.5 5.6\n",
      " 5.7 5.8 5.9 6.  6.1 6.2 6.3 6.4 6.5 6.6 6.7 6.8 6.9 7.  7.1 7.2 7.3 7.4\n",
      " 7.5 7.6 7.7 7.8 7.9 8.  8.1 8.2 8.3 8.4 8.5 8.6 8.7 8.8 8.9 9.  9.1 9.2\n",
      " 9.3 9.4 9.5 9.6 9.7 nan]\n",
      "user_score : кол-во NaN 8983 , процент NaN 54.62 %\n",
      "-------------------------\n",
      "rating ['-' 'AO' 'E' 'E10+' 'EC' 'K-A' 'M' 'RP' 'T']\n",
      "rating : кол-во NaN 0 , процент NaN 0.0 %\n"
     ]
    }
   ],
   "source": [
    "# Комментарий ревьюера\n",
    "# Посмотрим, что у нас осталось\n",
    "temp = table.copy() \n",
    "list_c = ['name', 'platform', 'year_of_release', 'genre', 'critic_score', 'user_score', 'rating']\n",
    "print(temp.info())\n",
    "for col_l in list_c:\n",
    "  print('-'* 25)\n",
    "  print(col_l, temp[col_l].sort_values().unique())\n",
    "  print(col_l,': кол-во NaN',temp[col_l].isna().sum(),\n",
    "        ', процент NaN', round(temp[col_l].isna().sum()/len(temp)*100, 2),'%')"
   ]
  },
  {
   "cell_type": "markdown",
   "metadata": {},
   "source": [
    "## Исследовательский анализ данных "
   ]
  },
  {
   "cell_type": "code",
   "execution_count": 15,
   "metadata": {
    "scrolled": true
   },
   "outputs": [
    {
     "data": {
      "image/png": "[encoded data removed]",
      "text/plain": [
       "<Figure size 432x288 with 1 Axes>"
      ]
     },
     "metadata": {
      "needs_background": "light"
     },
     "output_type": "display_data"
    }
   ],
   "source": [
    "table['year_of_release'].hist(bins=37);"
   ]
  },
  {
   "cell_type": "code",
   "execution_count": 16,
   "metadata": {
    "scrolled": true
   },
   "outputs": [
    {
     "data": {
      "image/png": "[encoded data removed]",
      "text/plain": [
       "<Figure size 432x288 with 1 Axes>"
      ]
     },
     "metadata": {
      "needs_background": "light"
     },
     "output_type": "display_data"
    }
   ],
   "source": [
    "# Комментарий ревьюера 2\n",
    "table['year_of_release'].hist(bins=37);"
   ]
  },
  {
   "cell_type": "markdown",
   "metadata": {},
   "source": [
    "Данные за все периоды важны для определения средней продолжительности \"жизни\" платформ на рынке, это поможет определить потенциально-прибыльные платформы на 2017 год"
   ]
  },
  {
   "cell_type": "markdown",
   "metadata": {},
   "source": [
    "### Определяем актуальный период на основе продолжительности \"жизни\" платформ"
   ]
  },
  {
   "cell_type": "code",
   "execution_count": 17,
   "metadata": {
    "scrolled": false
   },
   "outputs": [
    {
     "data": {
      "image/png": "[encoded data removed]",
      "text/plain": [
       "<Figure size 432x288 with 1 Axes>"
      ]
     },
     "metadata": {
      "needs_background": "light"
     },
     "output_type": "display_data"
    }
   ],
   "source": [
    "# Этим кодом я выведу распределение продолжительности \"жизни\" платформ, т.е. сколько лет она может находиться на рынке.\n",
    "# Я не учитывал платформы, которые на момент 2016 года существуют на рынке. Т.к. мы не знаем, сколько они могут ещё просуществовать на рынке.\n",
    "liist=table.loc[table['year_of_release']==2016]['platform'].unique()\n",
    "\n",
    "range_of_life=[]\n",
    "\n",
    "for c in list(set(table['platform'].unique()) - set(liist)):\n",
    "    range_of_life.append((table.loc[table['platform']==c]['year_of_release'].max()-\n",
    "                          table.loc[table['platform']==c]['year_of_release'].min()))  \n",
    "Serie=pd.Series(range_of_life)            \n",
    "Serie.hist(bins=32,range=(0,32));"
   ]
  },
  {
   "cell_type": "markdown",
   "metadata": {},
   "source": [
    "Хм, DS очень выбивается из общей массы. Оказалось, что это ошибка и она не сильно отличается от других платформ. Истинный год её выпуска - 2004. Сейчас исправлю"
   ]
  },
  {
   "cell_type": "code",
   "execution_count": 18,
   "metadata": {},
   "outputs": [
    {
     "data": {
      "text/html": [
       "<div>\n",
       "<style scoped>\n",
       "    .dataframe tbody tr th:only-of-type {\n",
       "        vertical-align: middle;\n",
       "    }\n",
       "\n",
       "    .dataframe tbody tr th {\n",
       "        vertical-align: top;\n",
       "    }\n",
       "\n",
       "    .dataframe thead th {\n",
       "        text-align: right;\n",
       "    }\n",
       "</style>\n",
       "<table border=\"1\" class=\"dataframe\">\n",
       "  <thead>\n",
       "    <tr style=\"text-align: right;\">\n",
       "      <th></th>\n",
       "      <th>name</th>\n",
       "      <th>platform</th>\n",
       "      <th>year_of_release</th>\n",
       "      <th>genre</th>\n",
       "      <th>na_sales</th>\n",
       "      <th>eu_sales</th>\n",
       "      <th>jp_sales</th>\n",
       "      <th>other_sales</th>\n",
       "      <th>critic_score</th>\n",
       "      <th>user_score</th>\n",
       "      <th>rating</th>\n",
       "      <th>sum_sales</th>\n",
       "    </tr>\n",
       "  </thead>\n",
       "  <tbody>\n",
       "    <tr>\n",
       "      <th>15957</th>\n",
       "      <td>Strongest Tokyo University Shogi DS</td>\n",
       "      <td>DS</td>\n",
       "      <td>1985.0</td>\n",
       "      <td>Action</td>\n",
       "      <td>0.0</td>\n",
       "      <td>0.0</td>\n",
       "      <td>0.02</td>\n",
       "      <td>0.0</td>\n",
       "      <td>NaN</td>\n",
       "      <td>NaN</td>\n",
       "      <td>-</td>\n",
       "      <td>0.02</td>\n",
       "    </tr>\n",
       "  </tbody>\n",
       "</table>\n",
       "</div>"
      ],
      "text/plain": [
       "                                      name platform  year_of_release   genre  \\\n",
       "15957  Strongest Tokyo University Shogi DS       DS           1985.0  Action   \n",
       "\n",
       "       na_sales  eu_sales  jp_sales  other_sales  critic_score  user_score  \\\n",
       "15957       0.0       0.0      0.02          0.0           NaN         NaN   \n",
       "\n",
       "      rating  sum_sales  \n",
       "15957      -       0.02  "
      ]
     },
     "metadata": {},
     "output_type": "display_data"
    }
   ],
   "source": [
    "display(table.loc[(table['platform']=='DS')&(table['year_of_release']==1985)])\n",
    "table=table.drop(15957,axis=0)"
   ]
  },
  {
   "cell_type": "markdown",
   "metadata": {},
   "source": [
    "Из графика понятно, что платформы обычно существуют в промежутке от 0 до 12 лет.\n",
    "Это даёт нам понимание, что актуальный период нужно брать примерно в 3 года: т.е. далее нам будут интересны данные за 2014-2016 годы, т.к. за это время новые платформы набирают популярность и скоро выходят на пик своей известности и, соответственно, продаж и новые тренды не будут искажены ушедшими."
   ]
  },
  {
   "cell_type": "code",
   "execution_count": 19,
   "metadata": {},
   "outputs": [],
   "source": [
    "table_new=table[table['year_of_release']>2013]\n",
    " #Далее будем работать с этим df, он содержит игры только за актуальный период "
   ]
  },
  {
   "cell_type": "markdown",
   "metadata": {},
   "source": [
    "### Определяем, кто вообще сейчас есть на рынке и куда движется"
   ]
  },
  {
   "cell_type": "markdown",
   "metadata": {},
   "source": [
    "Смотрим, действительно ли актуальный период для оценки лидеров грядущего 2017 года лежит в границах 2004-2016.\n",
    "И оцениваем потенциальных лидеров 2017 года"
   ]
  },
  {
   "cell_type": "code",
   "execution_count": 20,
   "metadata": {
    "scrolled": false
   },
   "outputs": [
    {
     "data": {
      "image/png": "[encoded data removed]",
      "text/plain": [
       "<Figure size 288x648 with 1 Axes>"
      ]
     },
     "metadata": {
      "needs_background": "light"
     },
     "output_type": "display_data"
    }
   ],
   "source": [
    "for r in table_new['platform'].unique():\n",
    "    if len(table_new.loc[(table_new['platform']==r)&(table_new['year_of_release']==2016)])>0: # проверка на ещё поддерживаемую платформу\n",
    "        (table_new[table_new['platform']==r].groupby('year_of_release')['sum_sales'].count().plot(\n",
    "         title='Динамика числа выпущенных игр на платформах по годам',\n",
    "         xlabel='Год',ylabel='Число выпущенных игр',linewidth=3,\n",
    "         figsize=(4,9),grid=True,alpha=1,legend=True,label=r));"
   ]
  },
  {
   "cell_type": "markdown",
   "metadata": {},
   "source": [
    "Как видим:\n",
    "* Группа из Wii, WiiU, X360 - потенциально не прибыльная, число игр на этих платформах или стремительно падает, или уже около нуля. У Wii и х360 \"жизненный цикл\" уже более 10 лет, а значит шансы на выживание стремительно падают.\n",
    "* Группа из PS3, PSV и 3DS - стремительно теряет позиции. Им уже по 9 лет и их существование на рынке близится к концу. Их падение такое же стремительное, как у предыдущей группы, но число выпускаемых игр на них ещё не так близко к нулю.\n",
    "* Группа из PS4 и XOne - потенциально прибыльная. Их \"жизненный цикл\" начался совсем не давно и число игр на них растёт всё время их существования и в 2017 году не предвещает падения.\n",
    "* PС имеет устойчивый тренд"
   ]
  },
  {
   "cell_type": "markdown",
   "metadata": {},
   "source": [
    "### Посмотрим на ящики с усами распределения глобальных продаж в разбивке по платформам"
   ]
  },
  {
   "cell_type": "code",
   "execution_count": 21,
   "metadata": {},
   "outputs": [
    {
     "data": {
      "text/plain": [
       "(0.0, 15.0)"
      ]
     },
     "execution_count": 21,
     "metadata": {},
     "output_type": "execute_result"
    },
    {
     "data": {
      "image/png": "[encoded data removed]",
      "text/plain": [
       "<Figure size 432x288 with 1 Axes>"
      ]
     },
     "metadata": {
      "needs_background": "light"
     },
     "output_type": "display_data"
    }
   ],
   "source": [
    "box = sns.boxplot(x='platform', y='sum_sales', data=table_new);\n",
    "box.set_ylim(0,15)"
   ]
  },
  {
   "cell_type": "code",
   "execution_count": 22,
   "metadata": {},
   "outputs": [
    {
     "data": {
      "text/plain": [
       "platform\n",
       "XOne    0.205\n",
       "WiiU    0.190\n",
       "PS4     0.185\n",
       "Wii     0.180\n",
       "X360    0.180\n",
       "PS3     0.110\n",
       "3DS     0.090\n",
       "PC      0.060\n",
       "PSV     0.040\n",
       "PSP     0.020\n",
       "Name: sum_sales, dtype: float64"
      ]
     },
     "execution_count": 22,
     "metadata": {},
     "output_type": "execute_result"
    },
    {
     "data": {
      "image/png": "[encoded data removed]",
      "text/plain": [
       "<Figure size 432x288 with 1 Axes>"
      ]
     },
     "metadata": {
      "needs_background": "light"
     },
     "output_type": "display_data"
    }
   ],
   "source": [
    "box = sns.boxplot(x='platform', y='sum_sales', data=table_new);\n",
    "box.set_ylim(0,1.75)\n",
    "table_new.groupby('platform')['sum_sales'].median().sort_values(ascending=False)"
   ]
  },
  {
   "cell_type": "markdown",
   "metadata": {},
   "source": [
    "Как видим из последних выведенных ящиков, среди ныне поддерживаемых платформ PS4 и XOne действительно самые перспективные: медиана глобальных продаж с одной игры на них высока: 1 и 3 позиции среди кокнкурентов. PS4 хоть и уступает WiiU по медиане продаж, но третий квартиль у неё больше + у неё (PS4) самые большие выбросы на Диком Западе (первый вывод ящиков). Эти выбросы играют решающую роль и дают понять, что за рассматриваемы 3 года выручка с игры больше у PS4, нежели WiiU:"
   ]
  },
  {
   "cell_type": "code",
   "execution_count": 23,
   "metadata": {},
   "outputs": [
    {
     "data": {
      "text/plain": [
       "0.6156140350877193"
      ]
     },
     "metadata": {},
     "output_type": "display_data"
    },
    {
     "data": {
      "text/plain": [
       "0.7663563829787233"
      ]
     },
     "metadata": {},
     "output_type": "display_data"
    },
    {
     "data": {
      "text/plain": [
       "0.5887671232876712"
      ]
     },
     "metadata": {},
     "output_type": "display_data"
    }
   ],
   "source": [
    "display(table_new.loc[table_new['platform']=='XOne']['sum_sales'].agg('sum')/table_new.loc[table_new['platform']=='XOne']['sum_sales'].agg('count'))\n",
    "display(table_new.loc[table_new['platform']=='PS4']['sum_sales'].agg('sum')/table_new.loc[table_new['platform']=='PS4']['sum_sales'].agg('count'))\n",
    "display(table_new.loc[table_new['platform']=='WiiU']['sum_sales'].agg('sum')/table_new.loc[table_new['platform']=='WiiU']['sum_sales'].agg('count'))\n",
    "# И число выпущенных игр за актуальный период:\n"
   ]
  },
  {
   "cell_type": "markdown",
   "metadata": {},
   "source": [
    "Как видим: среднее число продаж с одной игры у PS4 выше, чем у WiiU как раз за счёт больших выбросов. XOne тоже имеет больший показатель, чем WiiU. Но надо учитывать, что WiiU стабильно \"падает\", а \"ХOne\" набирает популярность."
   ]
  },
  {
   "cell_type": "markdown",
   "metadata": {},
   "source": [
    "Итого: самые перспективные платформы это PS4 и XOne. Они растут в абсолютном числе продаж и являются лидерами по медианным продажам с одной игры"
   ]
  },
  {
   "cell_type": "markdown",
   "metadata": {},
   "source": [
    "### Смотрим влияние оценок игр на их выпуск"
   ]
  },
  {
   "cell_type": "markdown",
   "metadata": {},
   "source": [
    "Сначала на примере набирующей популярность PS4"
   ]
  },
  {
   "cell_type": "code",
   "execution_count": 24,
   "metadata": {
    "scrolled": false
   },
   "outputs": [
    {
     "data": {
      "text/plain": [
       "0.40266141068104083"
      ]
     },
     "metadata": {},
     "output_type": "display_data"
    },
    {
     "data": {
      "text/plain": [
       "-0.040131589472697356"
      ]
     },
     "execution_count": 24,
     "metadata": {},
     "output_type": "execute_result"
    },
    {
     "data": {
      "image/png": "[encoded data removed]",
      "text/plain": [
       "<Figure size 720x360 with 1 Axes>"
      ]
     },
     "metadata": {
      "needs_background": "light"
     },
     "output_type": "display_data"
    },
    {
     "data": {
      "image/png": "[encoded data removed]",
      "text/plain": [
       "<Figure size 720x360 with 1 Axes>"
      ]
     },
     "metadata": {
      "needs_background": "light"
     },
     "output_type": "display_data"
    }
   ],
   "source": [
    "table_new.loc[table_new['platform']=='PS4'].plot(x='critic_score',y='sum_sales',kind='scatter',grid=True,figsize=(10,5),ylim=(0,10));\n",
    "table_new.loc[table_new['platform']=='PS4'].plot(x='user_score',y='sum_sales',kind='scatter',grid=True,figsize=(10,5),ylim=(0,10));\n",
    "display(table_new.loc[table['platform']=='PS4']['critic_score'].corr(table_new.loc[table_new['platform']=='PS4']['sum_sales']))\n",
    "table_new.loc[table['platform']=='PS4']['user_score'].corr(table_new.loc[table_new['platform']=='PS4']['sum_sales'])"
   ]
  },
  {
   "cell_type": "markdown",
   "metadata": {},
   "source": [
    "Как видно, корреляции между оценками и продажами не велики. Игры с низкими рейтингами спокойной могут иметь высокие продажи и наоборот. Как так? Оценки субъективны, не у всех есть доступ ко всем играм, и продажи некоторых игр могут гаснуть из-за завершения выпуска платформ: циклы \"жизни\" платформ очень разнятся"
   ]
  },
  {
   "cell_type": "markdown",
   "metadata": {},
   "source": [
    "Проверим, на других платформах такие же низкие корреляции или нет?"
   ]
  },
  {
   "cell_type": "code",
   "execution_count": 44,
   "metadata": {},
   "outputs": [
    {
     "data": {
      "text/html": [
       "<div>\n",
       "<style scoped>\n",
       "    .dataframe tbody tr th:only-of-type {\n",
       "        vertical-align: middle;\n",
       "    }\n",
       "\n",
       "    .dataframe tbody tr th {\n",
       "        vertical-align: top;\n",
       "    }\n",
       "\n",
       "    .dataframe thead th {\n",
       "        text-align: right;\n",
       "    }\n",
       "</style>\n",
       "<table border=\"1\" class=\"dataframe\">\n",
       "  <thead>\n",
       "    <tr style=\"text-align: right;\">\n",
       "      <th></th>\n",
       "      <th>name</th>\n",
       "      <th>platform</th>\n",
       "      <th>year_of_release</th>\n",
       "      <th>genre</th>\n",
       "      <th>na_sales</th>\n",
       "      <th>eu_sales</th>\n",
       "      <th>jp_sales</th>\n",
       "      <th>other_sales</th>\n",
       "      <th>critic_score</th>\n",
       "      <th>user_score</th>\n",
       "      <th>rating</th>\n",
       "      <th>sum_sales</th>\n",
       "      <th>new_platform</th>\n",
       "    </tr>\n",
       "  </thead>\n",
       "  <tbody>\n",
       "    <tr>\n",
       "      <th>31</th>\n",
       "      <td>Call of Duty: Black Ops 3</td>\n",
       "      <td>PS4</td>\n",
       "      <td>2015.0</td>\n",
       "      <td>Shooter</td>\n",
       "      <td>6.03</td>\n",
       "      <td>5.86</td>\n",
       "      <td>0.36</td>\n",
       "      <td>2.38</td>\n",
       "      <td>NaN</td>\n",
       "      <td>NaN</td>\n",
       "      <td>-</td>\n",
       "      <td>14.63</td>\n",
       "      <td>PS4</td>\n",
       "    </tr>\n",
       "    <tr>\n",
       "      <th>42</th>\n",
       "      <td>Grand Theft Auto V</td>\n",
       "      <td>PS4</td>\n",
       "      <td>2014.0</td>\n",
       "      <td>Action</td>\n",
       "      <td>3.96</td>\n",
       "      <td>6.31</td>\n",
       "      <td>0.38</td>\n",
       "      <td>1.97</td>\n",
       "      <td>97.0</td>\n",
       "      <td>8.3</td>\n",
       "      <td>M</td>\n",
       "      <td>12.62</td>\n",
       "      <td>PS4</td>\n",
       "    </tr>\n",
       "    <tr>\n",
       "      <th>47</th>\n",
       "      <td>Pokemon Omega Ruby/Pokemon Alpha Sapphire</td>\n",
       "      <td>3DS</td>\n",
       "      <td>2014.0</td>\n",
       "      <td>Role-Playing</td>\n",
       "      <td>4.35</td>\n",
       "      <td>3.49</td>\n",
       "      <td>3.10</td>\n",
       "      <td>0.74</td>\n",
       "      <td>NaN</td>\n",
       "      <td>NaN</td>\n",
       "      <td>-</td>\n",
       "      <td>11.68</td>\n",
       "      <td>3DS</td>\n",
       "    </tr>\n",
       "    <tr>\n",
       "      <th>77</th>\n",
       "      <td>FIFA 16</td>\n",
       "      <td>PS4</td>\n",
       "      <td>2015.0</td>\n",
       "      <td>Sports</td>\n",
       "      <td>1.12</td>\n",
       "      <td>6.12</td>\n",
       "      <td>0.06</td>\n",
       "      <td>1.28</td>\n",
       "      <td>82.0</td>\n",
       "      <td>4.3</td>\n",
       "      <td>E</td>\n",
       "      <td>8.58</td>\n",
       "      <td>PS4</td>\n",
       "    </tr>\n",
       "    <tr>\n",
       "      <th>87</th>\n",
       "      <td>Star Wars Battlefront (2015)</td>\n",
       "      <td>PS4</td>\n",
       "      <td>2015.0</td>\n",
       "      <td>Shooter</td>\n",
       "      <td>2.99</td>\n",
       "      <td>3.49</td>\n",
       "      <td>0.22</td>\n",
       "      <td>1.28</td>\n",
       "      <td>NaN</td>\n",
       "      <td>NaN</td>\n",
       "      <td>-</td>\n",
       "      <td>7.98</td>\n",
       "      <td>PS4</td>\n",
       "    </tr>\n",
       "  </tbody>\n",
       "</table>\n",
       "</div>"
      ],
      "text/plain": [
       "                                         name platform  year_of_release  \\\n",
       "31                  Call of Duty: Black Ops 3      PS4           2015.0   \n",
       "42                         Grand Theft Auto V      PS4           2014.0   \n",
       "47  Pokemon Omega Ruby/Pokemon Alpha Sapphire      3DS           2014.0   \n",
       "77                                    FIFA 16      PS4           2015.0   \n",
       "87               Star Wars Battlefront (2015)      PS4           2015.0   \n",
       "\n",
       "           genre  na_sales  eu_sales  jp_sales  other_sales  critic_score  \\\n",
       "31       Shooter      6.03      5.86      0.36         2.38           NaN   \n",
       "42        Action      3.96      6.31      0.38         1.97          97.0   \n",
       "47  Role-Playing      4.35      3.49      3.10         0.74           NaN   \n",
       "77        Sports      1.12      6.12      0.06         1.28          82.0   \n",
       "87       Shooter      2.99      3.49      0.22         1.28           NaN   \n",
       "\n",
       "    user_score rating  sum_sales new_platform  \n",
       "31         NaN      -      14.63          PS4  \n",
       "42         8.3      M      12.62          PS4  \n",
       "47         NaN      -      11.68          3DS  \n",
       "77         4.3      E       8.58          PS4  \n",
       "87         NaN      -       7.98          PS4  "
      ]
     },
     "execution_count": 44,
     "metadata": {},
     "output_type": "execute_result"
    }
   ],
   "source": [
    "table_new.head(5)"
   ]
  },
  {
   "cell_type": "code",
   "execution_count": 26,
   "metadata": {},
   "outputs": [
    {
     "data": {
      "text/html": [
       "<div>\n",
       "<style scoped>\n",
       "    .dataframe tbody tr th:only-of-type {\n",
       "        vertical-align: middle;\n",
       "    }\n",
       "\n",
       "    .dataframe tbody tr th {\n",
       "        vertical-align: top;\n",
       "    }\n",
       "\n",
       "    .dataframe thead th {\n",
       "        text-align: right;\n",
       "    }\n",
       "</style>\n",
       "<table border=\"1\" class=\"dataframe\">\n",
       "  <thead>\n",
       "    <tr style=\"text-align: right;\">\n",
       "      <th></th>\n",
       "      <th>platform</th>\n",
       "      <th>user_score</th>\n",
       "      <th>critic_score</th>\n",
       "    </tr>\n",
       "  </thead>\n",
       "  <tbody>\n",
       "    <tr>\n",
       "      <th>5</th>\n",
       "      <td>X360</td>\n",
       "      <td>-0.138445</td>\n",
       "      <td>0.525723</td>\n",
       "    </tr>\n",
       "    <tr>\n",
       "      <th>4</th>\n",
       "      <td>PS3</td>\n",
       "      <td>-0.166761</td>\n",
       "      <td>0.446575</td>\n",
       "    </tr>\n",
       "    <tr>\n",
       "      <th>2</th>\n",
       "      <td>XOne</td>\n",
       "      <td>-0.070384</td>\n",
       "      <td>0.428677</td>\n",
       "    </tr>\n",
       "    <tr>\n",
       "      <th>0</th>\n",
       "      <td>PS4</td>\n",
       "      <td>-0.040132</td>\n",
       "      <td>0.402661</td>\n",
       "    </tr>\n",
       "    <tr>\n",
       "      <th>3</th>\n",
       "      <td>WiiU</td>\n",
       "      <td>0.407926</td>\n",
       "      <td>0.370201</td>\n",
       "    </tr>\n",
       "    <tr>\n",
       "      <th>1</th>\n",
       "      <td>3DS</td>\n",
       "      <td>0.215193</td>\n",
       "      <td>0.314117</td>\n",
       "    </tr>\n",
       "    <tr>\n",
       "      <th>6</th>\n",
       "      <td>PC</td>\n",
       "      <td>-0.071597</td>\n",
       "      <td>0.174634</td>\n",
       "    </tr>\n",
       "    <tr>\n",
       "      <th>8</th>\n",
       "      <td>PSV</td>\n",
       "      <td>-0.168455</td>\n",
       "      <td>0.042665</td>\n",
       "    </tr>\n",
       "  </tbody>\n",
       "</table>\n",
       "</div>"
      ],
      "text/plain": [
       "  platform  user_score  critic_score\n",
       "5     X360   -0.138445      0.525723\n",
       "4      PS3   -0.166761      0.446575\n",
       "2     XOne   -0.070384      0.428677\n",
       "0      PS4   -0.040132      0.402661\n",
       "3     WiiU    0.407926      0.370201\n",
       "1      3DS    0.215193      0.314117\n",
       "6       PC   -0.071597      0.174634\n",
       "8      PSV   -0.168455      0.042665"
      ]
     },
     "execution_count": 26,
     "metadata": {},
     "output_type": "execute_result"
    }
   ],
   "source": [
    "new_table=pd.DataFrame({'platform':table_new['platform'].unique(),'user_score':0,'critic_score':0})\n",
    "for n in ['user_score','critic_score']:\n",
    "    for v in range(0,len(new_table)):\n",
    "        new_table.loc[v,n]=(table_new.loc[table_new['platform']==new_table.loc[v,'platform']][n].corr(\n",
    "            table_new.loc[table_new['platform']==new_table.loc[v,'platform']]['sum_sales']))\n",
    "new_table[~(new_table['user_score'].isna())&~(new_table['critic_score'].isna())].sort_values(by='critic_score',ascending=False)"
   ]
  },
  {
   "cell_type": "code",
   "execution_count": 27,
   "metadata": {},
   "outputs": [
    {
     "data": {
      "image/png": "[encoded data removed]",
      "text/plain": [
       "<Figure size 432x288 with 1 Axes>"
      ]
     },
     "metadata": {
      "needs_background": "light"
     },
     "output_type": "display_data"
    }
   ],
   "source": [
    "new_table.loc[~(new_table['user_score'].isna())&~(new_table['critic_score'].isna())].sort_values(by='critic_score',ascending=False).plot(x='platform',y=['user_score','critic_score'],kind='bar',grid=True);"
   ]
  },
  {
   "cell_type": "markdown",
   "metadata": {},
   "source": [
    "Как видно по графику, столбцы отражают коэффициенты корреляции между оценками критиков и игроков и числом проданных игр.\n",
    "Связь между оценками критиков и числом проданных игр, как видно, слабая. Но она есть, в отличие от связи пользовательских оценок и числа продаж. Там связь очень слабая, и столбики низкие. \n",
    "\n",
    "Выбивается из общей картины WiiU: оценки пользователей относительно сильно связаны с числом проданных игр. И ещё PSV и PC имеют низкие на фоне других платформ коэффициенты связи критиков и продаж игр."
   ]
  },
  {
   "cell_type": "code",
   "execution_count": 28,
   "metadata": {},
   "outputs": [
    {
     "data": {
      "image/png": "[encoded data removed]",
      "text/plain": [
       "<Figure size 432x288 with 1 Axes>"
      ]
     },
     "metadata": {
      "needs_background": "light"
     },
     "output_type": "display_data"
    },
    {
     "data": {
      "image/png": "[encoded data removed]",
      "text/plain": [
       "<Figure size 432x288 with 1 Axes>"
      ]
     },
     "metadata": {
      "needs_background": "light"
     },
     "output_type": "display_data"
    },
    {
     "data": {
      "image/png": "[encoded data removed]",
      "text/plain": [
       "<Figure size 432x288 with 1 Axes>"
      ]
     },
     "metadata": {
      "needs_background": "light"
     },
     "output_type": "display_data"
    },
    {
     "data": {
      "image/png": "[encoded data removed]",
      "text/plain": [
       "<Figure size 432x288 with 1 Axes>"
      ]
     },
     "metadata": {
      "needs_background": "light"
     },
     "output_type": "display_data"
    },
    {
     "data": {
      "image/png": "[encoded data removed]",
      "text/plain": [
       "<Figure size 432x288 with 1 Axes>"
      ]
     },
     "metadata": {
      "needs_background": "light"
     },
     "output_type": "display_data"
    },
    {
     "data": {
      "image/png": "[encoded data removed]",
      "text/plain": [
       "<Figure size 432x288 with 1 Axes>"
      ]
     },
     "metadata": {
      "needs_background": "light"
     },
     "output_type": "display_data"
    },
    {
     "data": {
      "image/png": "[encoded data removed]",
      "text/plain": [
       "<Figure size 432x288 with 1 Axes>"
      ]
     },
     "metadata": {
      "needs_background": "light"
     },
     "output_type": "display_data"
    },
    {
     "data": {
      "image/png": "[encoded data removed]",
      "text/plain": [
       "<Figure size 432x288 with 1 Axes>"
      ]
     },
     "metadata": {
      "needs_background": "light"
     },
     "output_type": "display_data"
    },
    {
     "data": {
      "image/png": "[encoded data removed]",
      "text/plain": [
       "<Figure size 432x288 with 1 Axes>"
      ]
     },
     "metadata": {
      "needs_background": "light"
     },
     "output_type": "display_data"
    },
    {
     "data": {
      "image/png": "[encoded data removed]",
      "text/plain": [
       "<Figure size 432x288 with 1 Axes>"
      ]
     },
     "metadata": {
      "needs_background": "light"
     },
     "output_type": "display_data"
    },
    {
     "data": {
      "image/png": "[encoded data removed]",
      "text/plain": [
       "<Figure size 432x288 with 1 Axes>"
      ]
     },
     "metadata": {
      "needs_background": "light"
     },
     "output_type": "display_data"
    },
    {
     "data": {
      "image/png": "[encoded data removed]",
      "text/plain": [
       "<Figure size 432x288 with 1 Axes>"
      ]
     },
     "metadata": {
      "needs_background": "light"
     },
     "output_type": "display_data"
    },
    {
     "data": {
      "image/png": "[encoded data removed]",
      "text/plain": [
       "<Figure size 432x288 with 1 Axes>"
      ]
     },
     "metadata": {
      "needs_background": "light"
     },
     "output_type": "display_data"
    },
    {
     "data": {
      "image/png": "[encoded data removed]",
      "text/plain": [
       "<Figure size 432x288 with 1 Axes>"
      ]
     },
     "metadata": {
      "needs_background": "light"
     },
     "output_type": "display_data"
    },
    {
     "data": {
      "image/png": "[encoded data removed]",
      "text/plain": [
       "<Figure size 432x288 with 1 Axes>"
      ]
     },
     "metadata": {
      "needs_background": "light"
     },
     "output_type": "display_data"
    },
    {
     "data": {
      "image/png": "[encoded data removed]",
      "text/plain": [
       "<Figure size 432x288 with 1 Axes>"
      ]
     },
     "metadata": {
      "needs_background": "light"
     },
     "output_type": "display_data"
    },
    {
     "data": {
      "image/png": "[encoded data removed]",
      "text/plain": [
       "<Figure size 432x288 with 1 Axes>"
      ]
     },
     "metadata": {
      "needs_background": "light"
     },
     "output_type": "display_data"
    },
    {
     "data": {
      "image/png": "[encoded data removed]",
      "text/plain": [
       "<Figure size 432x288 with 1 Axes>"
      ]
     },
     "metadata": {
      "needs_background": "light"
     },
     "output_type": "display_data"
    },
    {
     "data": {
      "image/png": "[encoded data removed]",
      "text/plain": [
       "<Figure size 432x288 with 1 Axes>"
      ]
     },
     "metadata": {
      "needs_background": "light"
     },
     "output_type": "display_data"
    },
    {
     "data": {
      "image/png": "[encoded data removed]",
      "text/plain": [
       "<Figure size 432x288 with 1 Axes>"
      ]
     },
     "metadata": {
      "needs_background": "light"
     },
     "output_type": "display_data"
    }
   ],
   "source": [
    "for m in new_table['platform'].unique():\n",
    "    for h in ['user_score','critic_score']:\n",
    "        table_new.loc[table_new['platform']==m].plot(x=h,y='sum_sales',title=m,kind='scatter')"
   ]
  },
  {
   "cell_type": "markdown",
   "metadata": {},
   "source": [
    "Диаграммы и таблица коэффициентов корряляции других платформ в рассматриваемый актуальный период подтверждают, что у большинства платформ есть слабая связь между оценкой критиков и количеством выпущенных игр. А вот между оценкой пользователей и количеством выпущенных игр корреляции почти у всех - очень слабые"
   ]
  },
  {
   "cell_type": "markdown",
   "metadata": {},
   "source": [
    "### Определяем самые прибыльные жанры "
   ]
  },
  {
   "cell_type": "markdown",
   "metadata": {},
   "source": [
    "Смотрим на общее распределение проданных игр по жанрам"
   ]
  },
  {
   "cell_type": "code",
   "execution_count": 29,
   "metadata": {},
   "outputs": [
    {
     "data": {
      "image/png": "[encoded data removed]",
      "text/plain": [
       "<Figure size 432x288 with 1 Axes>"
      ]
     },
     "metadata": {
      "needs_background": "light"
     },
     "output_type": "display_data"
    }
   ],
   "source": [
    "table_new[['genre','sum_sales']].groupby('genre').agg('count').sort_values(by='sum_sales',ascending=False).plot(kind='bar',legend=False);"
   ]
  },
  {
   "cell_type": "markdown",
   "metadata": {},
   "source": [
    "Смотрим на ранжированный список жанров по их прибыльности "
   ]
  },
  {
   "cell_type": "code",
   "execution_count": 30,
   "metadata": {
    "scrolled": true
   },
   "outputs": [
    {
     "data": {
      "text/plain": [
       "genre\n",
       "Shooter         0.515\n",
       "Sports          0.180\n",
       "Platform        0.140\n",
       "Fighting        0.125\n",
       "Role-Playing    0.110\n",
       "Simulation      0.100\n",
       "Action          0.090\n",
       "Misc            0.090\n",
       "Racing          0.090\n",
       "Strategy        0.060\n",
       "Puzzle          0.045\n",
       "Adventure       0.030\n",
       "Name: sum_sales, dtype: float64"
      ]
     },
     "execution_count": 30,
     "metadata": {},
     "output_type": "execute_result"
    }
   ],
   "source": [
    "table_new.groupby('genre')['sum_sales'].median().sort_values(ascending=False)"
   ]
  },
  {
   "cell_type": "markdown",
   "metadata": {},
   "source": [
    "Как видно, медианные продажи в разных жанрах отличаются, есть явные аутсайдеры и лидеры. Всё представлено в таблице."
   ]
  },
  {
   "cell_type": "markdown",
   "metadata": {},
   "source": [
    "## Составление портретов пользователей регионов"
   ]
  },
  {
   "cell_type": "markdown",
   "metadata": {},
   "source": [
    "### Топ-5 популярных платформ по регионам"
   ]
  },
  {
   "cell_type": "code",
   "execution_count": 31,
   "metadata": {
    "scrolled": false
   },
   "outputs": [
    {
     "data": {
      "text/plain": [
       "platform\n",
       "PS4     98.61\n",
       "XOne    81.27\n",
       "X360    28.30\n",
       "3DS     22.64\n",
       "PS3     22.05\n",
       "WiiU    19.36\n",
       "PC       7.23\n",
       "Name: na_sales, dtype: float64"
      ]
     },
     "metadata": {},
     "output_type": "display_data"
    },
    {
     "data": {
      "text/plain": [
       "platform\n",
       "PS4     130.04\n",
       "XOne     46.25\n",
       "PS3      25.54\n",
       "PC       17.97\n",
       "3DS      16.12\n",
       "X360     15.49\n",
       "WiiU     13.15\n",
       "Name: eu_sales, dtype: float64"
      ]
     },
     "metadata": {},
     "output_type": "display_data"
    },
    {
     "data": {
      "text/plain": [
       "platform\n",
       "3DS     44.24\n",
       "PS4     15.02\n",
       "PSV     14.54\n",
       "PS3     11.22\n",
       "WiiU     7.31\n",
       "PSP      0.36\n",
       "XOne     0.32\n",
       "Name: jp_sales, dtype: float64"
      ]
     },
     "metadata": {},
     "output_type": "display_data"
    }
   ],
   "source": [
    "for hg in ['na_sales','eu_sales','jp_sales']:\n",
    "    display(table_new.groupby('platform')[hg].sum().sort_values(ascending=False).head(7))"
   ]
  },
  {
   "cell_type": "code",
   "execution_count": 32,
   "metadata": {},
   "outputs": [
    {
     "name": "stderr",
     "output_type": "stream",
     "text": [
      "/tmp/ipykernel_48/874306438.py:18: SettingWithCopyWarning: \n",
      "A value is trying to be set on a copy of a slice from a DataFrame.\n",
      "Try using .loc[row_indexer,col_indexer] = value instead\n",
      "\n",
      "See the caveats in the documentation: https://pandas.pydata.org/pandas-docs/stable/user_guide/indexing.html#returning-a-view-versus-a-copy\n",
      "  extra_table['new_platform']=extra_table.apply(fd,axis=1)\n"
     ]
    },
    {
     "data": {
      "image/png": "[encoded data removed]",
      "text/plain": [
       "<Figure size 432x432 with 1 Axes>"
      ]
     },
     "metadata": {},
     "output_type": "display_data"
    },
    {
     "name": "stderr",
     "output_type": "stream",
     "text": [
      "/tmp/ipykernel_48/874306438.py:18: SettingWithCopyWarning: \n",
      "A value is trying to be set on a copy of a slice from a DataFrame.\n",
      "Try using .loc[row_indexer,col_indexer] = value instead\n",
      "\n",
      "See the caveats in the documentation: https://pandas.pydata.org/pandas-docs/stable/user_guide/indexing.html#returning-a-view-versus-a-copy\n",
      "  extra_table['new_platform']=extra_table.apply(fd,axis=1)\n"
     ]
    },
    {
     "data": {
      "image/png": "[encoded data removed]",
      "text/plain": [
       "<Figure size 432x432 with 1 Axes>"
      ]
     },
     "metadata": {},
     "output_type": "display_data"
    },
    {
     "name": "stderr",
     "output_type": "stream",
     "text": [
      "/tmp/ipykernel_48/874306438.py:18: SettingWithCopyWarning: \n",
      "A value is trying to be set on a copy of a slice from a DataFrame.\n",
      "Try using .loc[row_indexer,col_indexer] = value instead\n",
      "\n",
      "See the caveats in the documentation: https://pandas.pydata.org/pandas-docs/stable/user_guide/indexing.html#returning-a-view-versus-a-copy\n",
      "  extra_table['new_platform']=extra_table.apply(fd,axis=1)\n"
     ]
    },
    {
     "data": {
      "image/png": "[encoded data removed]",
      "text/plain": [
       "<Figure size 432x432 with 1 Axes>"
      ]
     },
     "metadata": {},
     "output_type": "display_data"
    }
   ],
   "source": [
    "def a(a):\n",
    "    if a['platform'] not in ['PS4','XOne','X360','3DS','PS3']:\n",
    "        return 'другие'\n",
    "    else:\n",
    "        return a['platform']\n",
    "def b(a):\n",
    "    if a['platform'] not in ['PS4','XOne','PC','3DS','PS3']:\n",
    "        return 'другие'\n",
    "    else:\n",
    "        return a['platform']\n",
    "def c(a):\n",
    "    if a['platform'] not in ['PS4','WiiU','3DS','PSV','PS3']:\n",
    "        return 'другие'\n",
    "    else:\n",
    "        return a['platform']\n",
    "for fd in [a,b,c]:\n",
    "    extra_table=table_new\n",
    "    extra_table['new_platform']=extra_table.apply(fd,axis=1) \n",
    "    if fd == a:\n",
    "        extra_table.groupby('new_platform')['na_sales'].sum().sort_values(ascending=False).plot(autopct='%1.1f',kind='pie',figsize=(6,6),grid=True,label='NA')\n",
    "        plt.pyplot.show()\n",
    "    if fd == b:\n",
    "        extra_table.groupby('new_platform')['eu_sales'].sum().sort_values(ascending=False).plot(autopct='%1.1f',kind='pie',figsize=(6,6),grid=True,label='EU')\n",
    "        plt.pyplot.show()\n",
    "    if fd == c:\n",
    "        extra_table.groupby('new_platform')['jp_sales'].sum().sort_values(ascending=False).plot(autopct='%1.1f',kind='pie',figsize=(6,6),grid=True,label='JP')\n",
    "        plt.pyplot.show()"
   ]
  },
  {
   "cell_type": "markdown",
   "metadata": {},
   "source": [
    "Европейский и американский топ-5 схожи по составу (4/5 жанров совпадают) и долям каждого жанра (нет абсолютного доминирования, на каждого участника топ-5 приходится примерно от 15 до 25% от общего числа игр, принадлежащих жанрам из топ-5)\n",
    "\n",
    "Японский топ-5 самобытный и отличается наличием SNES и 3DS - японскими платформами (отсюда их широкое распространение на этом рынке), каких нет в европейском и американском топ-5."
   ]
  },
  {
   "cell_type": "markdown",
   "metadata": {},
   "source": [
    "### Cамые популярные жанры в разных регионах"
   ]
  },
  {
   "cell_type": "code",
   "execution_count": 33,
   "metadata": {},
   "outputs": [
    {
     "data": {
      "text/plain": [
       "genre\n",
       "Action       863.17\n",
       "Adventure    101.52\n",
       "Fighting     220.51\n",
       "Misc         399.57\n",
       "Platform     444.44\n",
       "Name: na_sales, dtype: float64"
      ]
     },
     "metadata": {},
     "output_type": "display_data"
    },
    {
     "data": {
      "text/plain": [
       "genre\n",
       "Action       510.99\n",
       "Adventure     63.20\n",
       "Fighting      99.00\n",
       "Misc         210.60\n",
       "Platform     199.39\n",
       "Name: eu_sales, dtype: float64"
      ]
     },
     "metadata": {},
     "output_type": "display_data"
    },
    {
     "data": {
      "text/plain": [
       "genre\n",
       "Action       160.12\n",
       "Adventure     52.24\n",
       "Fighting      87.28\n",
       "Misc         107.02\n",
       "Platform     130.71\n",
       "Name: jp_sales, dtype: float64"
      ]
     },
     "metadata": {},
     "output_type": "display_data"
    },
    {
     "data": {
      "text/plain": [
       "genre\n",
       "Action       182.22\n",
       "Adventure     16.37\n",
       "Fighting      35.87\n",
       "Misc          73.10\n",
       "Platform      51.01\n",
       "Name: other_sales, dtype: float64"
      ]
     },
     "metadata": {},
     "output_type": "display_data"
    }
   ],
   "source": [
    "extra_table=new_table\n",
    "for i in ['na_sales','eu_sales','jp_sales','other_sales']:\n",
    "    display(table.groupby('genre')[i].agg('sum').head(5))"
   ]
  },
  {
   "cell_type": "markdown",
   "metadata": {},
   "source": [
    "Как видим, в Европе и Северной Америке топ-5 почти совпадает как по значениям, так и по долям игр в каждом жанре топ-5\n",
    "\n",
    "Японский же топ-5 самобытный. Жанр ролевых игр тут доминирует, а шутеры не популярны, как на американском и европейском рынках"
   ]
  },
  {
   "cell_type": "markdown",
   "metadata": {},
   "source": [
    "### Влияет ли рейтинг ERSB на продажи в отдельном регионе?"
   ]
  },
  {
   "cell_type": "code",
   "execution_count": 34,
   "metadata": {},
   "outputs": [
    {
     "data": {
      "text/plain": [
       "-       749\n",
       "T       271\n",
       "M       265\n",
       "E       219\n",
       "E10+    185\n",
       "Name: rating, dtype: int64"
      ]
     },
     "execution_count": 34,
     "metadata": {},
     "output_type": "execute_result"
    }
   ],
   "source": [
    "table_new['rating'].value_counts()"
   ]
  },
  {
   "cell_type": "code",
   "execution_count": 35,
   "metadata": {
    "scrolled": false
   },
   "outputs": [
    {
     "name": "stdout",
     "output_type": "stream",
     "text": [
      "na_sales\n"
     ]
    },
    {
     "data": {
      "image/png": "[encoded data removed]",
      "text/plain": [
       "<Figure size 360x216 with 1 Axes>"
      ]
     },
     "metadata": {
      "needs_background": "light"
     },
     "output_type": "display_data"
    },
    {
     "name": "stdout",
     "output_type": "stream",
     "text": [
      "eu_sales\n"
     ]
    },
    {
     "data": {
      "image/png": "[encoded data removed]",
      "text/plain": [
       "<Figure size 360x216 with 1 Axes>"
      ]
     },
     "metadata": {
      "needs_background": "light"
     },
     "output_type": "display_data"
    },
    {
     "name": "stdout",
     "output_type": "stream",
     "text": [
      "jp_sales\n"
     ]
    },
    {
     "data": {
      "image/png": "[encoded data removed]",
      "text/plain": [
       "<Figure size 360x216 with 1 Axes>"
      ]
     },
     "metadata": {
      "needs_background": "light"
     },
     "output_type": "display_data"
    }
   ],
   "source": [
    "for p in ['na_sales','eu_sales','jp_sales']: \n",
    "    lisst=[]\n",
    "    for j in ['E','E10+','T','M','-']:\n",
    "        lisst.append(table_new.loc[table['rating']==j][p].sum())\n",
    "    lisst_new=pd.DataFrame({'Рейтинг':['E','E10+','T','M','-'],'Число игр':lisst})\n",
    "    \n",
    "    print(p)\n",
    "    lisst_new.plot(kind='bar',y='Число игр',x='Рейтинг',figsize=(5,3),grid=True,label=p)\n",
    "    plt.pyplot.show()"
   ]
  },
  {
   "cell_type": "markdown",
   "metadata": {},
   "source": [
    "Честно, я не знаю, как дать ему понять, что вместо цифр по х должны быть названия рейтингов. \n",
    "Ну а так получается 0 - E, 1 - E10+, 2 - T, 3 - M, 4 - не определено"
   ]
  },
  {
   "cell_type": "raw",
   "metadata": {},
   "source": [
    "# Комментарий ревьюера 2\n",
    "temp = table_new.copy()\n",
    "fig, axes = plt.subplots(1, 3, figsize=(20,5))\n",
    "list_region = temp.columns[4:7]\n",
    "list_title = ['Продажи в Северной Америке, млн', 'Продажи в Европе, млн', 'Продажи в Японии, млн']\n",
    "    \n",
    "for i in range(3):\n",
    "    (temp.pivot_table(index='rating', values=list_region[i],aggfunc='sum')\n",
    "     .sort_values(by=list_region[i], ascending=False)\n",
    "     .plot(kind='bar', title=list_title[i], ax=axes[i], legend=None))"
   ]
  },
  {
   "cell_type": "markdown",
   "metadata": {},
   "source": [
    "Получилось так, что в Японии рейтинг ERSB влияет на продажи: большинство игр там не имеют рейтинга ERSB.\n",
    "В других регионах большинство игр имеют рейтинг E. Но в них тоже велика доля игр с неопределённым рейтингом, она вносит сомнение в абсолютное первеноство числа игр с категорией Е в этих регионах."
   ]
  },
  {
   "cell_type": "markdown",
   "metadata": {},
   "source": [
    "## Проверка гипотез"
   ]
  },
  {
   "cell_type": "markdown",
   "metadata": {},
   "source": [
    "### Средние пользовательские рейтинги платформ Xbox One и PC одинаковые"
   ]
  },
  {
   "cell_type": "markdown",
   "metadata": {},
   "source": [
    "Пусть H_0 гласит: \"Х_ср пользовательского рейтинга игр на платформе Хbox One равно Х_ср пользовательского рейтинга игр на платформе PC\".\n",
    "\n",
    "Тогда H_1 гласит: \"Х_ср пользовательского рейтинга игр на платформе Хbox One НЕ равно Х_ср пользовательского рейтинга игр на платформе PC\".\n",
    "\n",
    "Всё как и учили, нулевая гипотеза с использованием знака =, а H_1 обратная для H0. \n",
    "\n",
    "Проверять гипотезы будем по имеющимся выборкам из соответствующих генеральных совокупностей. Они не зависимые друг от друга, набраны случайным образом. Примем за правду, что дисперсии у ген.совокупностей примерно равны. \n",
    "\n",
    "Проверять будем двустороннюю гипотезу т-тестом для независимых выборок.\n",
    "Такой тест применяю, т.к. выборки независимы (уверен), выборочные средние совокупностей распределены нормально (по 8к значений, ЦПТ говорит, что будет нормальное распределение в таком случае), дисперсии ген.совокупностей равны (верим и надеемся)"
   ]
  },
  {
   "cell_type": "code",
   "execution_count": 36,
   "metadata": {},
   "outputs": [
    {
     "name": "stdout",
     "output_type": "stream",
     "text": [
      "Дисперсия выборки пользовательских оценок игр на платформе ХOne: user_score    1.891007\n",
      "dtype: float64\n",
      "Дисперсия выборки пользовательских оценок игр на платформе PC: user_score    2.901154\n",
      "dtype: float64\n"
     ]
    }
   ],
   "source": [
    "#блиц-тест для сравнения дисперсий двух выборок\n",
    "print('Дисперсия выборки пользовательских оценок игр на платформе ХOne:',table_new.loc[table['platform']=='XOne'][['user_score']].std()**2)\n",
    "print('Дисперсия выборки пользовательских оценок игр на платформе PC:',table_new.loc[table['platform']=='PC'][['user_score']].std()**2)"
   ]
  },
  {
   "cell_type": "markdown",
   "metadata": {},
   "source": [
    "Разница между дисперсиями велика. Будем использовать т-тест для выборок с разными дисперсиями"
   ]
  },
  {
   "cell_type": "code",
   "execution_count": 37,
   "metadata": {},
   "outputs": [
    {
     "name": "stdout",
     "output_type": "stream",
     "text": [
      "получившееся p-value: [0.11601398]\n",
      "Нельзя прям сказать, что гипотеза H_0 верная. Но то, что она - неверная, очень маловероятно. Отвергать её не будем\n"
     ]
    }
   ],
   "source": [
    "from scipy import stats as st # импорт прибамбасов\n",
    "alpha=0.05 # критический уровень статистической значимости\n",
    "results=(st.ttest_ind(table_new.loc[table_new['platform']=='XOne'][['user_score']].dropna(), #удаляю пропуски, т.к. с ними не посчитать result\n",
    "                      table_new.loc[table_new['platform']=='PC'][['user_score']].dropna(),\n",
    "                      equal_var=False))\n",
    "print('получившееся p-value:',results.pvalue)\n",
    "if results.pvalue<alpha:\n",
    "    print('Придётся отвергнуть гипотезу H_0 и принять H_1')\n",
    "else:\n",
    "    print('Нельзя прям сказать, что гипотеза H_0 верная. Но то, что она - неверная, очень маловероятно. Отвергать её не будем')"
   ]
  },
  {
   "cell_type": "code",
   "execution_count": 38,
   "metadata": {},
   "outputs": [
    {
     "data": {
      "text/plain": [
       "6.594545454545454"
      ]
     },
     "metadata": {},
     "output_type": "display_data"
    },
    {
     "data": {
      "text/plain": [
       "6.298360655737704"
      ]
     },
     "metadata": {},
     "output_type": "display_data"
    }
   ],
   "source": [
    "display(table_new.loc[table_new['platform']=='XOne']['user_score'].mean())\n",
    "display(table_new.loc[table_new['platform']=='PC']['user_score'].mean())"
   ]
  },
  {
   "cell_type": "markdown",
   "metadata": {},
   "source": [
    "Сейчас я вывел средние пользовательские рейтинги по играм на платформах XOne и PC за актуальный период соответственно. Как видим, отличие не такое большое, чтобы сказать, что средние пользовательские рейтинги точно разные"
   ]
  },
  {
   "cell_type": "markdown",
   "metadata": {},
   "source": [
    "### Средние пользовательские рейтинги жанров Action и Sports разные."
   ]
  },
  {
   "cell_type": "markdown",
   "metadata": {},
   "source": [
    "Пусть H_0 гласит: \"Средние пользовательские рейтинги жанров Action и Sports - равны\"\n",
    "Тогда H_1 звучит: \"Средние пользовательские рейтинги жанров Action и Sports - разные\"\n",
    "\n",
    "Снова будем проверять т-тестов двустороннюю гипотезу для двух независимых выборок.\n",
    "\n",
    "Такой тест применяю, т.к. выборки независимы (уверен), выборочные средние совокупностей распределены нормально (по 8к значений, ЦПТ говорит, что будет нормальное распределение в таком случае), дисперсии ген.совокупностей равны (верим и надеемся)."
   ]
  },
  {
   "cell_type": "code",
   "execution_count": 39,
   "metadata": {},
   "outputs": [
    {
     "name": "stdout",
     "output_type": "stream",
     "text": [
      "Дисперсия выборки для игр с жанром Action в актуальный период: 1.8984766584766581\n",
      "Дисперсия выборки для игр с жанром Sports в актуальный периол: 3.446979127609048\n"
     ]
    }
   ],
   "source": [
    "print('Дисперсия выборки для игр с жанром Action в актуальный период:',table_new.loc[table_new['genre']=='Action']['user_score'].std()**2)\n",
    "print('Дисперсия выборки для игр с жанром Sports в актуальный периол:',table_new.loc[table_new['genre']=='Sports']['user_score'].std()**2)"
   ]
  },
  {
   "cell_type": "markdown",
   "metadata": {},
   "source": [
    "Надежды не оправдались, разница значимая"
   ]
  },
  {
   "cell_type": "code",
   "execution_count": 40,
   "metadata": {},
   "outputs": [
    {
     "name": "stdout",
     "output_type": "stream",
     "text": [
      "P-value при заданных условиях: [1.18255504e-14]\n",
      "H_0 придётся отвергнуть. При условии её истинности шанс получить такие выборки не велик\n"
     ]
    }
   ],
   "source": [
    "result1=st.ttest_ind(table_new[table_new['genre']=='Action'][['user_score']].dropna(),\n",
    "                     table_new[table_new['genre']=='Sports'][['user_score']].dropna(),\n",
    "                     equal_var=False)\n",
    "alpha=0.05\n",
    "print('P-value при заданных условиях:',result1.pvalue)\n",
    "if result1.pvalue>alpha:\n",
    "    print('Нельзя сказать, что Н_0 полностью не верна. Так что отвергать не будем')\n",
    "else:\n",
    "    print('H_0 придётся отвергнуть. При условии её истинности шанс получить такие выборки не велик')"
   ]
  },
  {
   "cell_type": "code",
   "execution_count": 41,
   "metadata": {},
   "outputs": [
    {
     "data": {
      "text/plain": [
       "7.058129175946546"
      ]
     },
     "metadata": {},
     "output_type": "display_data"
    },
    {
     "data": {
      "text/plain": [
       "6.951433857539316"
      ]
     },
     "metadata": {},
     "output_type": "display_data"
    }
   ],
   "source": [
    "display(table.loc[table['genre']=='Action']['user_score'].mean())\n",
    "display(table.loc[table['genre']=='Sports']['user_score'].mean())"
   ]
  },
  {
   "cell_type": "markdown",
   "metadata": {},
   "source": [
    "По представленным пользовательским рейтингам игр в жанрах Action и Sports cоответственно мы можем убедиться, что очень вряд ли, что пользовательские рейтинги в этих жанрах - разные"
   ]
  },
  {
   "cell_type": "markdown",
   "metadata": {},
   "source": [
    "## Общий вывод"
   ]
  },
  {
   "cell_type": "markdown",
   "metadata": {},
   "source": [
    "Я собирался узнать потенциально-популярные платформы игр в 2017, узнать влияние разных факторов на популярность игры, и узнать закономерности на рынке видеоигр.\n",
    "\n",
    "1) Все полученные платформы я определил в 3 категории: потенциально-прибыльные(растут), нейтральные(падают), потенциально-неприбыльные(быстро падают), непредсказумые(то вверх, то вниз. Здесь PC). Как оказалось, одни и те же платформы год от года не стоят на месте в плане выпущенных на них игр и всё время есть динамика. Для выпущенных на платформе игр по годам характерен монотонный график: продажи по годам растут до какого-то момента и далее их меньше и меньше. Камбека не будет почти наверняка.\n",
    "\n",
    "2) Влияние факторов на популярность игры: \n",
    "  * Стадия \"жизни\" платформы игры. Если платформа уже давно на рынке (10+ лет), то все игры на ней проседают по продажам.\n",
    "  * Как выяснилось, оценки критиков и игроков слабо влияют на число продаж игры. \n",
    "  * При этом жанр игры сильно влияет на среднее число продаж. Большинство потребителей в Америке, а там есть явные жанры-лидеры\n",
    "  * Фактор региона также играет роль: Игры с рейтингом ERSB 10+,14+ и 17+ на японском рынке неохотно реализуются. \n",
    "   \n",
    "3) Закономерности следующие:\n",
    "* Платформы часто живут или 1-3 года, либо 10-12 лет. Реже - от 4 до 9 лет или являются \"долгожителями\"\n",
    "* Платформы-лидеры по продажам за всё время на данный момент почти не встретить на рынке   \n",
    "* Потребители на европейском и американском рынках особо не отличаются по любимым жанрам игр и используемым платформам\n",
    "* Популярный жанр не гарантирует высокую среднюю выручку с игры. \n",
    "* На данный момент "
   ]
  },
  {
   "cell_type": "markdown",
   "metadata": {},
   "source": [
    "Итого: рекламный бюджет стоит тратить на игры с платформ PS4 и XOne, в жанрах Action или Sports(доказательство ниже). C рейтингом E в Европе и Северной Америке. Обращать внимание стоит на отзывы критиков: где они выше - ту игру и надо рекламировать."
   ]
  },
  {
   "cell_type": "code",
   "execution_count": 42,
   "metadata": {},
   "outputs": [
    {
     "data": {
      "text/plain": [
       "genre\n",
       "Action          1716.50\n",
       "Sports          1309.67\n",
       "Shooter         1041.36\n",
       "Role-Playing     931.08\n",
       "Platform         825.55\n",
       "Misc             790.29\n",
       "Racing           723.49\n",
       "Fighting         442.66\n",
       "Simulation       387.96\n",
       "Puzzle           239.89\n",
       "Adventure        233.33\n",
       "Strategy         172.57\n",
       "Name: sum_sales, dtype: float64"
      ]
     },
     "execution_count": 42,
     "metadata": {},
     "output_type": "execute_result"
    }
   ],
   "source": [
    "table.groupby('genre')['sum_sales'].sum().sort_values(ascending=False)"
   ]
  }
 ],
 "metadata": {
  "ExecuteTimeLog": [
   {
    "duration": 424,
    "start_time": "2023-01-27T10:24:10.169Z"
   },
   {
    "duration": 246,
    "start_time": "2023-01-27T10:24:33.397Z"
   },
   {
    "duration": 24,
    "start_time": "2023-01-27T10:25:40.800Z"
   },
   {
    "duration": 55,
    "start_time": "2023-01-27T10:25:44.068Z"
   },
   {
    "duration": 15,
    "start_time": "2023-01-27T10:25:44.173Z"
   },
   {
    "duration": 3,
    "start_time": "2023-01-27T10:26:12.156Z"
   },
   {
    "duration": 15,
    "start_time": "2023-01-27T10:26:18.362Z"
   },
   {
    "duration": 4,
    "start_time": "2023-01-27T10:26:37.908Z"
   },
   {
    "duration": 6,
    "start_time": "2023-01-27T10:27:33.920Z"
   },
   {
    "duration": 28,
    "start_time": "2023-01-27T10:29:16.635Z"
   },
   {
    "duration": 9,
    "start_time": "2023-01-27T10:29:22.081Z"
   },
   {
    "duration": 12,
    "start_time": "2023-01-27T10:29:46.165Z"
   },
   {
    "duration": 506,
    "start_time": "2023-01-27T10:38:44.255Z"
   },
   {
    "duration": 154,
    "start_time": "2023-01-27T10:38:58.727Z"
   },
   {
    "duration": 18,
    "start_time": "2023-01-27T10:43:09.619Z"
   },
   {
    "duration": 21,
    "start_time": "2023-01-27T10:44:19.557Z"
   },
   {
    "duration": 31,
    "start_time": "2023-01-27T10:44:28.455Z"
   },
   {
    "duration": 424,
    "start_time": "2023-01-27T10:44:36.810Z"
   },
   {
    "duration": 75,
    "start_time": "2023-01-27T10:44:37.237Z"
   },
   {
    "duration": 23,
    "start_time": "2023-01-27T10:44:37.314Z"
   },
   {
    "duration": 31,
    "start_time": "2023-01-27T10:44:37.339Z"
   },
   {
    "duration": 47,
    "start_time": "2023-01-27T10:44:37.375Z"
   },
   {
    "duration": 20,
    "start_time": "2023-01-27T10:45:01.513Z"
   },
   {
    "duration": 26,
    "start_time": "2023-01-27T10:49:56.465Z"
   },
   {
    "duration": 31,
    "start_time": "2023-01-27T10:52:11.158Z"
   },
   {
    "duration": 7,
    "start_time": "2023-01-27T11:15:54.936Z"
   },
   {
    "duration": 5,
    "start_time": "2023-01-27T11:16:50.934Z"
   },
   {
    "duration": 501,
    "start_time": "2023-01-27T11:16:55.679Z"
   },
   {
    "duration": 86,
    "start_time": "2023-01-27T11:16:56.183Z"
   },
   {
    "duration": 54,
    "start_time": "2023-01-27T11:16:56.273Z"
   },
   {
    "duration": 70,
    "start_time": "2023-01-27T11:16:56.330Z"
   },
   {
    "duration": 56,
    "start_time": "2023-01-27T11:16:56.402Z"
   },
   {
    "duration": 42,
    "start_time": "2023-01-27T11:16:56.460Z"
   },
   {
    "duration": 128,
    "start_time": "2023-01-27T11:17:18.757Z"
   },
   {
    "duration": 9,
    "start_time": "2023-01-27T11:17:30.872Z"
   },
   {
    "duration": 8,
    "start_time": "2023-01-27T11:17:49.064Z"
   },
   {
    "duration": 9,
    "start_time": "2023-01-27T11:17:52.917Z"
   },
   {
    "duration": 12,
    "start_time": "2023-01-27T11:19:43.468Z"
   },
   {
    "duration": 436,
    "start_time": "2023-01-27T11:19:48.665Z"
   },
   {
    "duration": 97,
    "start_time": "2023-01-27T11:19:49.103Z"
   },
   {
    "duration": 20,
    "start_time": "2023-01-27T11:19:49.202Z"
   },
   {
    "duration": 3,
    "start_time": "2023-01-27T11:19:49.224Z"
   },
   {
    "duration": 45,
    "start_time": "2023-01-27T11:19:49.229Z"
   },
   {
    "duration": 91,
    "start_time": "2023-01-27T11:19:49.275Z"
   },
   {
    "duration": 8,
    "start_time": "2023-01-27T11:20:18.323Z"
   },
   {
    "duration": 9,
    "start_time": "2023-01-27T11:20:47.376Z"
   },
   {
    "duration": 11,
    "start_time": "2023-01-27T11:20:53.699Z"
   },
   {
    "duration": 11,
    "start_time": "2023-01-27T11:21:04.634Z"
   },
   {
    "duration": 471,
    "start_time": "2023-01-27T11:21:13.321Z"
   },
   {
    "duration": 67,
    "start_time": "2023-01-27T11:21:13.795Z"
   },
   {
    "duration": 26,
    "start_time": "2023-01-27T11:21:13.868Z"
   },
   {
    "duration": 13,
    "start_time": "2023-01-27T11:21:13.896Z"
   },
   {
    "duration": 34,
    "start_time": "2023-01-27T11:21:13.911Z"
   },
   {
    "duration": 96,
    "start_time": "2023-01-27T11:21:13.948Z"
   },
   {
    "duration": 8,
    "start_time": "2023-01-27T11:21:38.968Z"
   },
   {
    "duration": 398,
    "start_time": "2023-01-27T11:21:47.561Z"
   },
   {
    "duration": 58,
    "start_time": "2023-01-27T11:21:47.962Z"
   },
   {
    "duration": 35,
    "start_time": "2023-01-27T11:21:48.022Z"
   },
   {
    "duration": 32,
    "start_time": "2023-01-27T11:21:48.059Z"
   },
   {
    "duration": 49,
    "start_time": "2023-01-27T11:21:48.094Z"
   },
   {
    "duration": 112,
    "start_time": "2023-01-27T11:21:48.145Z"
   },
   {
    "duration": 11,
    "start_time": "2023-01-27T11:21:56.760Z"
   },
   {
    "duration": 441,
    "start_time": "2023-01-27T11:22:01.078Z"
   },
   {
    "duration": 65,
    "start_time": "2023-01-27T11:22:01.521Z"
   },
   {
    "duration": 23,
    "start_time": "2023-01-27T11:22:01.588Z"
   },
   {
    "duration": 13,
    "start_time": "2023-01-27T11:22:01.613Z"
   },
   {
    "duration": 87,
    "start_time": "2023-01-27T11:22:01.628Z"
   },
   {
    "duration": 110,
    "start_time": "2023-01-27T11:22:01.716Z"
   },
   {
    "duration": 8,
    "start_time": "2023-01-27T11:22:21.820Z"
   },
   {
    "duration": 440,
    "start_time": "2023-01-27T11:22:30.661Z"
   },
   {
    "duration": 69,
    "start_time": "2023-01-27T11:22:31.103Z"
   },
   {
    "duration": 23,
    "start_time": "2023-01-27T11:22:31.174Z"
   },
   {
    "duration": 28,
    "start_time": "2023-01-27T11:22:31.199Z"
   },
   {
    "duration": 78,
    "start_time": "2023-01-27T11:22:31.229Z"
   },
   {
    "duration": 91,
    "start_time": "2023-01-27T11:22:31.309Z"
   },
   {
    "duration": 7,
    "start_time": "2023-01-27T11:22:35.495Z"
   },
   {
    "duration": 8,
    "start_time": "2023-01-27T11:26:22.079Z"
   },
   {
    "duration": 388,
    "start_time": "2023-01-27T11:26:32.910Z"
   },
   {
    "duration": 73,
    "start_time": "2023-01-27T11:26:33.299Z"
   },
   {
    "duration": 21,
    "start_time": "2023-01-27T11:26:33.373Z"
   },
   {
    "duration": 4,
    "start_time": "2023-01-27T11:26:33.398Z"
   },
   {
    "duration": 56,
    "start_time": "2023-01-27T11:26:33.403Z"
   },
   {
    "duration": 12,
    "start_time": "2023-01-27T11:26:33.460Z"
   },
   {
    "duration": 7,
    "start_time": "2023-01-27T11:26:54.656Z"
   },
   {
    "duration": 5,
    "start_time": "2023-01-27T11:27:06.789Z"
   },
   {
    "duration": 403,
    "start_time": "2023-01-27T11:27:41.302Z"
   },
   {
    "duration": 9,
    "start_time": "2023-01-27T11:28:25.679Z"
   },
   {
    "duration": 413,
    "start_time": "2023-01-27T11:28:29.870Z"
   },
   {
    "duration": 74,
    "start_time": "2023-01-27T11:28:30.285Z"
   },
   {
    "duration": 23,
    "start_time": "2023-01-27T11:28:30.367Z"
   },
   {
    "duration": 76,
    "start_time": "2023-01-27T11:28:30.393Z"
   },
   {
    "duration": 62,
    "start_time": "2023-01-27T11:28:30.472Z"
   },
   {
    "duration": 70,
    "start_time": "2023-01-27T11:28:30.536Z"
   },
   {
    "duration": 151,
    "start_time": "2023-01-27T11:28:30.607Z"
   },
   {
    "duration": 17,
    "start_time": "2023-01-27T11:28:41.755Z"
   },
   {
    "duration": 7,
    "start_time": "2023-01-27T11:30:40.702Z"
   },
   {
    "duration": 9,
    "start_time": "2023-01-27T11:30:46.577Z"
   },
   {
    "duration": 7,
    "start_time": "2023-01-27T11:30:55.003Z"
   },
   {
    "duration": 9,
    "start_time": "2023-01-27T11:30:59.596Z"
   },
   {
    "duration": 10,
    "start_time": "2023-01-27T11:31:03.457Z"
   },
   {
    "duration": 12,
    "start_time": "2023-01-27T11:31:13.633Z"
   },
   {
    "duration": 11,
    "start_time": "2023-01-27T11:31:18.263Z"
   },
   {
    "duration": 7,
    "start_time": "2023-01-27T11:31:23.791Z"
   },
   {
    "duration": 9,
    "start_time": "2023-01-27T11:35:47.880Z"
   },
   {
    "duration": 486,
    "start_time": "2023-01-27T11:35:52.273Z"
   },
   {
    "duration": 89,
    "start_time": "2023-01-27T11:35:52.764Z"
   },
   {
    "duration": 39,
    "start_time": "2023-01-27T11:35:52.855Z"
   },
   {
    "duration": 20,
    "start_time": "2023-01-27T11:35:52.896Z"
   },
   {
    "duration": 72,
    "start_time": "2023-01-27T11:35:52.919Z"
   },
   {
    "duration": 9,
    "start_time": "2023-01-27T11:35:52.992Z"
   },
   {
    "duration": 93,
    "start_time": "2023-01-27T11:35:53.003Z"
   },
   {
    "duration": 8,
    "start_time": "2023-01-27T11:36:40.492Z"
   },
   {
    "duration": 15,
    "start_time": "2023-01-27T11:37:41.443Z"
   },
   {
    "duration": 9,
    "start_time": "2023-01-27T11:37:48.514Z"
   },
   {
    "duration": 8,
    "start_time": "2023-01-27T11:37:53.620Z"
   },
   {
    "duration": 8,
    "start_time": "2023-01-27T11:41:53.498Z"
   },
   {
    "duration": 9,
    "start_time": "2023-01-27T11:46:54.233Z"
   },
   {
    "duration": 9,
    "start_time": "2023-01-27T11:49:12.199Z"
   },
   {
    "duration": 8,
    "start_time": "2023-01-27T11:52:16.472Z"
   },
   {
    "duration": 3,
    "start_time": "2023-01-27T11:52:27.671Z"
   },
   {
    "duration": 469,
    "start_time": "2023-01-27T11:52:32.479Z"
   },
   {
    "duration": 64,
    "start_time": "2023-01-27T11:52:32.951Z"
   },
   {
    "duration": 22,
    "start_time": "2023-01-27T11:52:33.017Z"
   },
   {
    "duration": 36,
    "start_time": "2023-01-27T11:52:33.041Z"
   },
   {
    "duration": 58,
    "start_time": "2023-01-27T11:52:33.078Z"
   },
   {
    "duration": 43,
    "start_time": "2023-01-27T11:52:33.138Z"
   },
   {
    "duration": 133,
    "start_time": "2023-01-27T11:52:33.183Z"
   },
   {
    "duration": 14,
    "start_time": "2023-01-27T12:02:02.751Z"
   },
   {
    "duration": 7,
    "start_time": "2023-01-27T12:14:34.820Z"
   },
   {
    "duration": 438,
    "start_time": "2023-01-27T12:14:41.464Z"
   },
   {
    "duration": 68,
    "start_time": "2023-01-27T12:14:41.904Z"
   },
   {
    "duration": 25,
    "start_time": "2023-01-27T12:14:41.974Z"
   },
   {
    "duration": 4,
    "start_time": "2023-01-27T12:14:42.001Z"
   },
   {
    "duration": 64,
    "start_time": "2023-01-27T12:14:42.007Z"
   },
   {
    "duration": 4,
    "start_time": "2023-01-27T12:14:42.074Z"
   },
   {
    "duration": 20,
    "start_time": "2023-01-27T12:14:42.080Z"
   },
   {
    "duration": 7,
    "start_time": "2023-01-27T12:15:02.052Z"
   },
   {
    "duration": 51,
    "start_time": "2023-01-27T12:15:11.710Z"
   },
   {
    "duration": 11,
    "start_time": "2023-01-27T12:15:18.472Z"
   },
   {
    "duration": 471,
    "start_time": "2023-01-27T12:15:22.633Z"
   },
   {
    "duration": 73,
    "start_time": "2023-01-27T12:15:23.106Z"
   },
   {
    "duration": 21,
    "start_time": "2023-01-27T12:15:23.181Z"
   },
   {
    "duration": 24,
    "start_time": "2023-01-27T12:15:23.204Z"
   },
   {
    "duration": 62,
    "start_time": "2023-01-27T12:15:23.229Z"
   },
   {
    "duration": 12,
    "start_time": "2023-01-27T12:15:23.293Z"
   },
   {
    "duration": 22,
    "start_time": "2023-01-27T12:15:23.307Z"
   },
   {
    "duration": 49,
    "start_time": "2023-01-27T12:15:23.330Z"
   },
   {
    "duration": 475,
    "start_time": "2023-01-27T12:27:39.143Z"
   },
   {
    "duration": 78,
    "start_time": "2023-01-27T12:27:39.621Z"
   },
   {
    "duration": 31,
    "start_time": "2023-01-27T12:27:39.701Z"
   },
   {
    "duration": 10,
    "start_time": "2023-01-27T12:27:39.734Z"
   },
   {
    "duration": 65,
    "start_time": "2023-01-27T12:27:39.747Z"
   },
   {
    "duration": 6,
    "start_time": "2023-01-27T12:27:39.814Z"
   },
   {
    "duration": 15,
    "start_time": "2023-01-27T12:27:39.821Z"
   },
   {
    "duration": 43,
    "start_time": "2023-01-27T12:27:39.842Z"
   },
   {
    "duration": 351,
    "start_time": "2023-01-27T12:32:28.278Z"
   },
   {
    "duration": 1609,
    "start_time": "2023-01-27T12:34:18.902Z"
   },
   {
    "duration": 285,
    "start_time": "2023-01-27T12:34:37.437Z"
   },
   {
    "duration": 364,
    "start_time": "2023-01-27T12:34:59.812Z"
   },
   {
    "duration": 385,
    "start_time": "2023-01-27T12:35:16.734Z"
   },
   {
    "duration": 444,
    "start_time": "2023-01-27T12:35:21.366Z"
   },
   {
    "duration": 78,
    "start_time": "2023-01-27T12:35:21.812Z"
   },
   {
    "duration": 21,
    "start_time": "2023-01-27T12:35:21.891Z"
   },
   {
    "duration": 10,
    "start_time": "2023-01-27T12:35:21.915Z"
   },
   {
    "duration": 89,
    "start_time": "2023-01-27T12:35:21.927Z"
   },
   {
    "duration": 48,
    "start_time": "2023-01-27T12:35:22.018Z"
   },
   {
    "duration": 653,
    "start_time": "2023-01-27T12:35:22.068Z"
   },
   {
    "duration": 0,
    "start_time": "2023-01-27T12:35:22.724Z"
   },
   {
    "duration": 309,
    "start_time": "2023-01-27T12:35:35.310Z"
   },
   {
    "duration": 1580,
    "start_time": "2023-01-27T12:36:09.327Z"
   },
   {
    "duration": 476,
    "start_time": "2023-01-27T12:36:15.403Z"
   },
   {
    "duration": 77,
    "start_time": "2023-01-27T12:36:15.884Z"
   },
   {
    "duration": 36,
    "start_time": "2023-01-27T12:36:15.963Z"
   },
   {
    "duration": 4,
    "start_time": "2023-01-27T12:36:16.001Z"
   },
   {
    "duration": 56,
    "start_time": "2023-01-27T12:36:16.007Z"
   },
   {
    "duration": 14,
    "start_time": "2023-01-27T12:36:16.069Z"
   },
   {
    "duration": 1715,
    "start_time": "2023-01-27T12:36:16.085Z"
   },
   {
    "duration": 0,
    "start_time": "2023-01-27T12:36:17.803Z"
   },
   {
    "duration": 473,
    "start_time": "2023-01-27T12:36:29.934Z"
   },
   {
    "duration": 450,
    "start_time": "2023-01-27T12:37:08.867Z"
   },
   {
    "duration": 69,
    "start_time": "2023-01-27T12:37:09.320Z"
   },
   {
    "duration": 34,
    "start_time": "2023-01-27T12:37:09.391Z"
   },
   {
    "duration": 4,
    "start_time": "2023-01-27T12:37:09.427Z"
   },
   {
    "duration": 77,
    "start_time": "2023-01-27T12:37:09.434Z"
   },
   {
    "duration": 5,
    "start_time": "2023-01-27T12:37:09.513Z"
   },
   {
    "duration": 560,
    "start_time": "2023-01-27T12:37:09.519Z"
   },
   {
    "duration": 0,
    "start_time": "2023-01-27T12:37:10.081Z"
   },
   {
    "duration": 510,
    "start_time": "2023-01-27T12:37:23.864Z"
   },
   {
    "duration": 9,
    "start_time": "2023-01-27T12:37:50.611Z"
   },
   {
    "duration": 452,
    "start_time": "2023-01-27T12:38:01.883Z"
   },
   {
    "duration": 79,
    "start_time": "2023-01-27T12:38:02.340Z"
   },
   {
    "duration": 34,
    "start_time": "2023-01-27T12:38:02.422Z"
   },
   {
    "duration": 54,
    "start_time": "2023-01-27T12:38:02.460Z"
   },
   {
    "duration": 96,
    "start_time": "2023-01-27T12:38:02.517Z"
   },
   {
    "duration": 9,
    "start_time": "2023-01-27T12:38:02.615Z"
   },
   {
    "duration": 764,
    "start_time": "2023-01-27T12:38:02.626Z"
   },
   {
    "duration": 0,
    "start_time": "2023-01-27T12:38:03.392Z"
   },
   {
    "duration": 653,
    "start_time": "2023-01-27T12:40:04.981Z"
   },
   {
    "duration": 434,
    "start_time": "2023-01-27T12:40:09.826Z"
   },
   {
    "duration": 56,
    "start_time": "2023-01-27T12:40:10.266Z"
   },
   {
    "duration": 27,
    "start_time": "2023-01-27T12:40:10.324Z"
   },
   {
    "duration": 30,
    "start_time": "2023-01-27T12:40:10.353Z"
   },
   {
    "duration": 28,
    "start_time": "2023-01-27T12:40:10.385Z"
   },
   {
    "duration": 4,
    "start_time": "2023-01-27T12:40:10.414Z"
   },
   {
    "duration": 523,
    "start_time": "2023-01-27T12:40:10.419Z"
   },
   {
    "duration": 0,
    "start_time": "2023-01-27T12:40:10.944Z"
   },
   {
    "duration": 18,
    "start_time": "2023-01-27T12:42:22.866Z"
   },
   {
    "duration": 448,
    "start_time": "2023-01-27T12:42:31.219Z"
   },
   {
    "duration": 59,
    "start_time": "2023-01-27T12:42:31.670Z"
   },
   {
    "duration": 35,
    "start_time": "2023-01-27T12:42:31.731Z"
   },
   {
    "duration": 33,
    "start_time": "2023-01-27T12:42:31.768Z"
   },
   {
    "duration": 52,
    "start_time": "2023-01-27T12:42:31.803Z"
   },
   {
    "duration": 37,
    "start_time": "2023-01-27T12:42:31.866Z"
   },
   {
    "duration": 29,
    "start_time": "2023-01-27T12:42:31.905Z"
   },
   {
    "duration": 42,
    "start_time": "2023-01-27T12:42:31.936Z"
   },
   {
    "duration": 9,
    "start_time": "2023-01-27T12:43:43.932Z"
   },
   {
    "duration": 451,
    "start_time": "2023-01-27T12:43:51.188Z"
   },
   {
    "duration": 84,
    "start_time": "2023-01-27T12:43:51.641Z"
   },
   {
    "duration": 30,
    "start_time": "2023-01-27T12:43:51.727Z"
   },
   {
    "duration": 39,
    "start_time": "2023-01-27T12:43:51.760Z"
   },
   {
    "duration": 43,
    "start_time": "2023-01-27T12:43:51.802Z"
   },
   {
    "duration": 34,
    "start_time": "2023-01-27T12:43:51.848Z"
   },
   {
    "duration": 38,
    "start_time": "2023-01-27T12:43:51.884Z"
   },
   {
    "duration": 77,
    "start_time": "2023-01-27T12:43:51.924Z"
   },
   {
    "duration": 10,
    "start_time": "2023-01-27T13:16:29.904Z"
   },
   {
    "duration": 42,
    "start_time": "2023-01-27T13:17:23.137Z"
   },
   {
    "duration": 27,
    "start_time": "2023-01-27T13:33:20.274Z"
   },
   {
    "duration": 36,
    "start_time": "2023-01-27T13:33:34.576Z"
   },
   {
    "duration": 113,
    "start_time": "2023-01-27T13:36:33.219Z"
   },
   {
    "duration": 10,
    "start_time": "2023-01-27T13:36:51.091Z"
   },
   {
    "duration": 9,
    "start_time": "2023-01-27T13:38:19.483Z"
   },
   {
    "duration": 546,
    "start_time": "2023-01-27T13:38:26.492Z"
   },
   {
    "duration": 96,
    "start_time": "2023-01-27T13:38:27.040Z"
   },
   {
    "duration": 40,
    "start_time": "2023-01-27T13:38:27.140Z"
   },
   {
    "duration": 26,
    "start_time": "2023-01-27T13:38:27.187Z"
   },
   {
    "duration": 13,
    "start_time": "2023-01-27T13:38:27.216Z"
   },
   {
    "duration": 59,
    "start_time": "2023-01-27T13:38:27.231Z"
   },
   {
    "duration": 10,
    "start_time": "2023-01-27T13:38:27.292Z"
   },
   {
    "duration": 144,
    "start_time": "2023-01-27T13:38:27.304Z"
   },
   {
    "duration": 0,
    "start_time": "2023-01-27T13:38:27.451Z"
   },
   {
    "duration": 61,
    "start_time": "2023-01-27T13:39:07.968Z"
   },
   {
    "duration": 16,
    "start_time": "2023-01-27T13:39:45.379Z"
   },
   {
    "duration": 521,
    "start_time": "2023-01-27T13:40:00.465Z"
   },
   {
    "duration": 71,
    "start_time": "2023-01-27T13:40:00.992Z"
   },
   {
    "duration": 33,
    "start_time": "2023-01-27T13:40:01.065Z"
   },
   {
    "duration": 22,
    "start_time": "2023-01-27T13:40:01.100Z"
   },
   {
    "duration": 66,
    "start_time": "2023-01-27T13:40:01.124Z"
   },
   {
    "duration": 140,
    "start_time": "2023-01-27T13:40:01.192Z"
   },
   {
    "duration": 0,
    "start_time": "2023-01-27T13:40:01.334Z"
   },
   {
    "duration": 23,
    "start_time": "2023-01-27T13:43:16.762Z"
   },
   {
    "duration": 22,
    "start_time": "2023-01-27T13:43:23.772Z"
   },
   {
    "duration": 17,
    "start_time": "2023-01-27T13:44:46.064Z"
   },
   {
    "duration": 7,
    "start_time": "2023-01-27T13:44:52.607Z"
   },
   {
    "duration": 6,
    "start_time": "2023-01-27T13:45:34.305Z"
   },
   {
    "duration": 14,
    "start_time": "2023-01-27T13:45:52.650Z"
   },
   {
    "duration": 7,
    "start_time": "2023-01-27T13:45:55.401Z"
   },
   {
    "duration": 26,
    "start_time": "2023-01-27T13:46:36.769Z"
   },
   {
    "duration": 11,
    "start_time": "2023-01-27T13:47:13.579Z"
   },
   {
    "duration": 449,
    "start_time": "2023-01-27T13:47:18.183Z"
   },
   {
    "duration": 92,
    "start_time": "2023-01-27T13:47:18.637Z"
   },
   {
    "duration": 33,
    "start_time": "2023-01-27T13:47:18.731Z"
   },
   {
    "duration": 43,
    "start_time": "2023-01-27T13:47:18.770Z"
   },
   {
    "duration": 93,
    "start_time": "2023-01-27T13:47:18.815Z"
   },
   {
    "duration": 18,
    "start_time": "2023-01-27T13:47:18.910Z"
   },
   {
    "duration": 54,
    "start_time": "2023-01-27T13:47:18.931Z"
   },
   {
    "duration": 77,
    "start_time": "2023-01-27T13:47:18.987Z"
   },
   {
    "duration": 6,
    "start_time": "2023-01-27T13:48:13.596Z"
   },
   {
    "duration": 9,
    "start_time": "2023-01-27T13:50:01.521Z"
   },
   {
    "duration": 10,
    "start_time": "2023-01-27T13:50:12.464Z"
   },
   {
    "duration": 1215,
    "start_time": "2023-01-27T13:50:29.014Z"
   },
   {
    "duration": 850,
    "start_time": "2023-01-27T13:50:32.474Z"
   },
   {
    "duration": 652,
    "start_time": "2023-01-27T13:50:44.560Z"
   },
   {
    "duration": 1195,
    "start_time": "2023-01-27T13:51:17.806Z"
   },
   {
    "duration": 1148,
    "start_time": "2023-01-27T13:51:26.268Z"
   },
   {
    "duration": 529,
    "start_time": "2023-01-27T13:52:14.721Z"
   },
   {
    "duration": 453,
    "start_time": "2023-01-27T13:52:21.960Z"
   },
   {
    "duration": 538,
    "start_time": "2023-01-27T13:52:26.871Z"
   },
   {
    "duration": 540,
    "start_time": "2023-01-27T13:52:33.615Z"
   },
   {
    "duration": 675,
    "start_time": "2023-01-27T13:52:41.414Z"
   },
   {
    "duration": 722,
    "start_time": "2023-01-27T13:53:34.715Z"
   },
   {
    "duration": 464,
    "start_time": "2023-01-27T13:53:47.188Z"
   },
   {
    "duration": 688,
    "start_time": "2023-01-27T13:53:55.017Z"
   },
   {
    "duration": 1063,
    "start_time": "2023-01-27T13:54:08.494Z"
   },
   {
    "duration": 733,
    "start_time": "2023-01-27T13:54:32.604Z"
   },
   {
    "duration": 848,
    "start_time": "2023-01-27T13:54:43.109Z"
   },
   {
    "duration": 811,
    "start_time": "2023-01-27T13:54:55.460Z"
   },
   {
    "duration": 686,
    "start_time": "2023-01-27T13:54:59.984Z"
   },
   {
    "duration": 640,
    "start_time": "2023-01-27T13:55:16.565Z"
   },
   {
    "duration": 1277,
    "start_time": "2023-01-27T13:55:20.768Z"
   },
   {
    "duration": 1446,
    "start_time": "2023-01-27T13:55:28.259Z"
   },
   {
    "duration": 957,
    "start_time": "2023-01-27T13:55:40.269Z"
   },
   {
    "duration": 722,
    "start_time": "2023-01-27T13:55:44.256Z"
   },
   {
    "duration": 753,
    "start_time": "2023-01-27T13:55:46.868Z"
   },
   {
    "duration": 633,
    "start_time": "2023-01-27T13:56:24.223Z"
   },
   {
    "duration": 856,
    "start_time": "2023-01-27T13:56:37.404Z"
   },
   {
    "duration": 745,
    "start_time": "2023-01-27T13:56:43.067Z"
   },
   {
    "duration": 741,
    "start_time": "2023-01-27T13:56:47.959Z"
   },
   {
    "duration": 760,
    "start_time": "2023-01-27T13:56:52.913Z"
   },
   {
    "duration": 366,
    "start_time": "2023-01-27T13:57:29.657Z"
   },
   {
    "duration": 274,
    "start_time": "2023-01-27T13:57:34.415Z"
   },
   {
    "duration": 271,
    "start_time": "2023-01-27T13:57:42.402Z"
   },
   {
    "duration": 360,
    "start_time": "2023-01-27T13:57:59.854Z"
   },
   {
    "duration": 309,
    "start_time": "2023-01-27T13:58:05.020Z"
   },
   {
    "duration": 312,
    "start_time": "2023-01-27T13:58:25.985Z"
   },
   {
    "duration": 479,
    "start_time": "2023-01-27T13:58:48.270Z"
   },
   {
    "duration": 213,
    "start_time": "2023-01-27T13:58:56.463Z"
   },
   {
    "duration": 9,
    "start_time": "2023-01-27T13:59:09.073Z"
   },
   {
    "duration": 8,
    "start_time": "2023-01-27T13:59:10.575Z"
   },
   {
    "duration": 70,
    "start_time": "2023-01-27T13:59:10.884Z"
   },
   {
    "duration": 28,
    "start_time": "2023-01-27T13:59:11.059Z"
   },
   {
    "duration": 4,
    "start_time": "2023-01-27T13:59:11.194Z"
   },
   {
    "duration": 218,
    "start_time": "2023-01-27T13:59:11.366Z"
   },
   {
    "duration": 752,
    "start_time": "2023-01-27T13:59:11.592Z"
   },
   {
    "duration": 253,
    "start_time": "2023-01-27T13:59:12.349Z"
   },
   {
    "duration": 0,
    "start_time": "2023-01-27T13:59:12.620Z"
   },
   {
    "duration": 238,
    "start_time": "2023-01-27T13:59:17.860Z"
   },
   {
    "duration": 1821,
    "start_time": "2023-01-27T13:59:50.513Z"
   },
   {
    "duration": 1598,
    "start_time": "2023-01-27T13:59:56.296Z"
   },
   {
    "duration": 251,
    "start_time": "2023-01-27T14:00:09.318Z"
   },
   {
    "duration": 1921,
    "start_time": "2023-01-27T14:00:20.067Z"
   },
   {
    "duration": 134,
    "start_time": "2023-01-27T14:00:51.459Z"
   },
   {
    "duration": 1484,
    "start_time": "2023-01-27T14:00:56.395Z"
   },
   {
    "duration": 1677,
    "start_time": "2023-01-27T14:01:06.291Z"
   },
   {
    "duration": 1522,
    "start_time": "2023-01-27T14:01:14.772Z"
   },
   {
    "duration": 1454,
    "start_time": "2023-01-27T14:01:36.493Z"
   },
   {
    "duration": 1712,
    "start_time": "2023-01-27T14:01:48.059Z"
   },
   {
    "duration": 1497,
    "start_time": "2023-01-27T14:01:55.275Z"
   },
   {
    "duration": 1793,
    "start_time": "2023-01-27T14:02:17.157Z"
   },
   {
    "duration": 542,
    "start_time": "2023-01-27T14:02:24.316Z"
   },
   {
    "duration": 442,
    "start_time": "2023-01-27T14:02:50.367Z"
   },
   {
    "duration": 582,
    "start_time": "2023-01-27T14:03:06.992Z"
   },
   {
    "duration": 236,
    "start_time": "2023-01-27T14:03:30.519Z"
   },
   {
    "duration": 279,
    "start_time": "2023-01-27T14:03:37.297Z"
   },
   {
    "duration": 23,
    "start_time": "2023-01-27T14:04:37.779Z"
   },
   {
    "duration": 957,
    "start_time": "2023-01-27T14:04:46.898Z"
   },
   {
    "duration": 20,
    "start_time": "2023-01-27T14:04:48.422Z"
   },
   {
    "duration": 207,
    "start_time": "2023-01-27T14:04:48.768Z"
   },
   {
    "duration": 29,
    "start_time": "2023-01-27T14:04:48.981Z"
   },
   {
    "duration": 35,
    "start_time": "2023-01-27T14:04:49.087Z"
   },
   {
    "duration": 295,
    "start_time": "2023-01-27T14:04:49.259Z"
   },
   {
    "duration": 977,
    "start_time": "2023-01-27T14:04:49.557Z"
   },
   {
    "duration": 345,
    "start_time": "2023-01-27T14:04:50.537Z"
   },
   {
    "duration": 404,
    "start_time": "2023-01-27T14:05:04.072Z"
   },
   {
    "duration": 1519,
    "start_time": "2023-01-27T14:06:09.271Z"
   },
   {
    "duration": 1785,
    "start_time": "2023-01-27T14:06:16.497Z"
   },
   {
    "duration": 446,
    "start_time": "2023-01-27T14:06:29.697Z"
   },
   {
    "duration": 1601,
    "start_time": "2023-01-27T14:06:45.332Z"
   },
   {
    "duration": 82,
    "start_time": "2023-01-27T14:06:46.935Z"
   },
   {
    "duration": 31,
    "start_time": "2023-01-27T14:06:47.019Z"
   },
   {
    "duration": 4,
    "start_time": "2023-01-27T14:06:47.052Z"
   },
   {
    "duration": 268,
    "start_time": "2023-01-27T14:06:47.058Z"
   },
   {
    "duration": 778,
    "start_time": "2023-01-27T14:06:47.328Z"
   },
   {
    "duration": 392,
    "start_time": "2023-01-27T14:06:48.108Z"
   },
   {
    "duration": 0,
    "start_time": "2023-01-27T14:06:48.502Z"
   },
   {
    "duration": 272,
    "start_time": "2023-01-27T14:07:01.334Z"
   },
   {
    "duration": 295,
    "start_time": "2023-01-27T14:07:03.200Z"
   },
   {
    "duration": 401,
    "start_time": "2023-01-27T14:07:36.554Z"
   },
   {
    "duration": 547,
    "start_time": "2023-01-27T14:08:07.898Z"
   },
   {
    "duration": 439,
    "start_time": "2023-01-27T14:08:15.088Z"
   },
   {
    "duration": 13,
    "start_time": "2023-01-27T14:09:17.704Z"
   },
   {
    "duration": 285,
    "start_time": "2023-01-27T14:09:57.500Z"
   },
   {
    "duration": 273,
    "start_time": "2023-01-27T14:10:04.304Z"
   },
   {
    "duration": 7,
    "start_time": "2023-01-27T14:11:56.703Z"
   },
   {
    "duration": 6,
    "start_time": "2023-01-27T14:12:12.224Z"
   },
   {
    "duration": 6,
    "start_time": "2023-01-27T14:14:15.620Z"
   },
   {
    "duration": 52,
    "start_time": "2023-01-27T14:15:28.099Z"
   },
   {
    "duration": 416,
    "start_time": "2023-01-27T14:16:25.782Z"
   },
   {
    "duration": 14,
    "start_time": "2023-01-27T14:17:31.303Z"
   },
   {
    "duration": 18,
    "start_time": "2023-01-27T14:20:57.946Z"
   },
   {
    "duration": 12,
    "start_time": "2023-01-27T14:25:58.065Z"
   },
   {
    "duration": 46,
    "start_time": "2023-01-27T14:26:05.573Z"
   },
   {
    "duration": 375,
    "start_time": "2023-01-27T14:26:13.765Z"
   },
   {
    "duration": 753,
    "start_time": "2023-01-27T14:26:17.657Z"
   },
   {
    "duration": 676,
    "start_time": "2023-01-27T14:26:33.125Z"
   },
   {
    "duration": 1602,
    "start_time": "2023-01-27T14:26:43.905Z"
   },
   {
    "duration": 86,
    "start_time": "2023-01-27T14:26:45.510Z"
   },
   {
    "duration": 22,
    "start_time": "2023-01-27T14:26:45.598Z"
   },
   {
    "duration": 160,
    "start_time": "2023-01-27T14:26:45.622Z"
   },
   {
    "duration": 0,
    "start_time": "2023-01-27T14:26:45.785Z"
   },
   {
    "duration": 0,
    "start_time": "2023-01-27T14:26:45.787Z"
   },
   {
    "duration": 0,
    "start_time": "2023-01-27T14:26:45.788Z"
   },
   {
    "duration": 0,
    "start_time": "2023-01-27T14:26:45.790Z"
   },
   {
    "duration": 0,
    "start_time": "2023-01-27T14:26:45.791Z"
   },
   {
    "duration": 0,
    "start_time": "2023-01-27T14:26:45.792Z"
   },
   {
    "duration": 0,
    "start_time": "2023-01-27T14:26:45.792Z"
   },
   {
    "duration": 16,
    "start_time": "2023-01-27T14:27:11.065Z"
   },
   {
    "duration": 297,
    "start_time": "2023-01-27T14:27:14.878Z"
   },
   {
    "duration": 308,
    "start_time": "2023-01-27T14:27:18.604Z"
   },
   {
    "duration": 20,
    "start_time": "2023-01-27T14:27:19.826Z"
   },
   {
    "duration": 805,
    "start_time": "2023-01-27T14:27:45.939Z"
   },
   {
    "duration": 3306,
    "start_time": "2023-01-27T14:27:55.797Z"
   },
   {
    "duration": 495,
    "start_time": "2023-01-27T14:28:17.309Z"
   },
   {
    "duration": 490,
    "start_time": "2023-01-27T14:28:23.271Z"
   },
   {
    "duration": 640,
    "start_time": "2023-01-27T14:28:29.568Z"
   },
   {
    "duration": 21,
    "start_time": "2023-01-27T14:28:30.216Z"
   },
   {
    "duration": 5,
    "start_time": "2023-01-27T14:28:33.815Z"
   },
   {
    "duration": 7,
    "start_time": "2023-01-27T14:28:34.599Z"
   },
   {
    "duration": 14,
    "start_time": "2023-01-27T14:28:35.903Z"
   },
   {
    "duration": 38,
    "start_time": "2023-01-27T14:28:40.768Z"
   },
   {
    "duration": 227,
    "start_time": "2023-01-27T14:29:05.080Z"
   },
   {
    "duration": 47,
    "start_time": "2023-01-27T14:29:12.669Z"
   },
   {
    "duration": 28,
    "start_time": "2023-01-27T14:29:24.980Z"
   },
   {
    "duration": 512,
    "start_time": "2023-01-27T14:29:32.827Z"
   },
   {
    "duration": 24,
    "start_time": "2023-01-27T14:29:43.336Z"
   },
   {
    "duration": 1462,
    "start_time": "2023-01-27T14:30:08.833Z"
   },
   {
    "duration": 79,
    "start_time": "2023-01-27T14:30:10.298Z"
   },
   {
    "duration": 27,
    "start_time": "2023-01-27T14:30:10.379Z"
   },
   {
    "duration": 305,
    "start_time": "2023-01-27T14:30:10.408Z"
   },
   {
    "duration": 746,
    "start_time": "2023-01-27T14:30:10.717Z"
   },
   {
    "duration": 350,
    "start_time": "2023-01-27T14:30:11.467Z"
   },
   {
    "duration": 47,
    "start_time": "2023-01-27T14:30:11.820Z"
   },
   {
    "duration": 41,
    "start_time": "2023-01-27T14:30:11.869Z"
   },
   {
    "duration": 16,
    "start_time": "2023-01-27T14:30:11.912Z"
   },
   {
    "duration": 27,
    "start_time": "2023-01-27T14:30:11.930Z"
   },
   {
    "duration": 370,
    "start_time": "2023-01-27T14:30:11.960Z"
   },
   {
    "duration": 28,
    "start_time": "2023-01-27T14:30:12.333Z"
   },
   {
    "duration": 17,
    "start_time": "2023-01-27T14:30:24.437Z"
   },
   {
    "duration": 2528,
    "start_time": "2023-01-27T14:41:38.195Z"
   },
   {
    "duration": 1530,
    "start_time": "2023-01-27T14:41:52.532Z"
   },
   {
    "duration": 99,
    "start_time": "2023-01-27T14:41:54.079Z"
   },
   {
    "duration": 24,
    "start_time": "2023-01-27T14:41:54.189Z"
   },
   {
    "duration": 287,
    "start_time": "2023-01-27T14:41:54.216Z"
   },
   {
    "duration": 707,
    "start_time": "2023-01-27T14:41:54.505Z"
   },
   {
    "duration": 396,
    "start_time": "2023-01-27T14:41:55.214Z"
   },
   {
    "duration": 15,
    "start_time": "2023-01-27T14:41:55.613Z"
   },
   {
    "duration": 32,
    "start_time": "2023-01-27T14:41:55.646Z"
   },
   {
    "duration": 20,
    "start_time": "2023-01-27T14:41:55.680Z"
   },
   {
    "duration": 17,
    "start_time": "2023-01-27T14:41:55.703Z"
   },
   {
    "duration": 330,
    "start_time": "2023-01-27T14:41:55.722Z"
   },
   {
    "duration": 7,
    "start_time": "2023-01-27T14:41:56.058Z"
   },
   {
    "duration": 194,
    "start_time": "2023-01-27T14:42:38.223Z"
   },
   {
    "duration": 1363,
    "start_time": "2023-01-27T14:42:45.236Z"
   },
   {
    "duration": 91,
    "start_time": "2023-01-27T14:42:46.602Z"
   },
   {
    "duration": 20,
    "start_time": "2023-01-27T14:42:46.696Z"
   },
   {
    "duration": 279,
    "start_time": "2023-01-27T14:42:46.719Z"
   },
   {
    "duration": 652,
    "start_time": "2023-01-27T14:42:47.000Z"
   },
   {
    "duration": 498,
    "start_time": "2023-01-27T14:42:47.654Z"
   },
   {
    "duration": 31,
    "start_time": "2023-01-27T14:42:48.155Z"
   },
   {
    "duration": 1613,
    "start_time": "2023-01-27T14:43:22.330Z"
   },
   {
    "duration": 99,
    "start_time": "2023-01-27T14:43:23.950Z"
   },
   {
    "duration": 53,
    "start_time": "2023-01-27T14:43:24.052Z"
   },
   {
    "duration": 338,
    "start_time": "2023-01-27T14:43:24.111Z"
   },
   {
    "duration": 705,
    "start_time": "2023-01-27T14:43:24.456Z"
   },
   {
    "duration": 580,
    "start_time": "2023-01-27T14:43:25.171Z"
   },
   {
    "duration": 21,
    "start_time": "2023-01-27T14:43:25.753Z"
   },
   {
    "duration": 27,
    "start_time": "2023-01-27T14:43:25.777Z"
   },
   {
    "duration": 29,
    "start_time": "2023-01-27T14:43:25.806Z"
   },
   {
    "duration": 66,
    "start_time": "2023-01-27T14:43:25.840Z"
   },
   {
    "duration": 342,
    "start_time": "2023-01-27T14:43:25.908Z"
   },
   {
    "duration": 7,
    "start_time": "2023-01-27T14:43:26.256Z"
   },
   {
    "duration": 169,
    "start_time": "2023-01-27T14:43:51.637Z"
   },
   {
    "duration": 1446,
    "start_time": "2023-01-27T14:43:57.093Z"
   },
   {
    "duration": 83,
    "start_time": "2023-01-27T14:43:58.543Z"
   },
   {
    "duration": 21,
    "start_time": "2023-01-27T14:43:58.628Z"
   },
   {
    "duration": 302,
    "start_time": "2023-01-27T14:43:58.652Z"
   },
   {
    "duration": 668,
    "start_time": "2023-01-27T14:43:58.960Z"
   },
   {
    "duration": 518,
    "start_time": "2023-01-27T14:43:59.646Z"
   },
   {
    "duration": 0,
    "start_time": "2023-01-27T14:44:00.169Z"
   },
   {
    "duration": 0,
    "start_time": "2023-01-27T14:44:00.171Z"
   },
   {
    "duration": 0,
    "start_time": "2023-01-27T14:44:00.175Z"
   },
   {
    "duration": 0,
    "start_time": "2023-01-27T14:44:00.181Z"
   },
   {
    "duration": 0,
    "start_time": "2023-01-27T14:44:00.182Z"
   },
   {
    "duration": 0,
    "start_time": "2023-01-27T14:44:00.184Z"
   },
   {
    "duration": 588,
    "start_time": "2023-01-27T14:44:10.784Z"
   },
   {
    "duration": 1541,
    "start_time": "2023-01-27T14:44:16.415Z"
   },
   {
    "duration": 78,
    "start_time": "2023-01-27T14:44:17.958Z"
   },
   {
    "duration": 35,
    "start_time": "2023-01-27T14:44:18.044Z"
   },
   {
    "duration": 336,
    "start_time": "2023-01-27T14:44:18.080Z"
   },
   {
    "duration": 680,
    "start_time": "2023-01-27T14:44:18.419Z"
   },
   {
    "duration": 535,
    "start_time": "2023-01-27T14:44:19.100Z"
   },
   {
    "duration": 19,
    "start_time": "2023-01-27T14:44:19.637Z"
   },
   {
    "duration": 52,
    "start_time": "2023-01-27T14:44:19.658Z"
   },
   {
    "duration": 23,
    "start_time": "2023-01-27T14:44:19.712Z"
   },
   {
    "duration": 68,
    "start_time": "2023-01-27T14:44:19.740Z"
   },
   {
    "duration": 354,
    "start_time": "2023-01-27T14:44:19.809Z"
   },
   {
    "duration": 9,
    "start_time": "2023-01-27T14:44:20.168Z"
   },
   {
    "duration": 142,
    "start_time": "2023-01-27T14:44:50.884Z"
   },
   {
    "duration": 1307,
    "start_time": "2023-01-27T14:44:56.600Z"
   },
   {
    "duration": 69,
    "start_time": "2023-01-27T14:44:57.910Z"
   },
   {
    "duration": 27,
    "start_time": "2023-01-27T14:44:57.981Z"
   },
   {
    "duration": 322,
    "start_time": "2023-01-27T14:44:58.011Z"
   },
   {
    "duration": 667,
    "start_time": "2023-01-27T14:44:58.337Z"
   },
   {
    "duration": 564,
    "start_time": "2023-01-27T14:44:59.013Z"
   },
   {
    "duration": 25,
    "start_time": "2023-01-27T14:44:59.585Z"
   },
   {
    "duration": 19,
    "start_time": "2023-01-27T14:44:59.612Z"
   },
   {
    "duration": 63,
    "start_time": "2023-01-27T14:44:59.633Z"
   },
   {
    "duration": 21,
    "start_time": "2023-01-27T14:44:59.700Z"
   },
   {
    "duration": 343,
    "start_time": "2023-01-27T14:44:59.723Z"
   },
   {
    "duration": 8,
    "start_time": "2023-01-27T14:45:00.068Z"
   },
   {
    "duration": 1376,
    "start_time": "2023-01-27T14:45:28.450Z"
   },
   {
    "duration": 82,
    "start_time": "2023-01-27T14:45:29.828Z"
   },
   {
    "duration": 22,
    "start_time": "2023-01-27T14:45:29.912Z"
   },
   {
    "duration": 286,
    "start_time": "2023-01-27T14:45:29.936Z"
   },
   {
    "duration": 637,
    "start_time": "2023-01-27T14:45:30.224Z"
   },
   {
    "duration": 558,
    "start_time": "2023-01-27T14:45:30.868Z"
   },
   {
    "duration": 27,
    "start_time": "2023-01-27T14:45:31.430Z"
   },
   {
    "duration": 58,
    "start_time": "2023-01-27T14:45:31.459Z"
   },
   {
    "duration": 76,
    "start_time": "2023-01-27T14:45:31.521Z"
   },
   {
    "duration": 117,
    "start_time": "2023-01-27T14:45:31.602Z"
   },
   {
    "duration": 385,
    "start_time": "2023-01-27T14:45:31.721Z"
   },
   {
    "duration": 4,
    "start_time": "2023-01-27T14:45:32.108Z"
   },
   {
    "duration": 1486,
    "start_time": "2023-01-27T14:45:53.566Z"
   },
   {
    "duration": 77,
    "start_time": "2023-01-27T14:45:55.054Z"
   },
   {
    "duration": 44,
    "start_time": "2023-01-27T14:45:55.133Z"
   },
   {
    "duration": 286,
    "start_time": "2023-01-27T14:45:55.180Z"
   },
   {
    "duration": 698,
    "start_time": "2023-01-27T14:45:55.474Z"
   },
   {
    "duration": 532,
    "start_time": "2023-01-27T14:45:56.177Z"
   },
   {
    "duration": 15,
    "start_time": "2023-01-27T14:45:56.712Z"
   },
   {
    "duration": 11,
    "start_time": "2023-01-27T14:45:56.738Z"
   },
   {
    "duration": 52,
    "start_time": "2023-01-27T14:45:56.751Z"
   },
   {
    "duration": 26,
    "start_time": "2023-01-27T14:45:56.807Z"
   },
   {
    "duration": 376,
    "start_time": "2023-01-27T14:45:56.836Z"
   },
   {
    "duration": 6,
    "start_time": "2023-01-27T14:45:57.214Z"
   },
   {
    "duration": 190,
    "start_time": "2023-01-27T14:46:03.532Z"
   },
   {
    "duration": 1459,
    "start_time": "2023-01-27T14:46:10.005Z"
   },
   {
    "duration": 95,
    "start_time": "2023-01-27T14:46:11.467Z"
   },
   {
    "duration": 24,
    "start_time": "2023-01-27T14:46:11.564Z"
   },
   {
    "duration": 267,
    "start_time": "2023-01-27T14:46:11.590Z"
   },
   {
    "duration": 701,
    "start_time": "2023-01-27T14:46:11.860Z"
   },
   {
    "duration": 550,
    "start_time": "2023-01-27T14:46:12.563Z"
   },
   {
    "duration": 16,
    "start_time": "2023-01-27T14:46:13.117Z"
   },
   {
    "duration": 98,
    "start_time": "2023-01-27T14:46:13.135Z"
   },
   {
    "duration": 100,
    "start_time": "2023-01-27T14:46:13.235Z"
   },
   {
    "duration": 87,
    "start_time": "2023-01-27T14:46:13.337Z"
   },
   {
    "duration": 579,
    "start_time": "2023-01-27T14:46:13.428Z"
   },
   {
    "duration": 5,
    "start_time": "2023-01-27T14:46:14.010Z"
   },
   {
    "duration": 166,
    "start_time": "2023-01-27T14:46:36.054Z"
   },
   {
    "duration": 1452,
    "start_time": "2023-01-27T14:46:40.994Z"
   },
   {
    "duration": 84,
    "start_time": "2023-01-27T14:46:42.453Z"
   },
   {
    "duration": 36,
    "start_time": "2023-01-27T14:46:42.539Z"
   },
   {
    "duration": 373,
    "start_time": "2023-01-27T14:46:42.581Z"
   },
   {
    "duration": 667,
    "start_time": "2023-01-27T14:46:42.968Z"
   },
   {
    "duration": 506,
    "start_time": "2023-01-27T14:46:43.640Z"
   },
   {
    "duration": 20,
    "start_time": "2023-01-27T14:46:44.148Z"
   },
   {
    "duration": 39,
    "start_time": "2023-01-27T14:46:44.170Z"
   },
   {
    "duration": 16,
    "start_time": "2023-01-27T14:46:44.211Z"
   },
   {
    "duration": 26,
    "start_time": "2023-01-27T14:46:44.229Z"
   },
   {
    "duration": 340,
    "start_time": "2023-01-27T14:46:44.266Z"
   },
   {
    "duration": 5,
    "start_time": "2023-01-27T14:46:44.608Z"
   },
   {
    "duration": 176,
    "start_time": "2023-01-27T14:46:52.291Z"
   },
   {
    "duration": 1355,
    "start_time": "2023-01-27T14:46:58.193Z"
   },
   {
    "duration": 75,
    "start_time": "2023-01-27T14:46:59.550Z"
   },
   {
    "duration": 33,
    "start_time": "2023-01-27T14:46:59.626Z"
   },
   {
    "duration": 286,
    "start_time": "2023-01-27T14:46:59.667Z"
   },
   {
    "duration": 635,
    "start_time": "2023-01-27T14:46:59.960Z"
   },
   {
    "duration": 528,
    "start_time": "2023-01-27T14:47:00.597Z"
   },
   {
    "duration": 22,
    "start_time": "2023-01-27T14:47:01.127Z"
   },
   {
    "duration": 46,
    "start_time": "2023-01-27T14:47:01.159Z"
   },
   {
    "duration": 26,
    "start_time": "2023-01-27T14:47:01.207Z"
   },
   {
    "duration": 80,
    "start_time": "2023-01-27T14:47:01.235Z"
   },
   {
    "duration": 379,
    "start_time": "2023-01-27T14:47:01.317Z"
   },
   {
    "duration": 6,
    "start_time": "2023-01-27T14:47:01.698Z"
   },
   {
    "duration": 1475,
    "start_time": "2023-01-27T14:47:14.722Z"
   },
   {
    "duration": 82,
    "start_time": "2023-01-27T14:47:16.200Z"
   },
   {
    "duration": 20,
    "start_time": "2023-01-27T14:47:16.284Z"
   },
   {
    "duration": 283,
    "start_time": "2023-01-27T14:47:16.306Z"
   },
   {
    "duration": 713,
    "start_time": "2023-01-27T14:47:16.592Z"
   },
   {
    "duration": 714,
    "start_time": "2023-01-27T14:47:17.307Z"
   },
   {
    "duration": 33,
    "start_time": "2023-01-27T14:47:18.023Z"
   },
   {
    "duration": 15,
    "start_time": "2023-01-27T14:47:18.078Z"
   },
   {
    "duration": 44,
    "start_time": "2023-01-27T14:47:18.095Z"
   },
   {
    "duration": 62,
    "start_time": "2023-01-27T14:47:18.147Z"
   },
   {
    "duration": 384,
    "start_time": "2023-01-27T14:47:18.212Z"
   },
   {
    "duration": 5,
    "start_time": "2023-01-27T14:47:18.598Z"
   },
   {
    "duration": 2768,
    "start_time": "2023-01-27T14:48:26.524Z"
   },
   {
    "duration": 78,
    "start_time": "2023-01-27T14:48:29.294Z"
   },
   {
    "duration": 24,
    "start_time": "2023-01-27T14:48:29.376Z"
   },
   {
    "duration": 249,
    "start_time": "2023-01-27T14:48:29.402Z"
   },
   {
    "duration": 652,
    "start_time": "2023-01-27T14:48:29.653Z"
   },
   {
    "duration": 645,
    "start_time": "2023-01-27T14:48:30.307Z"
   },
   {
    "duration": 25,
    "start_time": "2023-01-27T14:48:30.958Z"
   },
   {
    "duration": 22,
    "start_time": "2023-01-27T14:48:30.987Z"
   },
   {
    "duration": 22,
    "start_time": "2023-01-27T14:48:31.011Z"
   },
   {
    "duration": 75,
    "start_time": "2023-01-27T14:48:31.035Z"
   },
   {
    "duration": 340,
    "start_time": "2023-01-27T14:48:31.112Z"
   },
   {
    "duration": 4,
    "start_time": "2023-01-27T14:48:31.454Z"
   },
   {
    "duration": 151,
    "start_time": "2023-01-27T14:48:45.367Z"
   },
   {
    "duration": 1511,
    "start_time": "2023-01-27T14:48:50.261Z"
   },
   {
    "duration": 69,
    "start_time": "2023-01-27T14:48:51.775Z"
   },
   {
    "duration": 38,
    "start_time": "2023-01-27T14:48:51.845Z"
   },
   {
    "duration": 316,
    "start_time": "2023-01-27T14:48:51.888Z"
   },
   {
    "duration": 811,
    "start_time": "2023-01-27T14:48:52.206Z"
   },
   {
    "duration": 688,
    "start_time": "2023-01-27T14:48:53.020Z"
   },
   {
    "duration": 11,
    "start_time": "2023-01-27T14:48:53.710Z"
   },
   {
    "duration": 5,
    "start_time": "2023-01-27T14:48:53.740Z"
   },
   {
    "duration": 58,
    "start_time": "2023-01-27T14:48:53.746Z"
   },
   {
    "duration": 20,
    "start_time": "2023-01-27T14:48:53.807Z"
   },
   {
    "duration": 353,
    "start_time": "2023-01-27T14:48:53.829Z"
   },
   {
    "duration": 5,
    "start_time": "2023-01-27T14:48:54.186Z"
   },
   {
    "duration": 1413,
    "start_time": "2023-01-27T14:49:19.467Z"
   },
   {
    "duration": 63,
    "start_time": "2023-01-27T14:49:20.884Z"
   },
   {
    "duration": 27,
    "start_time": "2023-01-27T14:49:20.950Z"
   },
   {
    "duration": 272,
    "start_time": "2023-01-27T14:49:20.979Z"
   },
   {
    "duration": 747,
    "start_time": "2023-01-27T14:49:21.254Z"
   },
   {
    "duration": 704,
    "start_time": "2023-01-27T14:49:22.003Z"
   },
   {
    "duration": 12,
    "start_time": "2023-01-27T14:49:22.710Z"
   },
   {
    "duration": 66,
    "start_time": "2023-01-27T14:49:22.725Z"
   },
   {
    "duration": 21,
    "start_time": "2023-01-27T14:49:22.793Z"
   },
   {
    "duration": 80,
    "start_time": "2023-01-27T14:49:22.816Z"
   },
   {
    "duration": 406,
    "start_time": "2023-01-27T14:49:22.899Z"
   },
   {
    "duration": 5,
    "start_time": "2023-01-27T14:49:23.308Z"
   },
   {
    "duration": 1776,
    "start_time": "2023-01-27T14:49:52.166Z"
   },
   {
    "duration": 78,
    "start_time": "2023-01-27T14:49:53.952Z"
   },
   {
    "duration": 27,
    "start_time": "2023-01-27T14:49:54.032Z"
   },
   {
    "duration": 339,
    "start_time": "2023-01-27T14:49:54.061Z"
   },
   {
    "duration": 717,
    "start_time": "2023-01-27T14:49:54.402Z"
   },
   {
    "duration": 610,
    "start_time": "2023-01-27T14:49:55.121Z"
   },
   {
    "duration": 25,
    "start_time": "2023-01-27T14:49:55.733Z"
   },
   {
    "duration": 30,
    "start_time": "2023-01-27T14:49:55.760Z"
   },
   {
    "duration": 29,
    "start_time": "2023-01-27T14:49:55.792Z"
   },
   {
    "duration": 20,
    "start_time": "2023-01-27T14:49:55.823Z"
   },
   {
    "duration": 401,
    "start_time": "2023-01-27T14:49:55.844Z"
   },
   {
    "duration": 5,
    "start_time": "2023-01-27T14:49:56.248Z"
   },
   {
    "duration": 1407,
    "start_time": "2023-01-27T14:50:13.802Z"
   },
   {
    "duration": 75,
    "start_time": "2023-01-27T14:50:15.212Z"
   },
   {
    "duration": 18,
    "start_time": "2023-01-27T14:50:15.290Z"
   },
   {
    "duration": 275,
    "start_time": "2023-01-27T14:50:15.311Z"
   },
   {
    "duration": 658,
    "start_time": "2023-01-27T14:50:15.589Z"
   },
   {
    "duration": 2254,
    "start_time": "2023-01-27T14:50:16.267Z"
   },
   {
    "duration": 54,
    "start_time": "2023-01-27T14:50:18.524Z"
   },
   {
    "duration": 14,
    "start_time": "2023-01-27T14:50:18.585Z"
   },
   {
    "duration": 26,
    "start_time": "2023-01-27T14:50:18.602Z"
   },
   {
    "duration": 66,
    "start_time": "2023-01-27T14:50:18.631Z"
   },
   {
    "duration": 306,
    "start_time": "2023-01-27T14:50:18.699Z"
   },
   {
    "duration": 4,
    "start_time": "2023-01-27T14:50:19.007Z"
   },
   {
    "duration": 1557,
    "start_time": "2023-01-27T14:50:38.674Z"
   },
   {
    "duration": 87,
    "start_time": "2023-01-27T14:50:40.233Z"
   },
   {
    "duration": 49,
    "start_time": "2023-01-27T14:50:40.321Z"
   },
   {
    "duration": 329,
    "start_time": "2023-01-27T14:50:40.373Z"
   },
   {
    "duration": 817,
    "start_time": "2023-01-27T14:50:40.705Z"
   },
   {
    "duration": 783,
    "start_time": "2023-01-27T14:50:41.524Z"
   },
   {
    "duration": 11,
    "start_time": "2023-01-27T14:50:42.310Z"
   },
   {
    "duration": 20,
    "start_time": "2023-01-27T14:50:42.323Z"
   },
   {
    "duration": 72,
    "start_time": "2023-01-27T14:50:42.346Z"
   },
   {
    "duration": 87,
    "start_time": "2023-01-27T14:50:42.422Z"
   },
   {
    "duration": 484,
    "start_time": "2023-01-27T14:50:42.511Z"
   },
   {
    "duration": 7,
    "start_time": "2023-01-27T14:50:42.997Z"
   },
   {
    "duration": 1547,
    "start_time": "2023-01-27T14:50:53.129Z"
   },
   {
    "duration": 67,
    "start_time": "2023-01-27T14:50:54.682Z"
   },
   {
    "duration": 36,
    "start_time": "2023-01-27T14:50:54.752Z"
   },
   {
    "duration": 293,
    "start_time": "2023-01-27T14:50:54.791Z"
   },
   {
    "duration": 709,
    "start_time": "2023-01-27T14:50:55.086Z"
   },
   {
    "duration": 535,
    "start_time": "2023-01-27T14:50:55.798Z"
   },
   {
    "duration": 47,
    "start_time": "2023-01-27T14:50:56.335Z"
   },
   {
    "duration": 17,
    "start_time": "2023-01-27T14:50:56.387Z"
   },
   {
    "duration": 20,
    "start_time": "2023-01-27T14:50:56.406Z"
   },
   {
    "duration": 51,
    "start_time": "2023-01-27T14:50:56.430Z"
   },
   {
    "duration": 342,
    "start_time": "2023-01-27T14:50:56.483Z"
   },
   {
    "duration": 5,
    "start_time": "2023-01-27T14:50:56.827Z"
   },
   {
    "duration": 140,
    "start_time": "2023-01-27T14:51:03.874Z"
   },
   {
    "duration": 1449,
    "start_time": "2023-01-27T14:51:08.421Z"
   },
   {
    "duration": 68,
    "start_time": "2023-01-27T14:51:09.872Z"
   },
   {
    "duration": 35,
    "start_time": "2023-01-27T14:51:09.942Z"
   },
   {
    "duration": 279,
    "start_time": "2023-01-27T14:51:09.980Z"
   },
   {
    "duration": 668,
    "start_time": "2023-01-27T14:51:10.261Z"
   },
   {
    "duration": 553,
    "start_time": "2023-01-27T14:51:10.937Z"
   },
   {
    "duration": 12,
    "start_time": "2023-01-27T14:51:11.492Z"
   },
   {
    "duration": 9,
    "start_time": "2023-01-27T14:51:11.506Z"
   },
   {
    "duration": 26,
    "start_time": "2023-01-27T14:51:11.518Z"
   },
   {
    "duration": 42,
    "start_time": "2023-01-27T14:51:11.553Z"
   },
   {
    "duration": 327,
    "start_time": "2023-01-27T14:51:11.598Z"
   },
   {
    "duration": 4,
    "start_time": "2023-01-27T14:51:11.927Z"
   },
   {
    "duration": 1431,
    "start_time": "2023-01-27T14:51:41.079Z"
   },
   {
    "duration": 93,
    "start_time": "2023-01-27T14:51:42.513Z"
   },
   {
    "duration": 25,
    "start_time": "2023-01-27T14:51:42.609Z"
   },
   {
    "duration": 317,
    "start_time": "2023-01-27T14:51:42.637Z"
   },
   {
    "duration": 711,
    "start_time": "2023-01-27T14:51:42.957Z"
   },
   {
    "duration": 536,
    "start_time": "2023-01-27T14:51:43.674Z"
   },
   {
    "duration": 11,
    "start_time": "2023-01-27T14:51:44.211Z"
   },
   {
    "duration": 4,
    "start_time": "2023-01-27T14:51:44.238Z"
   },
   {
    "duration": 45,
    "start_time": "2023-01-27T14:51:44.244Z"
   },
   {
    "duration": 12,
    "start_time": "2023-01-27T14:51:44.292Z"
   },
   {
    "duration": 318,
    "start_time": "2023-01-27T14:51:44.306Z"
   },
   {
    "duration": 5,
    "start_time": "2023-01-27T14:51:44.626Z"
   },
   {
    "duration": 1619,
    "start_time": "2023-01-27T14:52:02.268Z"
   },
   {
    "duration": 86,
    "start_time": "2023-01-27T14:52:03.891Z"
   },
   {
    "duration": 25,
    "start_time": "2023-01-27T14:52:03.980Z"
   },
   {
    "duration": 292,
    "start_time": "2023-01-27T14:52:04.007Z"
   },
   {
    "duration": 704,
    "start_time": "2023-01-27T14:52:04.302Z"
   },
   {
    "duration": 529,
    "start_time": "2023-01-27T14:52:05.008Z"
   },
   {
    "duration": 43,
    "start_time": "2023-01-27T14:52:05.540Z"
   },
   {
    "duration": 24,
    "start_time": "2023-01-27T14:52:05.589Z"
   },
   {
    "duration": 34,
    "start_time": "2023-01-27T14:52:05.616Z"
   },
   {
    "duration": 27,
    "start_time": "2023-01-27T14:52:05.652Z"
   },
   {
    "duration": 378,
    "start_time": "2023-01-27T14:52:05.685Z"
   },
   {
    "duration": 7,
    "start_time": "2023-01-27T14:52:06.068Z"
   },
   {
    "duration": 212,
    "start_time": "2023-01-27T15:14:04.268Z"
   },
   {
    "duration": 231,
    "start_time": "2023-01-27T15:14:09.225Z"
   },
   {
    "duration": 137,
    "start_time": "2023-01-27T15:15:13.995Z"
   },
   {
    "duration": 391,
    "start_time": "2023-01-27T15:15:23.080Z"
   },
   {
    "duration": 21,
    "start_time": "2023-01-27T15:15:35.998Z"
   },
   {
    "duration": 103,
    "start_time": "2023-01-27T15:16:49.887Z"
   },
   {
    "duration": 318,
    "start_time": "2023-01-27T15:17:12.364Z"
   },
   {
    "duration": 5074,
    "start_time": "2023-01-27T15:20:06.965Z"
   },
   {
    "duration": 258,
    "start_time": "2023-01-27T15:20:12.041Z"
   },
   {
    "duration": 35,
    "start_time": "2023-01-27T15:20:12.301Z"
   },
   {
    "duration": 386,
    "start_time": "2023-01-27T15:20:12.340Z"
   },
   {
    "duration": 616,
    "start_time": "2023-01-27T15:20:12.730Z"
   },
   {
    "duration": 519,
    "start_time": "2023-01-27T15:20:13.347Z"
   },
   {
    "duration": 12,
    "start_time": "2023-01-27T15:20:13.871Z"
   },
   {
    "duration": 13,
    "start_time": "2023-01-27T15:20:13.885Z"
   },
   {
    "duration": 11,
    "start_time": "2023-01-27T15:20:13.900Z"
   },
   {
    "duration": 17,
    "start_time": "2023-01-27T15:20:13.913Z"
   },
   {
    "duration": 274,
    "start_time": "2023-01-27T15:20:13.946Z"
   },
   {
    "duration": 5,
    "start_time": "2023-01-27T15:20:14.222Z"
   },
   {
    "duration": 230,
    "start_time": "2023-01-27T15:20:14.241Z"
   },
   {
    "duration": 1263,
    "start_time": "2023-01-27T15:23:44.316Z"
   },
   {
    "duration": 77,
    "start_time": "2023-01-27T15:23:45.581Z"
   },
   {
    "duration": 27,
    "start_time": "2023-01-27T15:23:45.666Z"
   },
   {
    "duration": 222,
    "start_time": "2023-01-27T15:23:45.696Z"
   },
   {
    "duration": 585,
    "start_time": "2023-01-27T15:23:45.920Z"
   },
   {
    "duration": 500,
    "start_time": "2023-01-27T15:23:46.506Z"
   },
   {
    "duration": 12,
    "start_time": "2023-01-27T15:23:47.008Z"
   },
   {
    "duration": 45,
    "start_time": "2023-01-27T15:23:47.022Z"
   },
   {
    "duration": 12,
    "start_time": "2023-01-27T15:23:47.070Z"
   },
   {
    "duration": 13,
    "start_time": "2023-01-27T15:23:47.085Z"
   },
   {
    "duration": 275,
    "start_time": "2023-01-27T15:23:47.100Z"
   },
   {
    "duration": 5,
    "start_time": "2023-01-27T15:23:47.377Z"
   },
   {
    "duration": 228,
    "start_time": "2023-01-27T15:23:47.384Z"
   },
   {
    "duration": 1328,
    "start_time": "2023-01-27T15:24:43.405Z"
   },
   {
    "duration": 67,
    "start_time": "2023-01-27T15:24:44.737Z"
   },
   {
    "duration": 17,
    "start_time": "2023-01-27T15:24:44.807Z"
   },
   {
    "duration": 213,
    "start_time": "2023-01-27T15:24:44.826Z"
   },
   {
    "duration": 615,
    "start_time": "2023-01-27T15:24:45.041Z"
   },
   {
    "duration": 473,
    "start_time": "2023-01-27T15:24:45.657Z"
   },
   {
    "duration": 27,
    "start_time": "2023-01-27T15:24:46.132Z"
   },
   {
    "duration": 24,
    "start_time": "2023-01-27T15:24:46.161Z"
   },
   {
    "duration": 10,
    "start_time": "2023-01-27T15:24:46.187Z"
   },
   {
    "duration": 18,
    "start_time": "2023-01-27T15:24:46.199Z"
   },
   {
    "duration": 291,
    "start_time": "2023-01-27T15:24:46.219Z"
   },
   {
    "duration": 4,
    "start_time": "2023-01-27T15:24:46.512Z"
   },
   {
    "duration": 208,
    "start_time": "2023-01-27T15:24:46.517Z"
   },
   {
    "duration": 210,
    "start_time": "2023-01-27T15:24:46.741Z"
   },
   {
    "duration": 172,
    "start_time": "2023-01-27T15:35:30.410Z"
   },
   {
    "duration": 9,
    "start_time": "2023-01-27T15:35:38.963Z"
   },
   {
    "duration": 19,
    "start_time": "2023-01-27T15:35:43.940Z"
   },
   {
    "duration": 15,
    "start_time": "2023-01-27T15:37:03.985Z"
   },
   {
    "duration": 27,
    "start_time": "2023-01-27T15:37:18.828Z"
   },
   {
    "duration": 1605,
    "start_time": "2023-01-27T15:37:38.564Z"
   },
   {
    "duration": 1733,
    "start_time": "2023-01-27T15:38:19.283Z"
   },
   {
    "duration": 118,
    "start_time": "2023-01-27T15:38:43.091Z"
   },
   {
    "duration": 16,
    "start_time": "2023-01-27T15:38:51.089Z"
   },
   {
    "duration": 28,
    "start_time": "2023-01-27T15:38:57.357Z"
   },
   {
    "duration": 1759,
    "start_time": "2023-01-27T15:39:25.311Z"
   },
   {
    "duration": 1862,
    "start_time": "2023-01-27T15:40:58.142Z"
   },
   {
    "duration": 9282,
    "start_time": "2023-01-27T15:41:09.531Z"
   },
   {
    "duration": 9684,
    "start_time": "2023-01-27T15:42:02.671Z"
   },
   {
    "duration": 9029,
    "start_time": "2023-01-27T15:42:17.283Z"
   },
   {
    "duration": 5960,
    "start_time": "2023-01-27T15:43:27.040Z"
   },
   {
    "duration": 47,
    "start_time": "2023-01-27T15:43:42.676Z"
   },
   {
    "duration": 20,
    "start_time": "2023-01-27T15:44:13.812Z"
   },
   {
    "duration": 115,
    "start_time": "2023-01-27T15:44:22.310Z"
   },
   {
    "duration": 58,
    "start_time": "2023-01-27T15:44:27.603Z"
   },
   {
    "duration": 28,
    "start_time": "2023-01-27T15:45:13.005Z"
   },
   {
    "duration": 1313,
    "start_time": "2023-01-27T15:45:23.797Z"
   },
   {
    "duration": 91,
    "start_time": "2023-01-27T15:45:25.112Z"
   },
   {
    "duration": 27,
    "start_time": "2023-01-27T15:45:25.205Z"
   },
   {
    "duration": 259,
    "start_time": "2023-01-27T15:45:25.234Z"
   },
   {
    "duration": 629,
    "start_time": "2023-01-27T15:45:25.495Z"
   },
   {
    "duration": 529,
    "start_time": "2023-01-27T15:45:26.126Z"
   },
   {
    "duration": 27,
    "start_time": "2023-01-27T15:45:26.662Z"
   },
   {
    "duration": 3,
    "start_time": "2023-01-27T15:45:26.691Z"
   },
   {
    "duration": 13,
    "start_time": "2023-01-27T15:45:26.696Z"
   },
   {
    "duration": 23,
    "start_time": "2023-01-27T15:45:26.710Z"
   },
   {
    "duration": 326,
    "start_time": "2023-01-27T15:45:26.735Z"
   },
   {
    "duration": 6,
    "start_time": "2023-01-27T15:45:27.063Z"
   },
   {
    "duration": 224,
    "start_time": "2023-01-27T15:45:27.072Z"
   },
   {
    "duration": 159,
    "start_time": "2023-01-27T15:45:27.299Z"
   },
   {
    "duration": 41,
    "start_time": "2023-01-27T15:46:23.264Z"
   },
   {
    "duration": 110,
    "start_time": "2023-01-27T15:46:45.708Z"
   },
   {
    "duration": 108,
    "start_time": "2023-01-27T15:46:57.821Z"
   },
   {
    "duration": 30,
    "start_time": "2023-01-27T15:47:13.767Z"
   },
   {
    "duration": 30,
    "start_time": "2023-01-27T15:49:13.161Z"
   },
   {
    "duration": 18,
    "start_time": "2023-01-27T15:50:07.275Z"
   },
   {
    "duration": 22,
    "start_time": "2023-01-27T15:50:17.979Z"
   },
   {
    "duration": 28,
    "start_time": "2023-01-27T15:50:48.166Z"
   },
   {
    "duration": 26,
    "start_time": "2023-01-27T15:51:12.057Z"
   },
   {
    "duration": 69,
    "start_time": "2023-01-27T15:51:24.404Z"
   },
   {
    "duration": 96,
    "start_time": "2023-01-27T15:52:16.868Z"
   },
   {
    "duration": 8910,
    "start_time": "2023-01-27T15:55:00.207Z"
   },
   {
    "duration": 8786,
    "start_time": "2023-01-27T15:55:17.670Z"
   },
   {
    "duration": 64,
    "start_time": "2023-01-27T15:56:27.637Z"
   },
   {
    "duration": 220,
    "start_time": "2023-01-27T15:56:41.830Z"
   },
   {
    "duration": 216,
    "start_time": "2023-01-27T15:56:45.908Z"
   },
   {
    "duration": 594,
    "start_time": "2023-01-27T15:56:52.006Z"
   },
   {
    "duration": 342,
    "start_time": "2023-01-27T15:57:18.091Z"
   },
   {
    "duration": 306,
    "start_time": "2023-01-27T15:57:28.230Z"
   },
   {
    "duration": 2148,
    "start_time": "2023-01-27T15:58:06.800Z"
   },
   {
    "duration": 28,
    "start_time": "2023-01-27T15:59:03.764Z"
   },
   {
    "duration": 419,
    "start_time": "2023-01-27T16:01:35.091Z"
   },
   {
    "duration": 193,
    "start_time": "2023-01-27T16:01:56.569Z"
   },
   {
    "duration": 279,
    "start_time": "2023-01-27T16:03:32.535Z"
   },
   {
    "duration": 434,
    "start_time": "2023-01-27T16:03:46.267Z"
   },
   {
    "duration": 457,
    "start_time": "2023-01-27T16:04:37.465Z"
   },
   {
    "duration": 481,
    "start_time": "2023-01-27T16:04:47.508Z"
   },
   {
    "duration": 256,
    "start_time": "2023-01-27T16:04:59.259Z"
   },
   {
    "duration": 5971,
    "start_time": "2023-01-27T16:05:17.663Z"
   },
   {
    "duration": 26,
    "start_time": "2023-01-27T16:11:25.273Z"
   },
   {
    "duration": 37,
    "start_time": "2023-01-27T16:11:58.770Z"
   },
   {
    "duration": 143,
    "start_time": "2023-01-27T16:12:05.310Z"
   },
   {
    "duration": 297,
    "start_time": "2023-01-27T16:12:09.783Z"
   },
   {
    "duration": 514,
    "start_time": "2023-01-27T16:12:22.473Z"
   },
   {
    "duration": 204,
    "start_time": "2023-01-27T16:12:42.217Z"
   },
   {
    "duration": 254,
    "start_time": "2023-01-27T16:12:49.836Z"
   },
   {
    "duration": 316,
    "start_time": "2023-01-27T16:12:53.902Z"
   },
   {
    "duration": 1381,
    "start_time": "2023-01-27T16:13:08.139Z"
   },
   {
    "duration": 78,
    "start_time": "2023-01-27T16:13:09.523Z"
   },
   {
    "duration": 26,
    "start_time": "2023-01-27T16:13:09.603Z"
   },
   {
    "duration": 242,
    "start_time": "2023-01-27T16:13:09.632Z"
   },
   {
    "duration": 628,
    "start_time": "2023-01-27T16:13:09.876Z"
   },
   {
    "duration": 570,
    "start_time": "2023-01-27T16:13:10.506Z"
   },
   {
    "duration": 16,
    "start_time": "2023-01-27T16:13:11.082Z"
   },
   {
    "duration": 11,
    "start_time": "2023-01-27T16:13:11.100Z"
   },
   {
    "duration": 16,
    "start_time": "2023-01-27T16:13:11.113Z"
   },
   {
    "duration": 73,
    "start_time": "2023-01-27T16:13:11.131Z"
   },
   {
    "duration": 316,
    "start_time": "2023-01-27T16:13:11.206Z"
   },
   {
    "duration": 4,
    "start_time": "2023-01-27T16:13:11.524Z"
   },
   {
    "duration": 248,
    "start_time": "2023-01-27T16:13:11.543Z"
   },
   {
    "duration": 283,
    "start_time": "2023-01-27T16:13:11.793Z"
   },
   {
    "duration": 188,
    "start_time": "2023-01-27T16:13:22.572Z"
   },
   {
    "duration": 6748,
    "start_time": "2023-01-27T16:13:34.530Z"
   },
   {
    "duration": 191,
    "start_time": "2023-01-27T16:14:07.660Z"
   },
   {
    "duration": 167,
    "start_time": "2023-01-27T16:15:30.441Z"
   },
   {
    "duration": 587,
    "start_time": "2023-01-27T16:15:48.483Z"
   },
   {
    "duration": 52,
    "start_time": "2023-01-27T20:20:17.237Z"
   },
   {
    "duration": 1288,
    "start_time": "2023-01-27T20:20:23.704Z"
   },
   {
    "duration": 441,
    "start_time": "2023-01-27T20:20:24.994Z"
   },
   {
    "duration": 18,
    "start_time": "2023-01-27T20:20:25.437Z"
   },
   {
    "duration": 189,
    "start_time": "2023-01-27T20:20:25.457Z"
   },
   {
    "duration": 525,
    "start_time": "2023-01-27T20:20:26.241Z"
   },
   {
    "duration": 394,
    "start_time": "2023-01-27T20:20:26.768Z"
   },
   {
    "duration": 11,
    "start_time": "2023-01-27T20:20:29.724Z"
   },
   {
    "duration": 1149,
    "start_time": "2023-01-27T20:21:34.192Z"
   },
   {
    "duration": 1083,
    "start_time": "2023-01-27T20:21:52.964Z"
   },
   {
    "duration": 1221,
    "start_time": "2023-01-27T20:21:58.268Z"
   },
   {
    "duration": 52,
    "start_time": "2023-01-27T20:21:59.493Z"
   },
   {
    "duration": 17,
    "start_time": "2023-01-27T20:21:59.547Z"
   },
   {
    "duration": 214,
    "start_time": "2023-01-27T20:21:59.566Z"
   },
   {
    "duration": 539,
    "start_time": "2023-01-27T20:21:59.783Z"
   },
   {
    "duration": 448,
    "start_time": "2023-01-27T20:22:00.324Z"
   },
   {
    "duration": 9,
    "start_time": "2023-01-27T20:22:00.774Z"
   },
   {
    "duration": 45,
    "start_time": "2023-01-27T20:22:00.792Z"
   },
   {
    "duration": 48,
    "start_time": "2023-01-27T20:22:00.839Z"
   },
   {
    "duration": 25,
    "start_time": "2023-01-27T20:22:00.889Z"
   },
   {
    "duration": 260,
    "start_time": "2023-01-27T20:22:00.916Z"
   },
   {
    "duration": 4,
    "start_time": "2023-01-27T20:22:01.178Z"
   },
   {
    "duration": 205,
    "start_time": "2023-01-27T20:22:01.191Z"
   },
   {
    "duration": 441,
    "start_time": "2023-01-27T20:22:01.399Z"
   },
   {
    "duration": 1161,
    "start_time": "2023-01-27T20:22:41.759Z"
   },
   {
    "duration": 61,
    "start_time": "2023-01-27T20:22:42.922Z"
   },
   {
    "duration": 19,
    "start_time": "2023-01-27T20:22:42.985Z"
   },
   {
    "duration": 235,
    "start_time": "2023-01-27T20:22:43.006Z"
   },
   {
    "duration": 555,
    "start_time": "2023-01-27T20:22:43.244Z"
   },
   {
    "duration": 409,
    "start_time": "2023-01-27T20:22:43.801Z"
   },
   {
    "duration": 11,
    "start_time": "2023-01-27T20:22:44.212Z"
   },
   {
    "duration": 8,
    "start_time": "2023-01-27T20:22:44.225Z"
   },
   {
    "duration": 8,
    "start_time": "2023-01-27T20:22:44.234Z"
   },
   {
    "duration": 11,
    "start_time": "2023-01-27T20:22:44.244Z"
   },
   {
    "duration": 262,
    "start_time": "2023-01-27T20:22:44.256Z"
   },
   {
    "duration": 4,
    "start_time": "2023-01-27T20:22:44.520Z"
   },
   {
    "duration": 179,
    "start_time": "2023-01-27T20:22:44.526Z"
   },
   {
    "duration": 216,
    "start_time": "2023-01-27T20:22:44.707Z"
   },
   {
    "duration": 1202,
    "start_time": "2023-01-27T20:22:55.933Z"
   },
   {
    "duration": 51,
    "start_time": "2023-01-27T20:22:57.137Z"
   },
   {
    "duration": 18,
    "start_time": "2023-01-27T20:22:57.189Z"
   },
   {
    "duration": 197,
    "start_time": "2023-01-27T20:22:57.209Z"
   },
   {
    "duration": 492,
    "start_time": "2023-01-27T20:22:57.408Z"
   },
   {
    "duration": 409,
    "start_time": "2023-01-27T20:22:57.902Z"
   },
   {
    "duration": 9,
    "start_time": "2023-01-27T20:22:58.313Z"
   },
   {
    "duration": 6,
    "start_time": "2023-01-27T20:22:58.323Z"
   },
   {
    "duration": 7,
    "start_time": "2023-01-27T20:22:58.331Z"
   },
   {
    "duration": 17,
    "start_time": "2023-01-27T20:22:58.339Z"
   },
   {
    "duration": 267,
    "start_time": "2023-01-27T20:22:58.358Z"
   },
   {
    "duration": 4,
    "start_time": "2023-01-27T20:22:58.627Z"
   },
   {
    "duration": 183,
    "start_time": "2023-01-27T20:22:58.633Z"
   },
   {
    "duration": 377,
    "start_time": "2023-01-27T20:22:58.818Z"
   },
   {
    "duration": 208,
    "start_time": "2023-01-27T20:23:59.513Z"
   },
   {
    "duration": 1094,
    "start_time": "2023-01-27T20:24:07.244Z"
   },
   {
    "duration": 52,
    "start_time": "2023-01-27T20:24:08.341Z"
   },
   {
    "duration": 18,
    "start_time": "2023-01-27T20:24:08.394Z"
   },
   {
    "duration": 200,
    "start_time": "2023-01-27T20:24:08.413Z"
   },
   {
    "duration": 510,
    "start_time": "2023-01-27T20:24:08.616Z"
   },
   {
    "duration": 406,
    "start_time": "2023-01-27T20:24:09.128Z"
   },
   {
    "duration": 12,
    "start_time": "2023-01-27T20:24:09.535Z"
   },
   {
    "duration": 3,
    "start_time": "2023-01-27T20:24:09.549Z"
   },
   {
    "duration": 20,
    "start_time": "2023-01-27T20:24:09.554Z"
   },
   {
    "duration": 25,
    "start_time": "2023-01-27T20:24:09.576Z"
   },
   {
    "duration": 247,
    "start_time": "2023-01-27T20:24:09.602Z"
   },
   {
    "duration": 4,
    "start_time": "2023-01-27T20:24:09.851Z"
   },
   {
    "duration": 188,
    "start_time": "2023-01-27T20:24:09.857Z"
   },
   {
    "duration": 219,
    "start_time": "2023-01-27T20:24:10.047Z"
   },
   {
    "duration": 4623,
    "start_time": "2023-01-27T20:24:18.466Z"
   },
   {
    "duration": 106,
    "start_time": "2023-01-27T20:27:38.198Z"
   },
   {
    "duration": 1164,
    "start_time": "2023-01-27T20:27:47.561Z"
   },
   {
    "duration": 52,
    "start_time": "2023-01-27T20:27:48.727Z"
   },
   {
    "duration": 37,
    "start_time": "2023-01-27T20:27:48.781Z"
   },
   {
    "duration": 176,
    "start_time": "2023-01-27T20:27:48.820Z"
   },
   {
    "duration": 477,
    "start_time": "2023-01-27T20:27:48.998Z"
   },
   {
    "duration": 394,
    "start_time": "2023-01-27T20:27:49.477Z"
   },
   {
    "duration": 10,
    "start_time": "2023-01-27T20:27:49.872Z"
   },
   {
    "duration": 9,
    "start_time": "2023-01-27T20:27:49.892Z"
   },
   {
    "duration": 9,
    "start_time": "2023-01-27T20:27:49.902Z"
   },
   {
    "duration": 10,
    "start_time": "2023-01-27T20:27:49.913Z"
   },
   {
    "duration": 251,
    "start_time": "2023-01-27T20:27:49.924Z"
   },
   {
    "duration": 5,
    "start_time": "2023-01-27T20:27:50.176Z"
   },
   {
    "duration": 171,
    "start_time": "2023-01-27T20:27:50.182Z"
   },
   {
    "duration": 4435,
    "start_time": "2023-01-27T20:27:50.354Z"
   },
   {
    "duration": 103,
    "start_time": "2023-01-27T20:33:30.150Z"
   },
   {
    "duration": 11,
    "start_time": "2023-01-27T20:33:46.910Z"
   },
   {
    "duration": 4,
    "start_time": "2023-01-27T20:34:00.740Z"
   },
   {
    "duration": 5,
    "start_time": "2023-01-27T20:34:10.508Z"
   },
   {
    "duration": 1126,
    "start_time": "2023-01-27T20:34:17.812Z"
   },
   {
    "duration": 53,
    "start_time": "2023-01-27T20:34:18.940Z"
   },
   {
    "duration": 17,
    "start_time": "2023-01-27T20:34:18.995Z"
   },
   {
    "duration": 220,
    "start_time": "2023-01-27T20:34:19.013Z"
   },
   {
    "duration": 511,
    "start_time": "2023-01-27T20:34:19.236Z"
   },
   {
    "duration": 412,
    "start_time": "2023-01-27T20:34:19.749Z"
   },
   {
    "duration": 10,
    "start_time": "2023-01-27T20:34:20.163Z"
   },
   {
    "duration": 17,
    "start_time": "2023-01-27T20:34:20.175Z"
   },
   {
    "duration": 23,
    "start_time": "2023-01-27T20:34:20.194Z"
   },
   {
    "duration": 24,
    "start_time": "2023-01-27T20:34:20.218Z"
   },
   {
    "duration": 248,
    "start_time": "2023-01-27T20:34:20.243Z"
   },
   {
    "duration": 4,
    "start_time": "2023-01-27T20:34:20.493Z"
   },
   {
    "duration": 175,
    "start_time": "2023-01-27T20:34:20.499Z"
   },
   {
    "duration": 4448,
    "start_time": "2023-01-27T20:34:20.676Z"
   },
   {
    "duration": 4,
    "start_time": "2023-01-27T20:34:25.126Z"
   },
   {
    "duration": 104,
    "start_time": "2023-01-27T20:34:44.635Z"
   },
   {
    "duration": 7,
    "start_time": "2023-01-27T20:35:07.904Z"
   },
   {
    "duration": 8,
    "start_time": "2023-01-27T20:35:18.234Z"
   },
   {
    "duration": 10,
    "start_time": "2023-01-27T20:35:26.646Z"
   },
   {
    "duration": 8,
    "start_time": "2023-01-27T20:35:30.590Z"
   },
   {
    "duration": 124,
    "start_time": "2023-01-27T20:36:04.553Z"
   },
   {
    "duration": 9,
    "start_time": "2023-01-27T20:36:21.434Z"
   },
   {
    "duration": 6,
    "start_time": "2023-01-27T20:38:11.213Z"
   },
   {
    "duration": 7,
    "start_time": "2023-01-27T20:38:19.219Z"
   },
   {
    "duration": 106,
    "start_time": "2023-01-27T20:38:22.604Z"
   },
   {
    "duration": 11,
    "start_time": "2023-01-27T20:38:43.743Z"
   },
   {
    "duration": 14,
    "start_time": "2023-01-27T20:39:03.174Z"
   },
   {
    "duration": 32,
    "start_time": "2023-01-27T20:41:28.777Z"
   },
   {
    "duration": 41,
    "start_time": "2023-01-27T20:43:41.922Z"
   },
   {
    "duration": 84,
    "start_time": "2023-01-27T20:44:45.329Z"
   },
   {
    "duration": 20,
    "start_time": "2023-01-27T20:45:57.781Z"
   },
   {
    "duration": 170,
    "start_time": "2023-01-27T20:46:08.388Z"
   },
   {
    "duration": 188,
    "start_time": "2023-01-27T20:46:36.910Z"
   },
   {
    "duration": 210,
    "start_time": "2023-01-27T20:47:11.827Z"
   },
   {
    "duration": 177,
    "start_time": "2023-01-27T20:47:19.481Z"
   },
   {
    "duration": 221,
    "start_time": "2023-01-27T20:47:50.948Z"
   },
   {
    "duration": 206,
    "start_time": "2023-01-27T20:48:01.325Z"
   },
   {
    "duration": 186,
    "start_time": "2023-01-27T20:48:07.849Z"
   },
   {
    "duration": 177,
    "start_time": "2023-01-27T20:49:54.442Z"
   },
   {
    "duration": 186,
    "start_time": "2023-01-27T20:50:05.310Z"
   },
   {
    "duration": 191,
    "start_time": "2023-01-27T20:50:14.044Z"
   },
   {
    "duration": 244,
    "start_time": "2023-01-27T20:52:52.967Z"
   },
   {
    "duration": 415,
    "start_time": "2023-01-27T20:53:07.063Z"
   },
   {
    "duration": 57,
    "start_time": "2023-01-28T07:31:33.901Z"
   },
   {
    "duration": 1343,
    "start_time": "2023-01-28T07:31:44.153Z"
   },
   {
    "duration": 200,
    "start_time": "2023-01-28T07:31:45.498Z"
   },
   {
    "duration": 18,
    "start_time": "2023-01-28T07:31:45.700Z"
   },
   {
    "duration": 198,
    "start_time": "2023-01-28T07:31:45.720Z"
   },
   {
    "duration": 545,
    "start_time": "2023-01-28T07:31:45.920Z"
   },
   {
    "duration": 430,
    "start_time": "2023-01-28T07:31:46.466Z"
   },
   {
    "duration": 15,
    "start_time": "2023-01-28T07:31:46.898Z"
   },
   {
    "duration": 23,
    "start_time": "2023-01-28T07:31:46.915Z"
   },
   {
    "duration": 15,
    "start_time": "2023-01-28T07:31:46.939Z"
   },
   {
    "duration": 18,
    "start_time": "2023-01-28T07:31:46.956Z"
   },
   {
    "duration": 251,
    "start_time": "2023-01-28T07:31:46.976Z"
   },
   {
    "duration": 10,
    "start_time": "2023-01-28T07:31:47.228Z"
   },
   {
    "duration": 180,
    "start_time": "2023-01-28T07:31:47.239Z"
   },
   {
    "duration": 111,
    "start_time": "2023-01-28T07:31:47.421Z"
   },
   {
    "duration": 0,
    "start_time": "2023-01-28T07:31:47.537Z"
   },
   {
    "duration": 0,
    "start_time": "2023-01-28T07:31:47.538Z"
   },
   {
    "duration": 14,
    "start_time": "2023-01-28T07:32:47.430Z"
   },
   {
    "duration": 1206,
    "start_time": "2023-01-28T07:36:10.589Z"
   },
   {
    "duration": 1230,
    "start_time": "2023-01-28T07:36:30.170Z"
   },
   {
    "duration": 1277,
    "start_time": "2023-01-28T07:36:44.400Z"
   },
   {
    "duration": 100,
    "start_time": "2023-01-28T07:38:32.171Z"
   },
   {
    "duration": 105,
    "start_time": "2023-01-28T07:38:41.991Z"
   },
   {
    "duration": 107,
    "start_time": "2023-01-28T07:39:15.253Z"
   },
   {
    "duration": 118,
    "start_time": "2023-01-28T07:39:36.833Z"
   },
   {
    "duration": 109,
    "start_time": "2023-01-28T07:39:39.166Z"
   },
   {
    "duration": 111,
    "start_time": "2023-01-28T07:39:50.445Z"
   },
   {
    "duration": 117,
    "start_time": "2023-01-28T07:40:07.966Z"
   },
   {
    "duration": 124,
    "start_time": "2023-01-28T07:40:55.556Z"
   },
   {
    "duration": 119,
    "start_time": "2023-01-28T07:41:06.688Z"
   },
   {
    "duration": 235,
    "start_time": "2023-01-28T07:42:09.084Z"
   },
   {
    "duration": 295,
    "start_time": "2023-01-28T07:42:27.049Z"
   },
   {
    "duration": 265,
    "start_time": "2023-01-28T07:42:36.400Z"
   },
   {
    "duration": 268,
    "start_time": "2023-01-28T07:42:51.284Z"
   },
   {
    "duration": 272,
    "start_time": "2023-01-28T07:43:04.496Z"
   },
   {
    "duration": 277,
    "start_time": "2023-01-28T07:43:16.347Z"
   },
   {
    "duration": 249,
    "start_time": "2023-01-28T07:43:16.843Z"
   },
   {
    "duration": 620,
    "start_time": "2023-01-28T07:46:00.263Z"
   },
   {
    "duration": 153,
    "start_time": "2023-01-28T07:46:06.293Z"
   },
   {
    "duration": 174,
    "start_time": "2023-01-28T07:46:11.227Z"
   },
   {
    "duration": 298,
    "start_time": "2023-01-28T07:53:40.429Z"
   },
   {
    "duration": 275,
    "start_time": "2023-01-28T07:53:56.570Z"
   },
   {
    "duration": 224,
    "start_time": "2023-01-28T07:54:04.058Z"
   },
   {
    "duration": 270,
    "start_time": "2023-01-28T07:54:24.157Z"
   },
   {
    "duration": 243,
    "start_time": "2023-01-28T08:04:16.742Z"
   },
   {
    "duration": 246,
    "start_time": "2023-01-28T08:05:33.981Z"
   },
   {
    "duration": 239,
    "start_time": "2023-01-28T08:05:41.631Z"
   },
   {
    "duration": 1185,
    "start_time": "2023-01-28T08:05:51.850Z"
   },
   {
    "duration": 58,
    "start_time": "2023-01-28T08:05:53.037Z"
   },
   {
    "duration": 19,
    "start_time": "2023-01-28T08:05:53.097Z"
   },
   {
    "duration": 199,
    "start_time": "2023-01-28T08:05:53.119Z"
   },
   {
    "duration": 538,
    "start_time": "2023-01-28T08:05:53.321Z"
   },
   {
    "duration": 420,
    "start_time": "2023-01-28T08:05:53.861Z"
   },
   {
    "duration": 10,
    "start_time": "2023-01-28T08:05:54.283Z"
   },
   {
    "duration": 16,
    "start_time": "2023-01-28T08:05:54.295Z"
   },
   {
    "duration": 18,
    "start_time": "2023-01-28T08:05:54.313Z"
   },
   {
    "duration": 14,
    "start_time": "2023-01-28T08:05:54.333Z"
   },
   {
    "duration": 244,
    "start_time": "2023-01-28T08:05:54.348Z"
   },
   {
    "duration": 5,
    "start_time": "2023-01-28T08:05:54.594Z"
   },
   {
    "duration": 187,
    "start_time": "2023-01-28T08:05:54.602Z"
   },
   {
    "duration": 275,
    "start_time": "2023-01-28T08:05:54.791Z"
   },
   {
    "duration": 375,
    "start_time": "2023-01-28T08:05:55.068Z"
   },
   {
    "duration": 4515,
    "start_time": "2023-01-28T08:05:55.444Z"
   },
   {
    "duration": 91,
    "start_time": "2023-01-28T08:06:58.148Z"
   },
   {
    "duration": 77,
    "start_time": "2023-01-28T08:07:09.970Z"
   },
   {
    "duration": 263,
    "start_time": "2023-01-28T08:07:15.452Z"
   },
   {
    "duration": 312,
    "start_time": "2023-01-28T08:10:55.126Z"
   },
   {
    "duration": 262,
    "start_time": "2023-01-28T08:11:08.992Z"
   },
   {
    "duration": 263,
    "start_time": "2023-01-28T08:13:11.670Z"
   },
   {
    "duration": 1143,
    "start_time": "2023-01-28T08:13:16.780Z"
   },
   {
    "duration": 54,
    "start_time": "2023-01-28T08:13:17.924Z"
   },
   {
    "duration": 20,
    "start_time": "2023-01-28T08:13:17.980Z"
   },
   {
    "duration": 235,
    "start_time": "2023-01-28T08:13:18.002Z"
   },
   {
    "duration": 544,
    "start_time": "2023-01-28T08:13:18.239Z"
   },
   {
    "duration": 416,
    "start_time": "2023-01-28T08:13:18.785Z"
   },
   {
    "duration": 11,
    "start_time": "2023-01-28T08:13:19.202Z"
   },
   {
    "duration": 10,
    "start_time": "2023-01-28T08:13:19.214Z"
   },
   {
    "duration": 21,
    "start_time": "2023-01-28T08:13:19.225Z"
   },
   {
    "duration": 29,
    "start_time": "2023-01-28T08:13:19.248Z"
   },
   {
    "duration": 244,
    "start_time": "2023-01-28T08:13:19.278Z"
   },
   {
    "duration": 4,
    "start_time": "2023-01-28T08:13:19.524Z"
   },
   {
    "duration": 188,
    "start_time": "2023-01-28T08:13:19.537Z"
   },
   {
    "duration": 298,
    "start_time": "2023-01-28T08:13:19.727Z"
   },
   {
    "duration": 368,
    "start_time": "2023-01-28T08:13:20.028Z"
   },
   {
    "duration": 4489,
    "start_time": "2023-01-28T08:13:20.399Z"
   },
   {
    "duration": 106,
    "start_time": "2023-01-28T08:15:27.872Z"
   },
   {
    "duration": 274,
    "start_time": "2023-01-28T08:15:38.704Z"
   },
   {
    "duration": 277,
    "start_time": "2023-01-28T08:15:47.280Z"
   },
   {
    "duration": 273,
    "start_time": "2023-01-28T08:16:10.196Z"
   },
   {
    "duration": 260,
    "start_time": "2023-01-28T08:16:26.512Z"
   },
   {
    "duration": 291,
    "start_time": "2023-01-28T08:16:36.356Z"
   },
   {
    "duration": 77,
    "start_time": "2023-01-28T08:18:11.445Z"
   },
   {
    "duration": 70,
    "start_time": "2023-01-28T08:18:30.956Z"
   },
   {
    "duration": 77,
    "start_time": "2023-01-28T08:18:42.671Z"
   },
   {
    "duration": 76,
    "start_time": "2023-01-28T08:18:49.486Z"
   },
   {
    "duration": 74,
    "start_time": "2023-01-28T08:21:29.652Z"
   },
   {
    "duration": 74,
    "start_time": "2023-01-28T08:21:36.183Z"
   },
   {
    "duration": 73,
    "start_time": "2023-01-28T08:22:03.570Z"
   },
   {
    "duration": 68,
    "start_time": "2023-01-28T08:22:28.623Z"
   },
   {
    "duration": 77,
    "start_time": "2023-01-28T08:22:52.876Z"
   },
   {
    "duration": 75,
    "start_time": "2023-01-28T08:23:09.375Z"
   },
   {
    "duration": 76,
    "start_time": "2023-01-28T08:23:18.267Z"
   },
   {
    "duration": 86,
    "start_time": "2023-01-28T08:23:25.144Z"
   },
   {
    "duration": 100,
    "start_time": "2023-01-28T08:29:13.107Z"
   },
   {
    "duration": 4,
    "start_time": "2023-01-28T08:30:07.891Z"
   },
   {
    "duration": 12,
    "start_time": "2023-01-28T08:30:23.969Z"
   },
   {
    "duration": 1599,
    "start_time": "2023-01-28T08:32:19.764Z"
   },
   {
    "duration": 13,
    "start_time": "2023-01-28T08:32:32.562Z"
   },
   {
    "duration": 1253,
    "start_time": "2023-01-28T08:33:07.633Z"
   },
   {
    "duration": 1338,
    "start_time": "2023-01-28T08:33:27.766Z"
   },
   {
    "duration": 1108,
    "start_time": "2023-01-28T08:36:10.787Z"
   },
   {
    "duration": 54,
    "start_time": "2023-01-28T08:36:11.897Z"
   },
   {
    "duration": 18,
    "start_time": "2023-01-28T08:36:11.952Z"
   },
   {
    "duration": 205,
    "start_time": "2023-01-28T08:36:11.972Z"
   },
   {
    "duration": 583,
    "start_time": "2023-01-28T08:36:12.179Z"
   },
   {
    "duration": 416,
    "start_time": "2023-01-28T08:36:12.763Z"
   },
   {
    "duration": 10,
    "start_time": "2023-01-28T08:36:13.181Z"
   },
   {
    "duration": 23,
    "start_time": "2023-01-28T08:36:13.192Z"
   },
   {
    "duration": 13,
    "start_time": "2023-01-28T08:36:13.217Z"
   },
   {
    "duration": 27,
    "start_time": "2023-01-28T08:36:13.232Z"
   },
   {
    "duration": 267,
    "start_time": "2023-01-28T08:36:13.261Z"
   },
   {
    "duration": 5,
    "start_time": "2023-01-28T08:36:13.529Z"
   },
   {
    "duration": 213,
    "start_time": "2023-01-28T08:36:13.538Z"
   },
   {
    "duration": 1128,
    "start_time": "2023-01-28T08:37:35.483Z"
   },
   {
    "duration": 53,
    "start_time": "2023-01-28T08:37:36.613Z"
   },
   {
    "duration": 18,
    "start_time": "2023-01-28T08:37:36.668Z"
   },
   {
    "duration": 203,
    "start_time": "2023-01-28T08:37:36.688Z"
   },
   {
    "duration": 545,
    "start_time": "2023-01-28T08:37:36.893Z"
   },
   {
    "duration": 421,
    "start_time": "2023-01-28T08:37:37.440Z"
   },
   {
    "duration": 11,
    "start_time": "2023-01-28T08:37:37.862Z"
   },
   {
    "duration": 11,
    "start_time": "2023-01-28T08:37:37.874Z"
   },
   {
    "duration": 21,
    "start_time": "2023-01-28T08:37:37.886Z"
   },
   {
    "duration": 35,
    "start_time": "2023-01-28T08:37:37.910Z"
   },
   {
    "duration": 291,
    "start_time": "2023-01-28T08:37:37.947Z"
   },
   {
    "duration": 5,
    "start_time": "2023-01-28T08:37:38.240Z"
   },
   {
    "duration": 201,
    "start_time": "2023-01-28T08:37:38.247Z"
   },
   {
    "duration": 401,
    "start_time": "2023-01-28T08:37:38.450Z"
   },
   {
    "duration": 0,
    "start_time": "2023-01-28T08:37:38.853Z"
   },
   {
    "duration": 0,
    "start_time": "2023-01-28T08:37:38.855Z"
   },
   {
    "duration": 364,
    "start_time": "2023-01-28T08:37:49.733Z"
   },
   {
    "duration": 311,
    "start_time": "2023-01-28T08:41:03.636Z"
   },
   {
    "duration": 18,
    "start_time": "2023-01-28T08:41:35.172Z"
   },
   {
    "duration": 17,
    "start_time": "2023-01-28T08:41:47.875Z"
   },
   {
    "duration": 19,
    "start_time": "2023-01-28T08:41:57.027Z"
   },
   {
    "duration": 19,
    "start_time": "2023-01-28T08:42:50.736Z"
   },
   {
    "duration": 17,
    "start_time": "2023-01-28T08:44:11.236Z"
   },
   {
    "duration": 17,
    "start_time": "2023-01-28T08:44:39.183Z"
   },
   {
    "duration": 84,
    "start_time": "2023-01-28T08:45:01.748Z"
   },
   {
    "duration": 201,
    "start_time": "2023-01-28T08:45:35.597Z"
   },
   {
    "duration": 17,
    "start_time": "2023-01-28T08:46:30.170Z"
   },
   {
    "duration": 11,
    "start_time": "2023-01-28T11:09:39.976Z"
   },
   {
    "duration": 75,
    "start_time": "2023-01-28T11:09:45.819Z"
   },
   {
    "duration": 1569,
    "start_time": "2023-01-28T11:10:01.439Z"
   },
   {
    "duration": 96,
    "start_time": "2023-01-28T11:10:03.010Z"
   },
   {
    "duration": 22,
    "start_time": "2023-01-28T11:10:03.108Z"
   },
   {
    "duration": 224,
    "start_time": "2023-01-28T11:10:03.132Z"
   },
   {
    "duration": 600,
    "start_time": "2023-01-28T11:10:03.358Z"
   },
   {
    "duration": 445,
    "start_time": "2023-01-28T11:10:03.961Z"
   },
   {
    "duration": 14,
    "start_time": "2023-01-28T11:10:04.408Z"
   },
   {
    "duration": 13,
    "start_time": "2023-01-28T11:10:04.424Z"
   },
   {
    "duration": 11,
    "start_time": "2023-01-28T11:10:04.439Z"
   },
   {
    "duration": 35,
    "start_time": "2023-01-28T11:10:04.454Z"
   },
   {
    "duration": 272,
    "start_time": "2023-01-28T11:10:04.491Z"
   },
   {
    "duration": 5,
    "start_time": "2023-01-28T11:10:04.765Z"
   },
   {
    "duration": 228,
    "start_time": "2023-01-28T11:10:04.772Z"
   },
   {
    "duration": 283,
    "start_time": "2023-01-28T11:10:05.001Z"
   },
   {
    "duration": 424,
    "start_time": "2023-01-28T11:10:05.287Z"
   },
   {
    "duration": 5072,
    "start_time": "2023-01-28T11:10:05.713Z"
   },
   {
    "duration": 219,
    "start_time": "2023-01-28T11:10:41.438Z"
   },
   {
    "duration": 1324,
    "start_time": "2023-01-28T11:10:49.061Z"
   },
   {
    "duration": 65,
    "start_time": "2023-01-28T11:10:50.387Z"
   },
   {
    "duration": 20,
    "start_time": "2023-01-28T11:10:50.454Z"
   },
   {
    "duration": 234,
    "start_time": "2023-01-28T11:10:50.476Z"
   },
   {
    "duration": 619,
    "start_time": "2023-01-28T11:10:50.713Z"
   },
   {
    "duration": 460,
    "start_time": "2023-01-28T11:10:51.335Z"
   },
   {
    "duration": 13,
    "start_time": "2023-01-28T11:10:51.798Z"
   },
   {
    "duration": 6,
    "start_time": "2023-01-28T11:10:51.814Z"
   },
   {
    "duration": 11,
    "start_time": "2023-01-28T11:10:51.821Z"
   },
   {
    "duration": 21,
    "start_time": "2023-01-28T11:10:51.834Z"
   },
   {
    "duration": 297,
    "start_time": "2023-01-28T11:10:51.857Z"
   },
   {
    "duration": 5,
    "start_time": "2023-01-28T11:10:52.156Z"
   },
   {
    "duration": 198,
    "start_time": "2023-01-28T11:10:52.163Z"
   },
   {
    "duration": 228,
    "start_time": "2023-01-28T11:10:52.363Z"
   },
   {
    "duration": 369,
    "start_time": "2023-01-28T11:10:52.593Z"
   },
   {
    "duration": 5013,
    "start_time": "2023-01-28T11:10:52.965Z"
   },
   {
    "duration": 231,
    "start_time": "2023-01-28T11:12:23.453Z"
   },
   {
    "duration": 7,
    "start_time": "2023-01-28T11:14:37.553Z"
   },
   {
    "duration": 9,
    "start_time": "2023-01-28T11:14:42.376Z"
   },
   {
    "duration": 8,
    "start_time": "2023-01-28T11:14:52.182Z"
   },
   {
    "duration": 264,
    "start_time": "2023-01-28T11:16:26.563Z"
   },
   {
    "duration": 211,
    "start_time": "2023-01-28T11:16:41.276Z"
   },
   {
    "duration": 120,
    "start_time": "2023-01-28T11:17:06.022Z"
   },
   {
    "duration": 6,
    "start_time": "2023-01-28T11:17:45.473Z"
   },
   {
    "duration": 216,
    "start_time": "2023-01-28T11:18:17.783Z"
   },
   {
    "duration": 22,
    "start_time": "2023-01-28T11:18:43.432Z"
   },
   {
    "duration": 342,
    "start_time": "2023-01-28T11:20:54.579Z"
   },
   {
    "duration": 301,
    "start_time": "2023-01-28T11:21:50.511Z"
   },
   {
    "duration": 529,
    "start_time": "2023-01-28T11:22:00.487Z"
   },
   {
    "duration": 261,
    "start_time": "2023-01-28T11:22:06.290Z"
   },
   {
    "duration": 269,
    "start_time": "2023-01-28T11:22:11.155Z"
   },
   {
    "duration": 373,
    "start_time": "2023-01-28T11:23:29.546Z"
   },
   {
    "duration": 5,
    "start_time": "2023-01-28T11:39:53.466Z"
   },
   {
    "duration": 21,
    "start_time": "2023-01-28T11:39:56.216Z"
   },
   {
    "duration": 268,
    "start_time": "2023-01-28T11:42:00.399Z"
   },
   {
    "duration": 372,
    "start_time": "2023-01-28T11:42:19.081Z"
   },
   {
    "duration": 396,
    "start_time": "2023-01-28T11:44:49.816Z"
   },
   {
    "duration": 352,
    "start_time": "2023-01-28T11:45:11.358Z"
   },
   {
    "duration": 458,
    "start_time": "2023-01-28T11:45:34.943Z"
   },
   {
    "duration": 376,
    "start_time": "2023-01-28T11:45:39.913Z"
   },
   {
    "duration": 360,
    "start_time": "2023-01-28T11:45:42.868Z"
   },
   {
    "duration": 544,
    "start_time": "2023-01-28T12:00:52.718Z"
   },
   {
    "duration": 522,
    "start_time": "2023-01-28T12:01:05.855Z"
   },
   {
    "duration": 1433,
    "start_time": "2023-01-28T14:06:40.992Z"
   },
   {
    "duration": 66,
    "start_time": "2023-01-28T14:06:42.428Z"
   },
   {
    "duration": 29,
    "start_time": "2023-01-28T14:06:42.499Z"
   },
   {
    "duration": 314,
    "start_time": "2023-01-28T14:06:42.531Z"
   },
   {
    "duration": 709,
    "start_time": "2023-01-28T14:06:42.847Z"
   },
   {
    "duration": 503,
    "start_time": "2023-01-28T14:06:43.558Z"
   },
   {
    "duration": 22,
    "start_time": "2023-01-28T14:06:44.063Z"
   },
   {
    "duration": 4,
    "start_time": "2023-01-28T14:06:44.088Z"
   },
   {
    "duration": 9,
    "start_time": "2023-01-28T14:06:44.094Z"
   },
   {
    "duration": 14,
    "start_time": "2023-01-28T14:06:44.106Z"
   },
   {
    "duration": 390,
    "start_time": "2023-01-28T14:06:44.122Z"
   },
   {
    "duration": 5,
    "start_time": "2023-01-28T14:06:44.514Z"
   },
   {
    "duration": 212,
    "start_time": "2023-01-28T14:06:44.520Z"
   },
   {
    "duration": 436,
    "start_time": "2023-01-28T14:06:44.737Z"
   },
   {
    "duration": 664,
    "start_time": "2023-01-28T14:06:45.175Z"
   },
   {
    "duration": 390,
    "start_time": "2023-01-28T14:06:45.841Z"
   },
   {
    "duration": 5982,
    "start_time": "2023-01-28T14:06:46.234Z"
   },
   {
    "duration": 322,
    "start_time": "2023-01-28T14:27:17.482Z"
   },
   {
    "duration": 149,
    "start_time": "2023-01-28T14:27:59.604Z"
   },
   {
    "duration": 10,
    "start_time": "2023-01-28T14:28:51.429Z"
   },
   {
    "duration": 15,
    "start_time": "2023-01-28T14:29:31.172Z"
   },
   {
    "duration": 11,
    "start_time": "2023-01-28T14:30:23.625Z"
   },
   {
    "duration": 13,
    "start_time": "2023-01-28T14:30:28.532Z"
   },
   {
    "duration": 15,
    "start_time": "2023-01-28T14:31:14.788Z"
   },
   {
    "duration": 1297,
    "start_time": "2023-01-28T14:31:20.081Z"
   },
   {
    "duration": 52,
    "start_time": "2023-01-28T14:31:21.380Z"
   },
   {
    "duration": 20,
    "start_time": "2023-01-28T14:31:21.434Z"
   },
   {
    "duration": 213,
    "start_time": "2023-01-28T14:31:21.457Z"
   },
   {
    "duration": 586,
    "start_time": "2023-01-28T14:31:21.673Z"
   },
   {
    "duration": 435,
    "start_time": "2023-01-28T14:31:22.261Z"
   },
   {
    "duration": 13,
    "start_time": "2023-01-28T14:31:22.698Z"
   },
   {
    "duration": 4,
    "start_time": "2023-01-28T14:31:22.713Z"
   },
   {
    "duration": 14,
    "start_time": "2023-01-28T14:31:22.719Z"
   },
   {
    "duration": 15,
    "start_time": "2023-01-28T14:31:22.736Z"
   },
   {
    "duration": 274,
    "start_time": "2023-01-28T14:31:22.753Z"
   },
   {
    "duration": 5,
    "start_time": "2023-01-28T14:31:23.029Z"
   },
   {
    "duration": 206,
    "start_time": "2023-01-28T14:31:23.036Z"
   },
   {
    "duration": 282,
    "start_time": "2023-01-28T14:31:23.244Z"
   },
   {
    "duration": 518,
    "start_time": "2023-01-28T14:31:23.528Z"
   },
   {
    "duration": 272,
    "start_time": "2023-01-28T14:31:24.048Z"
   },
   {
    "duration": 143,
    "start_time": "2023-01-28T14:31:24.323Z"
   },
   {
    "duration": 1,
    "start_time": "2023-01-28T14:31:24.467Z"
   },
   {
    "duration": 17,
    "start_time": "2023-01-28T14:33:02.362Z"
   },
   {
    "duration": 17,
    "start_time": "2023-01-28T14:33:05.085Z"
   },
   {
    "duration": 1400,
    "start_time": "2023-01-28T14:33:12.374Z"
   },
   {
    "duration": 66,
    "start_time": "2023-01-28T14:33:13.776Z"
   },
   {
    "duration": 20,
    "start_time": "2023-01-28T14:33:13.844Z"
   },
   {
    "duration": 249,
    "start_time": "2023-01-28T14:33:13.867Z"
   },
   {
    "duration": 666,
    "start_time": "2023-01-28T14:33:14.118Z"
   },
   {
    "duration": 549,
    "start_time": "2023-01-28T14:33:14.786Z"
   },
   {
    "duration": 11,
    "start_time": "2023-01-28T14:33:15.337Z"
   },
   {
    "duration": 9,
    "start_time": "2023-01-28T14:33:15.350Z"
   },
   {
    "duration": 25,
    "start_time": "2023-01-28T14:33:15.361Z"
   },
   {
    "duration": 17,
    "start_time": "2023-01-28T14:33:15.390Z"
   },
   {
    "duration": 368,
    "start_time": "2023-01-28T14:33:15.410Z"
   },
   {
    "duration": 10,
    "start_time": "2023-01-28T14:33:15.780Z"
   },
   {
    "duration": 244,
    "start_time": "2023-01-28T14:33:15.793Z"
   },
   {
    "duration": 326,
    "start_time": "2023-01-28T14:33:16.039Z"
   },
   {
    "duration": 556,
    "start_time": "2023-01-28T14:33:16.366Z"
   },
   {
    "duration": 325,
    "start_time": "2023-01-28T14:33:16.924Z"
   },
   {
    "duration": 135,
    "start_time": "2023-01-28T14:33:17.251Z"
   },
   {
    "duration": 0,
    "start_time": "2023-01-28T14:33:17.388Z"
   },
   {
    "duration": 16,
    "start_time": "2023-01-28T14:33:27.364Z"
   },
   {
    "duration": 23,
    "start_time": "2023-01-28T14:33:39.497Z"
   },
   {
    "duration": 1010,
    "start_time": "2023-01-28T14:33:47.503Z"
   },
   {
    "duration": 856,
    "start_time": "2023-01-28T14:33:57.897Z"
   },
   {
    "duration": 226,
    "start_time": "2023-01-28T14:34:51.366Z"
   },
   {
    "duration": 831,
    "start_time": "2023-01-28T14:35:04.383Z"
   },
   {
    "duration": 1305,
    "start_time": "2023-01-28T14:36:49.526Z"
   },
   {
    "duration": 1054,
    "start_time": "2023-01-28T14:37:17.426Z"
   },
   {
    "duration": 375,
    "start_time": "2023-01-28T14:38:52.480Z"
   },
   {
    "duration": 1345,
    "start_time": "2023-01-28T14:39:28.155Z"
   },
   {
    "duration": 1252,
    "start_time": "2023-01-28T14:39:31.488Z"
   },
   {
    "duration": 225,
    "start_time": "2023-01-28T14:39:49.250Z"
   },
   {
    "duration": 456,
    "start_time": "2023-01-28T14:39:51.870Z"
   },
   {
    "duration": 1242,
    "start_time": "2023-01-28T14:42:22.434Z"
   },
   {
    "duration": 7372,
    "start_time": "2023-01-28T14:44:20.040Z"
   },
   {
    "duration": 4338,
    "start_time": "2023-01-28T14:44:35.457Z"
   },
   {
    "duration": 4749,
    "start_time": "2023-01-28T14:44:51.372Z"
   },
   {
    "duration": 236,
    "start_time": "2023-01-28T14:45:09.944Z"
   },
   {
    "duration": 203,
    "start_time": "2023-01-28T14:45:15.276Z"
   },
   {
    "duration": 4937,
    "start_time": "2023-01-28T14:45:18.791Z"
   },
   {
    "duration": 278,
    "start_time": "2023-01-28T14:46:11.029Z"
   },
   {
    "duration": 256,
    "start_time": "2023-01-28T14:46:17.159Z"
   },
   {
    "duration": 1638,
    "start_time": "2023-01-28T14:46:44.614Z"
   },
   {
    "duration": 1112,
    "start_time": "2023-01-28T14:48:18.704Z"
   },
   {
    "duration": 1465,
    "start_time": "2023-01-28T14:48:32.062Z"
   },
   {
    "duration": 211,
    "start_time": "2023-01-28T14:48:43.130Z"
   },
   {
    "duration": 227,
    "start_time": "2023-01-28T14:48:54.512Z"
   },
   {
    "duration": 242,
    "start_time": "2023-01-28T14:49:16.858Z"
   },
   {
    "duration": 306,
    "start_time": "2023-01-28T14:49:24.278Z"
   },
   {
    "duration": 293,
    "start_time": "2023-01-28T14:50:00.275Z"
   },
   {
    "duration": 38,
    "start_time": "2023-01-28T14:50:47.403Z"
   },
   {
    "duration": 234,
    "start_time": "2023-01-28T14:53:42.542Z"
   },
   {
    "duration": 269,
    "start_time": "2023-01-28T14:53:51.538Z"
   },
   {
    "duration": 284,
    "start_time": "2023-01-28T14:54:01.100Z"
   },
   {
    "duration": 443,
    "start_time": "2023-01-28T14:54:06.745Z"
   },
   {
    "duration": 349,
    "start_time": "2023-01-28T14:54:17.900Z"
   },
   {
    "duration": 271,
    "start_time": "2023-01-28T14:54:43.313Z"
   },
   {
    "duration": 490,
    "start_time": "2023-01-28T14:55:08.824Z"
   },
   {
    "duration": 308,
    "start_time": "2023-01-28T14:55:17.184Z"
   },
   {
    "duration": 230,
    "start_time": "2023-01-28T14:56:56.521Z"
   },
   {
    "duration": 495,
    "start_time": "2023-01-28T14:57:16.679Z"
   },
   {
    "duration": 525,
    "start_time": "2023-01-28T14:57:29.972Z"
   },
   {
    "duration": 572,
    "start_time": "2023-01-28T14:57:49.798Z"
   },
   {
    "duration": 523,
    "start_time": "2023-01-28T14:57:58.553Z"
   },
   {
    "duration": 523,
    "start_time": "2023-01-28T14:58:15.912Z"
   },
   {
    "duration": 598,
    "start_time": "2023-01-28T14:58:27.577Z"
   },
   {
    "duration": 606,
    "start_time": "2023-01-28T15:01:37.765Z"
   },
   {
    "duration": 521,
    "start_time": "2023-01-28T15:01:46.231Z"
   },
   {
    "duration": 555,
    "start_time": "2023-01-28T15:01:58.459Z"
   },
   {
    "duration": 21,
    "start_time": "2023-01-28T15:06:48.807Z"
   },
   {
    "duration": 21,
    "start_time": "2023-01-28T15:07:04.781Z"
   },
   {
    "duration": 1590,
    "start_time": "2023-01-28T15:08:25.689Z"
   },
   {
    "duration": 91,
    "start_time": "2023-01-28T15:08:27.285Z"
   },
   {
    "duration": 38,
    "start_time": "2023-01-28T15:08:27.378Z"
   },
   {
    "duration": 321,
    "start_time": "2023-01-28T15:08:27.418Z"
   },
   {
    "duration": 691,
    "start_time": "2023-01-28T15:08:27.743Z"
   },
   {
    "duration": 576,
    "start_time": "2023-01-28T15:08:28.440Z"
   },
   {
    "duration": 38,
    "start_time": "2023-01-28T15:08:29.022Z"
   },
   {
    "duration": 9,
    "start_time": "2023-01-28T15:08:29.065Z"
   },
   {
    "duration": 35,
    "start_time": "2023-01-28T15:08:29.077Z"
   },
   {
    "duration": 33,
    "start_time": "2023-01-28T15:08:29.126Z"
   },
   {
    "duration": 357,
    "start_time": "2023-01-28T15:08:29.162Z"
   },
   {
    "duration": 8,
    "start_time": "2023-01-28T15:08:29.524Z"
   },
   {
    "duration": 370,
    "start_time": "2023-01-28T15:08:29.534Z"
   },
   {
    "duration": 434,
    "start_time": "2023-01-28T15:08:29.906Z"
   },
   {
    "duration": 814,
    "start_time": "2023-01-28T15:08:30.350Z"
   },
   {
    "duration": 414,
    "start_time": "2023-01-28T15:08:31.172Z"
   },
   {
    "duration": 1092,
    "start_time": "2023-01-28T15:08:31.590Z"
   },
   {
    "duration": 512,
    "start_time": "2023-01-28T15:08:32.684Z"
   },
   {
    "duration": 45,
    "start_time": "2023-01-28T15:08:33.203Z"
   },
   {
    "duration": 6645,
    "start_time": "2023-01-28T15:08:33.259Z"
   },
   {
    "duration": 24,
    "start_time": "2023-01-28T15:09:03.512Z"
   },
   {
    "duration": 10,
    "start_time": "2023-01-28T15:09:21.045Z"
   },
   {
    "duration": 14,
    "start_time": "2023-01-28T15:09:28.445Z"
   },
   {
    "duration": 179,
    "start_time": "2023-01-28T15:24:09.481Z"
   },
   {
    "duration": 23,
    "start_time": "2023-01-28T15:24:17.321Z"
   },
   {
    "duration": 334,
    "start_time": "2023-01-28T15:24:28.240Z"
   },
   {
    "duration": 4711,
    "start_time": "2023-01-28T15:25:04.641Z"
   },
   {
    "duration": 222,
    "start_time": "2023-01-28T15:25:49.828Z"
   },
   {
    "duration": 192,
    "start_time": "2023-01-28T15:26:06.173Z"
   },
   {
    "duration": 523,
    "start_time": "2023-01-28T15:28:23.611Z"
   },
   {
    "duration": 15,
    "start_time": "2023-01-28T15:53:06.359Z"
   },
   {
    "duration": 15,
    "start_time": "2023-01-28T15:54:04.941Z"
   },
   {
    "duration": 6,
    "start_time": "2023-01-28T15:54:18.944Z"
   },
   {
    "duration": 13,
    "start_time": "2023-01-28T15:54:43.640Z"
   },
   {
    "duration": 11,
    "start_time": "2023-01-28T15:55:03.241Z"
   },
   {
    "duration": 86,
    "start_time": "2023-01-28T15:55:21.341Z"
   },
   {
    "duration": 11,
    "start_time": "2023-01-28T15:55:25.040Z"
   },
   {
    "duration": 17,
    "start_time": "2023-01-28T15:55:35.013Z"
   },
   {
    "duration": 1449,
    "start_time": "2023-01-28T15:55:41.186Z"
   },
   {
    "duration": 83,
    "start_time": "2023-01-28T15:55:42.640Z"
   },
   {
    "duration": 28,
    "start_time": "2023-01-28T15:55:42.729Z"
   },
   {
    "duration": 284,
    "start_time": "2023-01-28T15:55:42.760Z"
   },
   {
    "duration": 726,
    "start_time": "2023-01-28T15:55:43.047Z"
   },
   {
    "duration": 600,
    "start_time": "2023-01-28T15:55:43.776Z"
   },
   {
    "duration": 21,
    "start_time": "2023-01-28T15:55:44.379Z"
   },
   {
    "duration": 37,
    "start_time": "2023-01-28T15:55:44.402Z"
   },
   {
    "duration": 13,
    "start_time": "2023-01-28T15:55:44.442Z"
   },
   {
    "duration": 9,
    "start_time": "2023-01-28T15:55:44.459Z"
   },
   {
    "duration": 357,
    "start_time": "2023-01-28T15:55:44.469Z"
   },
   {
    "duration": 15,
    "start_time": "2023-01-28T15:55:44.833Z"
   },
   {
    "duration": 232,
    "start_time": "2023-01-28T15:55:44.852Z"
   },
   {
    "duration": 317,
    "start_time": "2023-01-28T15:55:45.089Z"
   },
   {
    "duration": 585,
    "start_time": "2023-01-28T15:55:45.408Z"
   },
   {
    "duration": 351,
    "start_time": "2023-01-28T15:55:46.002Z"
   },
   {
    "duration": 86,
    "start_time": "2023-01-28T15:55:46.355Z"
   },
   {
    "duration": 0,
    "start_time": "2023-01-28T15:55:46.444Z"
   },
   {
    "duration": 0,
    "start_time": "2023-01-28T15:55:46.446Z"
   },
   {
    "duration": 0,
    "start_time": "2023-01-28T15:55:46.449Z"
   },
   {
    "duration": 0,
    "start_time": "2023-01-28T15:55:46.451Z"
   },
   {
    "duration": 77,
    "start_time": "2023-01-28T15:56:03.265Z"
   },
   {
    "duration": 538,
    "start_time": "2023-01-28T15:56:03.520Z"
   },
   {
    "duration": 12,
    "start_time": "2023-01-28T15:56:04.639Z"
   },
   {
    "duration": 9,
    "start_time": "2023-01-28T15:56:06.672Z"
   },
   {
    "duration": 5,
    "start_time": "2023-01-28T15:56:16.009Z"
   },
   {
    "duration": 444,
    "start_time": "2023-01-28T15:56:16.167Z"
   },
   {
    "duration": 18,
    "start_time": "2023-01-28T15:56:16.614Z"
   },
   {
    "duration": 13,
    "start_time": "2023-01-28T15:56:17.213Z"
   },
   {
    "duration": 123,
    "start_time": "2023-01-28T15:56:45.563Z"
   },
   {
    "duration": 10,
    "start_time": "2023-01-28T15:57:13.682Z"
   },
   {
    "duration": 10,
    "start_time": "2023-01-28T16:02:06.967Z"
   },
   {
    "duration": 5,
    "start_time": "2023-01-28T16:02:13.069Z"
   },
   {
    "duration": 10,
    "start_time": "2023-01-28T16:02:16.614Z"
   },
   {
    "duration": 83,
    "start_time": "2023-01-28T16:02:21.677Z"
   },
   {
    "duration": 14,
    "start_time": "2023-01-28T16:02:24.503Z"
   },
   {
    "duration": 1433,
    "start_time": "2023-01-28T16:02:30.426Z"
   },
   {
    "duration": 78,
    "start_time": "2023-01-28T16:02:31.862Z"
   },
   {
    "duration": 30,
    "start_time": "2023-01-28T16:02:31.942Z"
   },
   {
    "duration": 315,
    "start_time": "2023-01-28T16:02:31.975Z"
   },
   {
    "duration": 643,
    "start_time": "2023-01-28T16:02:32.292Z"
   },
   {
    "duration": 517,
    "start_time": "2023-01-28T16:02:32.940Z"
   },
   {
    "duration": 12,
    "start_time": "2023-01-28T16:02:33.460Z"
   },
   {
    "duration": 34,
    "start_time": "2023-01-28T16:02:33.494Z"
   },
   {
    "duration": 48,
    "start_time": "2023-01-28T16:02:33.530Z"
   },
   {
    "duration": 75,
    "start_time": "2023-01-28T16:02:33.581Z"
   },
   {
    "duration": 438,
    "start_time": "2023-01-28T16:02:33.658Z"
   },
   {
    "duration": 6,
    "start_time": "2023-01-28T16:02:34.099Z"
   },
   {
    "duration": 280,
    "start_time": "2023-01-28T16:02:34.107Z"
   },
   {
    "duration": 319,
    "start_time": "2023-01-28T16:02:34.389Z"
   },
   {
    "duration": 567,
    "start_time": "2023-01-28T16:02:34.711Z"
   },
   {
    "duration": 351,
    "start_time": "2023-01-28T16:02:35.280Z"
   },
   {
    "duration": 2,
    "start_time": "2023-01-28T16:02:35.633Z"
   },
   {
    "duration": 461,
    "start_time": "2023-01-28T16:02:35.637Z"
   },
   {
    "duration": 20,
    "start_time": "2023-01-28T16:02:36.100Z"
   },
   {
    "duration": 33,
    "start_time": "2023-01-28T16:02:36.126Z"
   },
   {
    "duration": 6125,
    "start_time": "2023-01-28T16:02:36.162Z"
   },
   {
    "duration": 10,
    "start_time": "2023-01-28T16:21:04.413Z"
   },
   {
    "duration": 7,
    "start_time": "2023-01-28T16:21:10.237Z"
   },
   {
    "duration": 7,
    "start_time": "2023-01-28T16:23:30.065Z"
   },
   {
    "duration": 125,
    "start_time": "2023-01-28T18:57:35.476Z"
   },
   {
    "duration": 13,
    "start_time": "2023-01-28T18:57:47.959Z"
   },
   {
    "duration": 15,
    "start_time": "2023-01-28T18:58:00.777Z"
   },
   {
    "duration": 14,
    "start_time": "2023-01-28T18:58:54.208Z"
   },
   {
    "duration": 29,
    "start_time": "2023-01-28T18:59:05.539Z"
   },
   {
    "duration": 28,
    "start_time": "2023-01-28T18:59:22.900Z"
   },
   {
    "duration": 22,
    "start_time": "2023-01-28T19:01:24.521Z"
   },
   {
    "duration": 26,
    "start_time": "2023-01-28T19:02:03.409Z"
   },
   {
    "duration": 26,
    "start_time": "2023-01-28T19:02:08.013Z"
   },
   {
    "duration": 10,
    "start_time": "2023-01-28T19:19:06.006Z"
   },
   {
    "duration": 66,
    "start_time": "2023-01-28T19:19:58.375Z"
   },
   {
    "duration": 29,
    "start_time": "2023-01-28T19:20:05.909Z"
   },
   {
    "duration": 9,
    "start_time": "2023-01-28T19:20:28.472Z"
   },
   {
    "duration": 9,
    "start_time": "2023-01-28T19:20:36.416Z"
   },
   {
    "duration": 829,
    "start_time": "2023-01-28T19:20:53.098Z"
   },
   {
    "duration": 13,
    "start_time": "2023-01-28T19:21:06.237Z"
   },
   {
    "duration": 19,
    "start_time": "2023-01-28T19:21:29.830Z"
   },
   {
    "duration": 25,
    "start_time": "2023-01-28T19:22:00.881Z"
   },
   {
    "duration": 14,
    "start_time": "2023-01-28T19:26:58.944Z"
   },
   {
    "duration": 23,
    "start_time": "2023-01-28T19:27:29.281Z"
   },
   {
    "duration": 21,
    "start_time": "2023-01-28T19:30:10.032Z"
   },
   {
    "duration": 47,
    "start_time": "2023-01-28T19:30:43.015Z"
   },
   {
    "duration": 42,
    "start_time": "2023-01-28T19:31:11.160Z"
   },
   {
    "duration": 39,
    "start_time": "2023-01-28T19:31:22.014Z"
   },
   {
    "duration": 28,
    "start_time": "2023-01-28T19:31:27.366Z"
   },
   {
    "duration": 35,
    "start_time": "2023-01-28T19:31:34.795Z"
   },
   {
    "duration": 82,
    "start_time": "2023-01-28T19:32:41.034Z"
   },
   {
    "duration": 16,
    "start_time": "2023-01-28T19:33:35.237Z"
   },
   {
    "duration": 233,
    "start_time": "2023-01-28T19:33:57.399Z"
   },
   {
    "duration": 188,
    "start_time": "2023-01-28T19:34:22.842Z"
   },
   {
    "duration": 25,
    "start_time": "2023-01-28T19:34:39.218Z"
   },
   {
    "duration": 199,
    "start_time": "2023-01-28T19:35:03.819Z"
   },
   {
    "duration": 55,
    "start_time": "2023-01-28T19:37:32.738Z"
   },
   {
    "duration": 14,
    "start_time": "2023-01-28T19:37:40.398Z"
   },
   {
    "duration": 354,
    "start_time": "2023-01-28T19:40:20.421Z"
   },
   {
    "duration": 529,
    "start_time": "2023-01-28T19:40:26.015Z"
   },
   {
    "duration": 707,
    "start_time": "2023-01-28T19:40:42.447Z"
   },
   {
    "duration": 736,
    "start_time": "2023-01-28T19:40:45.498Z"
   },
   {
    "duration": 1539,
    "start_time": "2023-01-28T19:41:45.961Z"
   },
   {
    "duration": 1573,
    "start_time": "2023-01-28T19:42:05.484Z"
   },
   {
    "duration": 1769,
    "start_time": "2023-01-28T19:42:08.351Z"
   },
   {
    "duration": 1583,
    "start_time": "2023-01-28T19:42:11.632Z"
   },
   {
    "duration": 1749,
    "start_time": "2023-01-28T19:42:18.778Z"
   },
   {
    "duration": 45,
    "start_time": "2023-01-28T19:43:01.399Z"
   },
   {
    "duration": 471,
    "start_time": "2023-01-28T19:43:22.338Z"
   },
   {
    "duration": 404,
    "start_time": "2023-01-28T19:44:47.652Z"
   },
   {
    "duration": 227,
    "start_time": "2023-01-28T19:46:35.100Z"
   },
   {
    "duration": 1266,
    "start_time": "2023-01-28T19:47:03.503Z"
   },
   {
    "duration": 60,
    "start_time": "2023-01-28T19:47:04.771Z"
   },
   {
    "duration": 22,
    "start_time": "2023-01-28T19:47:04.833Z"
   },
   {
    "duration": 230,
    "start_time": "2023-01-28T19:47:04.858Z"
   },
   {
    "duration": 571,
    "start_time": "2023-01-28T19:47:05.093Z"
   },
   {
    "duration": 452,
    "start_time": "2023-01-28T19:47:05.665Z"
   },
   {
    "duration": 10,
    "start_time": "2023-01-28T19:47:06.118Z"
   },
   {
    "duration": 12,
    "start_time": "2023-01-28T19:47:06.130Z"
   },
   {
    "duration": 40,
    "start_time": "2023-01-28T19:47:06.143Z"
   },
   {
    "duration": 26,
    "start_time": "2023-01-28T19:47:06.192Z"
   },
   {
    "duration": 282,
    "start_time": "2023-01-28T19:47:06.219Z"
   },
   {
    "duration": 5,
    "start_time": "2023-01-28T19:47:06.503Z"
   },
   {
    "duration": 208,
    "start_time": "2023-01-28T19:47:06.510Z"
   },
   {
    "duration": 258,
    "start_time": "2023-01-28T19:47:06.720Z"
   },
   {
    "duration": 498,
    "start_time": "2023-01-28T19:47:06.980Z"
   },
   {
    "duration": 238,
    "start_time": "2023-01-28T19:47:07.480Z"
   },
   {
    "duration": 3,
    "start_time": "2023-01-28T19:47:07.720Z"
   },
   {
    "duration": 412,
    "start_time": "2023-01-28T19:47:07.725Z"
   },
   {
    "duration": 10,
    "start_time": "2023-01-28T19:47:08.138Z"
   },
   {
    "duration": 52,
    "start_time": "2023-01-28T19:47:08.149Z"
   },
   {
    "duration": 19,
    "start_time": "2023-01-28T19:47:08.203Z"
   },
   {
    "duration": 7,
    "start_time": "2023-01-28T19:47:08.224Z"
   },
   {
    "duration": 385,
    "start_time": "2023-01-28T19:47:08.232Z"
   },
   {
    "duration": 5217,
    "start_time": "2023-01-28T19:47:08.619Z"
   },
   {
    "duration": 304,
    "start_time": "2023-01-28T19:48:09.555Z"
   },
   {
    "duration": 303,
    "start_time": "2023-01-28T19:49:04.250Z"
   },
   {
    "duration": 150,
    "start_time": "2023-01-28T19:49:59.610Z"
   },
   {
    "duration": 386,
    "start_time": "2023-01-28T19:50:33.072Z"
   },
   {
    "duration": 141,
    "start_time": "2023-01-28T20:12:54.799Z"
   },
   {
    "duration": 157,
    "start_time": "2023-01-28T20:13:39.139Z"
   },
   {
    "duration": 359,
    "start_time": "2023-01-28T20:13:49.542Z"
   },
   {
    "duration": 296,
    "start_time": "2023-01-28T20:14:07.931Z"
   },
   {
    "duration": 467,
    "start_time": "2023-01-28T20:14:20.636Z"
   },
   {
    "duration": 315,
    "start_time": "2023-01-28T20:14:24.749Z"
   },
   {
    "duration": 352,
    "start_time": "2023-01-28T20:14:30.357Z"
   },
   {
    "duration": 167,
    "start_time": "2023-01-28T20:14:49.509Z"
   },
   {
    "duration": 22,
    "start_time": "2023-01-28T20:14:59.706Z"
   },
   {
    "duration": 58,
    "start_time": "2023-01-28T20:22:46.985Z"
   },
   {
    "duration": 44,
    "start_time": "2023-01-28T20:23:11.999Z"
   },
   {
    "duration": 58,
    "start_time": "2023-01-28T20:23:29.348Z"
   },
   {
    "duration": 13,
    "start_time": "2023-01-28T20:23:42.070Z"
   },
   {
    "duration": 11,
    "start_time": "2023-01-28T20:23:56.070Z"
   },
   {
    "duration": 34,
    "start_time": "2023-01-28T20:25:14.167Z"
   },
   {
    "duration": 20,
    "start_time": "2023-01-28T20:25:49.100Z"
   },
   {
    "duration": 18,
    "start_time": "2023-01-28T20:26:25.339Z"
   },
   {
    "duration": 26,
    "start_time": "2023-01-28T20:27:07.885Z"
   },
   {
    "duration": 13,
    "start_time": "2023-01-28T20:27:19.110Z"
   },
   {
    "duration": 15,
    "start_time": "2023-01-28T20:27:21.098Z"
   },
   {
    "duration": 38,
    "start_time": "2023-01-28T20:27:26.768Z"
   },
   {
    "duration": 1250,
    "start_time": "2023-01-28T20:27:44.651Z"
   },
   {
    "duration": 52,
    "start_time": "2023-01-28T20:27:45.903Z"
   },
   {
    "duration": 19,
    "start_time": "2023-01-28T20:27:45.957Z"
   },
   {
    "duration": 221,
    "start_time": "2023-01-28T20:27:45.978Z"
   },
   {
    "duration": 559,
    "start_time": "2023-01-28T20:27:46.200Z"
   },
   {
    "duration": 493,
    "start_time": "2023-01-28T20:27:46.761Z"
   },
   {
    "duration": 11,
    "start_time": "2023-01-28T20:27:47.255Z"
   },
   {
    "duration": 20,
    "start_time": "2023-01-28T20:27:47.268Z"
   },
   {
    "duration": 6,
    "start_time": "2023-01-28T20:27:47.290Z"
   },
   {
    "duration": 11,
    "start_time": "2023-01-28T20:27:47.301Z"
   },
   {
    "duration": 347,
    "start_time": "2023-01-28T20:27:47.314Z"
   },
   {
    "duration": 5,
    "start_time": "2023-01-28T20:27:47.663Z"
   },
   {
    "duration": 195,
    "start_time": "2023-01-28T20:27:47.670Z"
   },
   {
    "duration": 281,
    "start_time": "2023-01-28T20:27:47.867Z"
   },
   {
    "duration": 516,
    "start_time": "2023-01-28T20:27:48.150Z"
   },
   {
    "duration": 208,
    "start_time": "2023-01-28T20:27:48.668Z"
   },
   {
    "duration": 12,
    "start_time": "2023-01-28T20:27:48.878Z"
   },
   {
    "duration": 387,
    "start_time": "2023-01-28T20:27:48.892Z"
   },
   {
    "duration": 19,
    "start_time": "2023-01-28T20:27:49.284Z"
   },
   {
    "duration": 18,
    "start_time": "2023-01-28T20:27:49.305Z"
   },
   {
    "duration": 17,
    "start_time": "2023-01-28T20:27:49.325Z"
   },
   {
    "duration": 7,
    "start_time": "2023-01-28T20:27:49.344Z"
   },
   {
    "duration": 462,
    "start_time": "2023-01-28T20:27:49.353Z"
   },
   {
    "duration": 18,
    "start_time": "2023-01-28T20:27:49.820Z"
   },
   {
    "duration": 57,
    "start_time": "2023-01-28T20:27:49.840Z"
   },
   {
    "duration": 5033,
    "start_time": "2023-01-28T20:27:49.901Z"
   },
   {
    "duration": 17,
    "start_time": "2023-01-28T20:28:41.775Z"
   },
   {
    "duration": 15,
    "start_time": "2023-01-28T20:30:22.315Z"
   },
   {
    "duration": 20,
    "start_time": "2023-01-28T20:30:36.141Z"
   },
   {
    "duration": 17,
    "start_time": "2023-01-28T20:34:13.315Z"
   },
   {
    "duration": 17,
    "start_time": "2023-01-28T20:34:34.745Z"
   },
   {
    "duration": 14,
    "start_time": "2023-01-28T20:34:41.157Z"
   },
   {
    "duration": 46,
    "start_time": "2023-01-29T06:29:15.693Z"
   },
   {
    "duration": 1255,
    "start_time": "2023-01-29T06:29:24.112Z"
   },
   {
    "duration": 195,
    "start_time": "2023-01-29T06:29:25.369Z"
   },
   {
    "duration": 17,
    "start_time": "2023-01-29T06:29:25.565Z"
   },
   {
    "duration": 197,
    "start_time": "2023-01-29T06:29:25.584Z"
   },
   {
    "duration": 482,
    "start_time": "2023-01-29T06:29:25.782Z"
   },
   {
    "duration": 402,
    "start_time": "2023-01-29T06:29:26.266Z"
   },
   {
    "duration": 9,
    "start_time": "2023-01-29T06:29:26.670Z"
   },
   {
    "duration": 14,
    "start_time": "2023-01-29T06:29:26.681Z"
   },
   {
    "duration": 10,
    "start_time": "2023-01-29T06:29:26.697Z"
   },
   {
    "duration": 13,
    "start_time": "2023-01-29T06:29:26.709Z"
   },
   {
    "duration": 239,
    "start_time": "2023-01-29T06:29:26.724Z"
   },
   {
    "duration": 4,
    "start_time": "2023-01-29T06:29:26.967Z"
   },
   {
    "duration": 164,
    "start_time": "2023-01-29T06:29:26.972Z"
   },
   {
    "duration": 202,
    "start_time": "2023-01-29T06:29:27.137Z"
   },
   {
    "duration": 440,
    "start_time": "2023-01-29T06:29:27.340Z"
   },
   {
    "duration": 171,
    "start_time": "2023-01-29T06:29:27.781Z"
   },
   {
    "duration": 3,
    "start_time": "2023-01-29T06:29:27.954Z"
   },
   {
    "duration": 325,
    "start_time": "2023-01-29T06:29:27.958Z"
   },
   {
    "duration": 8,
    "start_time": "2023-01-29T06:29:28.286Z"
   },
   {
    "duration": 17,
    "start_time": "2023-01-29T06:29:28.296Z"
   },
   {
    "duration": 14,
    "start_time": "2023-01-29T06:29:28.315Z"
   },
   {
    "duration": 6,
    "start_time": "2023-01-29T06:29:28.330Z"
   },
   {
    "duration": 345,
    "start_time": "2023-01-29T06:29:28.368Z"
   },
   {
    "duration": 14,
    "start_time": "2023-01-29T06:29:28.715Z"
   },
   {
    "duration": 12,
    "start_time": "2023-01-29T06:29:28.730Z"
   },
   {
    "duration": 127,
    "start_time": "2023-01-29T06:29:28.743Z"
   },
   {
    "duration": 0,
    "start_time": "2023-01-29T06:29:28.871Z"
   },
   {
    "duration": 13,
    "start_time": "2023-01-29T06:29:43.087Z"
   },
   {
    "duration": 6,
    "start_time": "2023-01-29T06:29:48.797Z"
   },
   {
    "duration": 9,
    "start_time": "2023-01-29T06:29:57.395Z"
   },
   {
    "duration": 14,
    "start_time": "2023-01-29T06:30:45.376Z"
   },
   {
    "duration": 12,
    "start_time": "2023-01-29T06:30:59.947Z"
   },
   {
    "duration": 10,
    "start_time": "2023-01-29T06:31:03.188Z"
   },
   {
    "duration": 12,
    "start_time": "2023-01-29T06:32:22.041Z"
   },
   {
    "duration": 12,
    "start_time": "2023-01-29T06:32:52.207Z"
   },
   {
    "duration": 16,
    "start_time": "2023-01-29T06:33:36.205Z"
   },
   {
    "duration": 11,
    "start_time": "2023-01-29T06:33:41.013Z"
   },
   {
    "duration": 13,
    "start_time": "2023-01-29T06:34:44.322Z"
   },
   {
    "duration": 10,
    "start_time": "2023-01-29T06:38:32.490Z"
   },
   {
    "duration": 10,
    "start_time": "2023-01-29T06:39:50.266Z"
   },
   {
    "duration": 17,
    "start_time": "2023-01-29T06:40:41.964Z"
   },
   {
    "duration": 14,
    "start_time": "2023-01-29T06:43:07.953Z"
   },
   {
    "duration": 14,
    "start_time": "2023-01-29T06:43:18.078Z"
   },
   {
    "duration": 17,
    "start_time": "2023-01-29T06:43:37.300Z"
   },
   {
    "duration": 13,
    "start_time": "2023-01-29T06:45:27.616Z"
   },
   {
    "duration": 20,
    "start_time": "2023-01-29T07:32:00.771Z"
   },
   {
    "duration": 19,
    "start_time": "2023-01-29T07:32:04.816Z"
   },
   {
    "duration": 17,
    "start_time": "2023-01-29T07:32:08.827Z"
   },
   {
    "duration": 179,
    "start_time": "2023-01-29T08:23:23.548Z"
   },
   {
    "duration": 164,
    "start_time": "2023-01-29T08:23:32.823Z"
   },
   {
    "duration": 17,
    "start_time": "2023-01-29T08:23:41.124Z"
   },
   {
    "duration": 161,
    "start_time": "2023-01-29T08:23:45.815Z"
   },
   {
    "duration": 254,
    "start_time": "2023-01-29T08:23:54.253Z"
   },
   {
    "duration": 170,
    "start_time": "2023-01-29T08:28:15.451Z"
   },
   {
    "duration": 213,
    "start_time": "2023-01-29T08:28:22.681Z"
   },
   {
    "duration": 188,
    "start_time": "2023-01-29T08:42:10.697Z"
   },
   {
    "duration": 1333,
    "start_time": "2023-01-29T08:45:22.083Z"
   },
   {
    "duration": 61,
    "start_time": "2023-01-29T08:45:23.418Z"
   },
   {
    "duration": 22,
    "start_time": "2023-01-29T08:45:23.481Z"
   },
   {
    "duration": 229,
    "start_time": "2023-01-29T08:45:23.506Z"
   },
   {
    "duration": 595,
    "start_time": "2023-01-29T08:45:23.736Z"
   },
   {
    "duration": 472,
    "start_time": "2023-01-29T08:45:24.333Z"
   },
   {
    "duration": 22,
    "start_time": "2023-01-29T08:45:24.807Z"
   },
   {
    "duration": 9,
    "start_time": "2023-01-29T08:45:24.831Z"
   },
   {
    "duration": 15,
    "start_time": "2023-01-29T08:45:24.842Z"
   },
   {
    "duration": 49,
    "start_time": "2023-01-29T08:45:24.860Z"
   },
   {
    "duration": 405,
    "start_time": "2023-01-29T08:45:24.911Z"
   },
   {
    "duration": 7,
    "start_time": "2023-01-29T08:45:25.318Z"
   },
   {
    "duration": 242,
    "start_time": "2023-01-29T08:45:25.327Z"
   },
   {
    "duration": 327,
    "start_time": "2023-01-29T08:45:25.571Z"
   },
   {
    "duration": 624,
    "start_time": "2023-01-29T08:45:25.900Z"
   },
   {
    "duration": 237,
    "start_time": "2023-01-29T08:45:26.526Z"
   },
   {
    "duration": 401,
    "start_time": "2023-01-29T08:45:26.765Z"
   },
   {
    "duration": 15,
    "start_time": "2023-01-29T08:45:27.167Z"
   },
   {
    "duration": 276,
    "start_time": "2023-01-29T08:45:27.184Z"
   },
   {
    "duration": 252,
    "start_time": "2023-01-29T08:45:27.466Z"
   },
   {
    "duration": 10,
    "start_time": "2023-01-29T08:45:27.719Z"
   },
   {
    "duration": 524,
    "start_time": "2023-01-29T08:45:27.731Z"
   },
   {
    "duration": 19,
    "start_time": "2023-01-29T08:45:28.257Z"
   },
   {
    "duration": 31,
    "start_time": "2023-01-29T08:45:28.277Z"
   },
   {
    "duration": 10,
    "start_time": "2023-01-29T08:45:28.309Z"
   },
   {
    "duration": 14,
    "start_time": "2023-01-29T08:45:28.321Z"
   },
   {
    "duration": 4892,
    "start_time": "2023-01-29T08:45:28.337Z"
   },
   {
    "duration": 262,
    "start_time": "2023-01-29T08:46:06.962Z"
   },
   {
    "duration": 73,
    "start_time": "2023-01-29T10:07:39.626Z"
   },
   {
    "duration": 296,
    "start_time": "2023-01-29T10:07:55.429Z"
   },
   {
    "duration": 96,
    "start_time": "2023-01-29T10:12:49.979Z"
   },
   {
    "duration": 190,
    "start_time": "2023-01-29T10:13:09.928Z"
   },
   {
    "duration": 159,
    "start_time": "2023-01-29T10:14:46.342Z"
   },
   {
    "duration": 13,
    "start_time": "2023-01-29T10:18:33.540Z"
   },
   {
    "duration": 20,
    "start_time": "2023-01-29T10:18:45.279Z"
   },
   {
    "duration": 113,
    "start_time": "2023-01-29T10:19:59.581Z"
   },
   {
    "duration": 245,
    "start_time": "2023-01-29T10:20:07.952Z"
   },
   {
    "duration": 327,
    "start_time": "2023-01-29T10:21:36.292Z"
   },
   {
    "duration": 11,
    "start_time": "2023-01-29T10:36:45.441Z"
   },
   {
    "duration": 5,
    "start_time": "2023-01-29T10:36:50.288Z"
   },
   {
    "duration": 10,
    "start_time": "2023-01-29T10:37:00.939Z"
   },
   {
    "duration": 72,
    "start_time": "2023-01-29T10:38:21.080Z"
   },
   {
    "duration": 74,
    "start_time": "2023-01-29T10:38:56.798Z"
   },
   {
    "duration": 61,
    "start_time": "2023-01-29T10:39:17.128Z"
   },
   {
    "duration": 1074,
    "start_time": "2023-01-29T10:40:19.139Z"
   },
   {
    "duration": 1266,
    "start_time": "2023-01-29T10:42:14.034Z"
   },
   {
    "duration": 76,
    "start_time": "2023-01-29T10:42:25.567Z"
   },
   {
    "duration": 1049,
    "start_time": "2023-01-29T10:42:28.936Z"
   },
   {
    "duration": 1279,
    "start_time": "2023-01-29T10:42:42.544Z"
   },
   {
    "duration": 1095,
    "start_time": "2023-01-29T10:42:54.740Z"
   },
   {
    "duration": 1065,
    "start_time": "2023-01-29T10:43:12.989Z"
   },
   {
    "duration": 1078,
    "start_time": "2023-01-29T10:44:07.728Z"
   },
   {
    "duration": 1243,
    "start_time": "2023-01-29T10:45:03.437Z"
   },
   {
    "duration": 74,
    "start_time": "2023-01-29T10:45:57.583Z"
   },
   {
    "duration": 64,
    "start_time": "2023-01-29T10:46:12.431Z"
   },
   {
    "duration": 74,
    "start_time": "2023-01-29T10:46:28.762Z"
   },
   {
    "duration": 5,
    "start_time": "2023-01-29T10:46:56.128Z"
   },
   {
    "duration": 68,
    "start_time": "2023-01-29T10:47:18.376Z"
   },
   {
    "duration": 11,
    "start_time": "2023-01-29T10:48:24.596Z"
   },
   {
    "duration": 213,
    "start_time": "2023-01-29T10:49:55.824Z"
   },
   {
    "duration": 220,
    "start_time": "2023-01-29T10:50:09.365Z"
   },
   {
    "duration": 237,
    "start_time": "2023-01-29T10:51:26.395Z"
   },
   {
    "duration": 210,
    "start_time": "2023-01-29T10:51:49.183Z"
   },
   {
    "duration": 265,
    "start_time": "2023-01-29T10:53:44.753Z"
   },
   {
    "duration": 201,
    "start_time": "2023-01-29T10:58:56.331Z"
   },
   {
    "duration": 269,
    "start_time": "2023-01-29T11:03:49.128Z"
   },
   {
    "duration": 312,
    "start_time": "2023-01-29T11:05:21.251Z"
   },
   {
    "duration": 230,
    "start_time": "2023-01-29T11:06:06.547Z"
   },
   {
    "duration": 219,
    "start_time": "2023-01-29T11:07:01.699Z"
   },
   {
    "duration": 222,
    "start_time": "2023-01-29T11:07:06.945Z"
   },
   {
    "duration": 1459,
    "start_time": "2023-01-29T11:08:17.666Z"
   },
   {
    "duration": 779,
    "start_time": "2023-01-29T11:08:50.644Z"
   },
   {
    "duration": 197,
    "start_time": "2023-01-29T11:09:16.523Z"
   },
   {
    "duration": 224,
    "start_time": "2023-01-29T11:09:32.837Z"
   },
   {
    "duration": 230,
    "start_time": "2023-01-29T11:09:48.387Z"
   },
   {
    "duration": 73,
    "start_time": "2023-01-29T11:18:48.561Z"
   },
   {
    "duration": 72,
    "start_time": "2023-01-29T11:18:59.868Z"
   },
   {
    "duration": 308,
    "start_time": "2023-01-29T11:19:15.623Z"
   },
   {
    "duration": 219,
    "start_time": "2023-01-29T11:20:44.521Z"
   },
   {
    "duration": 212,
    "start_time": "2023-01-29T11:21:13.925Z"
   },
   {
    "duration": 237,
    "start_time": "2023-01-29T11:21:35.431Z"
   },
   {
    "duration": 236,
    "start_time": "2023-01-29T11:21:44.699Z"
   },
   {
    "duration": 10,
    "start_time": "2023-01-29T12:19:54.660Z"
   },
   {
    "duration": 275,
    "start_time": "2023-01-29T12:20:12.543Z"
   },
   {
    "duration": 255,
    "start_time": "2023-01-29T12:20:15.432Z"
   },
   {
    "duration": 448,
    "start_time": "2023-01-29T12:20:29.256Z"
   },
   {
    "duration": 285,
    "start_time": "2023-01-29T12:20:39.281Z"
   },
   {
    "duration": 277,
    "start_time": "2023-01-29T12:20:43.125Z"
   },
   {
    "duration": 289,
    "start_time": "2023-01-29T12:20:47.369Z"
   },
   {
    "duration": 16,
    "start_time": "2023-01-29T12:32:04.468Z"
   },
   {
    "duration": 72,
    "start_time": "2023-01-29T12:32:17.618Z"
   },
   {
    "duration": 70,
    "start_time": "2023-01-29T12:32:35.843Z"
   },
   {
    "duration": 93,
    "start_time": "2023-01-29T12:33:14.159Z"
   },
   {
    "duration": 90,
    "start_time": "2023-01-29T12:33:21.089Z"
   },
   {
    "duration": 12,
    "start_time": "2023-01-29T12:34:23.128Z"
   },
   {
    "duration": 91,
    "start_time": "2023-01-29T12:34:39.596Z"
   },
   {
    "duration": 1246,
    "start_time": "2023-01-29T12:35:23.224Z"
   },
   {
    "duration": 1696,
    "start_time": "2023-01-29T12:36:06.250Z"
   },
   {
    "duration": 1593,
    "start_time": "2023-01-29T12:36:20.939Z"
   },
   {
    "duration": 1469,
    "start_time": "2023-01-29T12:36:41.525Z"
   },
   {
    "duration": 1482,
    "start_time": "2023-01-29T12:36:49.230Z"
   },
   {
    "duration": 12,
    "start_time": "2023-01-29T12:37:25.529Z"
   },
   {
    "duration": 1536,
    "start_time": "2023-01-29T12:37:35.526Z"
   },
   {
    "duration": 1502,
    "start_time": "2023-01-29T12:38:59.338Z"
   },
   {
    "duration": 1426,
    "start_time": "2023-01-29T12:39:25.265Z"
   },
   {
    "duration": 1387,
    "start_time": "2023-01-29T12:39:43.903Z"
   },
   {
    "duration": 1201,
    "start_time": "2023-01-29T12:39:52.255Z"
   },
   {
    "duration": 55,
    "start_time": "2023-01-29T12:39:53.458Z"
   },
   {
    "duration": 15,
    "start_time": "2023-01-29T12:39:53.515Z"
   },
   {
    "duration": 210,
    "start_time": "2023-01-29T12:39:53.532Z"
   },
   {
    "duration": 532,
    "start_time": "2023-01-29T12:39:53.744Z"
   },
   {
    "duration": 398,
    "start_time": "2023-01-29T12:39:54.277Z"
   },
   {
    "duration": 11,
    "start_time": "2023-01-29T12:39:54.679Z"
   },
   {
    "duration": 11,
    "start_time": "2023-01-29T12:39:54.692Z"
   },
   {
    "duration": 22,
    "start_time": "2023-01-29T12:39:54.705Z"
   },
   {
    "duration": 23,
    "start_time": "2023-01-29T12:39:54.729Z"
   },
   {
    "duration": 275,
    "start_time": "2023-01-29T12:39:54.754Z"
   },
   {
    "duration": 4,
    "start_time": "2023-01-29T12:39:55.031Z"
   },
   {
    "duration": 225,
    "start_time": "2023-01-29T12:39:55.037Z"
   },
   {
    "duration": 260,
    "start_time": "2023-01-29T12:39:55.267Z"
   },
   {
    "duration": 440,
    "start_time": "2023-01-29T12:39:55.528Z"
   },
   {
    "duration": 261,
    "start_time": "2023-01-29T12:39:55.971Z"
   },
   {
    "duration": 283,
    "start_time": "2023-01-29T12:39:56.234Z"
   },
   {
    "duration": 1464,
    "start_time": "2023-01-29T12:39:56.519Z"
   },
   {
    "duration": 322,
    "start_time": "2023-01-29T12:39:57.985Z"
   },
   {
    "duration": 219,
    "start_time": "2023-01-29T12:39:58.309Z"
   },
   {
    "duration": 162,
    "start_time": "2023-01-29T12:39:58.530Z"
   },
   {
    "duration": 7,
    "start_time": "2023-01-29T12:39:58.694Z"
   },
   {
    "duration": 236,
    "start_time": "2023-01-29T12:39:58.703Z"
   },
   {
    "duration": 244,
    "start_time": "2023-01-29T12:39:58.941Z"
   },
   {
    "duration": 6,
    "start_time": "2023-01-29T12:39:59.187Z"
   },
   {
    "duration": 425,
    "start_time": "2023-01-29T12:39:59.194Z"
   },
   {
    "duration": 12,
    "start_time": "2023-01-29T12:39:59.621Z"
   },
   {
    "duration": 35,
    "start_time": "2023-01-29T12:39:59.636Z"
   },
   {
    "duration": 12,
    "start_time": "2023-01-29T12:39:59.675Z"
   },
   {
    "duration": 15,
    "start_time": "2023-01-29T12:39:59.689Z"
   },
   {
    "duration": 1715,
    "start_time": "2023-01-29T12:41:24.409Z"
   },
   {
    "duration": 350,
    "start_time": "2023-01-29T12:41:40.031Z"
   },
   {
    "duration": 251,
    "start_time": "2023-01-29T12:41:59.759Z"
   },
   {
    "duration": 124,
    "start_time": "2023-01-29T12:42:08.919Z"
   },
   {
    "duration": 284,
    "start_time": "2023-01-29T12:42:22.043Z"
   },
   {
    "duration": 307,
    "start_time": "2023-01-29T12:42:34.050Z"
   },
   {
    "duration": 273,
    "start_time": "2023-01-29T12:44:49.150Z"
   },
   {
    "duration": 296,
    "start_time": "2023-01-29T12:44:52.949Z"
   },
   {
    "duration": 431,
    "start_time": "2023-01-29T12:45:03.251Z"
   },
   {
    "duration": 12,
    "start_time": "2023-01-29T14:16:30.465Z"
   },
   {
    "duration": 14,
    "start_time": "2023-01-29T14:17:53.257Z"
   },
   {
    "duration": 10,
    "start_time": "2023-01-29T14:18:19.879Z"
   },
   {
    "duration": 13,
    "start_time": "2023-01-29T14:18:34.197Z"
   },
   {
    "duration": 73,
    "start_time": "2023-01-29T14:18:50.672Z"
   },
   {
    "duration": 74,
    "start_time": "2023-01-29T14:19:13.291Z"
   },
   {
    "duration": 1147,
    "start_time": "2023-01-29T14:20:49.035Z"
   },
   {
    "duration": 1154,
    "start_time": "2023-01-29T14:21:02.611Z"
   },
   {
    "duration": 1182,
    "start_time": "2023-01-29T14:21:18.556Z"
   },
   {
    "duration": 1128,
    "start_time": "2023-01-29T14:21:30.625Z"
   },
   {
    "duration": 5,
    "start_time": "2023-01-29T14:21:47.684Z"
   },
   {
    "duration": 7,
    "start_time": "2023-01-29T14:22:31.764Z"
   },
   {
    "duration": 118,
    "start_time": "2023-01-29T14:23:27.465Z"
   },
   {
    "duration": 19,
    "start_time": "2023-01-29T14:25:18.542Z"
   },
   {
    "duration": 30,
    "start_time": "2023-01-29T14:25:26.369Z"
   },
   {
    "duration": 37,
    "start_time": "2023-01-29T14:26:24.585Z"
   },
   {
    "duration": 1051,
    "start_time": "2023-01-29T14:26:35.434Z"
   },
   {
    "duration": 50,
    "start_time": "2023-01-29T14:26:36.487Z"
   },
   {
    "duration": 15,
    "start_time": "2023-01-29T14:26:36.538Z"
   },
   {
    "duration": 163,
    "start_time": "2023-01-29T14:26:36.555Z"
   },
   {
    "duration": 474,
    "start_time": "2023-01-29T14:26:36.721Z"
   },
   {
    "duration": 379,
    "start_time": "2023-01-29T14:26:37.197Z"
   },
   {
    "duration": 9,
    "start_time": "2023-01-29T14:26:37.577Z"
   },
   {
    "duration": 3,
    "start_time": "2023-01-29T14:26:37.588Z"
   },
   {
    "duration": 8,
    "start_time": "2023-01-29T14:26:37.592Z"
   },
   {
    "duration": 14,
    "start_time": "2023-01-29T14:26:37.601Z"
   },
   {
    "duration": 235,
    "start_time": "2023-01-29T14:26:37.617Z"
   },
   {
    "duration": 4,
    "start_time": "2023-01-29T14:26:37.853Z"
   },
   {
    "duration": 175,
    "start_time": "2023-01-29T14:26:37.858Z"
   },
   {
    "duration": 234,
    "start_time": "2023-01-29T14:26:38.035Z"
   },
   {
    "duration": 398,
    "start_time": "2023-01-29T14:26:38.270Z"
   },
   {
    "duration": 232,
    "start_time": "2023-01-29T14:26:38.669Z"
   },
   {
    "duration": 274,
    "start_time": "2023-01-29T14:26:38.903Z"
   },
   {
    "duration": 38,
    "start_time": "2023-01-29T14:26:39.179Z"
   },
   {
    "duration": 320,
    "start_time": "2023-01-29T14:26:39.218Z"
   },
   {
    "duration": 208,
    "start_time": "2023-01-29T14:26:39.540Z"
   },
   {
    "duration": 149,
    "start_time": "2023-01-29T14:26:39.749Z"
   },
   {
    "duration": 9,
    "start_time": "2023-01-29T14:26:39.900Z"
   },
   {
    "duration": 231,
    "start_time": "2023-01-29T14:26:39.911Z"
   },
   {
    "duration": 301,
    "start_time": "2023-01-29T14:26:40.144Z"
   },
   {
    "duration": 7,
    "start_time": "2023-01-29T14:26:40.446Z"
   },
   {
    "duration": 284,
    "start_time": "2023-01-29T14:26:40.467Z"
   },
   {
    "duration": 23,
    "start_time": "2023-01-29T14:26:40.752Z"
   },
   {
    "duration": 11,
    "start_time": "2023-01-29T14:26:40.777Z"
   },
   {
    "duration": 7,
    "start_time": "2023-01-29T14:26:40.789Z"
   },
   {
    "duration": 10,
    "start_time": "2023-01-29T14:26:40.798Z"
   },
   {
    "duration": 45,
    "start_time": "2023-01-29T14:26:50.087Z"
   },
   {
    "duration": 28,
    "start_time": "2023-01-29T14:28:15.290Z"
   },
   {
    "duration": 25,
    "start_time": "2023-01-29T14:29:22.993Z"
   },
   {
    "duration": 26,
    "start_time": "2023-01-29T14:29:56.881Z"
   },
   {
    "duration": 45,
    "start_time": "2023-01-29T14:30:03.047Z"
   },
   {
    "duration": 36,
    "start_time": "2023-01-29T14:30:22.393Z"
   },
   {
    "duration": 22,
    "start_time": "2023-01-29T14:31:18.584Z"
   },
   {
    "duration": 21,
    "start_time": "2023-01-29T14:31:25.347Z"
   },
   {
    "duration": 1247,
    "start_time": "2023-01-29T14:31:38.563Z"
   },
   {
    "duration": 45,
    "start_time": "2023-01-29T14:31:46.051Z"
   },
   {
    "duration": 28,
    "start_time": "2023-01-29T14:32:09.784Z"
   },
   {
    "duration": 16,
    "start_time": "2023-01-29T14:32:42.369Z"
   },
   {
    "duration": 24,
    "start_time": "2023-01-29T14:34:02.740Z"
   },
   {
    "duration": 37,
    "start_time": "2023-01-29T14:34:08.955Z"
   },
   {
    "duration": 33,
    "start_time": "2023-01-29T14:34:35.261Z"
   },
   {
    "duration": 1104,
    "start_time": "2023-01-29T14:34:51.418Z"
   },
   {
    "duration": 56,
    "start_time": "2023-01-29T14:34:52.524Z"
   },
   {
    "duration": 18,
    "start_time": "2023-01-29T14:34:52.581Z"
   },
   {
    "duration": 202,
    "start_time": "2023-01-29T14:34:52.601Z"
   },
   {
    "duration": 498,
    "start_time": "2023-01-29T14:34:52.806Z"
   },
   {
    "duration": 393,
    "start_time": "2023-01-29T14:34:53.306Z"
   },
   {
    "duration": 9,
    "start_time": "2023-01-29T14:34:53.701Z"
   },
   {
    "duration": 4,
    "start_time": "2023-01-29T14:34:53.712Z"
   },
   {
    "duration": 8,
    "start_time": "2023-01-29T14:34:53.717Z"
   },
   {
    "duration": 8,
    "start_time": "2023-01-29T14:34:53.727Z"
   },
   {
    "duration": 240,
    "start_time": "2023-01-29T14:34:53.767Z"
   },
   {
    "duration": 4,
    "start_time": "2023-01-29T14:34:54.009Z"
   },
   {
    "duration": 171,
    "start_time": "2023-01-29T14:34:54.014Z"
   },
   {
    "duration": 234,
    "start_time": "2023-01-29T14:34:54.188Z"
   },
   {
    "duration": 484,
    "start_time": "2023-01-29T14:34:54.424Z"
   },
   {
    "duration": 314,
    "start_time": "2023-01-29T14:34:54.911Z"
   },
   {
    "duration": 299,
    "start_time": "2023-01-29T14:34:55.226Z"
   },
   {
    "duration": 43,
    "start_time": "2023-01-29T14:34:55.527Z"
   },
   {
    "duration": 321,
    "start_time": "2023-01-29T14:34:55.571Z"
   },
   {
    "duration": 243,
    "start_time": "2023-01-29T14:34:55.894Z"
   },
   {
    "duration": 168,
    "start_time": "2023-01-29T14:34:56.139Z"
   },
   {
    "duration": 9,
    "start_time": "2023-01-29T14:34:56.309Z"
   },
   {
    "duration": 247,
    "start_time": "2023-01-29T14:34:56.320Z"
   },
   {
    "duration": 339,
    "start_time": "2023-01-29T14:34:56.569Z"
   },
   {
    "duration": 9,
    "start_time": "2023-01-29T14:34:56.910Z"
   },
   {
    "duration": 416,
    "start_time": "2023-01-29T14:34:56.921Z"
   },
   {
    "duration": 12,
    "start_time": "2023-01-29T14:34:57.339Z"
   },
   {
    "duration": 25,
    "start_time": "2023-01-29T14:34:57.352Z"
   },
   {
    "duration": 13,
    "start_time": "2023-01-29T14:34:57.379Z"
   },
   {
    "duration": 12,
    "start_time": "2023-01-29T14:34:57.393Z"
   },
   {
    "duration": 61,
    "start_time": "2023-01-29T14:35:01.643Z"
   },
   {
    "duration": 31,
    "start_time": "2023-01-29T14:35:29.195Z"
   },
   {
    "duration": 175,
    "start_time": "2023-01-29T14:35:34.340Z"
   },
   {
    "duration": 240,
    "start_time": "2023-01-29T14:35:54.769Z"
   },
   {
    "duration": 240,
    "start_time": "2023-01-29T14:36:12.014Z"
   },
   {
    "duration": 148,
    "start_time": "2023-01-29T14:37:15.578Z"
   },
   {
    "duration": 223,
    "start_time": "2023-01-29T14:37:19.904Z"
   },
   {
    "duration": 151,
    "start_time": "2023-01-29T14:37:29.748Z"
   },
   {
    "duration": 215,
    "start_time": "2023-01-29T14:37:37.184Z"
   },
   {
    "duration": 188,
    "start_time": "2023-01-29T14:40:38.351Z"
   },
   {
    "duration": 197,
    "start_time": "2023-01-29T14:49:01.851Z"
   },
   {
    "duration": 174,
    "start_time": "2023-01-29T14:52:22.063Z"
   },
   {
    "duration": 266,
    "start_time": "2023-01-29T14:52:27.144Z"
   },
   {
    "duration": 262,
    "start_time": "2023-01-29T14:52:41.245Z"
   },
   {
    "duration": 1210,
    "start_time": "2023-01-29T14:52:49.694Z"
   },
   {
    "duration": 55,
    "start_time": "2023-01-29T14:52:50.905Z"
   },
   {
    "duration": 30,
    "start_time": "2023-01-29T14:52:50.961Z"
   },
   {
    "duration": 218,
    "start_time": "2023-01-29T14:52:50.995Z"
   },
   {
    "duration": 567,
    "start_time": "2023-01-29T14:52:51.215Z"
   },
   {
    "duration": 445,
    "start_time": "2023-01-29T14:52:51.784Z"
   },
   {
    "duration": 10,
    "start_time": "2023-01-29T14:52:52.230Z"
   },
   {
    "duration": 4,
    "start_time": "2023-01-29T14:52:52.241Z"
   },
   {
    "duration": 25,
    "start_time": "2023-01-29T14:52:52.247Z"
   },
   {
    "duration": 12,
    "start_time": "2023-01-29T14:52:52.274Z"
   },
   {
    "duration": 270,
    "start_time": "2023-01-29T14:52:52.288Z"
   },
   {
    "duration": 18,
    "start_time": "2023-01-29T14:52:52.560Z"
   },
   {
    "duration": 217,
    "start_time": "2023-01-29T14:52:52.581Z"
   },
   {
    "duration": 258,
    "start_time": "2023-01-29T14:52:52.801Z"
   },
   {
    "duration": 511,
    "start_time": "2023-01-29T14:52:53.075Z"
   },
   {
    "duration": 301,
    "start_time": "2023-01-29T14:52:53.590Z"
   },
   {
    "duration": 324,
    "start_time": "2023-01-29T14:52:53.894Z"
   },
   {
    "duration": 295,
    "start_time": "2023-01-29T14:52:54.220Z"
   },
   {
    "duration": 414,
    "start_time": "2023-01-29T14:52:54.516Z"
   },
   {
    "duration": 325,
    "start_time": "2023-01-29T14:52:54.933Z"
   },
   {
    "duration": 190,
    "start_time": "2023-01-29T14:52:55.260Z"
   },
   {
    "duration": 30,
    "start_time": "2023-01-29T14:52:55.452Z"
   },
   {
    "duration": 325,
    "start_time": "2023-01-29T14:52:55.487Z"
   },
   {
    "duration": 279,
    "start_time": "2023-01-29T14:52:55.814Z"
   },
   {
    "duration": 8,
    "start_time": "2023-01-29T14:52:56.097Z"
   },
   {
    "duration": 365,
    "start_time": "2023-01-29T14:52:56.106Z"
   },
   {
    "duration": 22,
    "start_time": "2023-01-29T14:52:56.474Z"
   },
   {
    "duration": 14,
    "start_time": "2023-01-29T14:52:56.498Z"
   },
   {
    "duration": 13,
    "start_time": "2023-01-29T14:52:56.514Z"
   },
   {
    "duration": 14,
    "start_time": "2023-01-29T14:52:56.529Z"
   },
   {
    "duration": 6,
    "start_time": "2023-01-29T14:53:35.927Z"
   },
   {
    "duration": 260,
    "start_time": "2023-01-29T14:53:47.240Z"
   },
   {
    "duration": 326,
    "start_time": "2023-01-29T14:53:56.781Z"
   },
   {
    "duration": 275,
    "start_time": "2023-01-29T14:54:22.650Z"
   },
   {
    "duration": 337,
    "start_time": "2023-01-29T14:54:25.801Z"
   },
   {
    "duration": 106,
    "start_time": "2023-01-29T14:56:20.262Z"
   },
   {
    "duration": 242,
    "start_time": "2023-01-29T14:56:27.897Z"
   },
   {
    "duration": 213,
    "start_time": "2023-01-29T14:56:50.044Z"
   },
   {
    "duration": 233,
    "start_time": "2023-01-29T14:56:56.893Z"
   },
   {
    "duration": 343,
    "start_time": "2023-01-29T15:07:32.312Z"
   },
   {
    "duration": 376,
    "start_time": "2023-01-29T15:07:48.303Z"
   },
   {
    "duration": 331,
    "start_time": "2023-01-29T15:07:58.004Z"
   },
   {
    "duration": 341,
    "start_time": "2023-01-29T15:08:15.012Z"
   },
   {
    "duration": 326,
    "start_time": "2023-01-29T15:08:27.512Z"
   },
   {
    "duration": 296,
    "start_time": "2023-01-29T15:09:20.752Z"
   },
   {
    "duration": 333,
    "start_time": "2023-01-29T15:09:31.248Z"
   },
   {
    "duration": 434,
    "start_time": "2023-01-29T15:09:36.650Z"
   },
   {
    "duration": 203,
    "start_time": "2023-01-29T15:13:17.973Z"
   },
   {
    "duration": 217,
    "start_time": "2023-01-29T15:13:20.118Z"
   },
   {
    "duration": 354,
    "start_time": "2023-01-29T15:13:20.440Z"
   },
   {
    "duration": 77,
    "start_time": "2023-01-29T15:15:40.127Z"
   },
   {
    "duration": 26,
    "start_time": "2023-01-29T15:15:45.975Z"
   },
   {
    "duration": 235,
    "start_time": "2023-01-29T15:15:49.923Z"
   },
   {
    "duration": 229,
    "start_time": "2023-01-29T15:15:53.637Z"
   },
   {
    "duration": 221,
    "start_time": "2023-01-29T15:16:17.233Z"
   },
   {
    "duration": 1219,
    "start_time": "2023-01-29T16:12:42.968Z"
   },
   {
    "duration": 58,
    "start_time": "2023-01-29T16:12:44.190Z"
   },
   {
    "duration": 23,
    "start_time": "2023-01-29T16:12:44.250Z"
   },
   {
    "duration": 203,
    "start_time": "2023-01-29T16:12:44.275Z"
   },
   {
    "duration": 509,
    "start_time": "2023-01-29T16:12:44.481Z"
   },
   {
    "duration": 390,
    "start_time": "2023-01-29T16:12:44.992Z"
   },
   {
    "duration": 9,
    "start_time": "2023-01-29T16:12:45.385Z"
   },
   {
    "duration": 75,
    "start_time": "2023-01-29T16:12:45.395Z"
   },
   {
    "duration": 34,
    "start_time": "2023-01-29T16:12:45.472Z"
   },
   {
    "duration": 46,
    "start_time": "2023-01-29T16:12:45.508Z"
   },
   {
    "duration": 236,
    "start_time": "2023-01-29T16:12:45.556Z"
   },
   {
    "duration": 4,
    "start_time": "2023-01-29T16:12:45.794Z"
   },
   {
    "duration": 178,
    "start_time": "2023-01-29T16:12:45.803Z"
   },
   {
    "duration": 249,
    "start_time": "2023-01-29T16:12:45.984Z"
   },
   {
    "duration": 414,
    "start_time": "2023-01-29T16:12:46.235Z"
   },
   {
    "duration": 256,
    "start_time": "2023-01-29T16:12:46.650Z"
   },
   {
    "duration": 286,
    "start_time": "2023-01-29T16:12:46.908Z"
   },
   {
    "duration": 258,
    "start_time": "2023-01-29T16:12:47.196Z"
   },
   {
    "duration": 309,
    "start_time": "2023-01-29T16:12:47.455Z"
   },
   {
    "duration": 252,
    "start_time": "2023-01-29T16:12:47.765Z"
   },
   {
    "duration": 413,
    "start_time": "2023-01-29T16:12:48.019Z"
   },
   {
    "duration": 227,
    "start_time": "2023-01-29T16:12:48.434Z"
   },
   {
    "duration": 222,
    "start_time": "2023-01-29T16:12:48.663Z"
   },
   {
    "duration": 16,
    "start_time": "2023-01-29T16:12:48.887Z"
   },
   {
    "duration": 252,
    "start_time": "2023-01-29T16:12:48.905Z"
   },
   {
    "duration": 259,
    "start_time": "2023-01-29T16:12:49.159Z"
   },
   {
    "duration": 7,
    "start_time": "2023-01-29T16:12:49.420Z"
   },
   {
    "duration": 429,
    "start_time": "2023-01-29T16:12:49.429Z"
   },
   {
    "duration": 14,
    "start_time": "2023-01-29T16:12:49.860Z"
   },
   {
    "duration": 33,
    "start_time": "2023-01-29T16:12:49.876Z"
   },
   {
    "duration": 10,
    "start_time": "2023-01-29T16:12:49.911Z"
   },
   {
    "duration": 15,
    "start_time": "2023-01-29T16:12:49.923Z"
   },
   {
    "duration": 76,
    "start_time": "2023-01-29T17:14:10.974Z"
   },
   {
    "duration": 1214,
    "start_time": "2023-01-29T17:14:33.817Z"
   },
   {
    "duration": 48,
    "start_time": "2023-01-29T17:14:35.033Z"
   },
   {
    "duration": 16,
    "start_time": "2023-01-29T17:14:35.082Z"
   },
   {
    "duration": 208,
    "start_time": "2023-01-29T17:14:35.100Z"
   },
   {
    "duration": 503,
    "start_time": "2023-01-29T17:14:35.310Z"
   },
   {
    "duration": 388,
    "start_time": "2023-01-29T17:14:35.814Z"
   },
   {
    "duration": 10,
    "start_time": "2023-01-29T17:14:36.204Z"
   },
   {
    "duration": 25,
    "start_time": "2023-01-29T17:14:36.215Z"
   },
   {
    "duration": 18,
    "start_time": "2023-01-29T17:14:36.241Z"
   },
   {
    "duration": 21,
    "start_time": "2023-01-29T17:14:36.260Z"
   },
   {
    "duration": 237,
    "start_time": "2023-01-29T17:14:36.283Z"
   },
   {
    "duration": 4,
    "start_time": "2023-01-29T17:14:36.522Z"
   },
   {
    "duration": 91,
    "start_time": "2023-01-29T17:14:36.527Z"
   },
   {
    "duration": 175,
    "start_time": "2023-01-29T17:14:36.621Z"
   },
   {
    "duration": 306,
    "start_time": "2023-01-29T17:14:36.797Z"
   },
   {
    "duration": 368,
    "start_time": "2023-01-29T17:14:37.104Z"
   },
   {
    "duration": 277,
    "start_time": "2023-01-29T17:14:37.474Z"
   },
   {
    "duration": 452,
    "start_time": "2023-01-29T17:14:37.753Z"
   },
   {
    "duration": 445,
    "start_time": "2023-01-29T17:14:38.207Z"
   },
   {
    "duration": 689,
    "start_time": "2023-01-29T17:14:38.653Z"
   },
   {
    "duration": 526,
    "start_time": "2023-01-29T17:14:39.343Z"
   },
   {
    "duration": 339,
    "start_time": "2023-01-29T17:14:39.871Z"
   },
   {
    "duration": 217,
    "start_time": "2023-01-29T17:14:40.212Z"
   },
   {
    "duration": 166,
    "start_time": "2023-01-29T17:14:40.431Z"
   },
   {
    "duration": 8,
    "start_time": "2023-01-29T17:14:40.603Z"
   },
   {
    "duration": 231,
    "start_time": "2023-01-29T17:14:40.613Z"
   },
   {
    "duration": 237,
    "start_time": "2023-01-29T17:14:40.846Z"
   },
   {
    "duration": 7,
    "start_time": "2023-01-29T17:14:41.084Z"
   },
   {
    "duration": 341,
    "start_time": "2023-01-29T17:14:41.103Z"
   },
   {
    "duration": 13,
    "start_time": "2023-01-29T17:14:41.446Z"
   },
   {
    "duration": 14,
    "start_time": "2023-01-29T17:14:41.461Z"
   },
   {
    "duration": 33,
    "start_time": "2023-01-29T17:14:41.477Z"
   },
   {
    "duration": 16,
    "start_time": "2023-01-29T17:14:41.512Z"
   },
   {
    "duration": 1323,
    "start_time": "2023-01-30T08:41:21.861Z"
   },
   {
    "duration": 91,
    "start_time": "2023-01-30T08:41:23.186Z"
   },
   {
    "duration": 20,
    "start_time": "2023-01-30T08:41:23.582Z"
   },
   {
    "duration": 204,
    "start_time": "2023-01-30T08:41:26.387Z"
   },
   {
    "duration": 605,
    "start_time": "2023-01-30T08:41:27.277Z"
   },
   {
    "duration": 422,
    "start_time": "2023-01-30T08:41:28.151Z"
   },
   {
    "duration": 67,
    "start_time": "2023-01-31T07:42:49.356Z"
   },
   {
    "duration": 1408,
    "start_time": "2023-01-31T07:43:02.136Z"
   },
   {
    "duration": 95,
    "start_time": "2023-01-31T07:43:03.546Z"
   },
   {
    "duration": 21,
    "start_time": "2023-01-31T07:43:03.643Z"
   },
   {
    "duration": 228,
    "start_time": "2023-01-31T07:43:03.666Z"
   },
   {
    "duration": 580,
    "start_time": "2023-01-31T07:43:03.895Z"
   },
   {
    "duration": 434,
    "start_time": "2023-01-31T07:43:04.476Z"
   },
   {
    "duration": 10,
    "start_time": "2023-01-31T07:43:05.060Z"
   },
   {
    "duration": 871,
    "start_time": "2023-01-31T07:43:05.928Z"
   },
   {
    "duration": 20,
    "start_time": "2023-01-31T07:43:14.738Z"
   },
   {
    "duration": 4,
    "start_time": "2023-01-31T07:44:46.424Z"
   },
   {
    "duration": 7,
    "start_time": "2023-01-31T07:44:55.130Z"
   },
   {
    "duration": 7,
    "start_time": "2023-01-31T07:44:57.312Z"
   },
   {
    "duration": 15,
    "start_time": "2023-01-31T07:46:09.603Z"
   },
   {
    "duration": 18,
    "start_time": "2023-01-31T07:47:51.210Z"
   },
   {
    "duration": 18,
    "start_time": "2023-01-31T07:48:28.047Z"
   },
   {
    "duration": 18,
    "start_time": "2023-01-31T07:48:51.669Z"
   },
   {
    "duration": 58,
    "start_time": "2023-01-31T07:49:06.965Z"
   },
   {
    "duration": 18,
    "start_time": "2023-01-31T07:49:26.648Z"
   },
   {
    "duration": 16,
    "start_time": "2023-01-31T07:49:35.345Z"
   },
   {
    "duration": 1213,
    "start_time": "2023-01-31T07:49:46.783Z"
   },
   {
    "duration": 57,
    "start_time": "2023-01-31T07:49:47.998Z"
   },
   {
    "duration": 19,
    "start_time": "2023-01-31T07:49:48.057Z"
   },
   {
    "duration": 205,
    "start_time": "2023-01-31T07:49:48.171Z"
   },
   {
    "duration": 553,
    "start_time": "2023-01-31T07:49:48.406Z"
   },
   {
    "duration": 432,
    "start_time": "2023-01-31T07:49:48.961Z"
   },
   {
    "duration": 10,
    "start_time": "2023-01-31T07:49:49.415Z"
   },
   {
    "duration": 17,
    "start_time": "2023-01-31T07:49:50.092Z"
   },
   {
    "duration": 3,
    "start_time": "2023-01-31T07:49:51.590Z"
   },
   {
    "duration": 6,
    "start_time": "2023-01-31T07:49:52.195Z"
   },
   {
    "duration": 114,
    "start_time": "2023-01-31T07:49:53.068Z"
   },
   {
    "duration": 26,
    "start_time": "2023-01-31T07:50:40.852Z"
   },
   {
    "duration": 13,
    "start_time": "2023-01-31T07:52:16.322Z"
   },
   {
    "duration": 10,
    "start_time": "2023-01-31T07:52:21.546Z"
   },
   {
    "duration": 1230,
    "start_time": "2023-01-31T07:52:35.610Z"
   },
   {
    "duration": 49,
    "start_time": "2023-01-31T07:52:36.842Z"
   },
   {
    "duration": 22,
    "start_time": "2023-01-31T07:52:36.893Z"
   },
   {
    "duration": 202,
    "start_time": "2023-01-31T07:52:36.917Z"
   },
   {
    "duration": 536,
    "start_time": "2023-01-31T07:52:37.121Z"
   },
   {
    "duration": 422,
    "start_time": "2023-01-31T07:52:37.659Z"
   },
   {
    "duration": 9,
    "start_time": "2023-01-31T07:52:38.083Z"
   },
   {
    "duration": 16,
    "start_time": "2023-01-31T07:52:38.300Z"
   },
   {
    "duration": 7,
    "start_time": "2023-01-31T07:52:40.250Z"
   },
   {
    "duration": 6,
    "start_time": "2023-01-31T07:52:40.924Z"
   },
   {
    "duration": 9,
    "start_time": "2023-01-31T07:52:41.839Z"
   },
   {
    "duration": 9,
    "start_time": "2023-01-31T07:55:12.715Z"
   },
   {
    "duration": 11,
    "start_time": "2023-01-31T07:55:15.449Z"
   },
   {
    "duration": 267,
    "start_time": "2023-01-31T07:55:17.062Z"
   },
   {
    "duration": 5,
    "start_time": "2023-01-31T07:55:27.096Z"
   },
   {
    "duration": 180,
    "start_time": "2023-01-31T07:58:32.097Z"
   },
   {
    "duration": 94,
    "start_time": "2023-01-31T08:20:35.934Z"
   },
   {
    "duration": 201,
    "start_time": "2023-01-31T08:20:37.185Z"
   },
   {
    "duration": 200,
    "start_time": "2023-01-31T08:22:48.137Z"
   },
   {
    "duration": 304,
    "start_time": "2023-01-31T08:22:51.271Z"
   },
   {
    "duration": 166,
    "start_time": "2023-01-31T08:22:54.274Z"
   },
   {
    "duration": 142,
    "start_time": "2023-01-31T08:23:01.597Z"
   },
   {
    "duration": 196,
    "start_time": "2023-01-31T08:23:06.188Z"
   },
   {
    "duration": 652,
    "start_time": "2023-01-31T08:23:08.345Z"
   },
   {
    "duration": 380,
    "start_time": "2023-01-31T08:23:13.315Z"
   },
   {
    "duration": 184,
    "start_time": "2023-01-31T08:23:17.618Z"
   },
   {
    "duration": 180,
    "start_time": "2023-01-31T08:23:29.925Z"
   },
   {
    "duration": 253,
    "start_time": "2023-01-31T08:23:31.718Z"
   },
   {
    "duration": 338,
    "start_time": "2023-01-31T08:23:33.368Z"
   },
   {
    "duration": 207,
    "start_time": "2023-01-31T08:25:24.856Z"
   },
   {
    "duration": 347,
    "start_time": "2023-01-31T08:25:43.923Z"
   },
   {
    "duration": 182,
    "start_time": "2023-01-31T08:28:53.964Z"
   },
   {
    "duration": 290,
    "start_time": "2023-01-31T08:30:25.116Z"
   },
   {
    "duration": 193,
    "start_time": "2023-01-31T08:30:51.909Z"
   },
   {
    "duration": 325,
    "start_time": "2023-01-31T08:31:48.413Z"
   },
   {
    "duration": 365,
    "start_time": "2023-01-31T08:32:09.687Z"
   },
   {
    "duration": 146,
    "start_time": "2023-01-31T08:35:05.673Z"
   },
   {
    "duration": 401,
    "start_time": "2023-01-31T08:39:05.806Z"
   },
   {
    "duration": 289,
    "start_time": "2023-01-31T08:41:00.905Z"
   },
   {
    "duration": 30,
    "start_time": "2023-01-31T08:44:35.723Z"
   },
   {
    "duration": 8,
    "start_time": "2023-01-31T08:44:50.081Z"
   },
   {
    "duration": 9,
    "start_time": "2023-01-31T08:44:55.708Z"
   },
   {
    "duration": 4,
    "start_time": "2023-01-31T08:46:01.603Z"
   },
   {
    "duration": 22,
    "start_time": "2023-01-31T08:46:10.210Z"
   },
   {
    "duration": 18,
    "start_time": "2023-01-31T08:46:27.705Z"
   },
   {
    "duration": 23,
    "start_time": "2023-01-31T08:46:34.096Z"
   },
   {
    "duration": 22,
    "start_time": "2023-01-31T08:46:45.007Z"
   },
   {
    "duration": 1366,
    "start_time": "2023-01-31T08:46:58.528Z"
   },
   {
    "duration": 55,
    "start_time": "2023-01-31T08:46:59.896Z"
   },
   {
    "duration": 17,
    "start_time": "2023-01-31T08:46:59.953Z"
   },
   {
    "duration": 214,
    "start_time": "2023-01-31T08:46:59.972Z"
   },
   {
    "duration": 616,
    "start_time": "2023-01-31T08:47:00.188Z"
   },
   {
    "duration": 441,
    "start_time": "2023-01-31T08:47:00.806Z"
   },
   {
    "duration": 11,
    "start_time": "2023-01-31T08:47:01.250Z"
   },
   {
    "duration": 52,
    "start_time": "2023-01-31T08:47:01.262Z"
   },
   {
    "duration": 3,
    "start_time": "2023-01-31T08:47:01.499Z"
   },
   {
    "duration": 6,
    "start_time": "2023-01-31T08:47:02.041Z"
   },
   {
    "duration": 11,
    "start_time": "2023-01-31T08:47:02.947Z"
   },
   {
    "duration": 246,
    "start_time": "2023-01-31T08:47:03.867Z"
   },
   {
    "duration": 4,
    "start_time": "2023-01-31T08:47:04.193Z"
   },
   {
    "duration": 167,
    "start_time": "2023-01-31T08:47:04.996Z"
   },
   {
    "duration": 187,
    "start_time": "2023-01-31T08:47:05.417Z"
   },
   {
    "duration": 244,
    "start_time": "2023-01-31T08:47:06.396Z"
   },
   {
    "duration": 19,
    "start_time": "2023-01-31T08:47:06.799Z"
   },
   {
    "duration": 3,
    "start_time": "2023-01-31T08:47:06.979Z"
   },
   {
    "duration": 11,
    "start_time": "2023-01-31T08:47:07.850Z"
   },
   {
    "duration": 10,
    "start_time": "2023-01-31T08:48:34.498Z"
   },
   {
    "duration": 12,
    "start_time": "2023-01-31T08:49:18.500Z"
   },
   {
    "duration": 1189,
    "start_time": "2023-01-31T08:49:25.544Z"
   },
   {
    "duration": 49,
    "start_time": "2023-01-31T08:49:26.737Z"
   },
   {
    "duration": 19,
    "start_time": "2023-01-31T08:49:26.788Z"
   },
   {
    "duration": 202,
    "start_time": "2023-01-31T08:49:26.809Z"
   },
   {
    "duration": 546,
    "start_time": "2023-01-31T08:49:27.012Z"
   },
   {
    "duration": 430,
    "start_time": "2023-01-31T08:49:27.560Z"
   },
   {
    "duration": 10,
    "start_time": "2023-01-31T08:49:27.992Z"
   },
   {
    "duration": 35,
    "start_time": "2023-01-31T08:49:28.003Z"
   },
   {
    "duration": 4,
    "start_time": "2023-01-31T08:49:28.039Z"
   },
   {
    "duration": 12,
    "start_time": "2023-01-31T08:49:28.045Z"
   },
   {
    "duration": 16,
    "start_time": "2023-01-31T08:49:28.058Z"
   },
   {
    "duration": 254,
    "start_time": "2023-01-31T08:49:28.076Z"
   },
   {
    "duration": 4,
    "start_time": "2023-01-31T08:49:28.332Z"
   },
   {
    "duration": 187,
    "start_time": "2023-01-31T08:49:28.337Z"
   },
   {
    "duration": 0,
    "start_time": "2023-01-31T08:49:28.526Z"
   },
   {
    "duration": 0,
    "start_time": "2023-01-31T08:49:28.527Z"
   },
   {
    "duration": 0,
    "start_time": "2023-01-31T08:49:28.528Z"
   },
   {
    "duration": 0,
    "start_time": "2023-01-31T08:49:28.529Z"
   },
   {
    "duration": 0,
    "start_time": "2023-01-31T08:49:28.531Z"
   },
   {
    "duration": 0,
    "start_time": "2023-01-31T08:49:28.532Z"
   },
   {
    "duration": 0,
    "start_time": "2023-01-31T08:49:28.534Z"
   },
   {
    "duration": 0,
    "start_time": "2023-01-31T08:49:28.535Z"
   },
   {
    "duration": 0,
    "start_time": "2023-01-31T08:49:28.536Z"
   },
   {
    "duration": 0,
    "start_time": "2023-01-31T08:49:28.537Z"
   },
   {
    "duration": 0,
    "start_time": "2023-01-31T08:49:28.538Z"
   },
   {
    "duration": 0,
    "start_time": "2023-01-31T08:49:28.540Z"
   },
   {
    "duration": 0,
    "start_time": "2023-01-31T08:49:28.541Z"
   },
   {
    "duration": 0,
    "start_time": "2023-01-31T08:49:28.542Z"
   },
   {
    "duration": 0,
    "start_time": "2023-01-31T08:49:28.544Z"
   },
   {
    "duration": 0,
    "start_time": "2023-01-31T08:49:28.545Z"
   },
   {
    "duration": 0,
    "start_time": "2023-01-31T08:49:28.546Z"
   },
   {
    "duration": 0,
    "start_time": "2023-01-31T08:49:28.547Z"
   },
   {
    "duration": 0,
    "start_time": "2023-01-31T08:49:28.548Z"
   },
   {
    "duration": 0,
    "start_time": "2023-01-31T08:49:28.550Z"
   },
   {
    "duration": 0,
    "start_time": "2023-01-31T08:49:28.551Z"
   },
   {
    "duration": 0,
    "start_time": "2023-01-31T08:49:28.553Z"
   },
   {
    "duration": 1179,
    "start_time": "2023-01-31T08:49:45.810Z"
   },
   {
    "duration": 50,
    "start_time": "2023-01-31T08:49:46.990Z"
   },
   {
    "duration": 18,
    "start_time": "2023-01-31T08:49:47.042Z"
   },
   {
    "duration": 223,
    "start_time": "2023-01-31T08:49:47.062Z"
   },
   {
    "duration": 543,
    "start_time": "2023-01-31T08:49:47.287Z"
   },
   {
    "duration": 425,
    "start_time": "2023-01-31T08:49:47.832Z"
   },
   {
    "duration": 11,
    "start_time": "2023-01-31T08:49:48.259Z"
   },
   {
    "duration": 40,
    "start_time": "2023-01-31T08:49:48.271Z"
   },
   {
    "duration": 4,
    "start_time": "2023-01-31T08:49:48.312Z"
   },
   {
    "duration": 34,
    "start_time": "2023-01-31T08:49:48.317Z"
   },
   {
    "duration": 35,
    "start_time": "2023-01-31T08:49:48.353Z"
   },
   {
    "duration": 278,
    "start_time": "2023-01-31T08:49:48.390Z"
   },
   {
    "duration": 3,
    "start_time": "2023-01-31T08:49:48.670Z"
   },
   {
    "duration": 202,
    "start_time": "2023-01-31T08:49:48.676Z"
   },
   {
    "duration": 0,
    "start_time": "2023-01-31T08:49:48.880Z"
   },
   {
    "duration": 0,
    "start_time": "2023-01-31T08:49:48.881Z"
   },
   {
    "duration": 0,
    "start_time": "2023-01-31T08:49:48.882Z"
   },
   {
    "duration": 0,
    "start_time": "2023-01-31T08:49:48.883Z"
   },
   {
    "duration": 0,
    "start_time": "2023-01-31T08:49:48.885Z"
   },
   {
    "duration": 0,
    "start_time": "2023-01-31T08:49:48.886Z"
   },
   {
    "duration": 0,
    "start_time": "2023-01-31T08:49:48.887Z"
   },
   {
    "duration": 0,
    "start_time": "2023-01-31T08:49:48.889Z"
   },
   {
    "duration": 0,
    "start_time": "2023-01-31T08:49:48.890Z"
   },
   {
    "duration": 0,
    "start_time": "2023-01-31T08:49:48.891Z"
   },
   {
    "duration": 0,
    "start_time": "2023-01-31T08:49:48.892Z"
   },
   {
    "duration": 0,
    "start_time": "2023-01-31T08:49:48.894Z"
   },
   {
    "duration": 0,
    "start_time": "2023-01-31T08:49:48.895Z"
   },
   {
    "duration": 0,
    "start_time": "2023-01-31T08:49:48.896Z"
   },
   {
    "duration": 0,
    "start_time": "2023-01-31T08:49:48.898Z"
   },
   {
    "duration": 0,
    "start_time": "2023-01-31T08:49:48.899Z"
   },
   {
    "duration": 0,
    "start_time": "2023-01-31T08:49:48.932Z"
   },
   {
    "duration": 0,
    "start_time": "2023-01-31T08:49:48.933Z"
   },
   {
    "duration": 0,
    "start_time": "2023-01-31T08:49:48.933Z"
   },
   {
    "duration": 0,
    "start_time": "2023-01-31T08:49:48.935Z"
   },
   {
    "duration": 0,
    "start_time": "2023-01-31T08:49:48.937Z"
   },
   {
    "duration": 0,
    "start_time": "2023-01-31T08:49:48.938Z"
   },
   {
    "duration": 190,
    "start_time": "2023-01-31T08:51:09.082Z"
   },
   {
    "duration": 315,
    "start_time": "2023-01-31T08:51:11.548Z"
   },
   {
    "duration": 17,
    "start_time": "2023-01-31T08:51:12.261Z"
   },
   {
    "duration": 3,
    "start_time": "2023-01-31T08:51:12.573Z"
   },
   {
    "duration": 9,
    "start_time": "2023-01-31T08:51:14.597Z"
   },
   {
    "duration": 1175,
    "start_time": "2023-01-31T08:51:42.344Z"
   },
   {
    "duration": 65,
    "start_time": "2023-01-31T08:51:43.526Z"
   },
   {
    "duration": 30,
    "start_time": "2023-01-31T08:51:43.593Z"
   },
   {
    "duration": 212,
    "start_time": "2023-01-31T08:51:43.625Z"
   },
   {
    "duration": 553,
    "start_time": "2023-01-31T08:51:43.840Z"
   },
   {
    "duration": 427,
    "start_time": "2023-01-31T08:51:44.395Z"
   },
   {
    "duration": 13,
    "start_time": "2023-01-31T08:51:44.826Z"
   },
   {
    "duration": 19,
    "start_time": "2023-01-31T08:51:44.841Z"
   },
   {
    "duration": 4,
    "start_time": "2023-01-31T08:51:44.862Z"
   },
   {
    "duration": 13,
    "start_time": "2023-01-31T08:51:44.869Z"
   },
   {
    "duration": 13,
    "start_time": "2023-01-31T08:51:44.884Z"
   },
   {
    "duration": 269,
    "start_time": "2023-01-31T08:51:44.898Z"
   },
   {
    "duration": 5,
    "start_time": "2023-01-31T08:51:45.168Z"
   },
   {
    "duration": 190,
    "start_time": "2023-01-31T08:51:45.174Z"
   },
   {
    "duration": 240,
    "start_time": "2023-01-31T08:51:45.366Z"
   },
   {
    "duration": 24,
    "start_time": "2023-01-31T08:51:45.608Z"
   },
   {
    "duration": 449,
    "start_time": "2023-01-31T08:51:45.634Z"
   },
   {
    "duration": 280,
    "start_time": "2023-01-31T08:51:46.085Z"
   },
   {
    "duration": 325,
    "start_time": "2023-01-31T08:51:46.367Z"
   },
   {
    "duration": 245,
    "start_time": "2023-01-31T08:51:46.694Z"
   },
   {
    "duration": 327,
    "start_time": "2023-01-31T08:51:46.941Z"
   },
   {
    "duration": 270,
    "start_time": "2023-01-31T08:51:47.270Z"
   },
   {
    "duration": 452,
    "start_time": "2023-01-31T08:51:47.542Z"
   },
   {
    "duration": 244,
    "start_time": "2023-01-31T08:51:47.995Z"
   },
   {
    "duration": 170,
    "start_time": "2023-01-31T08:51:48.241Z"
   },
   {
    "duration": 19,
    "start_time": "2023-01-31T08:51:48.412Z"
   },
   {
    "duration": 250,
    "start_time": "2023-01-31T08:51:48.433Z"
   },
   {
    "duration": 244,
    "start_time": "2023-01-31T08:51:48.686Z"
   },
   {
    "duration": 8,
    "start_time": "2023-01-31T08:51:48.931Z"
   },
   {
    "duration": 358,
    "start_time": "2023-01-31T08:51:48.940Z"
   },
   {
    "duration": 12,
    "start_time": "2023-01-31T08:51:49.300Z"
   },
   {
    "duration": 17,
    "start_time": "2023-01-31T08:51:49.326Z"
   },
   {
    "duration": 16,
    "start_time": "2023-01-31T08:51:49.345Z"
   },
   {
    "duration": 24,
    "start_time": "2023-01-31T08:51:49.363Z"
   },
   {
    "duration": 479,
    "start_time": "2023-01-31T08:52:22.304Z"
   },
   {
    "duration": 1251,
    "start_time": "2023-01-31T08:52:29.617Z"
   },
   {
    "duration": 50,
    "start_time": "2023-01-31T08:52:30.871Z"
   },
   {
    "duration": 35,
    "start_time": "2023-01-31T08:52:30.923Z"
   },
   {
    "duration": 249,
    "start_time": "2023-01-31T08:52:30.960Z"
   },
   {
    "duration": 533,
    "start_time": "2023-01-31T08:52:31.210Z"
   },
   {
    "duration": 443,
    "start_time": "2023-01-31T08:52:31.745Z"
   },
   {
    "duration": 10,
    "start_time": "2023-01-31T08:52:32.190Z"
   },
   {
    "duration": 59,
    "start_time": "2023-01-31T08:52:32.202Z"
   },
   {
    "duration": 16,
    "start_time": "2023-01-31T08:52:32.263Z"
   },
   {
    "duration": 31,
    "start_time": "2023-01-31T08:52:32.281Z"
   },
   {
    "duration": 48,
    "start_time": "2023-01-31T08:52:32.314Z"
   },
   {
    "duration": 269,
    "start_time": "2023-01-31T08:52:32.363Z"
   },
   {
    "duration": 8,
    "start_time": "2023-01-31T08:52:32.634Z"
   },
   {
    "duration": 218,
    "start_time": "2023-01-31T08:52:32.645Z"
   },
   {
    "duration": 230,
    "start_time": "2023-01-31T08:52:32.865Z"
   },
   {
    "duration": 31,
    "start_time": "2023-01-31T08:52:33.097Z"
   },
   {
    "duration": 465,
    "start_time": "2023-01-31T08:52:33.130Z"
   },
   {
    "duration": 273,
    "start_time": "2023-01-31T08:52:33.597Z"
   },
   {
    "duration": 299,
    "start_time": "2023-01-31T08:52:33.872Z"
   },
   {
    "duration": 261,
    "start_time": "2023-01-31T08:52:34.173Z"
   },
   {
    "duration": 344,
    "start_time": "2023-01-31T08:52:34.436Z"
   },
   {
    "duration": 287,
    "start_time": "2023-01-31T08:52:34.781Z"
   },
   {
    "duration": 490,
    "start_time": "2023-01-31T08:52:35.070Z"
   },
   {
    "duration": 250,
    "start_time": "2023-01-31T08:52:35.562Z"
   },
   {
    "duration": 185,
    "start_time": "2023-01-31T08:52:35.814Z"
   },
   {
    "duration": 9,
    "start_time": "2023-01-31T08:52:36.000Z"
   },
   {
    "duration": 283,
    "start_time": "2023-01-31T08:52:36.011Z"
   },
   {
    "duration": 300,
    "start_time": "2023-01-31T08:52:36.297Z"
   },
   {
    "duration": 7,
    "start_time": "2023-01-31T08:52:36.599Z"
   },
   {
    "duration": 389,
    "start_time": "2023-01-31T08:52:36.608Z"
   },
   {
    "duration": 35,
    "start_time": "2023-01-31T08:52:37.000Z"
   },
   {
    "duration": 21,
    "start_time": "2023-01-31T08:52:37.037Z"
   },
   {
    "duration": 42,
    "start_time": "2023-01-31T08:52:37.059Z"
   },
   {
    "duration": 55,
    "start_time": "2023-01-31T08:52:37.103Z"
   },
   {
    "duration": 239,
    "start_time": "2023-01-31T09:29:56.045Z"
   },
   {
    "duration": 328,
    "start_time": "2023-01-31T09:30:04.882Z"
   },
   {
    "duration": 242,
    "start_time": "2023-01-31T09:33:42.877Z"
   },
   {
    "duration": 55,
    "start_time": "2023-01-31T09:34:01.283Z"
   },
   {
    "duration": 155,
    "start_time": "2023-01-31T09:34:10.877Z"
   },
   {
    "duration": 195,
    "start_time": "2023-01-31T09:34:20.894Z"
   },
   {
    "duration": 198,
    "start_time": "2023-01-31T09:34:33.808Z"
   },
   {
    "duration": 142,
    "start_time": "2023-01-31T09:34:42.936Z"
   },
   {
    "duration": 47,
    "start_time": "2023-01-31T09:47:44.536Z"
   },
   {
    "duration": 52,
    "start_time": "2023-01-31T09:47:52.729Z"
   },
   {
    "duration": 11,
    "start_time": "2023-01-31T09:48:11.835Z"
   },
   {
    "duration": 10,
    "start_time": "2023-01-31T09:48:49.385Z"
   },
   {
    "duration": 11,
    "start_time": "2023-01-31T09:48:54.542Z"
   },
   {
    "duration": 206,
    "start_time": "2023-01-31T09:49:01.591Z"
   },
   {
    "duration": 134,
    "start_time": "2023-01-31T09:49:08.894Z"
   },
   {
    "duration": 141,
    "start_time": "2023-01-31T09:49:45.754Z"
   },
   {
    "duration": 217,
    "start_time": "2023-01-31T09:49:50.583Z"
   },
   {
    "duration": 50,
    "start_time": "2023-01-31T09:50:50.636Z"
   },
   {
    "duration": 12,
    "start_time": "2023-01-31T09:50:54.724Z"
   },
   {
    "duration": 144,
    "start_time": "2023-01-31T09:51:00.963Z"
   },
   {
    "duration": 232,
    "start_time": "2023-01-31T09:51:05.862Z"
   },
   {
    "duration": 154,
    "start_time": "2023-01-31T09:51:39.741Z"
   },
   {
    "duration": 132,
    "start_time": "2023-01-31T09:51:54.383Z"
   },
   {
    "duration": 144,
    "start_time": "2023-01-31T09:52:12.234Z"
   },
   {
    "duration": 62,
    "start_time": "2023-01-31T09:52:17.155Z"
   },
   {
    "duration": 180,
    "start_time": "2023-01-31T09:52:20.571Z"
   },
   {
    "duration": 154,
    "start_time": "2023-01-31T09:54:00.997Z"
   },
   {
    "duration": 234,
    "start_time": "2023-01-31T09:54:32.523Z"
   },
   {
    "duration": 48,
    "start_time": "2023-01-31T09:54:40.724Z"
   },
   {
    "duration": 47,
    "start_time": "2023-01-31T09:54:52.659Z"
   },
   {
    "duration": 51,
    "start_time": "2023-01-31T09:54:58.962Z"
   },
   {
    "duration": 248,
    "start_time": "2023-01-31T09:55:04.925Z"
   },
   {
    "duration": 208,
    "start_time": "2023-01-31T09:55:14.342Z"
   },
   {
    "duration": 11,
    "start_time": "2023-01-31T10:20:01.644Z"
   },
   {
    "duration": 208,
    "start_time": "2023-01-31T10:20:08.086Z"
   },
   {
    "duration": 819,
    "start_time": "2023-01-31T10:22:01.944Z"
   },
   {
    "duration": 35,
    "start_time": "2023-01-31T10:22:09.936Z"
   },
   {
    "duration": 200,
    "start_time": "2023-01-31T10:24:23.969Z"
   },
   {
    "duration": 861,
    "start_time": "2023-01-31T10:24:51.981Z"
   },
   {
    "duration": 348,
    "start_time": "2023-01-31T10:25:23.906Z"
   },
   {
    "duration": 224,
    "start_time": "2023-01-31T10:25:29.077Z"
   },
   {
    "duration": 251,
    "start_time": "2023-01-31T10:25:39.912Z"
   },
   {
    "duration": 226,
    "start_time": "2023-01-31T10:26:17.715Z"
   },
   {
    "duration": 207,
    "start_time": "2023-01-31T10:26:25.489Z"
   },
   {
    "duration": 143,
    "start_time": "2023-01-31T10:36:22.175Z"
   },
   {
    "duration": 301,
    "start_time": "2023-01-31T10:37:24.326Z"
   },
   {
    "duration": 364,
    "start_time": "2023-01-31T10:38:43.956Z"
   },
   {
    "duration": 281,
    "start_time": "2023-01-31T10:38:50.753Z"
   },
   {
    "duration": 293,
    "start_time": "2023-01-31T10:38:52.720Z"
   },
   {
    "duration": 45,
    "start_time": "2023-01-31T10:50:41.374Z"
   },
   {
    "duration": 10,
    "start_time": "2023-01-31T10:50:52.656Z"
   },
   {
    "duration": 346,
    "start_time": "2023-01-31T10:50:53.351Z"
   },
   {
    "duration": 493,
    "start_time": "2023-01-31T10:51:35.368Z"
   },
   {
    "duration": 9,
    "start_time": "2023-01-31T10:53:02.200Z"
   },
   {
    "duration": 1222,
    "start_time": "2023-01-31T10:53:06.937Z"
   },
   {
    "duration": 50,
    "start_time": "2023-01-31T10:53:08.161Z"
   },
   {
    "duration": 22,
    "start_time": "2023-01-31T10:53:08.213Z"
   },
   {
    "duration": 226,
    "start_time": "2023-01-31T10:53:08.237Z"
   },
   {
    "duration": 546,
    "start_time": "2023-01-31T10:53:08.465Z"
   },
   {
    "duration": 460,
    "start_time": "2023-01-31T10:53:09.013Z"
   },
   {
    "duration": 10,
    "start_time": "2023-01-31T10:53:09.474Z"
   },
   {
    "duration": 31,
    "start_time": "2023-01-31T10:53:09.485Z"
   },
   {
    "duration": 13,
    "start_time": "2023-01-31T10:53:09.518Z"
   },
   {
    "duration": 25,
    "start_time": "2023-01-31T10:53:09.535Z"
   },
   {
    "duration": 15,
    "start_time": "2023-01-31T10:53:09.562Z"
   },
   {
    "duration": 295,
    "start_time": "2023-01-31T10:53:09.579Z"
   },
   {
    "duration": 5,
    "start_time": "2023-01-31T10:53:09.875Z"
   },
   {
    "duration": 202,
    "start_time": "2023-01-31T10:53:09.882Z"
   },
   {
    "duration": 277,
    "start_time": "2023-01-31T10:53:10.086Z"
   },
   {
    "duration": 21,
    "start_time": "2023-01-31T10:53:10.365Z"
   },
   {
    "duration": 535,
    "start_time": "2023-01-31T10:53:10.388Z"
   },
   {
    "duration": 244,
    "start_time": "2023-01-31T10:53:10.925Z"
   },
   {
    "duration": 223,
    "start_time": "2023-01-31T10:53:11.171Z"
   },
   {
    "duration": 378,
    "start_time": "2023-01-31T10:53:11.395Z"
   },
   {
    "duration": 228,
    "start_time": "2023-01-31T10:53:11.775Z"
   },
   {
    "duration": 193,
    "start_time": "2023-01-31T10:53:12.004Z"
   },
   {
    "duration": 8,
    "start_time": "2023-01-31T10:53:12.198Z"
   },
   {
    "duration": 297,
    "start_time": "2023-01-31T10:53:12.207Z"
   },
   {
    "duration": 7,
    "start_time": "2023-01-31T10:53:12.506Z"
   },
   {
    "duration": 462,
    "start_time": "2023-01-31T10:53:12.527Z"
   },
   {
    "duration": 13,
    "start_time": "2023-01-31T10:53:12.991Z"
   },
   {
    "duration": 44,
    "start_time": "2023-01-31T10:53:13.006Z"
   },
   {
    "duration": 26,
    "start_time": "2023-01-31T10:53:13.058Z"
   },
   {
    "duration": 14,
    "start_time": "2023-01-31T10:53:13.086Z"
   },
   {
    "duration": 360,
    "start_time": "2023-01-31T10:53:57.760Z"
   },
   {
    "duration": 11,
    "start_time": "2023-01-31T11:09:59.395Z"
   },
   {
    "duration": 10,
    "start_time": "2023-01-31T11:12:05.250Z"
   },
   {
    "duration": 9,
    "start_time": "2023-01-31T11:12:15.088Z"
   },
   {
    "duration": 17,
    "start_time": "2023-01-31T11:16:54.866Z"
   },
   {
    "duration": 114,
    "start_time": "2023-01-31T11:17:32.969Z"
   },
   {
    "duration": 20,
    "start_time": "2023-01-31T11:17:36.952Z"
   },
   {
    "duration": 20,
    "start_time": "2023-01-31T11:17:44.695Z"
   },
   {
    "duration": 425,
    "start_time": "2023-01-31T11:21:26.892Z"
   },
   {
    "duration": 5,
    "start_time": "2023-01-31T12:01:44.882Z"
   },
   {
    "duration": 4,
    "start_time": "2023-01-31T12:02:03.614Z"
   },
   {
    "duration": 22,
    "start_time": "2023-01-31T12:02:27.667Z"
   },
   {
    "duration": 5,
    "start_time": "2023-01-31T12:02:35.152Z"
   },
   {
    "duration": 222,
    "start_time": "2023-01-31T12:03:12.976Z"
   },
   {
    "duration": 214,
    "start_time": "2023-01-31T12:03:18.657Z"
   },
   {
    "duration": 14,
    "start_time": "2023-01-31T12:04:05.351Z"
   },
   {
    "duration": 1185,
    "start_time": "2023-01-31T12:04:19.222Z"
   },
   {
    "duration": 82,
    "start_time": "2023-01-31T12:04:20.409Z"
   },
   {
    "duration": 23,
    "start_time": "2023-01-31T12:04:20.492Z"
   },
   {
    "duration": 253,
    "start_time": "2023-01-31T12:04:20.517Z"
   },
   {
    "duration": 551,
    "start_time": "2023-01-31T12:04:20.772Z"
   },
   {
    "duration": 432,
    "start_time": "2023-01-31T12:04:21.324Z"
   },
   {
    "duration": 9,
    "start_time": "2023-01-31T12:04:21.757Z"
   },
   {
    "duration": 17,
    "start_time": "2023-01-31T12:04:21.768Z"
   },
   {
    "duration": 3,
    "start_time": "2023-01-31T12:04:21.787Z"
   },
   {
    "duration": 27,
    "start_time": "2023-01-31T12:04:21.792Z"
   },
   {
    "duration": 38,
    "start_time": "2023-01-31T12:04:21.821Z"
   },
   {
    "duration": 254,
    "start_time": "2023-01-31T12:04:21.861Z"
   },
   {
    "duration": 8,
    "start_time": "2023-01-31T12:04:22.116Z"
   },
   {
    "duration": 234,
    "start_time": "2023-01-31T12:04:22.125Z"
   },
   {
    "duration": 247,
    "start_time": "2023-01-31T12:04:22.361Z"
   },
   {
    "duration": 39,
    "start_time": "2023-01-31T12:04:22.611Z"
   },
   {
    "duration": 18,
    "start_time": "2023-01-31T12:04:22.656Z"
   },
   {
    "duration": 120,
    "start_time": "2023-01-31T12:04:22.675Z"
   },
   {
    "duration": 0,
    "start_time": "2023-01-31T12:04:22.796Z"
   },
   {
    "duration": 0,
    "start_time": "2023-01-31T12:04:22.798Z"
   },
   {
    "duration": 0,
    "start_time": "2023-01-31T12:04:22.798Z"
   },
   {
    "duration": 0,
    "start_time": "2023-01-31T12:04:22.799Z"
   },
   {
    "duration": 0,
    "start_time": "2023-01-31T12:04:22.800Z"
   },
   {
    "duration": 0,
    "start_time": "2023-01-31T12:04:22.801Z"
   },
   {
    "duration": 0,
    "start_time": "2023-01-31T12:04:22.802Z"
   },
   {
    "duration": 0,
    "start_time": "2023-01-31T12:04:22.803Z"
   },
   {
    "duration": 0,
    "start_time": "2023-01-31T12:04:22.804Z"
   },
   {
    "duration": 0,
    "start_time": "2023-01-31T12:04:22.805Z"
   },
   {
    "duration": 0,
    "start_time": "2023-01-31T12:04:22.806Z"
   },
   {
    "duration": 0,
    "start_time": "2023-01-31T12:04:22.807Z"
   },
   {
    "duration": 0,
    "start_time": "2023-01-31T12:04:22.931Z"
   },
   {
    "duration": 0,
    "start_time": "2023-01-31T12:04:22.932Z"
   },
   {
    "duration": 0,
    "start_time": "2023-01-31T12:04:22.933Z"
   },
   {
    "duration": 0,
    "start_time": "2023-01-31T12:04:22.934Z"
   },
   {
    "duration": 7,
    "start_time": "2023-01-31T12:04:55.651Z"
   },
   {
    "duration": 1038,
    "start_time": "2023-01-31T12:05:27.560Z"
   },
   {
    "duration": 1317,
    "start_time": "2023-01-31T12:06:33.886Z"
   },
   {
    "duration": 508,
    "start_time": "2023-01-31T12:06:57.662Z"
   },
   {
    "duration": 1244,
    "start_time": "2023-01-31T12:07:03.770Z"
   },
   {
    "duration": 66,
    "start_time": "2023-01-31T12:07:05.016Z"
   },
   {
    "duration": 20,
    "start_time": "2023-01-31T12:07:05.084Z"
   },
   {
    "duration": 253,
    "start_time": "2023-01-31T12:07:05.106Z"
   },
   {
    "duration": 586,
    "start_time": "2023-01-31T12:07:05.363Z"
   },
   {
    "duration": 479,
    "start_time": "2023-01-31T12:07:05.951Z"
   },
   {
    "duration": 19,
    "start_time": "2023-01-31T12:07:06.439Z"
   },
   {
    "duration": 47,
    "start_time": "2023-01-31T12:07:06.463Z"
   },
   {
    "duration": 52,
    "start_time": "2023-01-31T12:07:06.512Z"
   },
   {
    "duration": 31,
    "start_time": "2023-01-31T12:07:06.566Z"
   },
   {
    "duration": 17,
    "start_time": "2023-01-31T12:07:06.599Z"
   },
   {
    "duration": 287,
    "start_time": "2023-01-31T12:07:06.618Z"
   },
   {
    "duration": 5,
    "start_time": "2023-01-31T12:07:06.907Z"
   },
   {
    "duration": 223,
    "start_time": "2023-01-31T12:07:06.914Z"
   },
   {
    "duration": 266,
    "start_time": "2023-01-31T12:07:07.139Z"
   },
   {
    "duration": 28,
    "start_time": "2023-01-31T12:07:07.407Z"
   },
   {
    "duration": 39,
    "start_time": "2023-01-31T12:07:07.439Z"
   },
   {
    "duration": 603,
    "start_time": "2023-01-31T12:07:07.480Z"
   },
   {
    "duration": 223,
    "start_time": "2023-01-31T12:07:08.085Z"
   },
   {
    "duration": 229,
    "start_time": "2023-01-31T12:07:08.310Z"
   },
   {
    "duration": 368,
    "start_time": "2023-01-31T12:07:08.544Z"
   },
   {
    "duration": 252,
    "start_time": "2023-01-31T12:07:08.914Z"
   },
   {
    "duration": 198,
    "start_time": "2023-01-31T12:07:09.168Z"
   },
   {
    "duration": 8,
    "start_time": "2023-01-31T12:07:09.368Z"
   },
   {
    "duration": 307,
    "start_time": "2023-01-31T12:07:09.378Z"
   },
   {
    "duration": 18,
    "start_time": "2023-01-31T12:07:09.687Z"
   },
   {
    "duration": 28,
    "start_time": "2023-01-31T12:07:09.706Z"
   },
   {
    "duration": 459,
    "start_time": "2023-01-31T12:07:09.737Z"
   },
   {
    "duration": 13,
    "start_time": "2023-01-31T12:07:10.197Z"
   },
   {
    "duration": 20,
    "start_time": "2023-01-31T12:07:10.229Z"
   },
   {
    "duration": 31,
    "start_time": "2023-01-31T12:07:10.251Z"
   },
   {
    "duration": 12,
    "start_time": "2023-01-31T12:07:10.285Z"
   },
   {
    "duration": 20,
    "start_time": "2023-01-31T12:07:10.299Z"
   },
   {
    "duration": 34,
    "start_time": "2023-01-31T12:07:10.321Z"
   },
   {
    "duration": 521,
    "start_time": "2023-01-31T12:07:33.846Z"
   },
   {
    "duration": 534,
    "start_time": "2023-01-31T12:08:05.850Z"
   },
   {
    "duration": 66,
    "start_time": "2023-01-31T12:08:31.411Z"
   },
   {
    "duration": 499,
    "start_time": "2023-01-31T12:08:52.621Z"
   },
   {
    "duration": 95,
    "start_time": "2023-01-31T12:09:54.187Z"
   },
   {
    "duration": 47,
    "start_time": "2023-01-31T12:10:16.079Z"
   },
   {
    "duration": 571,
    "start_time": "2023-01-31T12:10:30.199Z"
   },
   {
    "duration": 565,
    "start_time": "2023-01-31T12:10:55.880Z"
   },
   {
    "duration": 474,
    "start_time": "2023-01-31T12:13:07.277Z"
   },
   {
    "duration": 869,
    "start_time": "2023-01-31T12:14:19.411Z"
   },
   {
    "duration": 61,
    "start_time": "2023-01-31T12:16:54.050Z"
   },
   {
    "duration": 781,
    "start_time": "2023-01-31T12:17:06.524Z"
   },
   {
    "duration": 432,
    "start_time": "2023-01-31T12:17:30.515Z"
   },
   {
    "duration": 428,
    "start_time": "2023-01-31T12:18:05.460Z"
   },
   {
    "duration": 1240,
    "start_time": "2023-01-31T12:18:14.702Z"
   },
   {
    "duration": 52,
    "start_time": "2023-01-31T12:18:15.944Z"
   },
   {
    "duration": 20,
    "start_time": "2023-01-31T12:18:15.997Z"
   },
   {
    "duration": 221,
    "start_time": "2023-01-31T12:18:16.020Z"
   },
   {
    "duration": 628,
    "start_time": "2023-01-31T12:18:16.243Z"
   },
   {
    "duration": 892,
    "start_time": "2023-01-31T12:18:16.873Z"
   },
   {
    "duration": 11,
    "start_time": "2023-01-31T12:18:17.766Z"
   },
   {
    "duration": 72,
    "start_time": "2023-01-31T12:18:17.778Z"
   },
   {
    "duration": 3,
    "start_time": "2023-01-31T12:18:17.852Z"
   },
   {
    "duration": 30,
    "start_time": "2023-01-31T12:18:17.857Z"
   },
   {
    "duration": 51,
    "start_time": "2023-01-31T12:18:17.888Z"
   },
   {
    "duration": 516,
    "start_time": "2023-01-31T12:18:17.942Z"
   },
   {
    "duration": 5,
    "start_time": "2023-01-31T12:18:18.459Z"
   },
   {
    "duration": 401,
    "start_time": "2023-01-31T12:18:18.466Z"
   },
   {
    "duration": 320,
    "start_time": "2023-01-31T12:18:18.869Z"
   },
   {
    "duration": 20,
    "start_time": "2023-01-31T12:18:19.191Z"
   },
   {
    "duration": 68,
    "start_time": "2023-01-31T12:18:19.213Z"
   },
   {
    "duration": 0,
    "start_time": "2023-01-31T12:18:19.283Z"
   },
   {
    "duration": 0,
    "start_time": "2023-01-31T12:18:19.284Z"
   },
   {
    "duration": 0,
    "start_time": "2023-01-31T12:18:19.286Z"
   },
   {
    "duration": 0,
    "start_time": "2023-01-31T12:18:19.287Z"
   },
   {
    "duration": 0,
    "start_time": "2023-01-31T12:18:19.288Z"
   },
   {
    "duration": 0,
    "start_time": "2023-01-31T12:18:19.289Z"
   },
   {
    "duration": 0,
    "start_time": "2023-01-31T12:18:19.290Z"
   },
   {
    "duration": 0,
    "start_time": "2023-01-31T12:18:19.292Z"
   },
   {
    "duration": 0,
    "start_time": "2023-01-31T12:18:19.293Z"
   },
   {
    "duration": 0,
    "start_time": "2023-01-31T12:18:19.294Z"
   },
   {
    "duration": 0,
    "start_time": "2023-01-31T12:18:19.296Z"
   },
   {
    "duration": 0,
    "start_time": "2023-01-31T12:18:19.297Z"
   },
   {
    "duration": 0,
    "start_time": "2023-01-31T12:18:19.298Z"
   },
   {
    "duration": 0,
    "start_time": "2023-01-31T12:18:19.299Z"
   },
   {
    "duration": 0,
    "start_time": "2023-01-31T12:18:19.300Z"
   },
   {
    "duration": 0,
    "start_time": "2023-01-31T12:18:19.301Z"
   },
   {
    "duration": 0,
    "start_time": "2023-01-31T12:18:19.302Z"
   },
   {
    "duration": 4,
    "start_time": "2023-01-31T12:18:31.665Z"
   },
   {
    "duration": 5,
    "start_time": "2023-01-31T12:18:33.104Z"
   },
   {
    "duration": 590,
    "start_time": "2023-01-31T12:18:34.248Z"
   },
   {
    "duration": 429,
    "start_time": "2023-01-31T12:19:06.851Z"
   },
   {
    "duration": 422,
    "start_time": "2023-01-31T12:19:40.951Z"
   },
   {
    "duration": 416,
    "start_time": "2023-01-31T12:20:02.604Z"
   },
   {
    "duration": 352,
    "start_time": "2023-01-31T12:20:10.708Z"
   },
   {
    "duration": 436,
    "start_time": "2023-01-31T12:20:47.048Z"
   },
   {
    "duration": 236,
    "start_time": "2023-01-31T12:21:37.886Z"
   },
   {
    "duration": 228,
    "start_time": "2023-01-31T12:21:38.378Z"
   },
   {
    "duration": 297,
    "start_time": "2023-01-31T12:24:42.238Z"
   },
   {
    "duration": 447,
    "start_time": "2023-01-31T12:25:04.752Z"
   },
   {
    "duration": 10,
    "start_time": "2023-01-31T12:25:37.248Z"
   },
   {
    "duration": 232,
    "start_time": "2023-01-31T12:25:48.050Z"
   },
   {
    "duration": 16,
    "start_time": "2023-01-31T12:26:49.730Z"
   },
   {
    "duration": 15,
    "start_time": "2023-01-31T12:27:09.972Z"
   },
   {
    "duration": 27,
    "start_time": "2023-01-31T12:28:22.293Z"
   },
   {
    "duration": 306,
    "start_time": "2023-01-31T12:28:36.186Z"
   },
   {
    "duration": 12,
    "start_time": "2023-01-31T12:28:44.876Z"
   },
   {
    "duration": 17,
    "start_time": "2023-01-31T12:28:55.911Z"
   },
   {
    "duration": 42,
    "start_time": "2023-01-31T12:29:03.403Z"
   },
   {
    "duration": 382,
    "start_time": "2023-01-31T12:29:17.838Z"
   },
   {
    "duration": 277,
    "start_time": "2023-01-31T12:29:27.228Z"
   },
   {
    "duration": 257,
    "start_time": "2023-01-31T12:29:40.944Z"
   },
   {
    "duration": 306,
    "start_time": "2023-01-31T12:29:47.178Z"
   },
   {
    "duration": 271,
    "start_time": "2023-01-31T12:30:01.077Z"
   },
   {
    "duration": 178,
    "start_time": "2023-01-31T12:31:50.395Z"
   },
   {
    "duration": 344,
    "start_time": "2023-01-31T12:31:57.802Z"
   },
   {
    "duration": 261,
    "start_time": "2023-01-31T12:33:47.702Z"
   },
   {
    "duration": 302,
    "start_time": "2023-01-31T12:34:00.442Z"
   },
   {
    "duration": 263,
    "start_time": "2023-01-31T12:34:59.906Z"
   },
   {
    "duration": 305,
    "start_time": "2023-01-31T12:35:18.707Z"
   },
   {
    "duration": 281,
    "start_time": "2023-01-31T12:35:36.068Z"
   },
   {
    "duration": 361,
    "start_time": "2023-01-31T12:35:40.804Z"
   },
   {
    "duration": 270,
    "start_time": "2023-01-31T12:35:48.862Z"
   },
   {
    "duration": 243,
    "start_time": "2023-01-31T12:36:42.105Z"
   },
   {
    "duration": 241,
    "start_time": "2023-01-31T12:36:54.917Z"
   },
   {
    "duration": 253,
    "start_time": "2023-01-31T12:36:55.213Z"
   },
   {
    "duration": 48,
    "start_time": "2023-01-31T12:41:44.957Z"
   },
   {
    "duration": 134,
    "start_time": "2023-01-31T12:42:10.960Z"
   },
   {
    "duration": 23,
    "start_time": "2023-01-31T12:42:17.584Z"
   },
   {
    "duration": 23,
    "start_time": "2023-01-31T12:42:41.416Z"
   },
   {
    "duration": 15,
    "start_time": "2023-01-31T12:42:54.954Z"
   },
   {
    "duration": 29,
    "start_time": "2023-01-31T12:43:15.124Z"
   },
   {
    "duration": 73,
    "start_time": "2023-01-31T12:43:53.302Z"
   },
   {
    "duration": 52,
    "start_time": "2023-01-31T12:44:07.860Z"
   },
   {
    "duration": 11,
    "start_time": "2023-01-31T12:44:30.150Z"
   },
   {
    "duration": 15,
    "start_time": "2023-01-31T12:45:28.872Z"
   },
   {
    "duration": 432,
    "start_time": "2023-01-31T12:55:30.153Z"
   },
   {
    "duration": 540,
    "start_time": "2023-01-31T12:56:25.175Z"
   },
   {
    "duration": 377,
    "start_time": "2023-01-31T12:57:45.805Z"
   },
   {
    "duration": 370,
    "start_time": "2023-01-31T13:01:59.609Z"
   },
   {
    "duration": 354,
    "start_time": "2023-01-31T13:02:09.918Z"
   },
   {
    "duration": 228,
    "start_time": "2023-01-31T13:02:11.862Z"
   },
   {
    "duration": 132,
    "start_time": "2023-01-31T13:03:19.651Z"
   },
   {
    "duration": 130,
    "start_time": "2023-01-31T13:06:20.741Z"
   },
   {
    "duration": 12,
    "start_time": "2023-01-31T13:06:53.838Z"
   },
   {
    "duration": 26,
    "start_time": "2023-01-31T13:07:09.118Z"
   },
   {
    "duration": 11,
    "start_time": "2023-01-31T13:09:21.598Z"
   },
   {
    "duration": 18,
    "start_time": "2023-01-31T13:09:31.927Z"
   },
   {
    "duration": 21,
    "start_time": "2023-01-31T13:09:37.113Z"
   },
   {
    "duration": 8626,
    "start_time": "2023-01-31T13:09:41.116Z"
   },
   {
    "duration": 8990,
    "start_time": "2023-01-31T13:10:53.501Z"
   },
   {
    "duration": 9017,
    "start_time": "2023-01-31T13:11:12.944Z"
   },
   {
    "duration": 3353,
    "start_time": "2023-01-31T13:13:11.986Z"
   },
   {
    "duration": 2877,
    "start_time": "2023-01-31T13:13:41.722Z"
   },
   {
    "duration": 108,
    "start_time": "2023-01-31T13:14:07.158Z"
   },
   {
    "duration": 72,
    "start_time": "2023-01-31T13:18:44.991Z"
   },
   {
    "duration": 819,
    "start_time": "2023-01-31T13:18:57.559Z"
   },
   {
    "duration": 1258,
    "start_time": "2023-01-31T13:19:06.138Z"
   },
   {
    "duration": 55,
    "start_time": "2023-01-31T13:19:07.398Z"
   },
   {
    "duration": 18,
    "start_time": "2023-01-31T13:19:07.455Z"
   },
   {
    "duration": 216,
    "start_time": "2023-01-31T13:19:07.475Z"
   },
   {
    "duration": 552,
    "start_time": "2023-01-31T13:19:07.693Z"
   },
   {
    "duration": 809,
    "start_time": "2023-01-31T13:19:08.246Z"
   },
   {
    "duration": 10,
    "start_time": "2023-01-31T13:19:09.056Z"
   },
   {
    "duration": 81,
    "start_time": "2023-01-31T13:19:09.068Z"
   },
   {
    "duration": 16,
    "start_time": "2023-01-31T13:19:09.151Z"
   },
   {
    "duration": 60,
    "start_time": "2023-01-31T13:19:09.170Z"
   },
   {
    "duration": 38,
    "start_time": "2023-01-31T13:19:09.233Z"
   },
   {
    "duration": 572,
    "start_time": "2023-01-31T13:19:09.273Z"
   },
   {
    "duration": 4,
    "start_time": "2023-01-31T13:19:09.847Z"
   },
   {
    "duration": 574,
    "start_time": "2023-01-31T13:19:09.853Z"
   },
   {
    "duration": 319,
    "start_time": "2023-01-31T13:19:10.431Z"
   },
   {
    "duration": 32,
    "start_time": "2023-01-31T13:19:10.752Z"
   },
   {
    "duration": 1093,
    "start_time": "2023-01-31T13:19:10.786Z"
   },
   {
    "duration": 0,
    "start_time": "2023-01-31T13:19:11.881Z"
   },
   {
    "duration": 0,
    "start_time": "2023-01-31T13:19:11.882Z"
   },
   {
    "duration": 0,
    "start_time": "2023-01-31T13:19:11.883Z"
   },
   {
    "duration": 0,
    "start_time": "2023-01-31T13:19:11.972Z"
   },
   {
    "duration": 0,
    "start_time": "2023-01-31T13:19:11.973Z"
   },
   {
    "duration": 0,
    "start_time": "2023-01-31T13:19:11.974Z"
   },
   {
    "duration": 0,
    "start_time": "2023-01-31T13:19:11.975Z"
   },
   {
    "duration": 0,
    "start_time": "2023-01-31T13:19:11.976Z"
   },
   {
    "duration": 0,
    "start_time": "2023-01-31T13:19:11.977Z"
   },
   {
    "duration": 0,
    "start_time": "2023-01-31T13:19:11.978Z"
   },
   {
    "duration": 0,
    "start_time": "2023-01-31T13:19:11.979Z"
   },
   {
    "duration": 0,
    "start_time": "2023-01-31T13:19:11.981Z"
   },
   {
    "duration": 0,
    "start_time": "2023-01-31T13:19:11.982Z"
   },
   {
    "duration": 0,
    "start_time": "2023-01-31T13:19:11.983Z"
   },
   {
    "duration": 0,
    "start_time": "2023-01-31T13:19:11.984Z"
   },
   {
    "duration": 0,
    "start_time": "2023-01-31T13:19:11.985Z"
   },
   {
    "duration": 0,
    "start_time": "2023-01-31T13:19:11.986Z"
   },
   {
    "duration": 0,
    "start_time": "2023-01-31T13:19:11.987Z"
   },
   {
    "duration": 0,
    "start_time": "2023-01-31T13:19:11.988Z"
   },
   {
    "duration": 1268,
    "start_time": "2023-01-31T13:20:02.449Z"
   },
   {
    "duration": 883,
    "start_time": "2023-01-31T13:20:54.540Z"
   },
   {
    "duration": 1224,
    "start_time": "2023-01-31T13:24:20.519Z"
   },
   {
    "duration": 60,
    "start_time": "2023-01-31T13:24:21.747Z"
   },
   {
    "duration": 36,
    "start_time": "2023-01-31T13:24:21.810Z"
   },
   {
    "duration": 209,
    "start_time": "2023-01-31T13:24:21.849Z"
   },
   {
    "duration": 536,
    "start_time": "2023-01-31T13:24:22.061Z"
   },
   {
    "duration": 462,
    "start_time": "2023-01-31T13:24:22.599Z"
   },
   {
    "duration": 12,
    "start_time": "2023-01-31T13:24:23.063Z"
   },
   {
    "duration": 54,
    "start_time": "2023-01-31T13:24:23.078Z"
   },
   {
    "duration": 32,
    "start_time": "2023-01-31T13:24:23.133Z"
   },
   {
    "duration": 49,
    "start_time": "2023-01-31T13:24:23.167Z"
   },
   {
    "duration": 36,
    "start_time": "2023-01-31T13:24:23.218Z"
   },
   {
    "duration": 296,
    "start_time": "2023-01-31T13:24:23.256Z"
   },
   {
    "duration": 4,
    "start_time": "2023-01-31T13:24:23.554Z"
   },
   {
    "duration": 222,
    "start_time": "2023-01-31T13:24:23.561Z"
   },
   {
    "duration": 254,
    "start_time": "2023-01-31T13:24:23.786Z"
   },
   {
    "duration": 19,
    "start_time": "2023-01-31T13:24:24.045Z"
   },
   {
    "duration": 41,
    "start_time": "2023-01-31T13:24:24.066Z"
   },
   {
    "duration": 494,
    "start_time": "2023-01-31T13:24:24.109Z"
   },
   {
    "duration": 262,
    "start_time": "2023-01-31T13:24:24.604Z"
   },
   {
    "duration": 267,
    "start_time": "2023-01-31T13:24:24.868Z"
   },
   {
    "duration": 18,
    "start_time": "2023-01-31T13:24:25.139Z"
   },
   {
    "duration": 803,
    "start_time": "2023-01-31T13:24:25.159Z"
   },
   {
    "duration": 279,
    "start_time": "2023-01-31T13:24:25.964Z"
   },
   {
    "duration": 5118,
    "start_time": "2023-01-31T13:24:26.247Z"
   },
   {
    "duration": 178,
    "start_time": "2023-01-31T13:24:31.367Z"
   },
   {
    "duration": 9,
    "start_time": "2023-01-31T13:24:31.547Z"
   },
   {
    "duration": 314,
    "start_time": "2023-01-31T13:24:31.558Z"
   },
   {
    "duration": 22,
    "start_time": "2023-01-31T13:24:31.874Z"
   },
   {
    "duration": 36,
    "start_time": "2023-01-31T13:24:31.898Z"
   },
   {
    "duration": 515,
    "start_time": "2023-01-31T13:24:31.935Z"
   },
   {
    "duration": 14,
    "start_time": "2023-01-31T13:24:32.452Z"
   },
   {
    "duration": 26,
    "start_time": "2023-01-31T13:24:32.468Z"
   },
   {
    "duration": 65,
    "start_time": "2023-01-31T13:24:32.496Z"
   },
   {
    "duration": 40,
    "start_time": "2023-01-31T13:24:32.563Z"
   },
   {
    "duration": 30,
    "start_time": "2023-01-31T13:24:32.604Z"
   },
   {
    "duration": 38,
    "start_time": "2023-01-31T13:24:32.636Z"
   },
   {
    "duration": 348,
    "start_time": "2023-01-31T13:24:49.150Z"
   },
   {
    "duration": 61,
    "start_time": "2023-01-31T13:26:47.178Z"
   },
   {
    "duration": 7,
    "start_time": "2023-01-31T13:30:11.514Z"
   },
   {
    "duration": 109,
    "start_time": "2023-01-31T13:30:51.360Z"
   },
   {
    "duration": 6,
    "start_time": "2023-01-31T13:31:14.172Z"
   },
   {
    "duration": 10,
    "start_time": "2023-01-31T13:31:49.095Z"
   },
   {
    "duration": 252,
    "start_time": "2023-01-31T13:37:14.161Z"
   },
   {
    "duration": 261,
    "start_time": "2023-01-31T13:37:17.223Z"
   },
   {
    "duration": 26,
    "start_time": "2023-01-31T13:37:40.613Z"
   },
   {
    "duration": 346,
    "start_time": "2023-01-31T13:37:57.166Z"
   },
   {
    "duration": 47,
    "start_time": "2023-01-31T13:38:18.430Z"
   },
   {
    "duration": 52,
    "start_time": "2023-01-31T13:38:23.819Z"
   },
   {
    "duration": 1528,
    "start_time": "2023-01-31T13:38:24.165Z"
   },
   {
    "duration": 25,
    "start_time": "2023-01-31T13:39:07.118Z"
   },
   {
    "duration": 25,
    "start_time": "2023-01-31T13:39:19.621Z"
   },
   {
    "duration": 183,
    "start_time": "2023-01-31T13:39:45.843Z"
   },
   {
    "duration": 284,
    "start_time": "2023-01-31T13:39:55.542Z"
   },
   {
    "duration": 1823,
    "start_time": "2023-01-31T13:40:12.421Z"
   },
   {
    "duration": 100,
    "start_time": "2023-01-31T13:40:14.246Z"
   },
   {
    "duration": 21,
    "start_time": "2023-01-31T13:40:14.350Z"
   },
   {
    "duration": 479,
    "start_time": "2023-01-31T13:40:14.373Z"
   },
   {
    "duration": 1056,
    "start_time": "2023-01-31T13:40:14.854Z"
   },
   {
    "duration": 469,
    "start_time": "2023-01-31T13:40:15.913Z"
   },
   {
    "duration": 12,
    "start_time": "2023-01-31T13:40:16.385Z"
   },
   {
    "duration": 34,
    "start_time": "2023-01-31T13:40:16.399Z"
   },
   {
    "duration": 22,
    "start_time": "2023-01-31T13:40:16.436Z"
   },
   {
    "duration": 16,
    "start_time": "2023-01-31T13:40:16.461Z"
   },
   {
    "duration": 25,
    "start_time": "2023-01-31T13:40:16.480Z"
   },
   {
    "duration": 284,
    "start_time": "2023-01-31T13:40:16.508Z"
   },
   {
    "duration": 5,
    "start_time": "2023-01-31T13:40:16.793Z"
   },
   {
    "duration": 190,
    "start_time": "2023-01-31T13:40:16.799Z"
   },
   {
    "duration": 244,
    "start_time": "2023-01-31T13:40:16.991Z"
   },
   {
    "duration": 21,
    "start_time": "2023-01-31T13:40:17.239Z"
   },
   {
    "duration": 11,
    "start_time": "2023-01-31T13:40:17.262Z"
   },
   {
    "duration": 458,
    "start_time": "2023-01-31T13:40:17.275Z"
   },
   {
    "duration": 257,
    "start_time": "2023-01-31T13:40:17.735Z"
   },
   {
    "duration": 263,
    "start_time": "2023-01-31T13:40:17.994Z"
   },
   {
    "duration": 13,
    "start_time": "2023-01-31T13:40:18.259Z"
   },
   {
    "duration": 372,
    "start_time": "2023-01-31T13:40:18.274Z"
   },
   {
    "duration": 51,
    "start_time": "2023-01-31T13:40:18.648Z"
   },
   {
    "duration": 214,
    "start_time": "2023-01-31T13:40:18.700Z"
   },
   {
    "duration": 3028,
    "start_time": "2023-01-31T13:40:18.916Z"
   },
   {
    "duration": 174,
    "start_time": "2023-01-31T13:40:21.947Z"
   },
   {
    "duration": 21,
    "start_time": "2023-01-31T13:40:22.127Z"
   },
   {
    "duration": 287,
    "start_time": "2023-01-31T13:40:22.151Z"
   },
   {
    "duration": 21,
    "start_time": "2023-01-31T13:40:22.440Z"
   },
   {
    "duration": 19,
    "start_time": "2023-01-31T13:40:22.462Z"
   },
   {
    "duration": 598,
    "start_time": "2023-01-31T13:40:22.483Z"
   },
   {
    "duration": 14,
    "start_time": "2023-01-31T13:40:23.083Z"
   },
   {
    "duration": 15,
    "start_time": "2023-01-31T13:40:23.099Z"
   },
   {
    "duration": 16,
    "start_time": "2023-01-31T13:40:23.132Z"
   },
   {
    "duration": 13,
    "start_time": "2023-01-31T13:40:23.150Z"
   },
   {
    "duration": 14,
    "start_time": "2023-01-31T13:40:23.165Z"
   },
   {
    "duration": 11,
    "start_time": "2023-01-31T13:40:23.180Z"
   },
   {
    "duration": 111,
    "start_time": "2023-01-31T13:42:03.441Z"
   },
   {
    "duration": 2880,
    "start_time": "2023-01-31T13:42:06.470Z"
   },
   {
    "duration": 305,
    "start_time": "2023-01-31T13:42:33.244Z"
   },
   {
    "duration": 903,
    "start_time": "2023-01-31T13:44:03.354Z"
   },
   {
    "duration": 818,
    "start_time": "2023-01-31T13:44:23.444Z"
   },
   {
    "duration": 202,
    "start_time": "2023-01-31T13:44:28.904Z"
   },
   {
    "duration": 11,
    "start_time": "2023-01-31T13:45:22.654Z"
   },
   {
    "duration": 18,
    "start_time": "2023-01-31T13:45:40.450Z"
   },
   {
    "duration": 23,
    "start_time": "2023-01-31T13:45:47.453Z"
   },
   {
    "duration": 6,
    "start_time": "2023-01-31T13:48:07.109Z"
   },
   {
    "duration": 51,
    "start_time": "2023-01-31T13:52:48.045Z"
   },
   {
    "duration": 56,
    "start_time": "2023-01-31T13:53:06.621Z"
   },
   {
    "duration": 55,
    "start_time": "2023-01-31T13:53:21.571Z"
   },
   {
    "duration": 62,
    "start_time": "2023-01-31T13:53:32.917Z"
   },
   {
    "duration": 8,
    "start_time": "2023-01-31T13:53:33.644Z"
   },
   {
    "duration": 194,
    "start_time": "2023-01-31T13:53:34.152Z"
   },
   {
    "duration": 9,
    "start_time": "2023-01-31T14:00:01.508Z"
   },
   {
    "duration": 13,
    "start_time": "2023-01-31T14:00:25.609Z"
   },
   {
    "duration": 867,
    "start_time": "2023-01-31T14:00:49.752Z"
   },
   {
    "duration": 12,
    "start_time": "2023-01-31T14:00:57.254Z"
   },
   {
    "duration": 64,
    "start_time": "2023-01-31T14:03:23.006Z"
   },
   {
    "duration": 8,
    "start_time": "2023-01-31T14:03:29.948Z"
   },
   {
    "duration": 3012,
    "start_time": "2023-01-31T14:08:41.899Z"
   },
   {
    "duration": 178,
    "start_time": "2023-01-31T14:08:44.913Z"
   },
   {
    "duration": 8,
    "start_time": "2023-01-31T14:08:45.093Z"
   },
   {
    "duration": 298,
    "start_time": "2023-01-31T14:08:48.744Z"
   },
   {
    "duration": 30,
    "start_time": "2023-01-31T14:08:52.691Z"
   },
   {
    "duration": 321,
    "start_time": "2023-01-31T14:09:50.849Z"
   },
   {
    "duration": 52,
    "start_time": "2023-01-31T14:12:25.128Z"
   },
   {
    "duration": 421,
    "start_time": "2023-01-31T14:15:01.256Z"
   },
   {
    "duration": 11,
    "start_time": "2023-01-31T14:16:08.821Z"
   },
   {
    "duration": 1211,
    "start_time": "2023-01-31T14:16:19.339Z"
   },
   {
    "duration": 47,
    "start_time": "2023-01-31T14:16:20.552Z"
   },
   {
    "duration": 19,
    "start_time": "2023-01-31T14:16:20.601Z"
   },
   {
    "duration": 203,
    "start_time": "2023-01-31T14:16:20.621Z"
   },
   {
    "duration": 529,
    "start_time": "2023-01-31T14:16:20.826Z"
   },
   {
    "duration": 413,
    "start_time": "2023-01-31T14:16:21.356Z"
   },
   {
    "duration": 10,
    "start_time": "2023-01-31T14:16:21.771Z"
   },
   {
    "duration": 21,
    "start_time": "2023-01-31T14:16:21.783Z"
   },
   {
    "duration": 21,
    "start_time": "2023-01-31T14:16:21.806Z"
   },
   {
    "duration": 5,
    "start_time": "2023-01-31T14:16:21.830Z"
   },
   {
    "duration": 23,
    "start_time": "2023-01-31T14:16:21.837Z"
   },
   {
    "duration": 229,
    "start_time": "2023-01-31T14:16:21.862Z"
   },
   {
    "duration": 4,
    "start_time": "2023-01-31T14:16:22.093Z"
   },
   {
    "duration": 185,
    "start_time": "2023-01-31T14:16:22.098Z"
   },
   {
    "duration": 256,
    "start_time": "2023-01-31T14:16:22.285Z"
   },
   {
    "duration": 18,
    "start_time": "2023-01-31T14:16:22.542Z"
   },
   {
    "duration": 53,
    "start_time": "2023-01-31T14:16:22.562Z"
   },
   {
    "duration": 524,
    "start_time": "2023-01-31T14:16:22.618Z"
   },
   {
    "duration": 247,
    "start_time": "2023-01-31T14:16:23.144Z"
   },
   {
    "duration": 266,
    "start_time": "2023-01-31T14:16:23.392Z"
   },
   {
    "duration": 17,
    "start_time": "2023-01-31T14:16:23.660Z"
   },
   {
    "duration": 386,
    "start_time": "2023-01-31T14:16:23.679Z"
   },
   {
    "duration": 61,
    "start_time": "2023-01-31T14:16:24.067Z"
   },
   {
    "duration": 204,
    "start_time": "2023-01-31T14:16:24.130Z"
   },
   {
    "duration": 2921,
    "start_time": "2023-01-31T14:16:24.336Z"
   },
   {
    "duration": 178,
    "start_time": "2023-01-31T14:16:27.259Z"
   },
   {
    "duration": 9,
    "start_time": "2023-01-31T14:16:27.439Z"
   },
   {
    "duration": 134,
    "start_time": "2023-01-31T14:16:27.452Z"
   },
   {
    "duration": 0,
    "start_time": "2023-01-31T14:16:27.588Z"
   },
   {
    "duration": 0,
    "start_time": "2023-01-31T14:16:27.589Z"
   },
   {
    "duration": 0,
    "start_time": "2023-01-31T14:16:27.591Z"
   },
   {
    "duration": 0,
    "start_time": "2023-01-31T14:16:27.593Z"
   },
   {
    "duration": 0,
    "start_time": "2023-01-31T14:16:27.594Z"
   },
   {
    "duration": 0,
    "start_time": "2023-01-31T14:16:27.595Z"
   },
   {
    "duration": 0,
    "start_time": "2023-01-31T14:16:27.596Z"
   },
   {
    "duration": 0,
    "start_time": "2023-01-31T14:16:27.597Z"
   },
   {
    "duration": 0,
    "start_time": "2023-01-31T14:16:27.599Z"
   },
   {
    "duration": 241,
    "start_time": "2023-01-31T14:17:11.960Z"
   },
   {
    "duration": 326,
    "start_time": "2023-01-31T14:17:33.846Z"
   },
   {
    "duration": 228,
    "start_time": "2023-01-31T14:17:58.539Z"
   },
   {
    "duration": 209,
    "start_time": "2023-01-31T14:18:19.778Z"
   },
   {
    "duration": 301,
    "start_time": "2023-01-31T14:19:13.265Z"
   },
   {
    "duration": 309,
    "start_time": "2023-01-31T14:19:39.259Z"
   },
   {
    "duration": 240,
    "start_time": "2023-01-31T14:19:43.596Z"
   },
   {
    "duration": 330,
    "start_time": "2023-01-31T14:20:13.643Z"
   },
   {
    "duration": 1209,
    "start_time": "2023-01-31T14:20:19.298Z"
   },
   {
    "duration": 58,
    "start_time": "2023-01-31T14:20:20.510Z"
   },
   {
    "duration": 26,
    "start_time": "2023-01-31T14:20:20.570Z"
   },
   {
    "duration": 249,
    "start_time": "2023-01-31T14:20:20.598Z"
   },
   {
    "duration": 543,
    "start_time": "2023-01-31T14:20:20.851Z"
   },
   {
    "duration": 412,
    "start_time": "2023-01-31T14:20:21.395Z"
   },
   {
    "duration": 10,
    "start_time": "2023-01-31T14:20:21.808Z"
   },
   {
    "duration": 21,
    "start_time": "2023-01-31T14:20:21.827Z"
   },
   {
    "duration": 18,
    "start_time": "2023-01-31T14:20:21.850Z"
   },
   {
    "duration": 19,
    "start_time": "2023-01-31T14:20:21.870Z"
   },
   {
    "duration": 23,
    "start_time": "2023-01-31T14:20:21.891Z"
   },
   {
    "duration": 258,
    "start_time": "2023-01-31T14:20:21.915Z"
   },
   {
    "duration": 6,
    "start_time": "2023-01-31T14:20:22.174Z"
   },
   {
    "duration": 202,
    "start_time": "2023-01-31T14:20:22.184Z"
   },
   {
    "duration": 237,
    "start_time": "2023-01-31T14:20:22.388Z"
   },
   {
    "duration": 20,
    "start_time": "2023-01-31T14:20:22.627Z"
   },
   {
    "duration": 23,
    "start_time": "2023-01-31T14:20:22.649Z"
   },
   {
    "duration": 464,
    "start_time": "2023-01-31T14:20:22.675Z"
   },
   {
    "duration": 293,
    "start_time": "2023-01-31T14:20:23.141Z"
   },
   {
    "duration": 243,
    "start_time": "2023-01-31T14:20:23.436Z"
   },
   {
    "duration": 18,
    "start_time": "2023-01-31T14:20:23.681Z"
   },
   {
    "duration": 335,
    "start_time": "2023-01-31T14:20:23.701Z"
   },
   {
    "duration": 50,
    "start_time": "2023-01-31T14:20:24.037Z"
   },
   {
    "duration": 222,
    "start_time": "2023-01-31T14:20:24.088Z"
   },
   {
    "duration": 2896,
    "start_time": "2023-01-31T14:20:24.312Z"
   },
   {
    "duration": 171,
    "start_time": "2023-01-31T14:20:27.210Z"
   },
   {
    "duration": 8,
    "start_time": "2023-01-31T14:20:27.383Z"
   },
   {
    "duration": 416,
    "start_time": "2023-01-31T14:20:27.393Z"
   },
   {
    "duration": 30,
    "start_time": "2023-01-31T14:20:27.811Z"
   },
   {
    "duration": 9,
    "start_time": "2023-01-31T14:20:27.843Z"
   },
   {
    "duration": 496,
    "start_time": "2023-01-31T14:20:27.854Z"
   },
   {
    "duration": 13,
    "start_time": "2023-01-31T14:20:28.352Z"
   },
   {
    "duration": 45,
    "start_time": "2023-01-31T14:20:28.367Z"
   },
   {
    "duration": 36,
    "start_time": "2023-01-31T14:20:28.414Z"
   },
   {
    "duration": 21,
    "start_time": "2023-01-31T14:20:28.452Z"
   },
   {
    "duration": 38,
    "start_time": "2023-01-31T14:20:28.474Z"
   },
   {
    "duration": 46,
    "start_time": "2023-01-31T14:20:28.514Z"
   },
   {
    "duration": 403,
    "start_time": "2023-01-31T14:21:18.400Z"
   },
   {
    "duration": 103,
    "start_time": "2023-01-31T14:23:19.000Z"
   },
   {
    "duration": 425,
    "start_time": "2023-01-31T14:23:28.284Z"
   },
   {
    "duration": 399,
    "start_time": "2023-01-31T14:24:53.614Z"
   },
   {
    "duration": 459,
    "start_time": "2023-01-31T14:25:08.736Z"
   },
   {
    "duration": 649,
    "start_time": "2023-01-31T14:25:26.635Z"
   },
   {
    "duration": 1194,
    "start_time": "2023-01-31T14:25:36.761Z"
   },
   {
    "duration": 57,
    "start_time": "2023-01-31T14:25:37.957Z"
   },
   {
    "duration": 19,
    "start_time": "2023-01-31T14:25:38.015Z"
   },
   {
    "duration": 204,
    "start_time": "2023-01-31T14:25:38.036Z"
   },
   {
    "duration": 528,
    "start_time": "2023-01-31T14:25:38.241Z"
   },
   {
    "duration": 394,
    "start_time": "2023-01-31T14:25:38.771Z"
   },
   {
    "duration": 11,
    "start_time": "2023-01-31T14:25:39.167Z"
   },
   {
    "duration": 28,
    "start_time": "2023-01-31T14:25:39.179Z"
   },
   {
    "duration": 4,
    "start_time": "2023-01-31T14:25:39.209Z"
   },
   {
    "duration": 5,
    "start_time": "2023-01-31T14:25:39.228Z"
   },
   {
    "duration": 13,
    "start_time": "2023-01-31T14:25:39.235Z"
   },
   {
    "duration": 242,
    "start_time": "2023-01-31T14:25:39.250Z"
   },
   {
    "duration": 4,
    "start_time": "2023-01-31T14:25:39.494Z"
   },
   {
    "duration": 182,
    "start_time": "2023-01-31T14:25:39.500Z"
   },
   {
    "duration": 233,
    "start_time": "2023-01-31T14:25:39.683Z"
   },
   {
    "duration": 23,
    "start_time": "2023-01-31T14:25:39.918Z"
   },
   {
    "duration": 5,
    "start_time": "2023-01-31T14:25:39.942Z"
   },
   {
    "duration": 515,
    "start_time": "2023-01-31T14:25:39.949Z"
   },
   {
    "duration": 264,
    "start_time": "2023-01-31T14:25:40.466Z"
   },
   {
    "duration": 243,
    "start_time": "2023-01-31T14:25:40.731Z"
   },
   {
    "duration": 15,
    "start_time": "2023-01-31T14:25:40.976Z"
   },
   {
    "duration": 342,
    "start_time": "2023-01-31T14:25:40.993Z"
   },
   {
    "duration": 48,
    "start_time": "2023-01-31T14:25:41.337Z"
   },
   {
    "duration": 207,
    "start_time": "2023-01-31T14:25:41.387Z"
   },
   {
    "duration": 2803,
    "start_time": "2023-01-31T14:25:41.596Z"
   },
   {
    "duration": 185,
    "start_time": "2023-01-31T14:25:44.401Z"
   },
   {
    "duration": 8,
    "start_time": "2023-01-31T14:25:44.588Z"
   },
   {
    "duration": 456,
    "start_time": "2023-01-31T14:25:44.599Z"
   },
   {
    "duration": 22,
    "start_time": "2023-01-31T14:25:45.056Z"
   },
   {
    "duration": 6,
    "start_time": "2023-01-31T14:25:45.080Z"
   },
   {
    "duration": 533,
    "start_time": "2023-01-31T14:25:45.088Z"
   },
   {
    "duration": 14,
    "start_time": "2023-01-31T14:25:45.626Z"
   },
   {
    "duration": 25,
    "start_time": "2023-01-31T14:25:45.641Z"
   },
   {
    "duration": 35,
    "start_time": "2023-01-31T14:25:45.668Z"
   },
   {
    "duration": 18,
    "start_time": "2023-01-31T14:25:45.705Z"
   },
   {
    "duration": 26,
    "start_time": "2023-01-31T14:25:45.725Z"
   },
   {
    "duration": 20,
    "start_time": "2023-01-31T14:25:45.753Z"
   },
   {
    "duration": 538,
    "start_time": "2023-01-31T14:25:52.263Z"
   },
   {
    "duration": 1162,
    "start_time": "2023-01-31T14:25:58.213Z"
   },
   {
    "duration": 49,
    "start_time": "2023-01-31T14:25:59.377Z"
   },
   {
    "duration": 19,
    "start_time": "2023-01-31T14:25:59.428Z"
   },
   {
    "duration": 200,
    "start_time": "2023-01-31T14:25:59.448Z"
   },
   {
    "duration": 536,
    "start_time": "2023-01-31T14:25:59.649Z"
   },
   {
    "duration": 509,
    "start_time": "2023-01-31T14:26:00.187Z"
   },
   {
    "duration": 11,
    "start_time": "2023-01-31T14:26:00.698Z"
   },
   {
    "duration": 35,
    "start_time": "2023-01-31T14:26:00.711Z"
   },
   {
    "duration": 17,
    "start_time": "2023-01-31T14:26:00.748Z"
   },
   {
    "duration": 40,
    "start_time": "2023-01-31T14:26:00.767Z"
   },
   {
    "duration": 64,
    "start_time": "2023-01-31T14:26:00.809Z"
   },
   {
    "duration": 266,
    "start_time": "2023-01-31T14:26:00.875Z"
   },
   {
    "duration": 4,
    "start_time": "2023-01-31T14:26:01.142Z"
   },
   {
    "duration": 233,
    "start_time": "2023-01-31T14:26:01.149Z"
   },
   {
    "duration": 231,
    "start_time": "2023-01-31T14:26:01.383Z"
   },
   {
    "duration": 18,
    "start_time": "2023-01-31T14:26:01.616Z"
   },
   {
    "duration": 37,
    "start_time": "2023-01-31T14:26:01.635Z"
   },
   {
    "duration": 537,
    "start_time": "2023-01-31T14:26:01.674Z"
   },
   {
    "duration": 256,
    "start_time": "2023-01-31T14:26:02.213Z"
   },
   {
    "duration": 247,
    "start_time": "2023-01-31T14:26:02.470Z"
   },
   {
    "duration": 15,
    "start_time": "2023-01-31T14:26:02.726Z"
   },
   {
    "duration": 349,
    "start_time": "2023-01-31T14:26:02.742Z"
   },
   {
    "duration": 68,
    "start_time": "2023-01-31T14:26:03.093Z"
   },
   {
    "duration": 199,
    "start_time": "2023-01-31T14:26:03.163Z"
   },
   {
    "duration": 2942,
    "start_time": "2023-01-31T14:26:03.364Z"
   },
   {
    "duration": 219,
    "start_time": "2023-01-31T14:26:06.308Z"
   },
   {
    "duration": 8,
    "start_time": "2023-01-31T14:26:06.529Z"
   },
   {
    "duration": 270,
    "start_time": "2023-01-31T14:26:06.539Z"
   },
   {
    "duration": 40,
    "start_time": "2023-01-31T14:26:06.811Z"
   },
   {
    "duration": 7,
    "start_time": "2023-01-31T14:26:06.853Z"
   },
   {
    "duration": 555,
    "start_time": "2023-01-31T14:26:06.862Z"
   },
   {
    "duration": 19,
    "start_time": "2023-01-31T14:26:07.419Z"
   },
   {
    "duration": 30,
    "start_time": "2023-01-31T14:26:07.440Z"
   },
   {
    "duration": 18,
    "start_time": "2023-01-31T14:26:07.472Z"
   },
   {
    "duration": 40,
    "start_time": "2023-01-31T14:26:07.492Z"
   },
   {
    "duration": 36,
    "start_time": "2023-01-31T14:26:07.533Z"
   },
   {
    "duration": 23,
    "start_time": "2023-01-31T14:26:07.571Z"
   },
   {
    "duration": 1190,
    "start_time": "2023-01-31T14:27:03.205Z"
   },
   {
    "duration": 61,
    "start_time": "2023-01-31T14:27:04.397Z"
   },
   {
    "duration": 24,
    "start_time": "2023-01-31T14:27:04.460Z"
   },
   {
    "duration": 235,
    "start_time": "2023-01-31T14:27:04.487Z"
   },
   {
    "duration": 558,
    "start_time": "2023-01-31T14:27:04.724Z"
   },
   {
    "duration": 646,
    "start_time": "2023-01-31T14:27:05.285Z"
   },
   {
    "duration": 10,
    "start_time": "2023-01-31T14:27:05.934Z"
   },
   {
    "duration": 31,
    "start_time": "2023-01-31T14:27:05.945Z"
   },
   {
    "duration": 5,
    "start_time": "2023-01-31T14:27:06.026Z"
   },
   {
    "duration": 14,
    "start_time": "2023-01-31T14:27:06.035Z"
   },
   {
    "duration": 38,
    "start_time": "2023-01-31T14:27:06.051Z"
   },
   {
    "duration": 507,
    "start_time": "2023-01-31T14:27:06.127Z"
   },
   {
    "duration": 6,
    "start_time": "2023-01-31T14:27:06.637Z"
   },
   {
    "duration": 397,
    "start_time": "2023-01-31T14:27:06.644Z"
   },
   {
    "duration": 507,
    "start_time": "2023-01-31T14:27:07.043Z"
   },
   {
    "duration": 17,
    "start_time": "2023-01-31T14:27:07.552Z"
   },
   {
    "duration": 7,
    "start_time": "2023-01-31T14:27:07.570Z"
   },
   {
    "duration": 457,
    "start_time": "2023-01-31T14:27:07.579Z"
   },
   {
    "duration": 236,
    "start_time": "2023-01-31T14:27:08.038Z"
   },
   {
    "duration": 239,
    "start_time": "2023-01-31T14:27:08.276Z"
   },
   {
    "duration": 20,
    "start_time": "2023-01-31T14:27:08.518Z"
   },
   {
    "duration": 346,
    "start_time": "2023-01-31T14:27:08.540Z"
   },
   {
    "duration": 61,
    "start_time": "2023-01-31T14:27:08.888Z"
   },
   {
    "duration": 191,
    "start_time": "2023-01-31T14:27:08.951Z"
   },
   {
    "duration": 2842,
    "start_time": "2023-01-31T14:27:09.143Z"
   },
   {
    "duration": 167,
    "start_time": "2023-01-31T14:27:11.987Z"
   },
   {
    "duration": 10,
    "start_time": "2023-01-31T14:27:12.156Z"
   },
   {
    "duration": 445,
    "start_time": "2023-01-31T14:27:12.170Z"
   },
   {
    "duration": 31,
    "start_time": "2023-01-31T14:27:12.627Z"
   },
   {
    "duration": 8,
    "start_time": "2023-01-31T14:27:12.660Z"
   },
   {
    "duration": 507,
    "start_time": "2023-01-31T14:27:12.670Z"
   },
   {
    "duration": 16,
    "start_time": "2023-01-31T14:27:13.178Z"
   },
   {
    "duration": 32,
    "start_time": "2023-01-31T14:27:13.196Z"
   },
   {
    "duration": 24,
    "start_time": "2023-01-31T14:27:13.230Z"
   },
   {
    "duration": 14,
    "start_time": "2023-01-31T14:27:13.256Z"
   },
   {
    "duration": 14,
    "start_time": "2023-01-31T14:27:13.272Z"
   },
   {
    "duration": 13,
    "start_time": "2023-01-31T14:27:13.288Z"
   },
   {
    "duration": 556,
    "start_time": "2023-01-31T14:27:45.027Z"
   },
   {
    "duration": 1249,
    "start_time": "2023-01-31T14:27:50.600Z"
   },
   {
    "duration": 92,
    "start_time": "2023-01-31T14:27:51.852Z"
   },
   {
    "duration": 81,
    "start_time": "2023-01-31T14:27:51.946Z"
   },
   {
    "duration": 411,
    "start_time": "2023-01-31T14:27:52.030Z"
   },
   {
    "duration": 1117,
    "start_time": "2023-01-31T14:27:52.442Z"
   },
   {
    "duration": 434,
    "start_time": "2023-01-31T14:27:53.560Z"
   },
   {
    "duration": 10,
    "start_time": "2023-01-31T14:27:53.996Z"
   },
   {
    "duration": 30,
    "start_time": "2023-01-31T14:27:54.007Z"
   },
   {
    "duration": 8,
    "start_time": "2023-01-31T14:27:54.039Z"
   },
   {
    "duration": 23,
    "start_time": "2023-01-31T14:27:54.050Z"
   },
   {
    "duration": 20,
    "start_time": "2023-01-31T14:27:54.075Z"
   },
   {
    "duration": 258,
    "start_time": "2023-01-31T14:27:54.097Z"
   },
   {
    "duration": 4,
    "start_time": "2023-01-31T14:27:54.357Z"
   },
   {
    "duration": 201,
    "start_time": "2023-01-31T14:27:54.363Z"
   },
   {
    "duration": 236,
    "start_time": "2023-01-31T14:27:54.566Z"
   },
   {
    "duration": 27,
    "start_time": "2023-01-31T14:27:54.803Z"
   },
   {
    "duration": 5,
    "start_time": "2023-01-31T14:27:54.831Z"
   },
   {
    "duration": 452,
    "start_time": "2023-01-31T14:27:54.838Z"
   },
   {
    "duration": 240,
    "start_time": "2023-01-31T14:27:55.292Z"
   },
   {
    "duration": 252,
    "start_time": "2023-01-31T14:27:55.533Z"
   },
   {
    "duration": 14,
    "start_time": "2023-01-31T14:27:55.787Z"
   },
   {
    "duration": 334,
    "start_time": "2023-01-31T14:27:55.802Z"
   },
   {
    "duration": 50,
    "start_time": "2023-01-31T14:27:56.139Z"
   },
   {
    "duration": 224,
    "start_time": "2023-01-31T14:27:56.191Z"
   },
   {
    "duration": 2846,
    "start_time": "2023-01-31T14:27:56.417Z"
   },
   {
    "duration": 165,
    "start_time": "2023-01-31T14:27:59.265Z"
   },
   {
    "duration": 9,
    "start_time": "2023-01-31T14:27:59.432Z"
   },
   {
    "duration": 259,
    "start_time": "2023-01-31T14:27:59.445Z"
   },
   {
    "duration": 43,
    "start_time": "2023-01-31T14:27:59.706Z"
   },
   {
    "duration": 8,
    "start_time": "2023-01-31T14:27:59.751Z"
   },
   {
    "duration": 529,
    "start_time": "2023-01-31T14:27:59.760Z"
   },
   {
    "duration": 15,
    "start_time": "2023-01-31T14:28:00.291Z"
   },
   {
    "duration": 42,
    "start_time": "2023-01-31T14:28:00.307Z"
   },
   {
    "duration": 57,
    "start_time": "2023-01-31T14:28:00.351Z"
   },
   {
    "duration": 37,
    "start_time": "2023-01-31T14:28:00.411Z"
   },
   {
    "duration": 39,
    "start_time": "2023-01-31T14:28:00.451Z"
   },
   {
    "duration": 40,
    "start_time": "2023-01-31T14:28:00.492Z"
   },
   {
    "duration": 281,
    "start_time": "2023-01-31T14:28:31.002Z"
   },
   {
    "duration": 1217,
    "start_time": "2023-01-31T14:28:36.075Z"
   },
   {
    "duration": 50,
    "start_time": "2023-01-31T14:28:37.294Z"
   },
   {
    "duration": 18,
    "start_time": "2023-01-31T14:28:37.345Z"
   },
   {
    "duration": 220,
    "start_time": "2023-01-31T14:28:37.365Z"
   },
   {
    "duration": 528,
    "start_time": "2023-01-31T14:28:37.587Z"
   },
   {
    "duration": 624,
    "start_time": "2023-01-31T14:28:38.117Z"
   },
   {
    "duration": 10,
    "start_time": "2023-01-31T14:28:38.743Z"
   },
   {
    "duration": 84,
    "start_time": "2023-01-31T14:28:38.755Z"
   },
   {
    "duration": 4,
    "start_time": "2023-01-31T14:28:38.841Z"
   },
   {
    "duration": 19,
    "start_time": "2023-01-31T14:28:38.848Z"
   },
   {
    "duration": 63,
    "start_time": "2023-01-31T14:28:38.869Z"
   },
   {
    "duration": 493,
    "start_time": "2023-01-31T14:28:38.934Z"
   },
   {
    "duration": 5,
    "start_time": "2023-01-31T14:28:39.429Z"
   },
   {
    "duration": 402,
    "start_time": "2023-01-31T14:28:39.436Z"
   },
   {
    "duration": 440,
    "start_time": "2023-01-31T14:28:39.839Z"
   },
   {
    "duration": 17,
    "start_time": "2023-01-31T14:28:40.281Z"
   },
   {
    "duration": 36,
    "start_time": "2023-01-31T14:28:40.300Z"
   },
   {
    "duration": 523,
    "start_time": "2023-01-31T14:28:40.338Z"
   },
   {
    "duration": 253,
    "start_time": "2023-01-31T14:28:40.863Z"
   },
   {
    "duration": 254,
    "start_time": "2023-01-31T14:28:41.118Z"
   },
   {
    "duration": 14,
    "start_time": "2023-01-31T14:28:41.374Z"
   },
   {
    "duration": 326,
    "start_time": "2023-01-31T14:28:41.390Z"
   },
   {
    "duration": 56,
    "start_time": "2023-01-31T14:28:41.718Z"
   },
   {
    "duration": 202,
    "start_time": "2023-01-31T14:28:41.776Z"
   },
   {
    "duration": 2827,
    "start_time": "2023-01-31T14:28:41.980Z"
   },
   {
    "duration": 170,
    "start_time": "2023-01-31T14:28:44.808Z"
   },
   {
    "duration": 8,
    "start_time": "2023-01-31T14:28:44.979Z"
   },
   {
    "duration": 266,
    "start_time": "2023-01-31T14:28:44.990Z"
   },
   {
    "duration": 21,
    "start_time": "2023-01-31T14:28:45.258Z"
   },
   {
    "duration": 7,
    "start_time": "2023-01-31T14:28:45.280Z"
   },
   {
    "duration": 483,
    "start_time": "2023-01-31T14:28:45.288Z"
   },
   {
    "duration": 12,
    "start_time": "2023-01-31T14:28:45.773Z"
   },
   {
    "duration": 15,
    "start_time": "2023-01-31T14:28:45.787Z"
   },
   {
    "duration": 29,
    "start_time": "2023-01-31T14:28:45.804Z"
   },
   {
    "duration": 9,
    "start_time": "2023-01-31T14:28:45.835Z"
   },
   {
    "duration": 18,
    "start_time": "2023-01-31T14:28:45.846Z"
   },
   {
    "duration": 10,
    "start_time": "2023-01-31T14:28:45.865Z"
   },
   {
    "duration": 1262,
    "start_time": "2023-01-31T14:30:43.590Z"
   },
   {
    "duration": 54,
    "start_time": "2023-01-31T14:30:44.854Z"
   },
   {
    "duration": 23,
    "start_time": "2023-01-31T14:30:44.910Z"
   },
   {
    "duration": 297,
    "start_time": "2023-01-31T14:30:44.936Z"
   },
   {
    "duration": 538,
    "start_time": "2023-01-31T14:30:45.235Z"
   },
   {
    "duration": 412,
    "start_time": "2023-01-31T14:30:45.775Z"
   },
   {
    "duration": 12,
    "start_time": "2023-01-31T14:30:46.189Z"
   },
   {
    "duration": 43,
    "start_time": "2023-01-31T14:30:46.203Z"
   },
   {
    "duration": 23,
    "start_time": "2023-01-31T14:30:46.248Z"
   },
   {
    "duration": 18,
    "start_time": "2023-01-31T14:30:46.274Z"
   },
   {
    "duration": 23,
    "start_time": "2023-01-31T14:30:46.294Z"
   },
   {
    "duration": 320,
    "start_time": "2023-01-31T14:30:46.319Z"
   },
   {
    "duration": 5,
    "start_time": "2023-01-31T14:30:46.641Z"
   },
   {
    "duration": 203,
    "start_time": "2023-01-31T14:30:46.648Z"
   },
   {
    "duration": 240,
    "start_time": "2023-01-31T14:30:46.853Z"
   },
   {
    "duration": 17,
    "start_time": "2023-01-31T14:30:47.095Z"
   },
   {
    "duration": 18,
    "start_time": "2023-01-31T14:30:47.114Z"
   },
   {
    "duration": 800,
    "start_time": "2023-01-31T14:30:47.133Z"
   },
   {
    "duration": 502,
    "start_time": "2023-01-31T14:30:47.934Z"
   },
   {
    "duration": 520,
    "start_time": "2023-01-31T14:30:48.438Z"
   },
   {
    "duration": 69,
    "start_time": "2023-01-31T14:30:48.959Z"
   },
   {
    "duration": 386,
    "start_time": "2023-01-31T14:30:49.030Z"
   },
   {
    "duration": 55,
    "start_time": "2023-01-31T14:30:49.418Z"
   },
   {
    "duration": 202,
    "start_time": "2023-01-31T14:30:49.475Z"
   },
   {
    "duration": 2952,
    "start_time": "2023-01-31T14:30:49.679Z"
   },
   {
    "duration": 179,
    "start_time": "2023-01-31T14:30:52.633Z"
   },
   {
    "duration": 14,
    "start_time": "2023-01-31T14:30:52.814Z"
   },
   {
    "duration": 462,
    "start_time": "2023-01-31T14:30:52.831Z"
   },
   {
    "duration": 37,
    "start_time": "2023-01-31T14:30:53.295Z"
   },
   {
    "duration": 6,
    "start_time": "2023-01-31T14:30:53.334Z"
   },
   {
    "duration": 478,
    "start_time": "2023-01-31T14:30:53.342Z"
   },
   {
    "duration": 14,
    "start_time": "2023-01-31T14:30:53.826Z"
   },
   {
    "duration": 42,
    "start_time": "2023-01-31T14:30:53.842Z"
   },
   {
    "duration": 16,
    "start_time": "2023-01-31T14:30:53.886Z"
   },
   {
    "duration": 11,
    "start_time": "2023-01-31T14:30:53.905Z"
   },
   {
    "duration": 30,
    "start_time": "2023-01-31T14:30:53.918Z"
   },
   {
    "duration": 17,
    "start_time": "2023-01-31T14:30:53.950Z"
   },
   {
    "duration": 8,
    "start_time": "2023-01-31T14:37:58.171Z"
   },
   {
    "duration": 1416,
    "start_time": "2023-01-31T14:38:03.625Z"
   },
   {
    "duration": 92,
    "start_time": "2023-01-31T14:38:05.043Z"
   },
   {
    "duration": 20,
    "start_time": "2023-01-31T14:38:05.137Z"
   },
   {
    "duration": 494,
    "start_time": "2023-01-31T14:38:05.159Z"
   },
   {
    "duration": 1184,
    "start_time": "2023-01-31T14:38:05.655Z"
   },
   {
    "duration": 513,
    "start_time": "2023-01-31T14:38:06.841Z"
   },
   {
    "duration": 10,
    "start_time": "2023-01-31T14:38:07.355Z"
   },
   {
    "duration": 29,
    "start_time": "2023-01-31T14:38:07.367Z"
   },
   {
    "duration": 17,
    "start_time": "2023-01-31T14:38:07.397Z"
   },
   {
    "duration": 11,
    "start_time": "2023-01-31T14:38:07.417Z"
   },
   {
    "duration": 29,
    "start_time": "2023-01-31T14:38:07.430Z"
   },
   {
    "duration": 241,
    "start_time": "2023-01-31T14:38:07.462Z"
   },
   {
    "duration": 4,
    "start_time": "2023-01-31T14:38:07.706Z"
   },
   {
    "duration": 195,
    "start_time": "2023-01-31T14:38:07.712Z"
   },
   {
    "duration": 244,
    "start_time": "2023-01-31T14:38:07.908Z"
   },
   {
    "duration": 18,
    "start_time": "2023-01-31T14:38:08.154Z"
   },
   {
    "duration": 5,
    "start_time": "2023-01-31T14:38:08.174Z"
   },
   {
    "duration": 473,
    "start_time": "2023-01-31T14:38:08.181Z"
   },
   {
    "duration": 241,
    "start_time": "2023-01-31T14:38:08.655Z"
   },
   {
    "duration": 245,
    "start_time": "2023-01-31T14:38:08.898Z"
   },
   {
    "duration": 19,
    "start_time": "2023-01-31T14:38:09.145Z"
   },
   {
    "duration": 352,
    "start_time": "2023-01-31T14:38:09.165Z"
   },
   {
    "duration": 54,
    "start_time": "2023-01-31T14:38:09.519Z"
   },
   {
    "duration": 208,
    "start_time": "2023-01-31T14:38:09.575Z"
   },
   {
    "duration": 2929,
    "start_time": "2023-01-31T14:38:09.785Z"
   },
   {
    "duration": 171,
    "start_time": "2023-01-31T14:38:12.716Z"
   },
   {
    "duration": 9,
    "start_time": "2023-01-31T14:38:12.889Z"
   },
   {
    "duration": 7,
    "start_time": "2023-01-31T14:38:12.902Z"
   },
   {
    "duration": 18,
    "start_time": "2023-01-31T14:38:12.928Z"
   },
   {
    "duration": 6,
    "start_time": "2023-01-31T14:38:12.948Z"
   },
   {
    "duration": 400,
    "start_time": "2023-01-31T14:38:12.956Z"
   },
   {
    "duration": 12,
    "start_time": "2023-01-31T14:38:13.359Z"
   },
   {
    "duration": 15,
    "start_time": "2023-01-31T14:38:13.373Z"
   },
   {
    "duration": 11,
    "start_time": "2023-01-31T14:38:13.390Z"
   },
   {
    "duration": 32,
    "start_time": "2023-01-31T14:38:13.403Z"
   },
   {
    "duration": 14,
    "start_time": "2023-01-31T14:38:13.437Z"
   },
   {
    "duration": 13,
    "start_time": "2023-01-31T14:38:13.453Z"
   },
   {
    "duration": 9,
    "start_time": "2023-01-31T14:38:50.346Z"
   },
   {
    "duration": 16,
    "start_time": "2023-01-31T14:38:58.821Z"
   },
   {
    "duration": 9,
    "start_time": "2023-01-31T14:41:33.870Z"
   },
   {
    "duration": 14,
    "start_time": "2023-01-31T14:41:55.874Z"
   },
   {
    "duration": 7,
    "start_time": "2023-01-31T14:43:31.371Z"
   },
   {
    "duration": 90,
    "start_time": "2023-01-31T14:43:44.687Z"
   },
   {
    "duration": 15,
    "start_time": "2023-01-31T14:43:53.808Z"
   },
   {
    "duration": 14,
    "start_time": "2023-01-31T14:44:15.113Z"
   },
   {
    "duration": 1113,
    "start_time": "2023-01-31T14:44:22.249Z"
   },
   {
    "duration": 49,
    "start_time": "2023-01-31T14:44:23.364Z"
   },
   {
    "duration": 18,
    "start_time": "2023-01-31T14:44:23.415Z"
   },
   {
    "duration": 192,
    "start_time": "2023-01-31T14:44:23.435Z"
   },
   {
    "duration": 552,
    "start_time": "2023-01-31T14:44:23.628Z"
   },
   {
    "duration": 404,
    "start_time": "2023-01-31T14:44:24.182Z"
   },
   {
    "duration": 10,
    "start_time": "2023-01-31T14:44:24.588Z"
   },
   {
    "duration": 33,
    "start_time": "2023-01-31T14:44:24.599Z"
   },
   {
    "duration": 4,
    "start_time": "2023-01-31T14:44:24.635Z"
   },
   {
    "duration": 8,
    "start_time": "2023-01-31T14:44:24.641Z"
   },
   {
    "duration": 19,
    "start_time": "2023-01-31T14:44:24.651Z"
   },
   {
    "duration": 235,
    "start_time": "2023-01-31T14:44:24.672Z"
   },
   {
    "duration": 4,
    "start_time": "2023-01-31T14:44:24.909Z"
   },
   {
    "duration": 180,
    "start_time": "2023-01-31T14:44:24.914Z"
   },
   {
    "duration": 231,
    "start_time": "2023-01-31T14:44:25.096Z"
   },
   {
    "duration": 18,
    "start_time": "2023-01-31T14:44:25.328Z"
   },
   {
    "duration": 5,
    "start_time": "2023-01-31T14:44:25.348Z"
   },
   {
    "duration": 471,
    "start_time": "2023-01-31T14:44:25.355Z"
   },
   {
    "duration": 236,
    "start_time": "2023-01-31T14:44:25.828Z"
   },
   {
    "duration": 246,
    "start_time": "2023-01-31T14:44:26.066Z"
   },
   {
    "duration": 21,
    "start_time": "2023-01-31T14:44:26.314Z"
   },
   {
    "duration": 369,
    "start_time": "2023-01-31T14:44:26.337Z"
   },
   {
    "duration": 59,
    "start_time": "2023-01-31T14:44:26.708Z"
   },
   {
    "duration": 178,
    "start_time": "2023-01-31T14:44:26.769Z"
   },
   {
    "duration": 2792,
    "start_time": "2023-01-31T14:44:26.949Z"
   },
   {
    "duration": 192,
    "start_time": "2023-01-31T14:44:29.743Z"
   },
   {
    "duration": 9,
    "start_time": "2023-01-31T14:44:29.937Z"
   },
   {
    "duration": 17,
    "start_time": "2023-01-31T14:44:29.949Z"
   },
   {
    "duration": 15,
    "start_time": "2023-01-31T14:44:29.968Z"
   },
   {
    "duration": 56,
    "start_time": "2023-01-31T14:44:29.985Z"
   },
   {
    "duration": 7,
    "start_time": "2023-01-31T14:44:30.043Z"
   },
   {
    "duration": 440,
    "start_time": "2023-01-31T14:44:30.051Z"
   },
   {
    "duration": 34,
    "start_time": "2023-01-31T14:44:30.493Z"
   },
   {
    "duration": 91,
    "start_time": "2023-01-31T14:44:30.529Z"
   },
   {
    "duration": 136,
    "start_time": "2023-01-31T14:44:30.622Z"
   },
   {
    "duration": 61,
    "start_time": "2023-01-31T14:44:30.760Z"
   },
   {
    "duration": 86,
    "start_time": "2023-01-31T14:44:30.823Z"
   },
   {
    "duration": 54,
    "start_time": "2023-01-31T14:44:30.910Z"
   },
   {
    "duration": 16,
    "start_time": "2023-01-31T14:46:13.171Z"
   },
   {
    "duration": 1134,
    "start_time": "2023-01-31T14:46:17.143Z"
   },
   {
    "duration": 51,
    "start_time": "2023-01-31T14:46:18.279Z"
   },
   {
    "duration": 18,
    "start_time": "2023-01-31T14:46:18.332Z"
   },
   {
    "duration": 197,
    "start_time": "2023-01-31T14:46:18.352Z"
   },
   {
    "duration": 530,
    "start_time": "2023-01-31T14:46:18.551Z"
   },
   {
    "duration": 448,
    "start_time": "2023-01-31T14:46:19.083Z"
   },
   {
    "duration": 9,
    "start_time": "2023-01-31T14:46:19.533Z"
   },
   {
    "duration": 17,
    "start_time": "2023-01-31T14:46:19.543Z"
   },
   {
    "duration": 8,
    "start_time": "2023-01-31T14:46:19.562Z"
   },
   {
    "duration": 7,
    "start_time": "2023-01-31T14:46:19.572Z"
   },
   {
    "duration": 23,
    "start_time": "2023-01-31T14:46:19.580Z"
   },
   {
    "duration": 248,
    "start_time": "2023-01-31T14:46:19.604Z"
   },
   {
    "duration": 4,
    "start_time": "2023-01-31T14:46:19.854Z"
   },
   {
    "duration": 186,
    "start_time": "2023-01-31T14:46:19.859Z"
   },
   {
    "duration": 241,
    "start_time": "2023-01-31T14:46:20.047Z"
   },
   {
    "duration": 16,
    "start_time": "2023-01-31T14:46:20.290Z"
   },
   {
    "duration": 19,
    "start_time": "2023-01-31T14:46:20.308Z"
   },
   {
    "duration": 553,
    "start_time": "2023-01-31T14:46:20.329Z"
   },
   {
    "duration": 255,
    "start_time": "2023-01-31T14:46:20.883Z"
   },
   {
    "duration": 252,
    "start_time": "2023-01-31T14:46:21.140Z"
   },
   {
    "duration": 14,
    "start_time": "2023-01-31T14:46:21.393Z"
   },
   {
    "duration": 330,
    "start_time": "2023-01-31T14:46:21.408Z"
   },
   {
    "duration": 53,
    "start_time": "2023-01-31T14:46:21.740Z"
   },
   {
    "duration": 208,
    "start_time": "2023-01-31T14:46:21.795Z"
   },
   {
    "duration": 3687,
    "start_time": "2023-01-31T14:46:22.005Z"
   },
   {
    "duration": 170,
    "start_time": "2023-01-31T14:46:25.694Z"
   },
   {
    "duration": 9,
    "start_time": "2023-01-31T14:46:25.865Z"
   },
   {
    "duration": 19,
    "start_time": "2023-01-31T14:46:25.877Z"
   },
   {
    "duration": 38,
    "start_time": "2023-01-31T14:46:25.898Z"
   },
   {
    "duration": 23,
    "start_time": "2023-01-31T14:46:25.938Z"
   },
   {
    "duration": 10,
    "start_time": "2023-01-31T14:46:25.963Z"
   },
   {
    "duration": 407,
    "start_time": "2023-01-31T14:46:25.975Z"
   },
   {
    "duration": 39,
    "start_time": "2023-01-31T14:46:26.385Z"
   },
   {
    "duration": 32,
    "start_time": "2023-01-31T14:46:26.427Z"
   },
   {
    "duration": 86,
    "start_time": "2023-01-31T14:46:26.461Z"
   },
   {
    "duration": 14,
    "start_time": "2023-01-31T14:46:26.549Z"
   },
   {
    "duration": 36,
    "start_time": "2023-01-31T14:46:26.566Z"
   },
   {
    "duration": 16,
    "start_time": "2023-01-31T14:46:26.604Z"
   },
   {
    "duration": 16,
    "start_time": "2023-01-31T14:47:27.795Z"
   },
   {
    "duration": 1353,
    "start_time": "2023-01-31T14:47:38.781Z"
   },
   {
    "duration": 95,
    "start_time": "2023-01-31T14:47:40.136Z"
   },
   {
    "duration": 24,
    "start_time": "2023-01-31T14:47:40.233Z"
   },
   {
    "duration": 489,
    "start_time": "2023-01-31T14:47:40.259Z"
   },
   {
    "duration": 1194,
    "start_time": "2023-01-31T14:47:40.750Z"
   },
   {
    "duration": 464,
    "start_time": "2023-01-31T14:47:41.946Z"
   },
   {
    "duration": 11,
    "start_time": "2023-01-31T14:47:42.411Z"
   },
   {
    "duration": 21,
    "start_time": "2023-01-31T14:47:42.427Z"
   },
   {
    "duration": 9,
    "start_time": "2023-01-31T14:47:42.450Z"
   },
   {
    "duration": 14,
    "start_time": "2023-01-31T14:47:42.462Z"
   },
   {
    "duration": 25,
    "start_time": "2023-01-31T14:47:42.477Z"
   },
   {
    "duration": 388,
    "start_time": "2023-01-31T14:47:42.504Z"
   },
   {
    "duration": 5,
    "start_time": "2023-01-31T14:47:42.894Z"
   },
   {
    "duration": 213,
    "start_time": "2023-01-31T14:47:42.900Z"
   },
   {
    "duration": 247,
    "start_time": "2023-01-31T14:47:43.128Z"
   },
   {
    "duration": 19,
    "start_time": "2023-01-31T14:47:43.378Z"
   },
   {
    "duration": 7,
    "start_time": "2023-01-31T14:47:43.399Z"
   },
   {
    "duration": 498,
    "start_time": "2023-01-31T14:47:43.407Z"
   },
   {
    "duration": 247,
    "start_time": "2023-01-31T14:47:43.907Z"
   },
   {
    "duration": 242,
    "start_time": "2023-01-31T14:47:44.156Z"
   },
   {
    "duration": 13,
    "start_time": "2023-01-31T14:47:44.400Z"
   },
   {
    "duration": 345,
    "start_time": "2023-01-31T14:47:44.426Z"
   },
   {
    "duration": 60,
    "start_time": "2023-01-31T14:47:44.773Z"
   },
   {
    "duration": 192,
    "start_time": "2023-01-31T14:47:44.835Z"
   },
   {
    "duration": 2951,
    "start_time": "2023-01-31T14:47:45.030Z"
   },
   {
    "duration": 178,
    "start_time": "2023-01-31T14:47:47.983Z"
   },
   {
    "duration": 8,
    "start_time": "2023-01-31T14:47:48.163Z"
   },
   {
    "duration": 14,
    "start_time": "2023-01-31T14:47:48.174Z"
   },
   {
    "duration": 44,
    "start_time": "2023-01-31T14:47:48.190Z"
   },
   {
    "duration": 20,
    "start_time": "2023-01-31T14:47:48.236Z"
   },
   {
    "duration": 6,
    "start_time": "2023-01-31T14:47:48.257Z"
   },
   {
    "duration": 416,
    "start_time": "2023-01-31T14:47:48.264Z"
   },
   {
    "duration": 13,
    "start_time": "2023-01-31T14:47:48.682Z"
   },
   {
    "duration": 14,
    "start_time": "2023-01-31T14:47:48.696Z"
   },
   {
    "duration": 21,
    "start_time": "2023-01-31T14:47:48.728Z"
   },
   {
    "duration": 10,
    "start_time": "2023-01-31T14:47:48.751Z"
   },
   {
    "duration": 12,
    "start_time": "2023-01-31T14:47:48.763Z"
   },
   {
    "duration": 13,
    "start_time": "2023-01-31T14:47:48.776Z"
   },
   {
    "duration": 1155,
    "start_time": "2023-01-31T14:49:01.268Z"
   },
   {
    "duration": 63,
    "start_time": "2023-01-31T14:49:02.425Z"
   },
   {
    "duration": 21,
    "start_time": "2023-01-31T14:49:02.489Z"
   },
   {
    "duration": 213,
    "start_time": "2023-01-31T14:49:02.513Z"
   },
   {
    "duration": 558,
    "start_time": "2023-01-31T14:49:02.729Z"
   },
   {
    "duration": 450,
    "start_time": "2023-01-31T14:49:03.289Z"
   },
   {
    "duration": 13,
    "start_time": "2023-01-31T14:49:03.741Z"
   },
   {
    "duration": 22,
    "start_time": "2023-01-31T14:49:03.756Z"
   },
   {
    "duration": 4,
    "start_time": "2023-01-31T14:49:03.779Z"
   },
   {
    "duration": 7,
    "start_time": "2023-01-31T14:49:03.786Z"
   },
   {
    "duration": 35,
    "start_time": "2023-01-31T14:49:03.795Z"
   },
   {
    "duration": 261,
    "start_time": "2023-01-31T14:49:03.831Z"
   },
   {
    "duration": 4,
    "start_time": "2023-01-31T14:49:04.094Z"
   },
   {
    "duration": 189,
    "start_time": "2023-01-31T14:49:04.100Z"
   },
   {
    "duration": 246,
    "start_time": "2023-01-31T14:49:04.291Z"
   },
   {
    "duration": 18,
    "start_time": "2023-01-31T14:49:04.543Z"
   },
   {
    "duration": 10,
    "start_time": "2023-01-31T14:49:04.563Z"
   },
   {
    "duration": 473,
    "start_time": "2023-01-31T14:49:04.574Z"
   },
   {
    "duration": 259,
    "start_time": "2023-01-31T14:49:05.048Z"
   },
   {
    "duration": 259,
    "start_time": "2023-01-31T14:49:05.308Z"
   },
   {
    "duration": 19,
    "start_time": "2023-01-31T14:49:05.569Z"
   },
   {
    "duration": 357,
    "start_time": "2023-01-31T14:49:05.590Z"
   },
   {
    "duration": 78,
    "start_time": "2023-01-31T14:49:05.949Z"
   },
   {
    "duration": 228,
    "start_time": "2023-01-31T14:49:06.029Z"
   },
   {
    "duration": 3002,
    "start_time": "2023-01-31T14:49:06.259Z"
   },
   {
    "duration": 173,
    "start_time": "2023-01-31T14:49:09.263Z"
   },
   {
    "duration": 11,
    "start_time": "2023-01-31T14:49:09.438Z"
   },
   {
    "duration": 15,
    "start_time": "2023-01-31T14:49:09.452Z"
   },
   {
    "duration": 126,
    "start_time": "2023-01-31T14:49:09.468Z"
   },
   {
    "duration": 0,
    "start_time": "2023-01-31T14:49:09.596Z"
   },
   {
    "duration": 0,
    "start_time": "2023-01-31T14:49:09.597Z"
   },
   {
    "duration": 0,
    "start_time": "2023-01-31T14:49:09.598Z"
   },
   {
    "duration": 0,
    "start_time": "2023-01-31T14:49:09.599Z"
   },
   {
    "duration": 0,
    "start_time": "2023-01-31T14:49:09.600Z"
   },
   {
    "duration": 0,
    "start_time": "2023-01-31T14:49:09.601Z"
   },
   {
    "duration": 0,
    "start_time": "2023-01-31T14:49:09.602Z"
   },
   {
    "duration": 0,
    "start_time": "2023-01-31T14:49:09.603Z"
   },
   {
    "duration": 0,
    "start_time": "2023-01-31T14:49:09.604Z"
   },
   {
    "duration": 1789,
    "start_time": "2023-01-31T14:49:37.867Z"
   },
   {
    "duration": 96,
    "start_time": "2023-01-31T14:49:39.658Z"
   },
   {
    "duration": 19,
    "start_time": "2023-01-31T14:49:39.755Z"
   },
   {
    "duration": 428,
    "start_time": "2023-01-31T14:49:39.829Z"
   },
   {
    "duration": 820,
    "start_time": "2023-01-31T14:49:40.258Z"
   },
   {
    "duration": 411,
    "start_time": "2023-01-31T14:49:41.080Z"
   },
   {
    "duration": 10,
    "start_time": "2023-01-31T14:49:41.493Z"
   },
   {
    "duration": 35,
    "start_time": "2023-01-31T14:49:41.504Z"
   },
   {
    "duration": 4,
    "start_time": "2023-01-31T14:49:41.541Z"
   },
   {
    "duration": 15,
    "start_time": "2023-01-31T14:49:41.547Z"
   },
   {
    "duration": 10,
    "start_time": "2023-01-31T14:49:41.564Z"
   },
   {
    "duration": 262,
    "start_time": "2023-01-31T14:49:41.575Z"
   },
   {
    "duration": 4,
    "start_time": "2023-01-31T14:49:41.839Z"
   },
   {
    "duration": 189,
    "start_time": "2023-01-31T14:49:41.844Z"
   },
   {
    "duration": 233,
    "start_time": "2023-01-31T14:49:42.034Z"
   },
   {
    "duration": 17,
    "start_time": "2023-01-31T14:49:42.269Z"
   },
   {
    "duration": 11,
    "start_time": "2023-01-31T14:49:42.287Z"
   },
   {
    "duration": 453,
    "start_time": "2023-01-31T14:49:42.299Z"
   },
   {
    "duration": 258,
    "start_time": "2023-01-31T14:49:42.754Z"
   },
   {
    "duration": 270,
    "start_time": "2023-01-31T14:49:43.014Z"
   },
   {
    "duration": 16,
    "start_time": "2023-01-31T14:49:43.286Z"
   },
   {
    "duration": 372,
    "start_time": "2023-01-31T14:49:43.303Z"
   },
   {
    "duration": 69,
    "start_time": "2023-01-31T14:49:43.677Z"
   },
   {
    "duration": 202,
    "start_time": "2023-01-31T14:49:43.748Z"
   },
   {
    "duration": 2945,
    "start_time": "2023-01-31T14:49:43.952Z"
   },
   {
    "duration": 171,
    "start_time": "2023-01-31T14:49:46.899Z"
   },
   {
    "duration": 9,
    "start_time": "2023-01-31T14:49:47.072Z"
   },
   {
    "duration": 25,
    "start_time": "2023-01-31T14:49:47.084Z"
   },
   {
    "duration": 370,
    "start_time": "2023-01-31T14:49:47.111Z"
   },
   {
    "duration": 0,
    "start_time": "2023-01-31T14:49:47.483Z"
   },
   {
    "duration": 0,
    "start_time": "2023-01-31T14:49:47.484Z"
   },
   {
    "duration": 0,
    "start_time": "2023-01-31T14:49:47.485Z"
   },
   {
    "duration": 0,
    "start_time": "2023-01-31T14:49:47.487Z"
   },
   {
    "duration": 0,
    "start_time": "2023-01-31T14:49:47.487Z"
   },
   {
    "duration": 0,
    "start_time": "2023-01-31T14:49:47.489Z"
   },
   {
    "duration": 0,
    "start_time": "2023-01-31T14:49:47.489Z"
   },
   {
    "duration": 0,
    "start_time": "2023-01-31T14:49:47.491Z"
   },
   {
    "duration": 0,
    "start_time": "2023-01-31T14:49:47.492Z"
   },
   {
    "duration": 1203,
    "start_time": "2023-01-31T14:50:05.717Z"
   },
   {
    "duration": 65,
    "start_time": "2023-01-31T14:50:06.925Z"
   },
   {
    "duration": 18,
    "start_time": "2023-01-31T14:50:06.992Z"
   },
   {
    "duration": 208,
    "start_time": "2023-01-31T14:50:07.012Z"
   },
   {
    "duration": 1039,
    "start_time": "2023-01-31T14:50:07.221Z"
   },
   {
    "duration": 911,
    "start_time": "2023-01-31T14:50:08.261Z"
   },
   {
    "duration": 67,
    "start_time": "2023-01-31T14:50:09.174Z"
   },
   {
    "duration": 22,
    "start_time": "2023-01-31T14:50:09.242Z"
   },
   {
    "duration": 3,
    "start_time": "2023-01-31T14:50:09.267Z"
   },
   {
    "duration": 8,
    "start_time": "2023-01-31T14:50:09.272Z"
   },
   {
    "duration": 12,
    "start_time": "2023-01-31T14:50:09.326Z"
   },
   {
    "duration": 294,
    "start_time": "2023-01-31T14:50:09.340Z"
   },
   {
    "duration": 5,
    "start_time": "2023-01-31T14:50:09.636Z"
   },
   {
    "duration": 213,
    "start_time": "2023-01-31T14:50:09.643Z"
   },
   {
    "duration": 244,
    "start_time": "2023-01-31T14:50:09.857Z"
   },
   {
    "duration": 27,
    "start_time": "2023-01-31T14:50:10.103Z"
   },
   {
    "duration": 19,
    "start_time": "2023-01-31T14:50:10.132Z"
   },
   {
    "duration": 502,
    "start_time": "2023-01-31T14:50:10.152Z"
   },
   {
    "duration": 254,
    "start_time": "2023-01-31T14:50:10.656Z"
   },
   {
    "duration": 251,
    "start_time": "2023-01-31T14:50:10.911Z"
   },
   {
    "duration": 16,
    "start_time": "2023-01-31T14:50:11.163Z"
   },
   {
    "duration": 332,
    "start_time": "2023-01-31T14:50:11.181Z"
   },
   {
    "duration": 56,
    "start_time": "2023-01-31T14:50:11.515Z"
   },
   {
    "duration": 199,
    "start_time": "2023-01-31T14:50:11.573Z"
   },
   {
    "duration": 2794,
    "start_time": "2023-01-31T14:50:11.773Z"
   },
   {
    "duration": 165,
    "start_time": "2023-01-31T14:50:14.569Z"
   },
   {
    "duration": 9,
    "start_time": "2023-01-31T14:50:14.737Z"
   },
   {
    "duration": 17,
    "start_time": "2023-01-31T14:50:14.748Z"
   },
   {
    "duration": 128,
    "start_time": "2023-01-31T14:50:14.766Z"
   },
   {
    "duration": 0,
    "start_time": "2023-01-31T14:50:14.895Z"
   },
   {
    "duration": 0,
    "start_time": "2023-01-31T14:50:14.897Z"
   },
   {
    "duration": 0,
    "start_time": "2023-01-31T14:50:14.898Z"
   },
   {
    "duration": 0,
    "start_time": "2023-01-31T14:50:14.899Z"
   },
   {
    "duration": 0,
    "start_time": "2023-01-31T14:50:14.900Z"
   },
   {
    "duration": 0,
    "start_time": "2023-01-31T14:50:14.901Z"
   },
   {
    "duration": 0,
    "start_time": "2023-01-31T14:50:14.903Z"
   },
   {
    "duration": 0,
    "start_time": "2023-01-31T14:50:14.904Z"
   },
   {
    "duration": 0,
    "start_time": "2023-01-31T14:50:14.905Z"
   },
   {
    "duration": 23,
    "start_time": "2023-01-31T14:53:07.230Z"
   },
   {
    "duration": 591,
    "start_time": "2023-01-31T14:56:27.132Z"
   },
   {
    "duration": 24,
    "start_time": "2023-01-31T14:56:37.604Z"
   },
   {
    "duration": 22,
    "start_time": "2023-01-31T14:56:55.474Z"
   },
   {
    "duration": 1168,
    "start_time": "2023-01-31T14:57:01.511Z"
   },
   {
    "duration": 51,
    "start_time": "2023-01-31T14:57:02.681Z"
   },
   {
    "duration": 18,
    "start_time": "2023-01-31T14:57:02.733Z"
   },
   {
    "duration": 390,
    "start_time": "2023-01-31T14:57:02.753Z"
   },
   {
    "duration": 1095,
    "start_time": "2023-01-31T14:57:03.145Z"
   },
   {
    "duration": 648,
    "start_time": "2023-01-31T14:57:04.242Z"
   },
   {
    "duration": 11,
    "start_time": "2023-01-31T14:57:04.892Z"
   },
   {
    "duration": 33,
    "start_time": "2023-01-31T14:57:04.905Z"
   },
   {
    "duration": 5,
    "start_time": "2023-01-31T14:57:04.940Z"
   },
   {
    "duration": 16,
    "start_time": "2023-01-31T14:57:04.948Z"
   },
   {
    "duration": 16,
    "start_time": "2023-01-31T14:57:04.965Z"
   },
   {
    "duration": 246,
    "start_time": "2023-01-31T14:57:04.983Z"
   },
   {
    "duration": 5,
    "start_time": "2023-01-31T14:57:05.231Z"
   },
   {
    "duration": 202,
    "start_time": "2023-01-31T14:57:05.238Z"
   },
   {
    "duration": 222,
    "start_time": "2023-01-31T14:57:05.442Z"
   },
   {
    "duration": 20,
    "start_time": "2023-01-31T14:57:05.666Z"
   },
   {
    "duration": 22,
    "start_time": "2023-01-31T14:57:05.687Z"
   },
   {
    "duration": 420,
    "start_time": "2023-01-31T14:57:05.711Z"
   },
   {
    "duration": 243,
    "start_time": "2023-01-31T14:57:06.133Z"
   },
   {
    "duration": 257,
    "start_time": "2023-01-31T14:57:06.378Z"
   },
   {
    "duration": 16,
    "start_time": "2023-01-31T14:57:06.637Z"
   },
   {
    "duration": 351,
    "start_time": "2023-01-31T14:57:06.655Z"
   },
   {
    "duration": 60,
    "start_time": "2023-01-31T14:57:07.008Z"
   },
   {
    "duration": 192,
    "start_time": "2023-01-31T14:57:07.069Z"
   },
   {
    "duration": 2810,
    "start_time": "2023-01-31T14:57:07.263Z"
   },
   {
    "duration": 185,
    "start_time": "2023-01-31T14:57:10.075Z"
   },
   {
    "duration": 10,
    "start_time": "2023-01-31T14:57:10.262Z"
   },
   {
    "duration": 22,
    "start_time": "2023-01-31T14:57:10.276Z"
   },
   {
    "duration": 49,
    "start_time": "2023-01-31T14:57:10.300Z"
   },
   {
    "duration": 25,
    "start_time": "2023-01-31T14:57:10.353Z"
   },
   {
    "duration": 8,
    "start_time": "2023-01-31T14:57:10.380Z"
   },
   {
    "duration": 394,
    "start_time": "2023-01-31T14:57:10.390Z"
   },
   {
    "duration": 13,
    "start_time": "2023-01-31T14:57:10.786Z"
   },
   {
    "duration": 32,
    "start_time": "2023-01-31T14:57:10.801Z"
   },
   {
    "duration": 14,
    "start_time": "2023-01-31T14:57:10.835Z"
   },
   {
    "duration": 9,
    "start_time": "2023-01-31T14:57:10.851Z"
   },
   {
    "duration": 16,
    "start_time": "2023-01-31T14:57:10.862Z"
   },
   {
    "duration": 11,
    "start_time": "2023-01-31T14:57:10.880Z"
   },
   {
    "duration": 117,
    "start_time": "2023-01-31T14:58:44.602Z"
   },
   {
    "duration": 5,
    "start_time": "2023-01-31T14:59:11.373Z"
   },
   {
    "duration": 1351,
    "start_time": "2023-01-31T14:59:16.176Z"
   },
   {
    "duration": 48,
    "start_time": "2023-01-31T14:59:17.529Z"
   },
   {
    "duration": 59,
    "start_time": "2023-01-31T14:59:17.579Z"
   },
   {
    "duration": 398,
    "start_time": "2023-01-31T14:59:17.639Z"
   },
   {
    "duration": 927,
    "start_time": "2023-01-31T14:59:18.039Z"
   },
   {
    "duration": 427,
    "start_time": "2023-01-31T14:59:18.968Z"
   },
   {
    "duration": 10,
    "start_time": "2023-01-31T14:59:19.397Z"
   },
   {
    "duration": 30,
    "start_time": "2023-01-31T14:59:19.409Z"
   },
   {
    "duration": 7,
    "start_time": "2023-01-31T14:59:19.441Z"
   },
   {
    "duration": 25,
    "start_time": "2023-01-31T14:59:19.451Z"
   },
   {
    "duration": 38,
    "start_time": "2023-01-31T14:59:19.477Z"
   },
   {
    "duration": 249,
    "start_time": "2023-01-31T14:59:19.516Z"
   },
   {
    "duration": 5,
    "start_time": "2023-01-31T14:59:19.767Z"
   },
   {
    "duration": 183,
    "start_time": "2023-01-31T14:59:19.774Z"
   },
   {
    "duration": 240,
    "start_time": "2023-01-31T14:59:19.959Z"
   },
   {
    "duration": 17,
    "start_time": "2023-01-31T14:59:20.201Z"
   },
   {
    "duration": 11,
    "start_time": "2023-01-31T14:59:20.226Z"
   },
   {
    "duration": 512,
    "start_time": "2023-01-31T14:59:20.239Z"
   },
   {
    "duration": 235,
    "start_time": "2023-01-31T14:59:20.753Z"
   },
   {
    "duration": 245,
    "start_time": "2023-01-31T14:59:20.990Z"
   },
   {
    "duration": 14,
    "start_time": "2023-01-31T14:59:21.236Z"
   },
   {
    "duration": 324,
    "start_time": "2023-01-31T14:59:21.251Z"
   },
   {
    "duration": 60,
    "start_time": "2023-01-31T14:59:21.577Z"
   },
   {
    "duration": 194,
    "start_time": "2023-01-31T14:59:21.639Z"
   },
   {
    "duration": 2777,
    "start_time": "2023-01-31T14:59:21.834Z"
   },
   {
    "duration": 163,
    "start_time": "2023-01-31T14:59:24.613Z"
   },
   {
    "duration": 8,
    "start_time": "2023-01-31T14:59:24.777Z"
   },
   {
    "duration": 14,
    "start_time": "2023-01-31T14:59:24.788Z"
   },
   {
    "duration": 26,
    "start_time": "2023-01-31T14:59:24.804Z"
   },
   {
    "duration": 24,
    "start_time": "2023-01-31T14:59:24.831Z"
   },
   {
    "duration": 6,
    "start_time": "2023-01-31T14:59:24.856Z"
   },
   {
    "duration": 404,
    "start_time": "2023-01-31T14:59:24.864Z"
   },
   {
    "duration": 14,
    "start_time": "2023-01-31T14:59:25.270Z"
   },
   {
    "duration": 14,
    "start_time": "2023-01-31T14:59:25.286Z"
   },
   {
    "duration": 10,
    "start_time": "2023-01-31T14:59:25.326Z"
   },
   {
    "duration": 10,
    "start_time": "2023-01-31T14:59:25.338Z"
   },
   {
    "duration": 25,
    "start_time": "2023-01-31T14:59:25.350Z"
   },
   {
    "duration": 10,
    "start_time": "2023-01-31T14:59:25.377Z"
   },
   {
    "duration": 5,
    "start_time": "2023-01-31T15:01:51.083Z"
   },
   {
    "duration": 6,
    "start_time": "2023-01-31T15:02:19.884Z"
   },
   {
    "duration": 5,
    "start_time": "2023-01-31T15:02:37.850Z"
   },
   {
    "duration": 6,
    "start_time": "2023-01-31T15:02:46.903Z"
   },
   {
    "duration": 7,
    "start_time": "2023-01-31T15:03:05.294Z"
   },
   {
    "duration": 1192,
    "start_time": "2023-01-31T15:03:09.829Z"
   },
   {
    "duration": 48,
    "start_time": "2023-01-31T15:03:11.023Z"
   },
   {
    "duration": 17,
    "start_time": "2023-01-31T15:03:11.072Z"
   },
   {
    "duration": 183,
    "start_time": "2023-01-31T15:03:11.091Z"
   },
   {
    "duration": 514,
    "start_time": "2023-01-31T15:03:11.276Z"
   },
   {
    "duration": 406,
    "start_time": "2023-01-31T15:03:11.792Z"
   },
   {
    "duration": 10,
    "start_time": "2023-01-31T15:03:12.200Z"
   },
   {
    "duration": 33,
    "start_time": "2023-01-31T15:03:12.211Z"
   },
   {
    "duration": 3,
    "start_time": "2023-01-31T15:03:12.246Z"
   },
   {
    "duration": 13,
    "start_time": "2023-01-31T15:03:12.252Z"
   },
   {
    "duration": 14,
    "start_time": "2023-01-31T15:03:12.267Z"
   },
   {
    "duration": 237,
    "start_time": "2023-01-31T15:03:12.282Z"
   },
   {
    "duration": 6,
    "start_time": "2023-01-31T15:03:12.521Z"
   },
   {
    "duration": 198,
    "start_time": "2023-01-31T15:03:12.529Z"
   },
   {
    "duration": 224,
    "start_time": "2023-01-31T15:03:12.728Z"
   },
   {
    "duration": 20,
    "start_time": "2023-01-31T15:03:12.954Z"
   },
   {
    "duration": 5,
    "start_time": "2023-01-31T15:03:12.975Z"
   },
   {
    "duration": 463,
    "start_time": "2023-01-31T15:03:12.982Z"
   },
   {
    "duration": 235,
    "start_time": "2023-01-31T15:03:13.446Z"
   },
   {
    "duration": 270,
    "start_time": "2023-01-31T15:03:13.683Z"
   },
   {
    "duration": 15,
    "start_time": "2023-01-31T15:03:13.955Z"
   },
   {
    "duration": 369,
    "start_time": "2023-01-31T15:03:13.973Z"
   },
   {
    "duration": 105,
    "start_time": "2023-01-31T15:03:14.344Z"
   },
   {
    "duration": 252,
    "start_time": "2023-01-31T15:03:14.451Z"
   },
   {
    "duration": 3707,
    "start_time": "2023-01-31T15:03:14.705Z"
   },
   {
    "duration": 164,
    "start_time": "2023-01-31T15:03:18.414Z"
   },
   {
    "duration": 8,
    "start_time": "2023-01-31T15:03:18.580Z"
   },
   {
    "duration": 14,
    "start_time": "2023-01-31T15:03:18.592Z"
   },
   {
    "duration": 7,
    "start_time": "2023-01-31T15:03:18.627Z"
   },
   {
    "duration": 34,
    "start_time": "2023-01-31T15:03:18.636Z"
   },
   {
    "duration": 6,
    "start_time": "2023-01-31T15:03:18.672Z"
   },
   {
    "duration": 365,
    "start_time": "2023-01-31T15:03:18.679Z"
   },
   {
    "duration": 13,
    "start_time": "2023-01-31T15:03:19.045Z"
   },
   {
    "duration": 22,
    "start_time": "2023-01-31T15:03:19.060Z"
   },
   {
    "duration": 9,
    "start_time": "2023-01-31T15:03:19.084Z"
   },
   {
    "duration": 32,
    "start_time": "2023-01-31T15:03:19.095Z"
   },
   {
    "duration": 14,
    "start_time": "2023-01-31T15:03:19.130Z"
   },
   {
    "duration": 28,
    "start_time": "2023-01-31T15:03:19.146Z"
   },
   {
    "duration": 118,
    "start_time": "2023-01-31T15:03:50.620Z"
   },
   {
    "duration": 238,
    "start_time": "2023-01-31T15:04:21.672Z"
   },
   {
    "duration": 325,
    "start_time": "2023-01-31T15:05:38.583Z"
   },
   {
    "duration": 1128,
    "start_time": "2023-01-31T15:05:57.149Z"
   },
   {
    "duration": 48,
    "start_time": "2023-01-31T15:05:58.278Z"
   },
   {
    "duration": 18,
    "start_time": "2023-01-31T15:05:58.328Z"
   },
   {
    "duration": 190,
    "start_time": "2023-01-31T15:05:58.348Z"
   },
   {
    "duration": 516,
    "start_time": "2023-01-31T15:05:58.540Z"
   },
   {
    "duration": 398,
    "start_time": "2023-01-31T15:05:59.058Z"
   },
   {
    "duration": 9,
    "start_time": "2023-01-31T15:05:59.458Z"
   },
   {
    "duration": 25,
    "start_time": "2023-01-31T15:05:59.469Z"
   },
   {
    "duration": 12,
    "start_time": "2023-01-31T15:05:59.496Z"
   },
   {
    "duration": 14,
    "start_time": "2023-01-31T15:05:59.510Z"
   },
   {
    "duration": 13,
    "start_time": "2023-01-31T15:05:59.526Z"
   },
   {
    "duration": 235,
    "start_time": "2023-01-31T15:05:59.541Z"
   },
   {
    "duration": 4,
    "start_time": "2023-01-31T15:05:59.778Z"
   },
   {
    "duration": 201,
    "start_time": "2023-01-31T15:05:59.786Z"
   },
   {
    "duration": 231,
    "start_time": "2023-01-31T15:05:59.988Z"
   },
   {
    "duration": 19,
    "start_time": "2023-01-31T15:06:00.221Z"
   },
   {
    "duration": 38,
    "start_time": "2023-01-31T15:06:00.242Z"
   },
   {
    "duration": 538,
    "start_time": "2023-01-31T15:06:00.282Z"
   },
   {
    "duration": 271,
    "start_time": "2023-01-31T15:06:00.822Z"
   },
   {
    "duration": 274,
    "start_time": "2023-01-31T15:06:01.095Z"
   },
   {
    "duration": 14,
    "start_time": "2023-01-31T15:06:01.370Z"
   },
   {
    "duration": 378,
    "start_time": "2023-01-31T15:06:01.386Z"
   },
   {
    "duration": 62,
    "start_time": "2023-01-31T15:06:01.766Z"
   },
   {
    "duration": 226,
    "start_time": "2023-01-31T15:06:01.830Z"
   },
   {
    "duration": 2813,
    "start_time": "2023-01-31T15:06:02.058Z"
   },
   {
    "duration": 173,
    "start_time": "2023-01-31T15:06:04.873Z"
   },
   {
    "duration": 9,
    "start_time": "2023-01-31T15:06:05.047Z"
   },
   {
    "duration": 52,
    "start_time": "2023-01-31T15:06:05.058Z"
   },
   {
    "duration": 301,
    "start_time": "2023-01-31T15:06:05.112Z"
   },
   {
    "duration": 25,
    "start_time": "2023-01-31T15:06:05.415Z"
   },
   {
    "duration": 7,
    "start_time": "2023-01-31T15:06:05.443Z"
   },
   {
    "duration": 400,
    "start_time": "2023-01-31T15:06:05.452Z"
   },
   {
    "duration": 12,
    "start_time": "2023-01-31T15:06:05.854Z"
   },
   {
    "duration": 29,
    "start_time": "2023-01-31T15:06:05.868Z"
   },
   {
    "duration": 27,
    "start_time": "2023-01-31T15:06:05.898Z"
   },
   {
    "duration": 17,
    "start_time": "2023-01-31T15:06:05.926Z"
   },
   {
    "duration": 38,
    "start_time": "2023-01-31T15:06:05.945Z"
   },
   {
    "duration": 9,
    "start_time": "2023-01-31T15:06:05.984Z"
   },
   {
    "duration": 378,
    "start_time": "2023-01-31T15:07:08.153Z"
   },
   {
    "duration": 9,
    "start_time": "2023-01-31T15:07:36.591Z"
   },
   {
    "duration": 429,
    "start_time": "2023-01-31T15:08:59.596Z"
   },
   {
    "duration": 9,
    "start_time": "2023-01-31T15:09:30.405Z"
   },
   {
    "duration": 363,
    "start_time": "2023-01-31T15:12:16.376Z"
   },
   {
    "duration": 305,
    "start_time": "2023-01-31T15:12:46.796Z"
   },
   {
    "duration": 29,
    "start_time": "2023-01-31T15:13:09.840Z"
   },
   {
    "duration": 34,
    "start_time": "2023-01-31T15:13:36.671Z"
   },
   {
    "duration": 31,
    "start_time": "2023-01-31T15:14:20.774Z"
   },
   {
    "duration": 28,
    "start_time": "2023-01-31T15:15:09.746Z"
   },
   {
    "duration": 31,
    "start_time": "2023-01-31T15:15:23.767Z"
   },
   {
    "duration": 368,
    "start_time": "2023-01-31T15:16:09.005Z"
   },
   {
    "duration": 301,
    "start_time": "2023-01-31T15:17:38.547Z"
   },
   {
    "duration": 301,
    "start_time": "2023-01-31T15:23:47.010Z"
   },
   {
    "duration": 309,
    "start_time": "2023-01-31T15:23:53.908Z"
   },
   {
    "duration": 312,
    "start_time": "2023-01-31T15:25:05.252Z"
   },
   {
    "duration": 445,
    "start_time": "2023-01-31T15:27:01.667Z"
   },
   {
    "duration": 16,
    "start_time": "2023-01-31T15:31:10.441Z"
   },
   {
    "duration": 38,
    "start_time": "2023-01-31T15:31:27.115Z"
   },
   {
    "duration": 36,
    "start_time": "2023-01-31T15:31:45.707Z"
   },
   {
    "duration": 32,
    "start_time": "2023-01-31T15:32:03.446Z"
   },
   {
    "duration": 11,
    "start_time": "2023-01-31T15:32:11.037Z"
   },
   {
    "duration": 8,
    "start_time": "2023-01-31T15:33:02.274Z"
   },
   {
    "duration": 8,
    "start_time": "2023-01-31T15:33:09.063Z"
   },
   {
    "duration": 8,
    "start_time": "2023-01-31T15:33:26.722Z"
   },
   {
    "duration": 1306,
    "start_time": "2023-02-01T10:40:41.493Z"
   },
   {
    "duration": 93,
    "start_time": "2023-02-01T10:40:42.801Z"
   },
   {
    "duration": 18,
    "start_time": "2023-02-01T10:40:42.895Z"
   },
   {
    "duration": 197,
    "start_time": "2023-02-01T10:40:42.915Z"
   },
   {
    "duration": 565,
    "start_time": "2023-02-01T10:40:43.114Z"
   },
   {
    "duration": 464,
    "start_time": "2023-02-01T10:40:43.680Z"
   },
   {
    "duration": 9,
    "start_time": "2023-02-01T10:40:44.145Z"
   },
   {
    "duration": 36,
    "start_time": "2023-02-01T10:40:44.156Z"
   },
   {
    "duration": 16,
    "start_time": "2023-02-01T10:40:44.194Z"
   },
   {
    "duration": 41,
    "start_time": "2023-02-01T10:40:44.212Z"
   },
   {
    "duration": 77,
    "start_time": "2023-02-01T10:40:44.254Z"
   },
   {
    "duration": 253,
    "start_time": "2023-02-01T10:40:44.332Z"
   },
   {
    "duration": 4,
    "start_time": "2023-02-01T10:40:44.587Z"
   },
   {
    "duration": 218,
    "start_time": "2023-02-01T10:40:44.598Z"
   },
   {
    "duration": 241,
    "start_time": "2023-02-01T10:40:44.818Z"
   },
   {
    "duration": 19,
    "start_time": "2023-02-01T10:40:45.060Z"
   },
   {
    "duration": 46,
    "start_time": "2023-02-01T10:40:45.081Z"
   },
   {
    "duration": 452,
    "start_time": "2023-02-01T10:40:45.129Z"
   },
   {
    "duration": 226,
    "start_time": "2023-02-01T10:40:45.583Z"
   },
   {
    "duration": 246,
    "start_time": "2023-02-01T10:40:45.811Z"
   },
   {
    "duration": 14,
    "start_time": "2023-02-01T10:40:46.059Z"
   },
   {
    "duration": 392,
    "start_time": "2023-02-01T10:40:46.075Z"
   },
   {
    "duration": 58,
    "start_time": "2023-02-01T10:40:46.469Z"
   },
   {
    "duration": 222,
    "start_time": "2023-02-01T10:40:46.528Z"
   },
   {
    "duration": 2799,
    "start_time": "2023-02-01T10:40:46.752Z"
   },
   {
    "duration": 160,
    "start_time": "2023-02-01T10:40:49.553Z"
   },
   {
    "duration": 9,
    "start_time": "2023-02-01T10:40:49.714Z"
   },
   {
    "duration": 32,
    "start_time": "2023-02-01T10:40:49.724Z"
   },
   {
    "duration": 357,
    "start_time": "2023-02-01T10:40:49.758Z"
   },
   {
    "duration": 18,
    "start_time": "2023-02-01T10:40:50.117Z"
   },
   {
    "duration": 12,
    "start_time": "2023-02-01T10:40:50.136Z"
   },
   {
    "duration": 484,
    "start_time": "2023-02-01T10:40:50.150Z"
   },
   {
    "duration": 12,
    "start_time": "2023-02-01T10:40:50.636Z"
   },
   {
    "duration": 23,
    "start_time": "2023-02-01T10:40:50.650Z"
   },
   {
    "duration": 25,
    "start_time": "2023-02-01T10:40:50.675Z"
   },
   {
    "duration": 9,
    "start_time": "2023-02-01T10:40:50.702Z"
   },
   {
    "duration": 17,
    "start_time": "2023-02-01T10:40:50.713Z"
   },
   {
    "duration": 11,
    "start_time": "2023-02-01T10:40:50.732Z"
   },
   {
    "duration": 21,
    "start_time": "2023-02-01T10:40:50.745Z"
   },
   {
    "duration": 86,
    "start_time": "2023-02-01T10:43:09.344Z"
   },
   {
    "duration": 184,
    "start_time": "2023-02-01T10:46:00.691Z"
   },
   {
    "duration": 226,
    "start_time": "2023-02-01T11:13:37.323Z"
   },
   {
    "duration": 342,
    "start_time": "2023-02-01T11:13:52.081Z"
   },
   {
    "duration": 368,
    "start_time": "2023-02-01T11:15:47.738Z"
   },
   {
    "duration": 137,
    "start_time": "2023-02-01T11:16:04.728Z"
   },
   {
    "duration": 239,
    "start_time": "2023-02-01T11:17:18.523Z"
   },
   {
    "duration": 131,
    "start_time": "2023-02-01T11:17:56.788Z"
   },
   {
    "duration": 14,
    "start_time": "2023-02-01T11:20:04.021Z"
   },
   {
    "duration": 13,
    "start_time": "2023-02-01T11:23:52.359Z"
   },
   {
    "duration": 142,
    "start_time": "2023-02-01T11:24:17.884Z"
   },
   {
    "duration": 112,
    "start_time": "2023-02-01T11:25:33.599Z"
   },
   {
    "duration": 134,
    "start_time": "2023-02-01T11:25:52.402Z"
   },
   {
    "duration": 130,
    "start_time": "2023-02-01T11:26:13.294Z"
   },
   {
    "duration": 134,
    "start_time": "2023-02-01T11:26:33.524Z"
   },
   {
    "duration": 20,
    "start_time": "2023-02-01T11:34:49.564Z"
   },
   {
    "duration": 150,
    "start_time": "2023-02-01T11:38:24.002Z"
   },
   {
    "duration": 326,
    "start_time": "2023-02-01T11:38:43.034Z"
   },
   {
    "duration": 391,
    "start_time": "2023-02-01T11:39:24.028Z"
   },
   {
    "duration": 456,
    "start_time": "2023-02-01T11:39:33.729Z"
   },
   {
    "duration": 361,
    "start_time": "2023-02-01T11:42:03.899Z"
   },
   {
    "duration": 316,
    "start_time": "2023-02-01T11:44:29.258Z"
   },
   {
    "duration": 309,
    "start_time": "2023-02-01T11:44:52.502Z"
   },
   {
    "duration": 304,
    "start_time": "2023-02-01T11:45:04.268Z"
   },
   {
    "duration": 392,
    "start_time": "2023-02-01T11:45:21.167Z"
   },
   {
    "duration": 319,
    "start_time": "2023-02-01T11:50:16.418Z"
   },
   {
    "duration": 295,
    "start_time": "2023-02-01T11:51:18.611Z"
   },
   {
    "duration": 353,
    "start_time": "2023-02-01T11:53:26.125Z"
   },
   {
    "duration": 370,
    "start_time": "2023-02-01T11:53:55.409Z"
   },
   {
    "duration": 322,
    "start_time": "2023-02-01T11:54:19.740Z"
   },
   {
    "duration": 394,
    "start_time": "2023-02-01T11:54:39.787Z"
   },
   {
    "duration": 323,
    "start_time": "2023-02-01T11:54:58.927Z"
   },
   {
    "duration": 52,
    "start_time": "2023-02-02T10:32:09.041Z"
   },
   {
    "duration": 1441,
    "start_time": "2023-02-02T10:32:20.660Z"
   },
   {
    "duration": 224,
    "start_time": "2023-02-02T10:32:22.103Z"
   },
   {
    "duration": 19,
    "start_time": "2023-02-02T10:32:22.329Z"
   },
   {
    "duration": 205,
    "start_time": "2023-02-02T10:32:22.351Z"
   },
   {
    "duration": 561,
    "start_time": "2023-02-02T10:32:22.557Z"
   },
   {
    "duration": 433,
    "start_time": "2023-02-02T10:32:23.119Z"
   },
   {
    "duration": 11,
    "start_time": "2023-02-02T10:32:23.554Z"
   },
   {
    "duration": 66,
    "start_time": "2023-02-02T10:32:23.567Z"
   },
   {
    "duration": 3,
    "start_time": "2023-02-02T10:32:25.182Z"
   },
   {
    "duration": 6,
    "start_time": "2023-02-02T10:32:26.717Z"
   },
   {
    "duration": 10,
    "start_time": "2023-02-02T10:32:27.920Z"
   },
   {
    "duration": 237,
    "start_time": "2023-02-02T10:32:29.903Z"
   },
   {
    "duration": 4,
    "start_time": "2023-02-02T10:32:30.779Z"
   },
   {
    "duration": 80,
    "start_time": "2023-02-02T10:32:34.331Z"
   },
   {
    "duration": 187,
    "start_time": "2023-02-02T10:34:01.875Z"
   },
   {
    "duration": 202,
    "start_time": "2023-02-02T10:34:04.484Z"
   },
   {
    "duration": 328,
    "start_time": "2023-02-02T10:34:06.068Z"
   },
   {
    "duration": 22,
    "start_time": "2023-02-02T10:34:07.339Z"
   },
   {
    "duration": 149,
    "start_time": "2023-02-02T11:10:25.314Z"
   },
   {
    "duration": 1225,
    "start_time": "2023-02-02T11:10:38.497Z"
   },
   {
    "duration": 56,
    "start_time": "2023-02-02T11:10:39.724Z"
   },
   {
    "duration": 19,
    "start_time": "2023-02-02T11:10:39.782Z"
   },
   {
    "duration": 230,
    "start_time": "2023-02-02T11:10:39.803Z"
   },
   {
    "duration": 579,
    "start_time": "2023-02-02T11:10:40.036Z"
   },
   {
    "duration": 475,
    "start_time": "2023-02-02T11:10:40.617Z"
   },
   {
    "duration": 14,
    "start_time": "2023-02-02T11:10:41.095Z"
   },
   {
    "duration": 60,
    "start_time": "2023-02-02T11:10:41.111Z"
   },
   {
    "duration": 4,
    "start_time": "2023-02-02T11:10:42.673Z"
   },
   {
    "duration": 5,
    "start_time": "2023-02-02T11:10:43.258Z"
   },
   {
    "duration": 11,
    "start_time": "2023-02-02T11:10:44.244Z"
   },
   {
    "duration": 267,
    "start_time": "2023-02-02T11:10:45.989Z"
   },
   {
    "duration": 6,
    "start_time": "2023-02-02T11:10:46.345Z"
   },
   {
    "duration": 104,
    "start_time": "2023-02-02T11:10:48.374Z"
   },
   {
    "duration": 198,
    "start_time": "2023-02-02T11:10:50.147Z"
   },
   {
    "duration": 217,
    "start_time": "2023-02-02T11:10:53.514Z"
   },
   {
    "duration": 325,
    "start_time": "2023-02-02T11:10:54.914Z"
   },
   {
    "duration": 18,
    "start_time": "2023-02-02T11:10:55.966Z"
   },
   {
    "duration": 5,
    "start_time": "2023-02-02T11:10:58.531Z"
   },
   {
    "duration": 470,
    "start_time": "2023-02-02T11:11:01.567Z"
   },
   {
    "duration": 348,
    "start_time": "2023-02-02T11:11:25.701Z"
   },
   {
    "duration": 262,
    "start_time": "2023-02-02T11:14:10.577Z"
   },
   {
    "duration": 253,
    "start_time": "2023-02-02T11:14:15.383Z"
   },
   {
    "duration": 15,
    "start_time": "2023-02-02T11:15:10.016Z"
   },
   {
    "duration": 344,
    "start_time": "2023-02-02T11:15:27.069Z"
   },
   {
    "duration": 72,
    "start_time": "2023-02-02T11:15:28.786Z"
   },
   {
    "duration": 191,
    "start_time": "2023-02-02T11:15:29.012Z"
   },
   {
    "duration": 3052,
    "start_time": "2023-02-02T11:15:29.800Z"
   },
   {
    "duration": 168,
    "start_time": "2023-02-02T11:19:03.689Z"
   },
   {
    "duration": 178,
    "start_time": "2023-02-02T11:19:28.055Z"
   },
   {
    "duration": 289,
    "start_time": "2023-02-02T11:20:17.682Z"
   },
   {
    "duration": 8,
    "start_time": "2023-02-02T11:20:39.156Z"
   },
   {
    "duration": 23,
    "start_time": "2023-02-02T11:20:51.647Z"
   },
   {
    "duration": 18,
    "start_time": "2023-02-02T11:21:38.435Z"
   },
   {
    "duration": 404,
    "start_time": "2023-02-02T11:21:39.517Z"
   },
   {
    "duration": 21,
    "start_time": "2023-02-02T11:23:22.121Z"
   },
   {
    "duration": 6,
    "start_time": "2023-02-02T11:24:07.137Z"
   },
   {
    "duration": 6,
    "start_time": "2023-02-02T11:25:12.600Z"
   },
   {
    "duration": 357,
    "start_time": "2023-02-02T11:25:12.958Z"
   },
   {
    "duration": 465,
    "start_time": "2023-02-02T11:25:53.696Z"
   },
   {
    "duration": 551,
    "start_time": "2023-02-02T11:46:10.460Z"
   },
   {
    "duration": 417,
    "start_time": "2023-02-02T11:46:18.807Z"
   },
   {
    "duration": 393,
    "start_time": "2023-02-02T11:46:24.695Z"
   },
   {
    "duration": 104,
    "start_time": "2023-02-02T11:46:26.584Z"
   },
   {
    "duration": 1294,
    "start_time": "2023-02-02T11:46:37.196Z"
   },
   {
    "duration": 64,
    "start_time": "2023-02-02T11:46:38.493Z"
   },
   {
    "duration": 23,
    "start_time": "2023-02-02T11:46:38.560Z"
   },
   {
    "duration": 481,
    "start_time": "2023-02-02T11:46:38.586Z"
   },
   {
    "duration": 1284,
    "start_time": "2023-02-02T11:46:39.069Z"
   },
   {
    "duration": 774,
    "start_time": "2023-02-02T11:46:40.355Z"
   },
   {
    "duration": 18,
    "start_time": "2023-02-02T11:46:41.137Z"
   },
   {
    "duration": 40,
    "start_time": "2023-02-02T11:46:41.157Z"
   },
   {
    "duration": 4,
    "start_time": "2023-02-02T11:46:41.199Z"
   },
   {
    "duration": 8,
    "start_time": "2023-02-02T11:46:41.206Z"
   },
   {
    "duration": 26,
    "start_time": "2023-02-02T11:46:41.216Z"
   },
   {
    "duration": 303,
    "start_time": "2023-02-02T11:46:41.244Z"
   },
   {
    "duration": 4,
    "start_time": "2023-02-02T11:46:41.549Z"
   },
   {
    "duration": 109,
    "start_time": "2023-02-02T11:46:41.555Z"
   },
   {
    "duration": 190,
    "start_time": "2023-02-02T11:46:41.666Z"
   },
   {
    "duration": 291,
    "start_time": "2023-02-02T11:46:41.858Z"
   },
   {
    "duration": 245,
    "start_time": "2023-02-02T11:46:42.151Z"
   },
   {
    "duration": 19,
    "start_time": "2023-02-02T11:46:42.397Z"
   },
   {
    "duration": 19,
    "start_time": "2023-02-02T11:46:42.417Z"
   },
   {
    "duration": 354,
    "start_time": "2023-02-02T11:46:42.438Z"
   },
   {
    "duration": 245,
    "start_time": "2023-02-02T11:46:42.794Z"
   },
   {
    "duration": 248,
    "start_time": "2023-02-02T11:46:43.041Z"
   },
   {
    "duration": 16,
    "start_time": "2023-02-02T11:46:43.291Z"
   },
   {
    "duration": 401,
    "start_time": "2023-02-02T11:46:43.309Z"
   },
   {
    "duration": 66,
    "start_time": "2023-02-02T11:46:43.712Z"
   },
   {
    "duration": 210,
    "start_time": "2023-02-02T11:46:43.780Z"
   },
   {
    "duration": 3102,
    "start_time": "2023-02-02T11:46:43.992Z"
   },
   {
    "duration": 179,
    "start_time": "2023-02-02T11:46:47.098Z"
   },
   {
    "duration": 8,
    "start_time": "2023-02-02T11:46:47.279Z"
   },
   {
    "duration": 20,
    "start_time": "2023-02-02T11:46:47.289Z"
   },
   {
    "duration": 638,
    "start_time": "2023-02-02T11:46:47.311Z"
   },
   {
    "duration": 25,
    "start_time": "2023-02-02T11:46:47.952Z"
   },
   {
    "duration": 6,
    "start_time": "2023-02-02T11:46:47.979Z"
   },
   {
    "duration": 547,
    "start_time": "2023-02-02T11:46:47.987Z"
   },
   {
    "duration": 136,
    "start_time": "2023-02-02T11:46:48.537Z"
   },
   {
    "duration": 0,
    "start_time": "2023-02-02T11:46:48.675Z"
   },
   {
    "duration": 0,
    "start_time": "2023-02-02T11:46:48.676Z"
   },
   {
    "duration": 0,
    "start_time": "2023-02-02T11:46:48.677Z"
   },
   {
    "duration": 0,
    "start_time": "2023-02-02T11:46:48.678Z"
   },
   {
    "duration": 0,
    "start_time": "2023-02-02T11:46:48.679Z"
   },
   {
    "duration": 1,
    "start_time": "2023-02-02T11:46:48.679Z"
   },
   {
    "duration": 0,
    "start_time": "2023-02-02T11:46:48.680Z"
   },
   {
    "duration": 437,
    "start_time": "2023-02-02T11:46:59.364Z"
   },
   {
    "duration": 389,
    "start_time": "2023-02-02T11:49:44.855Z"
   },
   {
    "duration": 30,
    "start_time": "2023-02-02T11:50:08.156Z"
   },
   {
    "duration": 514,
    "start_time": "2023-02-02T11:50:17.874Z"
   },
   {
    "duration": 415,
    "start_time": "2023-02-02T11:50:33.505Z"
   },
   {
    "duration": 423,
    "start_time": "2023-02-02T11:50:49.827Z"
   },
   {
    "duration": 450,
    "start_time": "2023-02-02T11:51:53.652Z"
   },
   {
    "duration": 15,
    "start_time": "2023-02-02T11:52:43.609Z"
   },
   {
    "duration": 12,
    "start_time": "2023-02-02T11:52:49.636Z"
   },
   {
    "duration": 17,
    "start_time": "2023-02-02T11:54:38.306Z"
   },
   {
    "duration": 16,
    "start_time": "2023-02-02T11:55:05.682Z"
   },
   {
    "duration": 14,
    "start_time": "2023-02-02T11:56:14.914Z"
   },
   {
    "duration": 14,
    "start_time": "2023-02-02T11:56:24.535Z"
   },
   {
    "duration": 11,
    "start_time": "2023-02-02T11:56:24.895Z"
   },
   {
    "duration": 10,
    "start_time": "2023-02-02T11:57:04.369Z"
   },
   {
    "duration": 11,
    "start_time": "2023-02-02T11:57:24.064Z"
   },
   {
    "duration": 14,
    "start_time": "2023-02-02T11:58:03.676Z"
   },
   {
    "duration": 11,
    "start_time": "2023-02-02T11:58:26.045Z"
   },
   {
    "duration": 12,
    "start_time": "2023-02-02T11:58:33.414Z"
   },
   {
    "duration": 10,
    "start_time": "2023-02-02T11:59:12.376Z"
   },
   {
    "duration": 10,
    "start_time": "2023-02-02T12:00:51.819Z"
   },
   {
    "duration": 8,
    "start_time": "2023-02-02T12:00:56.277Z"
   },
   {
    "duration": 12,
    "start_time": "2023-02-02T12:01:04.863Z"
   },
   {
    "duration": 12,
    "start_time": "2023-02-02T12:01:05.217Z"
   },
   {
    "duration": 1120,
    "start_time": "2023-02-03T00:53:36.708Z"
   },
   {
    "duration": 46,
    "start_time": "2023-02-03T00:53:37.830Z"
   },
   {
    "duration": 15,
    "start_time": "2023-02-03T00:53:37.878Z"
   },
   {
    "duration": 161,
    "start_time": "2023-02-03T00:53:37.894Z"
   },
   {
    "duration": 451,
    "start_time": "2023-02-03T00:53:38.057Z"
   },
   {
    "duration": 370,
    "start_time": "2023-02-03T00:53:38.510Z"
   },
   {
    "duration": 8,
    "start_time": "2023-02-03T00:53:38.882Z"
   },
   {
    "duration": 18,
    "start_time": "2023-02-03T00:53:38.891Z"
   },
   {
    "duration": 3,
    "start_time": "2023-02-03T00:53:38.911Z"
   },
   {
    "duration": 23,
    "start_time": "2023-02-03T00:53:38.915Z"
   },
   {
    "duration": 8,
    "start_time": "2023-02-03T00:53:38.939Z"
   },
   {
    "duration": 208,
    "start_time": "2023-02-03T00:53:38.948Z"
   },
   {
    "duration": 4,
    "start_time": "2023-02-03T00:53:39.157Z"
   },
   {
    "duration": 59,
    "start_time": "2023-02-03T00:53:39.163Z"
   },
   {
    "duration": 160,
    "start_time": "2023-02-03T00:53:39.224Z"
   },
   {
    "duration": 230,
    "start_time": "2023-02-03T00:53:39.386Z"
   },
   {
    "duration": 192,
    "start_time": "2023-02-03T00:53:39.618Z"
   },
   {
    "duration": 15,
    "start_time": "2023-02-03T00:53:39.811Z"
   },
   {
    "duration": 4,
    "start_time": "2023-02-03T00:53:39.836Z"
   },
   {
    "duration": 267,
    "start_time": "2023-02-03T00:53:39.842Z"
   },
   {
    "duration": 195,
    "start_time": "2023-02-03T00:53:40.111Z"
   },
   {
    "duration": 197,
    "start_time": "2023-02-03T00:53:40.307Z"
   },
   {
    "duration": 12,
    "start_time": "2023-02-03T00:53:40.506Z"
   },
   {
    "duration": 272,
    "start_time": "2023-02-03T00:53:40.537Z"
   },
   {
    "duration": 49,
    "start_time": "2023-02-03T00:53:40.810Z"
   },
   {
    "duration": 157,
    "start_time": "2023-02-03T00:53:40.861Z"
   },
   {
    "duration": 2423,
    "start_time": "2023-02-03T00:53:41.019Z"
   },
   {
    "duration": 149,
    "start_time": "2023-02-03T00:53:43.443Z"
   },
   {
    "duration": 8,
    "start_time": "2023-02-03T00:53:43.594Z"
   },
   {
    "duration": 15,
    "start_time": "2023-02-03T00:53:43.603Z"
   },
   {
    "duration": 437,
    "start_time": "2023-02-03T00:53:43.619Z"
   },
   {
    "duration": 17,
    "start_time": "2023-02-03T00:53:44.058Z"
   },
   {
    "duration": 5,
    "start_time": "2023-02-03T00:53:44.076Z"
   },
   {
    "duration": 374,
    "start_time": "2023-02-03T00:53:44.083Z"
   },
   {
    "duration": 11,
    "start_time": "2023-02-03T00:53:44.458Z"
   },
   {
    "duration": 11,
    "start_time": "2023-02-03T00:53:44.471Z"
   },
   {
    "duration": 7,
    "start_time": "2023-02-03T00:53:44.483Z"
   },
   {
    "duration": 7,
    "start_time": "2023-02-03T00:53:44.492Z"
   },
   {
    "duration": 45,
    "start_time": "2023-02-03T00:53:44.500Z"
   },
   {
    "duration": 14,
    "start_time": "2023-02-03T00:53:44.547Z"
   },
   {
    "duration": 8,
    "start_time": "2023-02-03T00:53:44.564Z"
   },
   {
    "duration": 88,
    "start_time": "2023-02-03T01:09:02.091Z"
   },
   {
    "duration": 68,
    "start_time": "2023-02-26T22:53:00.790Z"
   },
   {
    "duration": 1392,
    "start_time": "2023-02-26T22:53:06.483Z"
   },
   {
    "duration": 116,
    "start_time": "2023-02-26T22:53:07.878Z"
   },
   {
    "duration": 22,
    "start_time": "2023-02-26T22:53:07.996Z"
   },
   {
    "duration": 49,
    "start_time": "2023-06-23T15:24:53.338Z"
   },
   {
    "duration": 1386,
    "start_time": "2023-06-23T15:24:58.113Z"
   },
   {
    "duration": 508,
    "start_time": "2023-06-23T15:24:59.504Z"
   },
   {
    "duration": 21,
    "start_time": "2023-06-23T15:25:00.013Z"
   },
   {
    "duration": 252,
    "start_time": "2023-06-23T15:25:00.036Z"
   },
   {
    "duration": 520,
    "start_time": "2023-06-23T15:25:00.289Z"
   },
   {
    "duration": 414,
    "start_time": "2023-06-23T15:25:00.811Z"
   },
   {
    "duration": 10,
    "start_time": "2023-06-23T15:25:01.227Z"
   },
   {
    "duration": 55,
    "start_time": "2023-06-23T15:25:01.238Z"
   },
   {
    "duration": 45,
    "start_time": "2023-06-23T15:25:01.295Z"
   },
   {
    "duration": 121,
    "start_time": "2023-06-23T15:25:01.343Z"
   },
   {
    "duration": 79,
    "start_time": "2023-06-23T15:25:01.465Z"
   },
   {
    "duration": 373,
    "start_time": "2023-06-23T15:25:01.546Z"
   },
   {
    "duration": 4,
    "start_time": "2023-06-23T15:25:01.920Z"
   },
   {
    "duration": 175,
    "start_time": "2023-06-23T15:25:01.925Z"
   },
   {
    "duration": 215,
    "start_time": "2023-06-23T15:25:02.106Z"
   },
   {
    "duration": 659,
    "start_time": "2023-06-23T15:25:02.323Z"
   },
   {
    "duration": 700,
    "start_time": "2023-06-23T15:25:02.990Z"
   },
   {
    "duration": 79,
    "start_time": "2023-06-23T15:25:03.692Z"
   },
   {
    "duration": 6,
    "start_time": "2023-06-23T15:25:03.773Z"
   },
   {
    "duration": 800,
    "start_time": "2023-06-23T15:25:03.781Z"
   },
   {
    "duration": 419,
    "start_time": "2023-06-23T15:25:04.583Z"
   },
   {
    "duration": 272,
    "start_time": "2023-06-23T15:25:05.009Z"
   },
   {
    "duration": 16,
    "start_time": "2023-06-23T15:25:05.288Z"
   },
   {
    "duration": 336,
    "start_time": "2023-06-23T15:25:05.305Z"
   },
   {
    "duration": 43,
    "start_time": "2023-06-23T15:25:05.643Z"
   },
   {
    "duration": 67,
    "start_time": "2023-06-23T15:25:05.688Z"
   },
   {
    "duration": 223,
    "start_time": "2023-06-23T15:25:05.756Z"
   },
   {
    "duration": 3028,
    "start_time": "2023-06-23T15:25:05.982Z"
   },
   {
    "duration": 166,
    "start_time": "2023-06-23T15:25:09.014Z"
   },
   {
    "duration": 8,
    "start_time": "2023-06-23T15:25:09.186Z"
   },
   {
    "duration": 15,
    "start_time": "2023-06-23T15:25:09.196Z"
   },
   {
    "duration": 542,
    "start_time": "2023-06-23T15:25:09.213Z"
   },
   {
    "duration": 33,
    "start_time": "2023-06-23T15:25:09.757Z"
   },
   {
    "duration": 5,
    "start_time": "2023-06-23T15:25:09.791Z"
   },
   {
    "duration": 453,
    "start_time": "2023-06-23T15:25:09.800Z"
   },
   {
    "duration": 23,
    "start_time": "2023-06-23T15:25:10.254Z"
   },
   {
    "duration": 21,
    "start_time": "2023-06-23T15:25:10.278Z"
   },
   {
    "duration": 9,
    "start_time": "2023-06-23T15:25:10.304Z"
   },
   {
    "duration": 9,
    "start_time": "2023-06-23T15:25:10.314Z"
   },
   {
    "duration": 20,
    "start_time": "2023-06-23T15:25:10.325Z"
   },
   {
    "duration": 36,
    "start_time": "2023-06-23T15:25:10.347Z"
   },
   {
    "duration": 15,
    "start_time": "2023-06-23T15:25:10.385Z"
   },
   {
    "duration": 20,
    "start_time": "2023-06-23T15:25:18.305Z"
   },
   {
    "duration": 23,
    "start_time": "2023-06-23T15:25:24.261Z"
   }
  ],
  "kernelspec": {
   "display_name": "Python 3 (ipykernel)",
   "language": "python",
   "name": "python3"
  },
  "language_info": {
   "codemirror_mode": {
    "name": "ipython",
    "version": 3
   },
   "file_extension": ".py",
   "mimetype": "text/x-python",
   "name": "python",
   "nbconvert_exporter": "python",
   "pygments_lexer": "ipython3",
   "version": "3.9.13"
  },
  "toc": {
   "base_numbering": 1,
   "nav_menu": {},
   "number_sections": true,
   "sideBar": true,
   "skip_h1_title": true,
   "title_cell": "Содержание",
   "title_sidebar": "Contents",
   "toc_cell": true,
   "toc_position": {
    "height": "487px",
    "left": "24px",
    "top": "111.136px",
    "width": "165px"
   },
   "toc_section_display": true,
   "toc_window_display": true
  }
 },
 "nbformat": 4,
 "nbformat_minor": 2
}
